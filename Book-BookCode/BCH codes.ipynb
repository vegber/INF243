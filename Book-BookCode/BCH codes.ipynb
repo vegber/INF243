{
 "cells": [
  {
   "cell_type": "code",
   "execution_count": 1,
   "metadata": {},
   "outputs": [
    {
     "data": {
      "text/plain": [
       "x^4 + x + 1"
      ]
     },
     "execution_count": 1,
     "metadata": {},
     "output_type": "execute_result"
    }
   ],
   "source": [
    "p = 2; R.<x> = PolynomialRing(GF(p));\n",
    "m = 4; Fm.<a> = FiniteField(p^m);\n",
    "\n",
    "a.minimal_polynomial()"
   ]
  },
  {
   "cell_type": "code",
   "execution_count": 2,
   "metadata": {},
   "outputs": [
    {
     "data": {
      "text/plain": [
       "x^4 + x + 1"
      ]
     },
     "execution_count": 2,
     "metadata": {},
     "output_type": "execute_result"
    }
   ],
   "source": [
    "(a^8).minimal_polynomial()"
   ]
  },
  {
   "cell_type": "code",
   "execution_count": 3,
   "metadata": {},
   "outputs": [],
   "source": [
    "# (x+y)^2 = x^2 + 2*x*y + y^2 = x^2 + y^2\n",
    "# (x1 + x2 + ... + x^n)^2 =x1^2 + x2^2 + ... + xn^2\n"
   ]
  },
  {
   "cell_type": "code",
   "execution_count": 4,
   "metadata": {},
   "outputs": [
    {
     "data": {
      "text/plain": [
       "x^4 + x^3 + 1"
      ]
     },
     "execution_count": 4,
     "metadata": {},
     "output_type": "execute_result"
    }
   ],
   "source": [
    "b = a^7;\n",
    "\n",
    "C7 = {7, 14, 13, 11}\n",
    "\n",
    "(x-a^7)*(x-a^14)*(x-a^13)*(x-a^11)"
   ]
  },
  {
   "cell_type": "code",
   "execution_count": 5,
   "metadata": {},
   "outputs": [
    {
     "data": {
      "text/plain": [
       "x^4 + x^3 + 1"
      ]
     },
     "execution_count": 5,
     "metadata": {},
     "output_type": "execute_result"
    }
   ],
   "source": [
    "b.minimal_polynomial()"
   ]
  },
  {
   "cell_type": "code",
   "execution_count": 8,
   "metadata": {},
   "outputs": [
    {
     "data": {
      "text/plain": [
       "True"
      ]
     },
     "execution_count": 8,
     "metadata": {},
     "output_type": "execute_result"
    }
   ],
   "source": [
    "c = a^5\n",
    "C5 = {5, 10}\n",
    "(x-a^5)*(x-a^10) == x^2 + x + 1"
   ]
  },
  {
   "cell_type": "code",
   "execution_count": 9,
   "metadata": {},
   "outputs": [
    {
     "data": {
      "text/plain": [
       "x^2 + x + 1"
      ]
     },
     "execution_count": 9,
     "metadata": {},
     "output_type": "execute_result"
    }
   ],
   "source": [
    "c.minimal_polynomial()"
   ]
  },
  {
   "cell_type": "code",
   "execution_count": 10,
   "metadata": {},
   "outputs": [
    {
     "data": {
      "text/plain": [
       "x^4 + x^3 + 1"
      ]
     },
     "execution_count": 10,
     "metadata": {},
     "output_type": "execute_result"
    }
   ],
   "source": [
    "(a^7).minimal_polynomial()"
   ]
  },
  {
   "cell_type": "code",
   "execution_count": null,
   "metadata": {},
   "outputs": [
    {
     "name": "stdout",
     "output_type": "stream",
     "text": [
      "True\n",
      "Finite Field in w of size 2^6\n",
      "x^18 + x^17 + x^14 + x^13 + x^9 + x^7 + x^5 + x^3 + 1\n",
      "[63, 45] Cyclic Code over GF(2)\n"
     ]
    },
    {
     "name": "stderr",
     "output_type": "stream",
     "text": [
      "IOStream.flush timed out\n",
      "IOStream.flush timed out\n"
     ]
    }
   ],
   "source": [
    "# An example of BCH code\n",
    "\n",
    "R.<x> = PolynomialRing(GF(2))\n",
    "m = 6\n",
    "f = x^6 + x + 1\n",
    "print(f.is_irreducible())\n",
    "Fm.<w> = FiniteField(2^m, f)\n",
    "print(Fm)\n",
    "n = 2^m-1\n",
    "factor(x^n-1)\n",
    "\n",
    "# defining set = {1, 2, 3, 4, 5}\n",
    "m1 = w.minimal_polynomial()     # C1 = {1, 2, 4, 8, 16, 32}\n",
    "m3 = (w^3).minimal_polynomial() # C3 = {3, 6, 12, 24, 48, 33}\n",
    "m5 = (w^5).minimal_polynomial() # C5 = {5, 10, 20, 40, 17, 34}\n",
    "# The complete defining set is {1,2,3,4,5,6, 8,10,12,16,17,20,24,32,33,34,40,48}\n",
    "\n",
    "g = lcm(lcm(m1, m3), m5)        # g has roots w^i with i taken from C1, C3, C5\n",
    "print(g)\n",
    "C = codes.CyclicCode(g,n)       # This BCH code has minimum distance at least 7 \n",
    "print(C)\n",
    "print(C.minimum_distance())     # NB: this step takes time as the code dimension is 45=n-deg(g) \n"
   ]
  },
  {
   "cell_type": "code",
   "execution_count": null,
   "metadata": {},
   "outputs": [],
   "source": []
  },
  {
   "cell_type": "code",
   "execution_count": null,
   "metadata": {},
   "outputs": [],
   "source": []
  },
  {
   "cell_type": "code",
   "execution_count": null,
   "metadata": {},
   "outputs": [],
   "source": []
  }
 ],
 "metadata": {
  "kernelspec": {
   "display_name": "Python 3",
   "language": "python",
   "name": "python3"
  },
  "language_info": {
   "codemirror_mode": {
    "name": "ipython",
    "version": 3
   },
   "file_extension": ".py",
   "mimetype": "text/x-python",
   "name": "python",
   "nbconvert_exporter": "python",
   "pygments_lexer": "ipython3",
   "version": "3.11.0 (v3.11.0:deaf509e8f, Oct 24 2022, 14:43:23) [Clang 13.0.0 (clang-1300.0.29.30)]"
  },
  "vscode": {
   "interpreter": {
    "hash": "aee8b7b246df8f9039afb4144a1f6fd8d2ca17a180786b69acc140d282b71a49"
   }
  }
 },
 "nbformat": 4,
 "nbformat_minor": 2
}
