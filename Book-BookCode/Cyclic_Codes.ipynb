{
 "cells": [
  {
   "cell_type": "code",
   "execution_count": 29,
   "metadata": {},
   "outputs": [
    {
     "name": "stdout",
     "output_type": "stream",
     "text": [
      "x + 1\n",
      "x^5 + x\n",
      "x^7 + x^6 + x^3 + x + 1\n",
      "True\n"
     ]
    }
   ],
   "source": [
    "q = 2;\n",
    "R.<x> = PolynomialRing(GF(q))\n",
    "\n",
    "f = (x+1)*(x^3+1)*(x^5+x^4+1)\n",
    "g = (x+1)*(x^6+x^3+1)\n",
    "d = gcd(f, g)\n",
    "d, a, b = xgcd(f,g)\n",
    "print(d);print(a);print(b);\n",
    "print(d == a*f + b*g)"
   ]
  },
  {
   "cell_type": "code",
   "execution_count": 30,
   "metadata": {},
   "outputs": [
    {
     "data": {
      "text/plain": [
       "[0,\n",
       " 1,\n",
       " z,\n",
       " z + 1,\n",
       " z^2,\n",
       " z^2 + 1,\n",
       " z^2 + z,\n",
       " z^2 + z + 1,\n",
       " z^3,\n",
       " z^3 + 1,\n",
       " z^3 + z,\n",
       " z^3 + z + 1,\n",
       " z^3 + z^2,\n",
       " z^3 + z^2 + 1,\n",
       " z^3 + z^2 + z,\n",
       " z^3 + z^2 + z + 1,\n",
       " z^4,\n",
       " z^4 + 1,\n",
       " z^4 + z,\n",
       " z^4 + z + 1,\n",
       " z^4 + z^2,\n",
       " z^4 + z^2 + 1,\n",
       " z^4 + z^2 + z,\n",
       " z^4 + z^2 + z + 1,\n",
       " z^4 + z^3,\n",
       " z^4 + z^3 + 1,\n",
       " z^4 + z^3 + z,\n",
       " z^4 + z^3 + z + 1,\n",
       " z^4 + z^3 + z^2,\n",
       " z^4 + z^3 + z^2 + 1,\n",
       " z^4 + z^3 + z^2 + z,\n",
       " z^4 + z^3 + z^2 + z + 1]"
      ]
     },
     "execution_count": 30,
     "metadata": {},
     "output_type": "execute_result"
    }
   ],
   "source": [
    "n = 5; \n",
    "Q.<z> = QuotientRing(R, R.ideal(x^n-1)); list(Q)\n"
   ]
  },
  {
   "cell_type": "code",
   "execution_count": null,
   "metadata": {},
   "outputs": [],
   "source": []
  },
  {
   "cell_type": "code",
   "execution_count": 6,
   "metadata": {},
   "outputs": [
    {
     "name": "stdout",
     "output_type": "stream",
     "text": [
      "[7, 4] Cyclic Code over GF(2)\n",
      "[(0, 0, 0, 0, 0, 0, 0), (1, 1, 0, 1, 0, 0, 0), (0, 1, 1, 0, 1, 0, 0), (1, 0, 1, 1, 1, 0, 0), (0, 0, 1, 1, 0, 1, 0), (1, 1, 1, 0, 0, 1, 0), (0, 1, 0, 1, 1, 1, 0), (1, 0, 0, 0, 1, 1, 0), (0, 0, 0, 1, 1, 0, 1), (1, 1, 0, 0, 1, 0, 1), (0, 1, 1, 1, 0, 0, 1), (1, 0, 1, 0, 0, 0, 1), (0, 0, 1, 0, 1, 1, 1), (1, 1, 1, 1, 1, 1, 1), (0, 1, 0, 0, 0, 1, 1), (1, 0, 0, 1, 0, 1, 1)]\n",
      "[7, 4, 3]\n",
      "[1, 0, 0, 7, 7, 0, 0, 1]\n",
      "x^7 + 7*x^4*y^3 + 7*x^3*y^4 + y^7\n"
     ]
    }
   ],
   "source": [
    "q = 2\n",
    "R.<x> = PolynomialRing(GF(q))\n",
    "n = 7\n",
    "g = (x^3+x+1);\n",
    "C = codes.CyclicCode(generator_pol = g, length = n); \n",
    "print(C)\n",
    "print(list(C))\n",
    "\n",
    "para_C = [C.length(), C.dimension(), C.minimum_distance()];\n",
    "print(para_C)\n",
    "print(C.weight_distribution())\n",
    "print(C.weight_enumerator())"
   ]
  },
  {
   "cell_type": "code",
   "execution_count": 8,
   "metadata": {},
   "outputs": [
    {
     "name": "stdout",
     "output_type": "stream",
     "text": [
      "x^4 + 1, x + 1\n",
      "x^4 + x + 1, x^4 + x + 1\n",
      "x^4 + x + 1, x^4 + x + 1\n",
      "x^4 + x^3 + x^2 + x + 1, x^4 + x^3 + x^2 + x + 1\n",
      "x^4 + x + 1, x^4 + x + 1\n",
      "x^4 + x^2 + 1, x^2 + x + 1\n",
      "x^4 + x^3 + x^2 + x + 1, x^4 + x^3 + x^2 + x + 1\n",
      "x^4 + x^3 + 1, x^4 + x^3 + 1\n",
      "x^4 + x + 1, x^4 + x + 1\n",
      "x^4 + x^3 + x^2 + x + 1, x^4 + x^3 + x^2 + x + 1\n",
      "x^4 + x^2 + 1, x^2 + x + 1\n",
      "x^4 + x^3 + 1, x^4 + x^3 + 1\n",
      "x^4 + x^3 + x^2 + x + 1, x^4 + x^3 + x^2 + x + 1\n",
      "x^4 + x^3 + 1, x^4 + x^3 + 1\n",
      "x^4 + x^3 + 1, x^4 + x^3 + 1\n",
      "x^4 + 1, x + 1\n"
     ]
    }
   ],
   "source": [
    "#Minimal Polynomials\n",
    "\n",
    "R.<x>  = PolynomialRing(GF(2));\n",
    "FF.<w> = FiniteField(2^4); FF\n",
    "for i in range(2^4):\n",
    "    a = w^i; \n",
    "    print((x+a^(2^0))*(x+a^(2^1))*(x+a^(2^2))*(x+a^(2^3)), end=\", \")\n",
    "    print(a.minimal_polynomial())"
   ]
  },
  {
   "cell_type": "code",
   "execution_count": 28,
   "metadata": {},
   "outputs": [
    {
     "name": "stdout",
     "output_type": "stream",
     "text": [
      "\n",
      " (y - 1.00000000000000) * (y^2 - 1.24697960371747*y + 1.00000000000000) * (y^2 + 0.445041867912629*y + 1.00000000000000) * (y^2 + 1.80193773580484*y + 1.00000000000000)\n",
      "\n",
      " (y - 1.00000000000000) * (y - 0.623489801858733 - 0.781831482468030*I) * (y - 0.623489801858733 + 0.781831482468030*I) * (y + 0.222520933956314 - 0.974927912181824*I) * (y + 0.222520933956314 + 0.974927912181824*I) * (y + 0.900968867902419 - 0.433883739117558*I) * (y + 0.900968867902419 + 0.433883739117558*I)\n",
      "\n",
      " (y + 1) * (y^3 + y + 1) * (y^3 + y^2 + 1)\n",
      "\n",
      " (y + 1) * (y + w) * (y + w + 1) * (y + w^2) * (y + w^2 + 1) * (y + w^2 + w) * (y + w^2 + w + 1)\n"
     ]
    }
   ],
   "source": [
    "# factorization of x^n-1 over different fields\n",
    "n = 7\n",
    "RR.<y> = PolynomialRing(RealField()); print(\"\\n\", factor(y^n-1))\n",
    "RR.<y> = PolynomialRing(ComplexField()); print(\"\\n\", factor(y^n-1))\n",
    "\n",
    "n = 7\n",
    "RR.<y> = PolynomialRing(GF(2)); print(\"\\n\",factor(y^n-1))\n",
    "FF.<w> = GF(8)\n",
    "RR.<y> = PolynomialRing(FF); print(\"\\n\", factor(y^n-1))\n"
   ]
  },
  {
   "cell_type": "code",
   "execution_count": null,
   "metadata": {},
   "outputs": [],
   "source": []
  },
  {
   "cell_type": "code",
   "execution_count": null,
   "metadata": {},
   "outputs": [],
   "source": []
  },
  {
   "cell_type": "code",
   "execution_count": null,
   "metadata": {},
   "outputs": [],
   "source": []
  }
 ],
 "metadata": {
  "kernelspec": {
   "display_name": "SageMath 9.1",
   "language": "sage",
   "name": "sagemath"
  },
  "language_info": {
   "codemirror_mode": {
    "name": "ipython",
    "version": 3
   },
   "file_extension": ".py",
   "mimetype": "text/x-python",
   "name": "python",
   "nbconvert_exporter": "python",
   "pygments_lexer": "ipython3",
   "version": "3.7.3"
  }
 },
 "nbformat": 4,
 "nbformat_minor": 2
}
