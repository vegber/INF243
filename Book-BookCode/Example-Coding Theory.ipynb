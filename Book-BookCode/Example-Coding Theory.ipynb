{
 "cells": [
  {
   "cell_type": "code",
   "execution_count": 15,
   "metadata": {
    "scrolled": true
   },
   "outputs": [
    {
     "name": "stdout",
     "output_type": "stream",
     "text": [
      "3\n",
      "(0, 1, 1, 1) (0, 1, 1, 1, 1, 0, 0)\n",
      "Syndrome decoder for [7, 4] Hamming Code over GF(2) handling errors of weight up to 1\n",
      "(0, 1, 1, 1, 1, 0, 0)\n",
      "(0, 1, 1, 1)\n"
     ]
    }
   ],
   "source": [
    "#Example for Hamming codes [2^m-1, 2^m-1-m, 3]\n",
    "\n",
    "C = codes.HammingCode(GF(2), 3)\n",
    "print(C.minimum_distance())\n",
    "\n",
    "# print(C.list())\n",
    "# print(C.encoders_available())\n",
    "# print(C.decoders_available())\n",
    "# print(C.metric())\n",
    "\n",
    "# print(C.encoder())\n",
    "msg   = vector(GF(2),(0,1,1,1))\n",
    "cword = C.encode(msg)\n",
    "print(C.unencode(cword), cword)\n",
    "\n",
    "error = vector(GF(2), (0,1,0,0,0,0,0))\n",
    "rword = cword + error\n",
    "\n",
    "print(C.decoder())\n",
    "print(C.decode_to_code(rword))\n",
    "print(C.decode_to_message(rword))"
   ]
  },
  {
   "cell_type": "code",
   "execution_count": 38,
   "metadata": {},
   "outputs": [
    {
     "name": "stdout",
     "output_type": "stream",
     "text": [
      "Static error rate channel creating 2 errors, of input and output space Vector space of dimension 7 over Finite Field in w of size 2^6\n",
      "(w, w^3, w^5 + w^4 + w^2, w^4 + w^3 + 1, w^5 + w^4 + w^2 + 1, w^3 + w^2 + w, w^5 + w^4 + 1)\n",
      "(w, w^3, w^5 + w^4 + w^2, 1, w^5 + w^4 + w^2 + 1, w^3 + w^2 + w, w^4 + w^3 + w^2 + w)\n",
      "(w, w^3, w^5 + w^4 + w^2, w^4 + w^3 + 1, w^5 + w^4 + w^2 + 1, w^3 + w^2 + w, w^5 + w^4 + 1)\n",
      "((0, w^3, w^5 + w^4 + w^2, w^4 + w^3 + 1, w^5 + w^4 + w^2 + w, w^3 + w^2 + w, w^5 + w^4 + 1), (1, 0, 0, 0, 0, 0, 0))\n"
     ]
    }
   ],
   "source": [
    "# Examples of Channels\n",
    "FF.<w> = GF(2^6)\n",
    "vspace = FF^7\n",
    "\n",
    "n_error = 2\n",
    "Channel1 = channels.StaticErrorRateChannel(vspace,n_error)\n",
    "print(Channel1)\n",
    "\n",
    "in_word = vspace((w,w^3,w^27,w^31,w^9,w^21,w^10))\n",
    "out_word = Channel1.transmit(in_word)\n",
    "\n",
    "print(in_word)\n",
    "print(out_word)\n",
    "\n",
    "n_error = 1\n",
    "n_erasure = 1\n",
    "Channel2 = channels.ErrorErasureChannel(vspace,n_error,n_erasure)\n",
    "\n",
    "out_word2 = Channel2.transmit(in_word)\n",
    "print(in_word)\n",
    "print(out_word2)\n"
   ]
  },
  {
   "cell_type": "code",
   "execution_count": 4,
   "metadata": {},
   "outputs": [
    {
     "name": "stdout",
     "output_type": "stream",
     "text": [
      "['GeneratorMatrix', 'Systematic']\n",
      "[1 1 1 0 0 0 0]\n",
      "[1 0 0 1 1 0 0]\n",
      "[0 1 0 1 0 1 0]\n",
      "[1 1 0 1 0 0 1] \n",
      "\n",
      "[1 0 0 0 0 1 1]\n",
      "[0 1 0 0 1 0 1]\n",
      "[0 0 1 0 1 1 0]\n",
      "[0 0 0 1 1 1 1]\n",
      "(0, 1, 0, 0, 1, 0, 1) (0, 1, 0, 0, 1, 0, 1)\n"
     ]
    }
   ],
   "source": [
    "# Examples of Encoder\n",
    "G = Matrix(GF(2), [[1,1,1,0,0,0,0],[1,0,0,1,1,0,0],[0,1,0,1,0,1,0],[1,1,0,1,0,0,1]])\n",
    "C = codes.LinearCode(G)\n",
    "\n",
    "print(C.encoders_available())\n",
    "\n",
    "\n",
    "E1 = codes.encoders.LinearCodeGeneratorMatrixEncoder(C)\n",
    "print(E1.generator_matrix(),\"\\n\")\n",
    "\n",
    "E2 = codes.encoders.LinearCodeSystematicEncoder(C)\n",
    "print(E2.generator_matrix())\n",
    "\n",
    "# vs = GF(2)^4\n",
    "# msg = vs((0,1,0,1))\n",
    "msg = vector(GF(2),(0,1,0,1))\n",
    "cword = E1(msg)\n",
    "cword1 = E1.encode(msg)\n",
    "print(cword, cword1)\n",
    "\n",
    "# # set_random_seed(2)\n",
    "# msg1 = random_vector(GF(2),4)\n",
    "# print(msg1)"
   ]
  },
  {
   "cell_type": "code",
   "execution_count": 21,
   "metadata": {},
   "outputs": [
    {
     "name": "stdout",
     "output_type": "stream",
     "text": [
      "['InformationSet', 'NearestNeighbor', 'Syndrome'] \n",
      "\n",
      "1\n",
      "{'always-succeed', 'hard-decision', 'complete'}\n"
     ]
    },
    {
     "data": {
      "text/plain": [
       "ISD Algorithm (Lee-Brickell) for [7, 4] linear code over GF(2) decoding up to 1 errors "
      ]
     },
     "execution_count": 21,
     "metadata": {},
     "output_type": "execute_result"
    }
   ],
   "source": [
    "# Examples for Decoders\n",
    "\n",
    "G = Matrix(GF(2), [[1,1,1,0,0,0,0],[1,0,0,1,1,0,0],[0,1,0,1,0,1,0],[1,1,0,1,0,0,1]])\n",
    "C = codes.LinearCode(G)\n",
    "\n",
    "print(C.decoders_available(),\"\\n\")\n",
    "\n",
    "D1 = codes.decoders.LinearCodeSyndromeDecoder(C)\n",
    "# print(D1.decoding_radius())\n",
    "# print(D1.syndrome_table())\n",
    "# print(D1.input_space())\n",
    "# print(D1.maximum_error_weight())\n",
    "\n",
    "\n",
    "rword = vector(GF(2),(1,1,1,1,0,0,0))\n",
    "# print(D1.decode_to_code(rword))\n",
    "# print(D1.decode_to_message(rword))\n",
    "\n",
    "D2 = codes.decoders.LinearCodeNearestNeighborDecoder(C)\n",
    "print(D2.decoding_radius())\n",
    "print(D2.decoder_type())\n",
    "\n",
    "D3 = codes.decoders.LinearCodeInformationSetDecoder(C,number_errors=1)\n",
    "D3.algorithm()\n",
    "\n"
   ]
  },
  {
   "cell_type": "code",
   "execution_count": 94,
   "metadata": {},
   "outputs": [
    {
     "name": "stdout",
     "output_type": "stream",
     "text": [
      "[51, 27] Cyclic Code over GF(2)\n",
      "x^26 + x^20 + x^17 + x^13 + x^11 + x^8 + x^2 + 1\n"
     ]
    },
    {
     "data": {
      "text/plain": [
       "(1, 1, 1, 1, 0, 1, 0, 1, 0, 0, 1, 0, 0, 1, 0, 0, 0, 0, 0, 0, 0, 0, 0, 1, 1, 0, 1, 1, 0, 1, 1, 0, 0, 1, 1, 0, 0, 1, 0, 0, 1, 1, 1, 1, 1, 0, 1, 1, 1, 0, 1)"
      ]
     },
     "execution_count": 94,
     "metadata": {},
     "output_type": "execute_result"
    }
   ],
   "source": [
    "# Examples for Cyclic Codes\n",
    "\n",
    "FF.<w> = GF(2^8)\n",
    "n = 51\n",
    "d_set = [1,2,3,4,5,6]\n",
    "C = codes.CyclicCode(field=GF(2),length=n,D=d_set)\n",
    "print(C)\n",
    "\n",
    "E = codes.encoders.CyclicCodePolynomialEncoder(C)\n",
    "\n",
    "R.<x> = PolynomialRing(GF(2))\n",
    "msg = x^26 + x^20+ x^17 + x^13 + x^11 + x^8 + x^2 + 1\n",
    "print(msg)\n",
    "cword = E.encode(msg)\n",
    "\n",
    "D = codes.decoders.CyclicCodeSurroundingBCHDecoder(C)\n",
    "D.decode_to_code(cword)\n",
    "\n"
   ]
  }
 ],
 "metadata": {
  "kernelspec": {
   "display_name": "Python 3",
   "language": "python",
   "name": "python3"
  },
  "language_info": {
   "codemirror_mode": {
    "name": "ipython",
    "version": 3
   },
   "file_extension": ".py",
   "mimetype": "text/x-python",
   "name": "python",
   "nbconvert_exporter": "python",
   "pygments_lexer": "ipython3",
   "version": "3.11.0 (v3.11.0:deaf509e8f, Oct 24 2022, 14:43:23) [Clang 13.0.0 (clang-1300.0.29.30)]"
  },
  "vscode": {
   "interpreter": {
    "hash": "aee8b7b246df8f9039afb4144a1f6fd8d2ca17a180786b69acc140d282b71a49"
   }
  }
 },
 "nbformat": 4,
 "nbformat_minor": 2
}
