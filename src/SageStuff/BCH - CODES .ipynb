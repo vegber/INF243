{
 "cells": [
  {
   "cell_type": "code",
   "execution_count": 73,
   "id": "bfe637b5",
   "metadata": {},
   "outputs": [
    {
     "name": "stdout",
     "output_type": "stream",
     "text": [
      "1. a^3 + a, x^5 + x^4 + x^3 + x^2 + 1\n",
      "2. a^3 + a^2 + a, x^5 + x^4 + x^3 + x^2 + 1\n",
      "3. a + 1, x^5 + x^4 + x^2 + x + 1\n",
      "4. a^4 + a^3 + a^2 + a, x^5 + x^4 + x^3 + x^2 + 1\n",
      "5. a^4 + a, x^5 + x^3 + 1\n",
      "6. a^2 + 1, x^5 + x^4 + x^2 + x + 1\n",
      "[31,16,7]\n"
     ]
    }
   ],
   "source": [
    "\n",
    "n = 31 # 15 \n",
    "q = 2 \n",
    "d = 7 # 5 \n",
    "\n",
    "m = multiplicative_order(mod(q, n)) \n",
    "Fq = GF(q) \n",
    "R.<x> = PolynomialRing(Fq) \n",
    "\n",
    "F.<a> = Fq.extension(m) \n",
    "b = a^((q^m-1)//m) # normally nth root of unity \n",
    "\n",
    "offset = 1 \n",
    "g = 1 \n",
    "for i in range(offset, offset+d-1):\n",
    "    u = b^i \n",
    "    min_poly = u.minimal_polynomial() \n",
    "    print(f\"{i}. {u}, {min_poly}\")\n",
    "    g = lcm(g, min_poly)\n",
    "\n",
    "C = codes.CyclicCode(generator_pol=g, length=n) \n",
    "\n",
    "print(\"[{},{},{}]\".format(C.length(), C.dimension(), C.minimum_distance()))"
   ]
  },
  {
   "cell_type": "code",
   "execution_count": 74,
   "id": "a96220f5",
   "metadata": {},
   "outputs": [
    {
     "data": {
      "text/plain": [
       "x^15 + x^13 + x^12 + x^11 + x^9 + x^7 + x^5 + x^4 + x^3 + x + 1"
      ]
     },
     "execution_count": 74,
     "metadata": {},
     "output_type": "execute_result"
    }
   ],
   "source": [
    "C.generator_polynomial()\n",
    "# print(C.generator_matrix())"
   ]
  },
  {
   "cell_type": "code",
   "execution_count": 75,
   "id": "39da36b7",
   "metadata": {},
   "outputs": [
    {
     "name": "stdout",
     "output_type": "stream",
     "text": [
      "cword; (1, 1, 1, 1, 1, 1, 0, 0, 1, 1, 0, 0, 1, 1, 0, 0, 1, 1, 1, 1, 1, 1, 0, 0, 1, 0, 1, 1, 1, 0, 0)\n",
      "error; (0, 0, 0, 0, 0, 0, 0, 0, 0, 1, 0, 0, 0, 1, 0, 0, 0, 0, 0, 0, 0, 0, 0, 0, 0, 0, 0, 0, 0, 0, 0)\n",
      "rword; (1, 1, 1, 1, 1, 1, 0, 0, 1, 0, 0, 0, 1, 0, 0, 0, 1, 1, 1, 1, 1, 1, 0, 0, 1, 0, 1, 1, 1, 0, 0)\n"
     ]
    }
   ],
   "source": [
    "set_random_seed(2)\n",
    "def err_gen(n, t): \n",
    "    e = zero_vector(Fq, n) \n",
    "    for i in range(t): \n",
    "        pos = randint(0, n-1) \n",
    "        e[pos] = 1 \n",
    "    return e \n",
    "\n",
    "t = d - 1 // 2 # formula finding t \n",
    "# t = 2 \n",
    "cword = C.random_element()\n",
    "err = err_gen(n, 2) \n",
    "rword = cword + err \n",
    "\n",
    "\n",
    "print(f\"cword; {cword}\")\n",
    "print(f\"error; {err}\")\n",
    "print(f\"rword; {rword}\")"
   ]
  },
  {
   "cell_type": "code",
   "execution_count": 79,
   "id": "2f7ad71c",
   "metadata": {},
   "outputs": [
    {
     "name": "stdout",
     "output_type": "stream",
     "text": [
      "syndrome: [a^4 + a^2, a^4 + a^3 + a^2 + 1, a^2 + a + 1, a^4 + a^2 + a, a^4 + a^2 + a, a^4 + a^2 + 1, a^2, a^4 + a^3 + 1, a^4 + a^2, a^4 + a^3 + 1, a^4 + a^2 + a, a^4 + a^3 + a^2, a^2 + a, a^4]\n",
      "[          a^4 + a^2 a^4 + a^3 + a^2 + 1         a^2 + a + 1       a^4 + a^2 + a       a^4 + a^2 + a       a^4 + a^2 + 1                 a^2]\n",
      "[a^4 + a^3 + a^2 + 1         a^2 + a + 1       a^4 + a^2 + a       a^4 + a^2 + a       a^4 + a^2 + 1                 a^2       a^4 + a^3 + 1]\n",
      "[        a^2 + a + 1       a^4 + a^2 + a       a^4 + a^2 + a       a^4 + a^2 + 1                 a^2       a^4 + a^3 + 1           a^4 + a^2]\n",
      "[      a^4 + a^2 + a       a^4 + a^2 + a       a^4 + a^2 + 1                 a^2       a^4 + a^3 + 1           a^4 + a^2       a^4 + a^3 + 1]\n",
      "[      a^4 + a^2 + a       a^4 + a^2 + 1                 a^2       a^4 + a^3 + 1           a^4 + a^2       a^4 + a^3 + 1       a^4 + a^2 + a]\n",
      "[      a^4 + a^2 + 1                 a^2       a^4 + a^3 + 1           a^4 + a^2       a^4 + a^3 + 1       a^4 + a^2 + a     a^4 + a^3 + a^2]\n",
      "[                a^2       a^4 + a^3 + 1           a^4 + a^2       a^4 + a^3 + 1       a^4 + a^2 + a     a^4 + a^3 + a^2             a^2 + a]\n",
      "s matrix determinant: a^4 + a^3 + 1\n",
      "(a, a^4 + a^3 + a^2 + 1, a^4 + a^2 + 1, a^4 + a^2 + a + 1, a^2, a^4 + a^3 + a, a^4 + a^2)\n"
     ]
    }
   ],
   "source": [
    "def evaluate(vec, ele): \n",
    "    n = len(vec) \n",
    "    return sum([vec[i]*ele^i for i in range(n)])\n",
    "\n",
    "s = [evaluate(rword, b^i) for i in range(1, 2*t+1)]\n",
    "\n",
    "print(f\"syndrome: {s}\")\n",
    "\n",
    "smat = Matrix([s[j:j+t] for j in range(t)])\n",
    "print(smat)\n",
    "print(f\"s matrix determinant: {smat.determinant()}\") \n",
    "\n",
    "vec = vector([-s[j] for j in range(t, 2*t)])\n",
    "coeff_sigma = smat.solve_right(vec) \n",
    "\n",
    "print(coeff_sigma)"
   ]
  },
  {
   "cell_type": "code",
   "execution_count": 77,
   "id": "1cd89f58",
   "metadata": {},
   "outputs": [
    {
     "data": {
      "text/plain": [
       "[          a^4 + a^2 a^4 + a^3 + a^2 + 1         a^2 + a + 1       a^4 + a^2 + a       a^4 + a^2 + a       a^4 + a^2 + 1                 a^2]\n",
       "[a^4 + a^3 + a^2 + 1         a^2 + a + 1       a^4 + a^2 + a       a^4 + a^2 + a       a^4 + a^2 + 1                 a^2       a^4 + a^3 + 1]\n",
       "[        a^2 + a + 1       a^4 + a^2 + a       a^4 + a^2 + a       a^4 + a^2 + 1                 a^2       a^4 + a^3 + 1           a^4 + a^2]\n",
       "[      a^4 + a^2 + a       a^4 + a^2 + a       a^4 + a^2 + 1                 a^2       a^4 + a^3 + 1           a^4 + a^2       a^4 + a^3 + 1]\n",
       "[      a^4 + a^2 + a       a^4 + a^2 + 1                 a^2       a^4 + a^3 + 1           a^4 + a^2       a^4 + a^3 + 1       a^4 + a^2 + a]\n",
       "[      a^4 + a^2 + 1                 a^2       a^4 + a^3 + 1           a^4 + a^2       a^4 + a^3 + 1       a^4 + a^2 + a     a^4 + a^3 + a^2]\n",
       "[                a^2       a^4 + a^3 + 1           a^4 + a^2       a^4 + a^3 + 1       a^4 + a^2 + a     a^4 + a^3 + a^2             a^2 + a]"
      ]
     },
     "execution_count": 77,
     "metadata": {},
     "output_type": "execute_result"
    }
   ],
   "source": [
    "smat"
   ]
  },
  {
   "cell_type": "code",
   "execution_count": 78,
   "id": "30e6fd5a",
   "metadata": {},
   "outputs": [
    {
     "name": "stdout",
     "output_type": "stream",
     "text": [
      "error location: 21\n"
     ]
    }
   ],
   "source": [
    "for j in range(n): \n",
    "    ele = b^j \n",
    "    res = sum(coeff_sigma[t-i]*ele^i for i in range(1, t+1)) + 1\n",
    "    if res == 0: \n",
    "        print(f\"error location: {n-j}\")"
   ]
  },
  {
   "cell_type": "code",
   "execution_count": null,
   "id": "282e8917",
   "metadata": {},
   "outputs": [],
   "source": []
  },
  {
   "cell_type": "code",
   "execution_count": null,
   "id": "0329eea7",
   "metadata": {},
   "outputs": [],
   "source": []
  }
 ],
 "metadata": {
  "kernelspec": {
   "display_name": "SageMath 9.8",
   "language": "sage",
   "name": "sagemath-9.8"
  },
  "language_info": {
   "codemirror_mode": {
    "name": "ipython",
    "version": 3
   },
   "file_extension": ".py",
   "mimetype": "text/x-python",
   "name": "python",
   "nbconvert_exporter": "python",
   "pygments_lexer": "ipython3",
   "version": "3.11.1"
  }
 },
 "nbformat": 4,
 "nbformat_minor": 5
}
