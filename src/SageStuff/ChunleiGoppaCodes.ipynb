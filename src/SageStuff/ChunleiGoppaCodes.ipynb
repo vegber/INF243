{
 "cells": [
  {
   "cell_type": "code",
   "execution_count": null,
   "id": "467892df",
   "metadata": {},
   "outputs": [],
   "source": []
  },
  {
   "cell_type": "code",
   "execution_count": null,
   "id": "0b6ba3e7",
   "metadata": {},
   "outputs": [],
   "source": [
    "q = 2 \n",
    "m = 8 \n",
    "n = 64 \n",
    "s = 7 \n",
    "Fq = GF(q) \n",
    "Fqm.<w> = GF(q^m) \n",
    "R.<x> = PolynomialRing(Fqm) \n",
    "\n",
    "\n",
    "# bilde iphone \n",
    "L1 = [w^i for i in range(q^m-2)] + [Fq(0)]\n",
    "L = L1[0:n]\n",
    "\n",
    "\n",
    "# g = R.irreducible_polynomial() \n",
    "coeff_g = [Fqm.ranom_element() for i in range(s +1)]\n",
    "g = summ([coeff_g[i]*x^i for i in range(s+1)])\n"
   ]
  }
 ],
 "metadata": {
  "kernelspec": {
   "display_name": "SageMath 9.8",
   "language": "sage",
   "name": "sagemath-9.8"
  },
  "language_info": {
   "codemirror_mode": {
    "name": "ipython",
    "version": 3
   },
   "file_extension": ".py",
   "mimetype": "text/x-python",
   "name": "python",
   "nbconvert_exporter": "python",
   "pygments_lexer": "ipython3",
   "version": "3.11.1"
  }
 },
 "nbformat": 4,
 "nbformat_minor": 5
}
