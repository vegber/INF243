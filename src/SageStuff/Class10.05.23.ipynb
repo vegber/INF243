{
 "cells": [
  {
   "cell_type": "code",
   "execution_count": null,
   "id": "fc268923",
   "metadata": {},
   "outputs": [],
   "source": []
  },
  {
   "cell_type": "code",
   "execution_count": 2,
   "id": "e0913b40",
   "metadata": {},
   "outputs": [
    {
     "data": {
      "text/plain": [
       "-0.19"
      ]
     },
     "execution_count": 2,
     "metadata": {},
     "output_type": "execute_result"
    }
   ],
   "source": [
    "L0 = -0.1\n",
    "L1 = 0.5\n",
    "L2 = -0.8\n",
    "\n",
    "def addLLR(L1, L2): \n",
    "    val = (1+exp(L1+L2)) / (exp(L1) + exp(L2))\n",
    "    return log(val).n(3)\n",
    "\n",
    "\n",
    "addLLR(L1, L2)"
   ]
  },
  {
   "cell_type": "code",
   "execution_count": 3,
   "id": "eff32e3c",
   "metadata": {},
   "outputs": [
    {
     "data": {
      "text/plain": [
       "[-0.25, 0.50, -0.75]"
      ]
     },
     "execution_count": 3,
     "metadata": {},
     "output_type": "execute_result"
    }
   ],
   "source": [
    "[L0 + addLLR(L1, L2), L1 + addLLR(L0, L2), L2 + addLLR(L0, L1)]"
   ]
  },
  {
   "cell_type": "code",
   "execution_count": null,
   "id": "429ea8c8",
   "metadata": {},
   "outputs": [],
   "source": []
  }
 ],
 "metadata": {
  "kernelspec": {
   "display_name": "SageMath 9.8",
   "language": "sage",
   "name": "sagemath-9.8"
  },
  "language_info": {
   "codemirror_mode": {
    "name": "ipython",
    "version": 3
   },
   "file_extension": ".py",
   "mimetype": "text/x-python",
   "name": "python",
   "nbconvert_exporter": "python",
   "pygments_lexer": "ipython3",
   "version": "3.11.1"
  }
 },
 "nbformat": 4,
 "nbformat_minor": 5
}
