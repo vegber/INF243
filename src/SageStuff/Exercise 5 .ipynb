{
 "cells": [
  {
   "cell_type": "code",
   "execution_count": 13,
   "id": "ca534c3a",
   "metadata": {},
   "outputs": [],
   "source": [
    "F.<a> = GF(2^4)\n"
   ]
  },
  {
   "cell_type": "code",
   "execution_count": 14,
   "id": "feb2a124",
   "metadata": {},
   "outputs": [
    {
     "data": {
      "text/plain": [
       "(x + 1) * (x + z4^2 + z4) * (x + z4^2 + z4 + 1) * (x^3 + z4^2 + z4) * (x^3 + z4^2 + z4 + 1)"
      ]
     },
     "execution_count": 14,
     "metadata": {},
     "output_type": "execute_result"
    }
   ],
   "source": [
    "factor(x^9-1)"
   ]
  },
  {
   "cell_type": "code",
   "execution_count": 16,
   "id": "54960338",
   "metadata": {},
   "outputs": [
    {
     "data": {
      "text/plain": [
       "(x + 1) * (x + a^2 + a) * (x + a^2 + a + 1)"
      ]
     },
     "execution_count": 16,
     "metadata": {},
     "output_type": "execute_result"
    }
   ],
   "source": [
    "factor(x^3 -1) "
   ]
  },
  {
   "cell_type": "code",
   "execution_count": 18,
   "id": "dff183f7",
   "metadata": {},
   "outputs": [
    {
     "data": {
      "text/plain": [
       "(x + 1) * (x + a^2 + a) * (x + a^2 + a + 1)"
      ]
     },
     "execution_count": 18,
     "metadata": {},
     "output_type": "execute_result"
    }
   ],
   "source": [
    "R.<x> = PolynomialRing(F)\n",
    "factor(x^3-1)"
   ]
  },
  {
   "cell_type": "code",
   "execution_count": 19,
   "id": "11d4460d",
   "metadata": {},
   "outputs": [
    {
     "data": {
      "text/plain": [
       "(x + 1) * (x + a) * (x + a + 1) * (x + a^2) * (x + a^2 + 1) * (x + a^2 + a) * (x + a^2 + a + 1) * (x + a^3) * (x + a^3 + 1) * (x + a^3 + a) * (x + a^3 + a + 1) * (x + a^3 + a^2) * (x + a^3 + a^2 + 1) * (x + a^3 + a^2 + a) * (x + a^3 + a^2 + a + 1)"
      ]
     },
     "execution_count": 19,
     "metadata": {},
     "output_type": "execute_result"
    }
   ],
   "source": [
    "factor(x^15-1)"
   ]
  },
  {
   "cell_type": "code",
   "execution_count": null,
   "id": "477198aa",
   "metadata": {},
   "outputs": [],
   "source": []
  }
 ],
 "metadata": {
  "kernelspec": {
   "display_name": "SageMath 9.7",
   "language": "sage",
   "name": "sagemath-9.7"
  },
  "language_info": {
   "codemirror_mode": {
    "name": "ipython",
    "version": 3
   },
   "file_extension": ".py",
   "mimetype": "text/x-python",
   "name": "python",
   "nbconvert_exporter": "python",
   "pygments_lexer": "ipython3",
   "version": "3.10.5"
  }
 },
 "nbformat": 4,
 "nbformat_minor": 5
}
