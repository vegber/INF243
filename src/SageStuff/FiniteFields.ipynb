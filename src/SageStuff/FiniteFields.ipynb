{
 "cells": [
  {
   "cell_type": "code",
   "execution_count": 18,
   "id": "3318c7c3",
   "metadata": {},
   "outputs": [],
   "source": [
    "F = GF(17) "
   ]
  },
  {
   "cell_type": "code",
   "execution_count": 24,
   "id": "b5f9331b",
   "metadata": {},
   "outputs": [
    {
     "data": {
      "text/plain": [
       " *  00 01 02 03 04 05 06 07 08 09 10 11 12 13 14 15 16\n",
       "  +---------------------------------------------------\n",
       "00| 00 00 00 00 00 00 00 00 00 00 00 00 00 00 00 00 00\n",
       "01| 00 01 02 03 04 05 06 07 08 09 10 11 12 13 14 15 16\n",
       "02| 00 02 04 06 08 10 12 14 16 01 03 05 07 09 11 13 15\n",
       "03| 00 03 06 09 12 15 01 04 07 10 13 16 02 05 08 11 14\n",
       "04| 00 04 08 12 16 03 07 11 15 02 06 10 14 01 05 09 13\n",
       "05| 00 05 10 15 03 08 13 01 06 11 16 04 09 14 02 07 12\n",
       "06| 00 06 12 01 07 13 02 08 14 03 09 15 04 10 16 05 11\n",
       "07| 00 07 14 04 11 01 08 15 05 12 02 09 16 06 13 03 10\n",
       "08| 00 08 16 07 15 06 14 05 13 04 12 03 11 02 10 01 09\n",
       "09| 00 09 01 10 02 11 03 12 04 13 05 14 06 15 07 16 08\n",
       "10| 00 10 03 13 06 16 09 02 12 05 15 08 01 11 04 14 07\n",
       "11| 00 11 05 16 10 04 15 09 03 14 08 02 13 07 01 12 06\n",
       "12| 00 12 07 02 14 09 04 16 11 06 01 13 08 03 15 10 05\n",
       "13| 00 13 09 05 01 14 10 06 02 15 11 07 03 16 12 08 04\n",
       "14| 00 14 11 08 05 02 16 13 10 07 04 01 15 12 09 06 03\n",
       "15| 00 15 13 11 09 07 05 03 01 16 14 12 10 08 06 04 02\n",
       "16| 00 16 15 14 13 12 11 10 09 08 07 06 05 04 03 02 01\n"
      ]
     },
     "execution_count": 24,
     "metadata": {},
     "output_type": "execute_result"
    }
   ],
   "source": [
    "from sage.matrix.operation_table import OperationTable\n",
    "# nam=['{:x}'.format(Integer(a)) for a in F]\n",
    "F.multiplication_table(names=\"digits\") \n",
    "# OperationTable(F, operation=operator.mul, names=nam)"
   ]
  },
  {
   "cell_type": "code",
   "execution_count": 6,
   "id": "113effee",
   "metadata": {},
   "outputs": [
    {
     "name": "stdout",
     "output_type": "stream",
     "text": [
      "0\n",
      "1\n",
      "2\n",
      "3\n",
      "4\n",
      "5\n",
      "6\n",
      "7\n",
      "8\n",
      "9\n",
      "10\n",
      "11\n",
      "12\n",
      "13\n",
      "14\n",
      "15\n",
      "16\n"
     ]
    }
   ],
   "source": [
    "x = 1\n",
    "for f in F: \n",
    "    print(f)"
   ]
  },
  {
   "cell_type": "code",
   "execution_count": 40,
   "id": "040f254c",
   "metadata": {},
   "outputs": [
    {
     "name": "stdout",
     "output_type": "stream",
     "text": [
      "184884258895036416\n",
      "16\n"
     ]
    }
   ],
   "source": [
    "y = 1 \n",
    "while (12**y) % 17 != 1: \n",
    "    y += 1\n",
    "\n",
    "print(12**y)\n",
    "print(y)"
   ]
  },
  {
   "cell_type": "code",
   "execution_count": 33,
   "id": "168a2e12",
   "metadata": {},
   "outputs": [
    {
     "data": {
      "text/plain": [
       "17"
      ]
     },
     "execution_count": 33,
     "metadata": {},
     "output_type": "execute_result"
    }
   ],
   "source": [
    "F.order()"
   ]
  },
  {
   "cell_type": "code",
   "execution_count": 35,
   "id": "1389b5de",
   "metadata": {},
   "outputs": [
    {
     "data": {
      "text/plain": [
       "[(Finite Field of size 17, Identity endomorphism of Finite Field of size 17)]"
      ]
     },
     "execution_count": 35,
     "metadata": {},
     "output_type": "execute_result"
    }
   ],
   "source": [
    "F.subfields()"
   ]
  },
  {
   "cell_type": "code",
   "execution_count": 44,
   "id": "c55697aa",
   "metadata": {},
   "outputs": [
    {
     "data": {
      "text/plain": [
       "3"
      ]
     },
     "execution_count": 44,
     "metadata": {},
     "output_type": "execute_result"
    }
   ],
   "source": [
    "F.primitive_element()\n"
   ]
  },
  {
   "cell_type": "code",
   "execution_count": 45,
   "id": "1b9905de",
   "metadata": {},
   "outputs": [
    {
     "data": {
      "text/plain": [
       "17"
      ]
     },
     "execution_count": 45,
     "metadata": {},
     "output_type": "execute_result"
    }
   ],
   "source": [
    "F.characteristic()"
   ]
  },
  {
   "cell_type": "code",
   "execution_count": null,
   "id": "0c840447",
   "metadata": {},
   "outputs": [],
   "source": []
  }
 ],
 "metadata": {
  "kernelspec": {
   "display_name": "SageMath 9.7",
   "language": "sage",
   "name": "sagemath-9.7"
  },
  "language_info": {
   "codemirror_mode": {
    "name": "ipython",
    "version": 3
   },
   "file_extension": ".py",
   "mimetype": "text/x-python",
   "name": "python",
   "nbconvert_exporter": "python",
   "pygments_lexer": "ipython3",
   "version": "3.10.5"
  }
 },
 "nbformat": 4,
 "nbformat_minor": 5
}
