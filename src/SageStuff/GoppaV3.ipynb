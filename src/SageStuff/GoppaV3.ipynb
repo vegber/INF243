{
 "cells": [
  {
   "cell_type": "code",
   "execution_count": 192,
   "id": "3fbd8d48",
   "metadata": {},
   "outputs": [],
   "source": [
    "q = 2 \n",
    "m = 6 \n",
    "p = x^6 + x^4 + x^3 + x + 1\n",
    "F.<a> = GF(q^m, modulus=p)\n",
    "R.<x> = PolynomialRing(F) "
   ]
  },
  {
   "cell_type": "code",
   "execution_count": 193,
   "id": "d5ef7e0a",
   "metadata": {},
   "outputs": [
    {
     "data": {
      "text/plain": [
       "[1, 0, 0, 0, 0, 0, 1]"
      ]
     },
     "execution_count": 193,
     "metadata": {},
     "output_type": "execute_result"
    }
   ],
   "source": [
    "g = x^7 + x + 1\n",
    "g_t = [1, 0, 0, 0, 0, 0, 1] # hardcoded for now: \n",
    "g_t"
   ]
  },
  {
   "cell_type": "code",
   "execution_count": 194,
   "id": "ae1d2e5a",
   "metadata": {},
   "outputs": [
    {
     "data": {
      "text/plain": [
       "7"
      ]
     },
     "execution_count": 194,
     "metadata": {},
     "output_type": "execute_result"
    }
   ],
   "source": [
    "n = 64 \n",
    "T = g.degree() \n",
    "T"
   ]
  },
  {
   "cell_type": "code",
   "execution_count": 197,
   "id": "3af2c2e8",
   "metadata": {},
   "outputs": [
    {
     "name": "stdout",
     "output_type": "stream",
     "text": [
      "dimension Z (64, 64)\n",
      "dimension Y (7, 64)\n",
      "dimension X (7, 7)\n"
     ]
    }
   ],
   "source": [
    "# lookup_alpha\n",
    "L =[a^i for i in range(n) if g(a^i) != 0 ]\n",
    "Z = matrix(F, [[(1 / g(el)) if i == j else 0 for i, el in enumerate(L)] for j in range(n)])\n",
    "Y = matrix(F, [[a_i^t for a_i in L] for t in range(T)])\n",
    "X = [[0] * len(g_t) for _ in range(len(g_t))]\n",
    "for i in range(len(g_t)): \n",
    "    for j in range(len(g_t)): \n",
    "        if j >= i: \n",
    "            X[j][i] = g_t[j-i]\n",
    "X = matrix(F, X) \n",
    "print(f\"dimension Z {Z.dimensions()}\")\n",
    "print(f\"dimension Y {Y.dimensions()}\")\n",
    "print(f\"dimension X {X.dimensions()}\")"
   ]
  },
  {
   "cell_type": "code",
   "execution_count": 198,
   "id": "f2f730fe",
   "metadata": {},
   "outputs": [
    {
     "data": {
      "text/plain": [
       "(42, 64)"
      ]
     },
     "execution_count": 198,
     "metadata": {},
     "output_type": "execute_result"
    }
   ],
   "source": [
    "H = X*Y*Z.T\n",
    "H.dimensions()\n",
    "H_ = [] \n",
    "for row in H.T: \n",
    "    vec = vector(F, list([vector(i) for i in row]))\n",
    "    # sss = sum([x for x in vec])\n",
    "    sss = [] \n",
    "    for r in vec: \n",
    "        sss += r \n",
    "    H_.append(sss) \n",
    "H_ = matrix(H_).T\n",
    "H_.dimensions()"
   ]
  },
  {
   "cell_type": "code",
   "execution_count": 200,
   "id": "ecc799fb",
   "metadata": {},
   "outputs": [
    {
     "name": "stdout",
     "output_type": "stream",
     "text": [
      "worked!\n"
     ]
    }
   ],
   "source": [
    "generator_matrix = H.right_kernel_matrix()\n",
    "null_basis = generator_matrix*H.T \n",
    "if any(null_basis): \n",
    "    print(\"failed\") \n",
    "else:\n",
    "    print(\"worked!\") "
   ]
  },
  {
   "cell_type": "markdown",
   "id": "9a843878",
   "metadata": {},
   "source": [
    "Sanity check:"
   ]
  },
  {
   "cell_type": "code",
   "execution_count": 201,
   "id": "3a7d2a1d",
   "metadata": {},
   "outputs": [
    {
     "data": {
      "text/plain": [
       "True"
      ]
     },
     "execution_count": 201,
     "metadata": {},
     "output_type": "execute_result"
    }
   ],
   "source": [
    "C = codes.GoppaCode(g, L) \n",
    "C.minimum_distance()\n",
    "C.distance_bound()\n",
    "HHH = C.parity_check_matrix()\n",
    "HHH.row_space() == H_.row_space()"
   ]
  },
  {
   "cell_type": "code",
   "execution_count": null,
   "id": "eaddee9f",
   "metadata": {},
   "outputs": [],
   "source": []
  },
  {
   "cell_type": "code",
   "execution_count": null,
   "id": "13b13847",
   "metadata": {},
   "outputs": [],
   "source": []
  },
  {
   "cell_type": "code",
   "execution_count": null,
   "id": "52c25d35",
   "metadata": {},
   "outputs": [],
   "source": []
  },
  {
   "cell_type": "code",
   "execution_count": null,
   "id": "4a1a86ec",
   "metadata": {},
   "outputs": [],
   "source": []
  },
  {
   "cell_type": "code",
   "execution_count": 80,
   "id": "a17237a5",
   "metadata": {},
   "outputs": [],
   "source": []
  },
  {
   "cell_type": "code",
   "execution_count": null,
   "id": "26d88db6",
   "metadata": {},
   "outputs": [],
   "source": []
  }
 ],
 "metadata": {
  "kernelspec": {
   "display_name": "SageMath 9.8",
   "language": "sage",
   "name": "sagemath-9.8"
  },
  "language_info": {
   "codemirror_mode": {
    "name": "ipython",
    "version": 3
   },
   "file_extension": ".py",
   "mimetype": "text/x-python",
   "name": "python",
   "nbconvert_exporter": "python",
   "pygments_lexer": "ipython3",
   "version": "3.11.1"
  }
 },
 "nbformat": 4,
 "nbformat_minor": 5
}
