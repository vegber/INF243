{
 "cells": [
  {
   "cell_type": "code",
   "execution_count": 14,
   "id": "563455c6",
   "metadata": {},
   "outputs": [],
   "source": [
    "from itertools import combinations"
   ]
  },
  {
   "cell_type": "code",
   "execution_count": 15,
   "id": "8718fae9",
   "metadata": {},
   "outputs": [],
   "source": [
    "G = matrix(GF(2), \n",
    "    [[1, 0, 0, 0, 1, 1, 0, 0, 1, 1, 1, 0],\n",
    "     [0, 1, 0, 0, 0, 1, 1, 0, 0, 1, 1, 1],\n",
    "     [0, 0, 1, 0, 0, 0, 1, 1, 1, 0, 1, 1],\n",
    "     [0, 0, 0, 1, 1, 0, 0, 1, 1, 1, 0, 1]])"
   ]
  },
  {
   "cell_type": "code",
   "execution_count": 16,
   "id": "506431a9",
   "metadata": {},
   "outputs": [
    {
     "data": {
      "text/plain": [
       "[1 0 0 0 1 1 0 0 1 1 1 0]\n",
       "[0 1 0 0 0 1 1 0 0 1 1 1]\n",
       "[0 0 1 0 0 0 1 1 1 0 1 1]\n",
       "[0 0 0 1 1 0 0 1 1 1 0 1]"
      ]
     },
     "execution_count": 16,
     "metadata": {},
     "output_type": "execute_result"
    }
   ],
   "source": [
    "C = LinearCode(G)\n",
    "C.generator_matrix()"
   ]
  },
  {
   "cell_type": "code",
   "execution_count": 17,
   "id": "01241ed4",
   "metadata": {},
   "outputs": [
    {
     "data": {
      "text/plain": [
       "12"
      ]
     },
     "execution_count": 17,
     "metadata": {},
     "output_type": "execute_result"
    }
   ],
   "source": [
    "C.length()"
   ]
  },
  {
   "cell_type": "code",
   "execution_count": 18,
   "id": "b93b1c8c",
   "metadata": {},
   "outputs": [
    {
     "data": {
      "text/plain": [
       "4"
      ]
     },
     "execution_count": 18,
     "metadata": {},
     "output_type": "execute_result"
    }
   ],
   "source": [
    "C.dimension()"
   ]
  },
  {
   "cell_type": "code",
   "execution_count": 19,
   "id": "4444e5bd",
   "metadata": {},
   "outputs": [
    {
     "data": {
      "text/plain": [
       "6"
      ]
     },
     "execution_count": 19,
     "metadata": {},
     "output_type": "execute_result"
    }
   ],
   "source": [
    "C.minimum_distance() "
   ]
  },
  {
   "cell_type": "code",
   "execution_count": 20,
   "id": "12ebe72d",
   "metadata": {},
   "outputs": [
    {
     "data": {
      "text/plain": [
       "[12, 4] linear code over GF(2)"
      ]
     },
     "execution_count": 20,
     "metadata": {},
     "output_type": "execute_result"
    }
   ],
   "source": [
    "C"
   ]
  },
  {
   "cell_type": "code",
   "execution_count": 21,
   "id": "aed9a0ae",
   "metadata": {},
   "outputs": [
    {
     "data": {
      "text/plain": [
       "[(0, 0, 0, 0, 0, 0, 0, 0, 0, 0, 0, 0),\n",
       " (1, 0, 0, 0, 1, 1, 0, 0, 1, 1, 1, 0),\n",
       " (0, 1, 0, 0, 0, 1, 1, 0, 0, 1, 1, 1),\n",
       " (1, 1, 0, 0, 1, 0, 1, 0, 1, 0, 0, 1),\n",
       " (0, 0, 1, 0, 0, 0, 1, 1, 1, 0, 1, 1),\n",
       " (1, 0, 1, 0, 1, 1, 1, 1, 0, 1, 0, 1),\n",
       " (0, 1, 1, 0, 0, 1, 0, 1, 1, 1, 0, 0),\n",
       " (1, 1, 1, 0, 1, 0, 0, 1, 0, 0, 1, 0),\n",
       " (0, 0, 0, 1, 1, 0, 0, 1, 1, 1, 0, 1),\n",
       " (1, 0, 0, 1, 0, 1, 0, 1, 0, 0, 1, 1),\n",
       " (0, 1, 0, 1, 1, 1, 1, 1, 1, 0, 1, 0),\n",
       " (1, 1, 0, 1, 0, 0, 1, 1, 0, 1, 0, 0),\n",
       " (0, 0, 1, 1, 1, 0, 1, 0, 0, 1, 1, 0),\n",
       " (1, 0, 1, 1, 0, 1, 1, 0, 1, 0, 0, 0),\n",
       " (0, 1, 1, 1, 1, 1, 0, 0, 0, 0, 0, 1),\n",
       " (1, 1, 1, 1, 0, 0, 0, 0, 1, 1, 1, 1)]"
      ]
     },
     "execution_count": 21,
     "metadata": {},
     "output_type": "execute_result"
    }
   ],
   "source": [
    "C.list() \n"
   ]
  },
  {
   "cell_type": "code",
   "execution_count": 26,
   "id": "d4597e1e",
   "metadata": {},
   "outputs": [
    {
     "name": "stdout",
     "output_type": "stream",
     "text": [
      "[]\n"
     ]
    }
   ],
   "source": [
    "n = list(combinations(GF(2), 4))\n",
    "print(n)"
   ]
  },
  {
   "cell_type": "markdown",
   "id": "6bc69c94",
   "metadata": {},
   "source": [
    "messages"
   ]
  },
  {
   "cell_type": "code",
   "execution_count": null,
   "id": "4451c2fb",
   "metadata": {},
   "outputs": [],
   "source": []
  }
 ],
 "metadata": {
  "kernelspec": {
   "display_name": "SageMath 9.7",
   "language": "sage",
   "name": "sagemath-9.7"
  },
  "language_info": {
   "codemirror_mode": {
    "name": "ipython",
    "version": 3
   },
   "file_extension": ".py",
   "mimetype": "text/x-python",
   "name": "python",
   "nbconvert_exporter": "python",
   "pygments_lexer": "ipython3",
   "version": "3.10.5"
  }
 },
 "nbformat": 4,
 "nbformat_minor": 5
}
