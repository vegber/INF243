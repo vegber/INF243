{
 "cells": [
  {
   "cell_type": "markdown",
   "id": "50e70b84",
   "metadata": {},
   "source": [
    "# Create a polynomial representation of GF(2^4)"
   ]
  },
  {
   "cell_type": "code",
   "execution_count": 1,
   "id": "5820e0ab",
   "metadata": {},
   "outputs": [],
   "source": [
    "\n",
    "# Define polynomial ring R in GF(2) with variable x - in finite field GF(2) \n",
    "R.<x> = GF(2)[]\n",
    "# irr. poly. p(x) \n",
    "p = x^4 + x^3 + x^2 + x + 1 \n",
    "\n",
    "# field extension GF(2^4) by the quot. ring \n",
    "F.<alpha> = GF(2).extension(p) "
   ]
  },
  {
   "cell_type": "code",
   "execution_count": 2,
   "id": "0434ac97",
   "metadata": {},
   "outputs": [
    {
     "data": {
      "text/plain": [
       "0"
      ]
     },
     "execution_count": 2,
     "metadata": {},
     "output_type": "execute_result"
    }
   ],
   "source": [
    "# Verify that alpha is indeed a root of p(x) i.e should be zero \n",
    "p(alpha)"
   ]
  },
  {
   "cell_type": "code",
   "execution_count": 3,
   "id": "e0cdbdc2",
   "metadata": {},
   "outputs": [
    {
     "data": {
      "text/plain": [
       "alpha^2 + alpha + 1"
      ]
     },
     "execution_count": 3,
     "metadata": {},
     "output_type": "execute_result"
    }
   ],
   "source": [
    "# define annd manipulate polynomials in GF(2^4) \n",
    "F.primitive_element()"
   ]
  },
  {
   "cell_type": "code",
   "execution_count": 4,
   "id": "531e4b06",
   "metadata": {},
   "outputs": [
    {
     "name": "stdout",
     "output_type": "stream",
     "text": [
      "alpha\n"
     ]
    }
   ],
   "source": [
    "print(alpha.factor())"
   ]
  },
  {
   "cell_type": "code",
   "execution_count": 5,
   "id": "c351394f",
   "metadata": {},
   "outputs": [
    {
     "name": "stdout",
     "output_type": "stream",
     "text": [
      "alpha^1 = alpha\n",
      "alpha^2 = alpha^2\n",
      "alpha^3 = alpha^3\n",
      "alpha^4 = alpha^3 + alpha^2 + alpha + 1\n",
      "alpha^5 = 1\n",
      "alpha^6 = alpha\n",
      "alpha^7 = alpha^2\n",
      "alpha^8 = alpha^3\n",
      "alpha^9 = alpha^3 + alpha^2 + alpha + 1\n",
      "alpha^10 = 1\n",
      "alpha^11 = alpha\n",
      "alpha^12 = alpha^2\n",
      "alpha^13 = alpha^3\n",
      "alpha^14 = alpha^3 + alpha^2 + alpha + 1\n"
     ]
    }
   ],
   "source": [
    "# Step 5: Check if alpha is a primitive element\n",
    "for i in range(1, 15):\n",
    "    alpha_i = alpha^i\n",
    "    if alpha_i == 0:\n",
    "        print(\"alpha^{} = 0\".format(i))\n",
    "        break\n",
    "    elif alpha_i == 1:\n",
    "        print(\"alpha^{} = 1\".format(i))\n",
    "    elif alpha_i == alpha^(i-1):\n",
    "        print(\"alpha^{} = alpha^{}\".format(i, i-1))\n",
    "        break\n",
    "    else:\n",
    "        print(\"alpha^{} = {}\".format(i, alpha_i))"
   ]
  },
  {
   "cell_type": "code",
   "execution_count": 6,
   "id": "e2eeeb80",
   "metadata": {
    "scrolled": true
   },
   "outputs": [
    {
     "name": "stdout",
     "output_type": "stream",
     "text": [
      "beta^1 = alpha + 1\n",
      "beta^2 = alpha^2 + 1\n",
      "beta^3 = alpha^3 + alpha^2 + alpha + 1\n",
      "beta^4 = alpha^3 + alpha^2 + alpha\n",
      "beta^5 = alpha^3 + alpha^2 + 1\n",
      "beta^6 = alpha^3\n",
      "beta^7 = alpha^2 + alpha + 1\n",
      "beta^8 = alpha^3 + 1\n",
      "beta^9 = alpha^2\n",
      "beta^10 = alpha^3 + alpha^2\n",
      "beta^11 = alpha^3 + alpha + 1\n",
      "beta^12 = alpha\n",
      "beta^13 = alpha^2 + alpha\n",
      "beta^14 = alpha^3 + alpha\n"
     ]
    }
   ],
   "source": [
    "# Step 6: Check if beta is a primitive element\n",
    "beta = alpha + 1\n",
    "for i in range(1, 15):\n",
    "    beta_i = beta^i\n",
    "    if beta_i == 0:\n",
    "        print(\"beta^{} = 0\".format(i))\n",
    "        break\n",
    "    elif beta_i == 1:\n",
    "        print(\"beta^{} = 1\".format(i))\n",
    "    else:\n",
    "        print(\"beta^{} = {}\".format(i, beta_i))"
   ]
  },
  {
   "cell_type": "code",
   "execution_count": 12,
   "id": "c419ac4a",
   "metadata": {},
   "outputs": [
    {
     "name": "stdout",
     "output_type": "stream",
     "text": [
      "beta^1 = alpha^2 + alpha\n",
      "beta^2 = alpha^3 + alpha + 1\n",
      "beta^3 = alpha^2\n",
      "beta^4 = alpha^2 + alpha + 1\n",
      "beta^5 = alpha^3 + alpha^2 + 1\n",
      "beta^6 = alpha^3 + alpha^2 + alpha + 1\n",
      "beta^7 = alpha + 1\n",
      "beta^8 = alpha^3 + alpha\n",
      "beta^9 = alpha\n",
      "beta^10 = alpha^3 + alpha^2\n",
      "beta^11 = alpha^3 + 1\n",
      "beta^12 = alpha^3\n",
      "beta^13 = alpha^3 + alpha^2 + alpha\n",
      "beta^14 = alpha^2 + 1\n",
      "beta^15 = 1\n"
     ]
    }
   ],
   "source": [
    "ceta = alpha^4 + alpha^3 + 1 \n",
    "\n",
    "for i in range(1, 15): \n",
    "    ceta_i = ceta^i \n",
    "    if ceta_i == 0:\n",
    "        print(\"beta^{} = 0\".format(i))\n",
    "        break\n",
    "    elif beta_i == 1:\n",
    "        print(\"beta^{} = 1\".format(i))\n",
    "    else:\n",
    "        print(\"beta^{} = {}\".format(i, ceta_i))"
   ]
  },
  {
   "cell_type": "code",
   "execution_count": null,
   "id": "8369134f",
   "metadata": {},
   "outputs": [],
   "source": []
  }
 ],
 "metadata": {
  "kernelspec": {
   "display_name": "SageMath 9.8",
   "language": "sage",
   "name": "sagemath-9.8"
  },
  "language_info": {
   "codemirror_mode": {
    "name": "ipython",
    "version": 3
   },
   "file_extension": ".py",
   "mimetype": "text/x-python",
   "name": "python",
   "nbconvert_exporter": "python",
   "pygments_lexer": "ipython3",
   "version": "3.11.1"
  }
 },
 "nbformat": 4,
 "nbformat_minor": 5
}
