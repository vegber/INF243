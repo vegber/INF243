{
 "cells": [
  {
   "cell_type": "code",
   "execution_count": 1,
   "id": "51735e49",
   "metadata": {},
   "outputs": [
    {
     "data": {
      "text/plain": [
       "' \\nn = 2^m \\ng(x) binary irr. poly degree t \\ng(a) != 0 for any a in GF(2^m) \\n'"
      ]
     },
     "execution_count": 1,
     "metadata": {},
     "output_type": "execute_result"
    }
   ],
   "source": [
    "\"\"\" \n",
    "n = 2^m \n",
    "g(x) binary irr. poly degree t \n",
    "g(a) != 0 for any a in GF(2^m) \n",
    "\"\"\""
   ]
  },
  {
   "cell_type": "code",
   "execution_count": null,
   "id": "426abe68",
   "metadata": {},
   "outputs": [],
   "source": []
  },
  {
   "cell_type": "code",
   "execution_count": 2,
   "id": "10ec4d78",
   "metadata": {},
   "outputs": [],
   "source": [
    "q = 2  \n",
    "m = 8 \n",
    "n = 14 \n",
    "s = 7 \n",
    "\n",
    "Fq = GF(q) \n",
    "Fqm.<w> = GF(q^m) \n",
    "R.<x> = PolynomialRing(Fqm) \n"
   ]
  },
  {
   "cell_type": "code",
   "execution_count": 14,
   "id": "b4e8f74b",
   "metadata": {},
   "outputs": [],
   "source": [
    "L1 = [w^i for i in range(q^m -2)] + [Fq(0)]\n",
    "L  = L1[0:n] \n",
    "\n",
    "coeff_g = [Fqm.random_element() for i in range(s+1)]\n",
    "g = sum([coeff_g[i]*x^i for i in range(s+1)])"
   ]
  },
  {
   "cell_type": "code",
   "execution_count": 16,
   "id": "fb91a4b4",
   "metadata": {},
   "outputs": [],
   "source": [
    "while not g.is_irreducible():\n",
    "    coeff_g = [Fqm.random_element() for i in range(s+1)]\n",
    "    g = sum([coeff_g[i]*x^i for i in range(s+1)])"
   ]
  },
  {
   "cell_type": "code",
   "execution_count": 18,
   "id": "0ae4dfc8",
   "metadata": {},
   "outputs": [
    {
     "ename": "SyntaxError",
     "evalue": "invalid syntax (3705007329.py, line 4)",
     "output_type": "error",
     "traceback": [
      "\u001b[0;36m  Cell \u001b[0;32mIn [18], line 4\u001b[0;36m\u001b[0m\n\u001b[0;31m    H_check_poly[:, i] =\u001b[0m\n\u001b[0m                         ^\u001b[0m\n\u001b[0;31mSyntaxError\u001b[0m\u001b[0;31m:\u001b[0m invalid syntax\n"
     ]
    }
   ],
   "source": [
    "H_check_poly = matrix(Fqm, s, n) \n",
    "for i in range(n): \n",
    "    h = (x-L[i]).inverse_mod(g) # h * (x-L[i]) = 1 mod g \n",
    "    H_check_poly[:, i] = \n",
    "    inv_polys = [(x-L[i]).inverse_mod(g) for i in range(n)]"
   ]
  },
  {
   "cell_type": "code",
   "execution_count": null,
   "id": "55106f3d",
   "metadata": {},
   "outputs": [],
   "source": []
  }
 ],
 "metadata": {
  "kernelspec": {
   "display_name": "SageMath 9.8",
   "language": "sage",
   "name": "sagemath-9.8"
  },
  "language_info": {
   "codemirror_mode": {
    "name": "ipython",
    "version": 3
   },
   "file_extension": ".py",
   "mimetype": "text/x-python",
   "name": "python",
   "nbconvert_exporter": "python",
   "pygments_lexer": "ipython3",
   "version": "3.11.1"
  }
 },
 "nbformat": 4,
 "nbformat_minor": 5
}
