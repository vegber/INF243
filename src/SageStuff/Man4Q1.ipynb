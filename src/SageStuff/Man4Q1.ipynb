{
 "cells": [
  {
   "cell_type": "code",
   "execution_count": 1,
   "id": "288d3390",
   "metadata": {},
   "outputs": [],
   "source": [
    "from collections import defaultdict\n",
    "q = 2 \n",
    "m = 4 \n",
    "p = x^4 + x + 1\n",
    "\n",
    "F.<a> = GF(q^m, modulus=p) \n",
    "R.<x> = PolynomialRing(F) \n"
   ]
  },
  {
   "cell_type": "code",
   "execution_count": 2,
   "id": "1146c960",
   "metadata": {},
   "outputs": [],
   "source": [
    "\n",
    "r = (a^4) * (x^12) + (a^7) * (x^9) + (a^2) * (x^7) + (x^6) + (a^10) * (x^5) + (a) * (x^4) + (a^12) * (x^3) + (a^4) * (x^2) + (a^13)"
   ]
  },
  {
   "cell_type": "code",
   "execution_count": 3,
   "id": "8955a5d7",
   "metadata": {},
   "outputs": [
    {
     "name": "stdout",
     "output_type": "stream",
     "text": [
      "x^4 + x + 1: beta_1, beta_2, beta_4, beta_8\n",
      "x^4 + x^3 + x^2 + x + 1: beta_3, beta_6, beta_9, beta_12\n",
      "x^2 + x + 1: beta_5, beta_10\n",
      "x^4 + x^3 + 1: beta_7, beta_11, beta_13, beta_14\n"
     ]
    }
   ],
   "source": [
    "classes = defaultdict(list) \n",
    "for j in range(1, q^m -1): \n",
    "    tmp = (a^j).minimal_polynomial() \n",
    "    classes[tmp].append(f\"beta_{j}\")\n",
    "\n",
    "\n",
    "for key in classes:\n",
    "    print(f\"{key}: {', '.join(classes[key])}\")"
   ]
  },
  {
   "cell_type": "code",
   "execution_count": 4,
   "id": "6b357708",
   "metadata": {},
   "outputs": [
    {
     "data": {
      "text/plain": [
       "x^14 + x^13 + x^12 + x^11 + x^10 + x^9 + x^8 + x^7 + x^6 + x^5 + x^4 + x^3 + x^2 + x + 1"
      ]
     },
     "execution_count": 4,
     "metadata": {},
     "output_type": "execute_result"
    }
   ],
   "source": [
    "m1 = (a^1).minimal_polynomial() \n",
    "m3 = (a^3).minimal_polynomial() \n",
    "m5 = (a^5).minimal_polynomial() \n",
    "m7 = (a^7).minimal_polynomial() \n",
    "    \n",
    "a = lcm(m1, m3) \n",
    "b = lcm(m5, m7)\n",
    "g_x = lcm(a,b) \n",
    "\n",
    "g_x"
   ]
  },
  {
   "cell_type": "code",
   "execution_count": 5,
   "id": "178cba76",
   "metadata": {},
   "outputs": [
    {
     "data": {
      "text/plain": [
       "x^14 + x^13 + x^12 + x^11 + x^10 + x^9 + x^8 + x^7 + x^6 + x^5 + x^4 + x^3 + x^2 + x + 1"
      ]
     },
     "execution_count": 5,
     "metadata": {},
     "output_type": "execute_result"
    }
   ],
   "source": [
    "gcd(g_x, x^2^m - x)"
   ]
  },
  {
   "cell_type": "code",
   "execution_count": null,
   "id": "f7e99202",
   "metadata": {},
   "outputs": [],
   "source": []
  },
  {
   "cell_type": "code",
   "execution_count": 6,
   "id": "3a2bce83",
   "metadata": {},
   "outputs": [
    {
     "ename": "KeyboardInterrupt",
     "evalue": "",
     "output_type": "error",
     "traceback": [
      "\u001b[0;31m---------------------------------------------------------------------------\u001b[0m",
      "\u001b[0;31mTypeError\u001b[0m                                 Traceback (most recent call last)",
      "File \u001b[0;32m/private/var/tmp/sage-9.8-current/local/var/lib/sage/venv-python3.11.1/lib/python3.11/site-packages/sage/rings/polynomial/polynomial_zz_pex.pyx:282\u001b[0m, in \u001b[0;36msage.rings.polynomial.polynomial_zz_pex.Polynomial_ZZ_pEX.__call__ (build/cythonized/sage/rings/polynomial/polynomial_zz_pex.cpp:16387)\u001b[0;34m()\u001b[0m\n\u001b[1;32m    281\u001b[0m     if a.parent() is not K:\n\u001b[0;32m--> 282\u001b[0m         a = K.coerce(a)\n\u001b[1;32m    283\u001b[0m except (TypeError, AttributeError, NotImplementedError):\n",
      "File \u001b[0;32m/private/var/tmp/sage-9.8-current/local/var/lib/sage/venv-python3.11.1/lib/python3.11/site-packages/sage/structure/parent.pyx:1182\u001b[0m, in \u001b[0;36msage.structure.parent.Parent.coerce (build/cythonized/sage/structure/parent.c:11178)\u001b[0;34m()\u001b[0m\n\u001b[1;32m   1181\u001b[0m \n\u001b[0;32m-> 1182\u001b[0m     cpdef coerce(self, x):\n\u001b[1;32m   1183\u001b[0m         \"\"\"\n",
      "File \u001b[0;32m/private/var/tmp/sage-9.8-current/local/var/lib/sage/venv-python3.11.1/lib/python3.11/site-packages/sage/structure/parent.pyx:1212\u001b[0m, in \u001b[0;36msage.structure.parent.Parent.coerce (build/cythonized/sage/structure/parent.c:11104)\u001b[0;34m()\u001b[0m\n\u001b[1;32m   1211\u001b[0m             _record_exception()\n\u001b[0;32m-> 1212\u001b[0m     raise TypeError(_LazyString(\"no canonical coercion from %s to %s\", (parent(x), self), {}))\n\u001b[1;32m   1213\u001b[0m else:\n",
      "\u001b[0;31mTypeError\u001b[0m: no canonical coercion from Univariate Polynomial Ring in x over Finite Field in a of size 2^4 to Finite Field in a of size 2^4",
      "\nDuring handling of the above exception, another exception occurred:\n",
      "\u001b[0;31mKeyboardInterrupt\u001b[0m                         Traceback (most recent call last)",
      "Cell \u001b[0;32mIn [6], line 1\u001b[0m\n\u001b[0;32m----> 1\u001b[0m gg \u001b[38;5;241m=\u001b[39m \u001b[43m(\u001b[49m\u001b[43mx\u001b[49m\u001b[43m \u001b[49m\u001b[38;5;241;43m-\u001b[39;49m\u001b[43m \u001b[49m\u001b[43ma\u001b[49m\u001b[43m)\u001b[49m\u001b[43m(\u001b[49m\u001b[43mx\u001b[49m\u001b[38;5;241;43m-\u001b[39;49m\u001b[43ma\u001b[49m\u001b[38;5;241;43m*\u001b[39;49m\u001b[38;5;241;43m*\u001b[39;49m\u001b[43mInteger\u001b[49m\u001b[43m(\u001b[49m\u001b[38;5;241;43m2\u001b[39;49m\u001b[43m)\u001b[49m\u001b[43m)\u001b[49m\u001b[43m(\u001b[49m\u001b[43mx\u001b[49m\u001b[38;5;241;43m-\u001b[39;49m\u001b[43ma\u001b[49m\u001b[38;5;241;43m*\u001b[39;49m\u001b[38;5;241;43m*\u001b[39;49m\u001b[43mInteger\u001b[49m\u001b[43m(\u001b[49m\u001b[38;5;241;43m3\u001b[39;49m\u001b[43m)\u001b[49m\u001b[43m)\u001b[49m\u001b[43m(\u001b[49m\u001b[43mx\u001b[49m\u001b[38;5;241;43m-\u001b[39;49m\u001b[43ma\u001b[49m\u001b[38;5;241;43m*\u001b[39;49m\u001b[38;5;241;43m*\u001b[39;49m\u001b[43mInteger\u001b[49m\u001b[43m(\u001b[49m\u001b[38;5;241;43m4\u001b[39;49m\u001b[43m)\u001b[49m\u001b[43m)\u001b[49m(x\u001b[38;5;241m-\u001b[39ma\u001b[38;5;241m*\u001b[39m\u001b[38;5;241m*\u001b[39mInteger(\u001b[38;5;241m5\u001b[39m))(x\u001b[38;5;241m-\u001b[39ma\u001b[38;5;241m*\u001b[39m\u001b[38;5;241m*\u001b[39mInteger(\u001b[38;5;241m6\u001b[39m))\n\u001b[1;32m      2\u001b[0m gg\n",
      "File \u001b[0;32m/private/var/tmp/sage-9.8-current/local/var/lib/sage/venv-python3.11.1/lib/python3.11/site-packages/sage/rings/polynomial/polynomial_zz_pex.pyx:284\u001b[0m, in \u001b[0;36msage.rings.polynomial.polynomial_zz_pex.Polynomial_ZZ_pEX.__call__ (build/cythonized/sage/rings/polynomial/polynomial_zz_pex.cpp:16485)\u001b[0;34m()\u001b[0m\n\u001b[1;32m    282\u001b[0m         a = K.coerce(a)\n\u001b[1;32m    283\u001b[0m except (TypeError, AttributeError, NotImplementedError):\n\u001b[0;32m--> 284\u001b[0m     return Polynomial.__call__(self, a)\n\u001b[1;32m    285\u001b[0m \n\u001b[1;32m    286\u001b[0m _a = self._parent._modulus.ZZ_pE(list(a.polynomial()))\n",
      "File \u001b[0;32m/private/var/tmp/sage-9.8-current/local/var/lib/sage/venv-python3.11.1/lib/python3.11/site-packages/sage/rings/polynomial/polynomial_element.pyx:904\u001b[0m, in \u001b[0;36msage.rings.polynomial.polynomial_element.Polynomial.__call__ (build/cythonized/sage/rings/polynomial/polynomial_element.c:12076)\u001b[0;34m()\u001b[0m\n\u001b[1;32m    902\u001b[0m             return result\n\u001b[1;32m    903\u001b[0m         pol._compiled = CompiledPolynomialFunction(pol.list())\n\u001b[0;32m--> 904\u001b[0m     return pol._compiled.eval(a)\n\u001b[1;32m    905\u001b[0m \n\u001b[1;32m    906\u001b[0m def compose_trunc(self, Polynomial other, long n):\n",
      "File \u001b[0;32m/private/var/tmp/sage-9.8-current/local/var/lib/sage/venv-python3.11.1/lib/python3.11/site-packages/sage/rings/polynomial/polynomial_compiled.pyx:125\u001b[0m, in \u001b[0;36msage.rings.polynomial.polynomial_compiled.CompiledPolynomialFunction.eval (build/cythonized/sage/rings/polynomial/polynomial_compiled.c:2576)\u001b[0;34m()\u001b[0m\n\u001b[1;32m    123\u001b[0m cdef object temp\n\u001b[1;32m    124\u001b[0m try:\n\u001b[0;32m--> 125\u001b[0m     pd_eval(self._dag, x, self._coeffs)  #see further down\n\u001b[1;32m    126\u001b[0m     temp = self._dag.value               #for an explanation\n\u001b[1;32m    127\u001b[0m     pd_clean(self._dag)                  #of these 3 lines\n",
      "File \u001b[0;32m/private/var/tmp/sage-9.8-current/local/var/lib/sage/venv-python3.11.1/lib/python3.11/site-packages/sage/rings/polynomial/polynomial_compiled.pyx:353\u001b[0m, in \u001b[0;36msage.rings.polynomial.polynomial_compiled.pd_eval (build/cythonized/sage/rings/polynomial/polynomial_compiled.c:3855)\u001b[0;34m()\u001b[0m\n\u001b[1;32m    351\u001b[0m cdef inline int pd_eval(generic_pd pd, object vars, object coeffs) except -2:\n\u001b[1;32m    352\u001b[0m     if pd.value is None:\n\u001b[0;32m--> 353\u001b[0m         pd.eval(vars, coeffs)\n\u001b[1;32m    354\u001b[0m     pd.hits += 1\n\u001b[1;32m    355\u001b[0m \n",
      "File \u001b[0;32m/private/var/tmp/sage-9.8-current/local/var/lib/sage/venv-python3.11.1/lib/python3.11/site-packages/sage/rings/polynomial/polynomial_compiled.pyx:507\u001b[0m, in \u001b[0;36msage.rings.polynomial.polynomial_compiled.abc_pd.eval (build/cythonized/sage/rings/polynomial/polynomial_compiled.c:6930)\u001b[0;34m()\u001b[0m\n\u001b[1;32m    505\u001b[0m \n\u001b[1;32m    506\u001b[0m     cdef int eval(abc_pd self, object vars, object coeffs) except -2:\n\u001b[0;32m--> 507\u001b[0m         pd_eval(self.left, vars, coeffs)\n\u001b[1;32m    508\u001b[0m         pd_eval(self.right, vars, coeffs)\n\u001b[1;32m    509\u001b[0m         self.value = self.left.value * self.right.value + coeffs[self.index]\n",
      "File \u001b[0;32m/private/var/tmp/sage-9.8-current/local/var/lib/sage/venv-python3.11.1/lib/python3.11/site-packages/sage/rings/polynomial/polynomial_compiled.pyx:353\u001b[0m, in \u001b[0;36msage.rings.polynomial.polynomial_compiled.pd_eval (build/cythonized/sage/rings/polynomial/polynomial_compiled.c:3855)\u001b[0;34m()\u001b[0m\n\u001b[1;32m    351\u001b[0m cdef inline int pd_eval(generic_pd pd, object vars, object coeffs) except -2:\n\u001b[1;32m    352\u001b[0m     if pd.value is None:\n\u001b[0;32m--> 353\u001b[0m         pd.eval(vars, coeffs)\n\u001b[1;32m    354\u001b[0m     pd.hits += 1\n\u001b[1;32m    355\u001b[0m \n",
      "File \u001b[0;32m/private/var/tmp/sage-9.8-current/local/var/lib/sage/venv-python3.11.1/lib/python3.11/site-packages/sage/rings/polynomial/polynomial_compiled.pyx:507\u001b[0m, in \u001b[0;36msage.rings.polynomial.polynomial_compiled.abc_pd.eval (build/cythonized/sage/rings/polynomial/polynomial_compiled.c:6930)\u001b[0;34m()\u001b[0m\n\u001b[1;32m    505\u001b[0m \n\u001b[1;32m    506\u001b[0m     cdef int eval(abc_pd self, object vars, object coeffs) except -2:\n\u001b[0;32m--> 507\u001b[0m         pd_eval(self.left, vars, coeffs)\n\u001b[1;32m    508\u001b[0m         pd_eval(self.right, vars, coeffs)\n\u001b[1;32m    509\u001b[0m         self.value = self.left.value * self.right.value + coeffs[self.index]\n",
      "    \u001b[0;31m[... skipping similar frames: sage.rings.polynomial.polynomial_compiled.pd_eval (build/cythonized/sage/rings/polynomial/polynomial_compiled.c:3855) at line 353 (507 times), sage.rings.polynomial.polynomial_compiled.abc_pd.eval (build/cythonized/sage/rings/polynomial/polynomial_compiled.c:6930) at line 507 (506 times)]\u001b[0m\n",
      "File \u001b[0;32m/private/var/tmp/sage-9.8-current/local/var/lib/sage/venv-python3.11.1/lib/python3.11/site-packages/sage/rings/polynomial/polynomial_compiled.pyx:507\u001b[0m, in \u001b[0;36msage.rings.polynomial.polynomial_compiled.abc_pd.eval (build/cythonized/sage/rings/polynomial/polynomial_compiled.c:6930)\u001b[0;34m()\u001b[0m\n\u001b[1;32m    505\u001b[0m \n\u001b[1;32m    506\u001b[0m     cdef int eval(abc_pd self, object vars, object coeffs) except -2:\n\u001b[0;32m--> 507\u001b[0m         pd_eval(self.left, vars, coeffs)\n\u001b[1;32m    508\u001b[0m         pd_eval(self.right, vars, coeffs)\n\u001b[1;32m    509\u001b[0m         self.value = self.left.value * self.right.value + coeffs[self.index]\n",
      "File \u001b[0;32m/private/var/tmp/sage-9.8-current/local/var/lib/sage/venv-python3.11.1/lib/python3.11/site-packages/sage/rings/polynomial/polynomial_compiled.pyx:353\u001b[0m, in \u001b[0;36msage.rings.polynomial.polynomial_compiled.pd_eval (build/cythonized/sage/rings/polynomial/polynomial_compiled.c:3855)\u001b[0;34m()\u001b[0m\n\u001b[1;32m    351\u001b[0m cdef inline int pd_eval(generic_pd pd, object vars, object coeffs) except -2:\n\u001b[1;32m    352\u001b[0m     if pd.value is None:\n\u001b[0;32m--> 353\u001b[0m         pd.eval(vars, coeffs)\n\u001b[1;32m    354\u001b[0m     pd.hits += 1\n\u001b[1;32m    355\u001b[0m \n",
      "File \u001b[0;32m/private/var/tmp/sage-9.8-current/local/var/lib/sage/venv-python3.11.1/lib/python3.11/site-packages/sage/rings/polynomial/polynomial_compiled.pyx:509\u001b[0m, in \u001b[0;36msage.rings.polynomial.polynomial_compiled.abc_pd.eval (build/cythonized/sage/rings/polynomial/polynomial_compiled.c:6956)\u001b[0;34m()\u001b[0m\n\u001b[1;32m    507\u001b[0m pd_eval(self.left, vars, coeffs)\n\u001b[1;32m    508\u001b[0m pd_eval(self.right, vars, coeffs)\n\u001b[0;32m--> 509\u001b[0m self.value = self.left.value * self.right.value + coeffs[self.index]\n\u001b[1;32m    510\u001b[0m pd_clean(self.left)\n\u001b[1;32m    511\u001b[0m pd_clean(self.right)\n",
      "File \u001b[0;32m/private/var/tmp/sage-9.8-current/local/var/lib/sage/venv-python3.11.1/lib/python3.11/site-packages/sage/structure/element.pyx:1232\u001b[0m, in \u001b[0;36msage.structure.element.Element.__add__ (build/cythonized/sage/structure/element.c:11167)\u001b[0;34m()\u001b[0m\n\u001b[1;32m   1230\u001b[0m # Left and right are Sage elements => use coercion model\n\u001b[1;32m   1231\u001b[0m if BOTH_ARE_ELEMENT(cl):\n\u001b[0;32m-> 1232\u001b[0m     return coercion_model.bin_op(left, right, add)\n\u001b[1;32m   1233\u001b[0m \n\u001b[1;32m   1234\u001b[0m cdef long value\n",
      "File \u001b[0;32m/private/var/tmp/sage-9.8-current/local/var/lib/sage/venv-python3.11.1/lib/python3.11/site-packages/sage/structure/coerce.pyx:1200\u001b[0m, in \u001b[0;36msage.structure.coerce.CoercionModel.bin_op (build/cythonized/sage/structure/coerce.c:10787)\u001b[0;34m()\u001b[0m\n\u001b[1;32m   1198\u001b[0m # Now coerce to a common parent and do the operation there\n\u001b[1;32m   1199\u001b[0m try:\n\u001b[0;32m-> 1200\u001b[0m     xy = self.canonical_coercion(x, y)\n\u001b[1;32m   1201\u001b[0m except TypeError:\n\u001b[1;32m   1202\u001b[0m     self._record_exception()\n",
      "File \u001b[0;32m/private/var/tmp/sage-9.8-current/local/var/lib/sage/venv-python3.11.1/lib/python3.11/site-packages/sage/structure/coerce.pyx:1315\u001b[0m, in \u001b[0;36msage.structure.coerce.CoercionModel.canonical_coercion (build/cythonized/sage/structure/coerce.c:12313)\u001b[0;34m()\u001b[0m\n\u001b[1;32m   1313\u001b[0m     x_elt = x\n\u001b[1;32m   1314\u001b[0m if y_map is not None:\n\u001b[0;32m-> 1315\u001b[0m     y_elt = (<Map>y_map)._call_(y)\n\u001b[1;32m   1316\u001b[0m else:\n\u001b[1;32m   1317\u001b[0m     y_elt = y\n",
      "File \u001b[0;32m/private/var/tmp/sage-9.8-current/local/var/lib/sage/venv-python3.11.1/lib/python3.11/site-packages/sage/rings/polynomial/polynomial_element.pyx:12235\u001b[0m, in \u001b[0;36msage.rings.polynomial.polynomial_element.PolynomialBaseringInjection._call_ (build/cythonized/sage/rings/polynomial/polynomial_element.c:101491)\u001b[0;34m()\u001b[0m\n\u001b[1;32m  12233\u001b[0m         Univariate Polynomial Ring in x over Integer Ring\n\u001b[1;32m  12234\u001b[0m     \"\"\"\n\u001b[0;32m> 12235\u001b[0m     return self._new_constant_poly_(x, self._codomain)\n\u001b[1;32m  12236\u001b[0m \n\u001b[1;32m  12237\u001b[0m cpdef Element _call_with_args(self, x, args=(), kwds={}):\n",
      "File \u001b[0;32m/private/var/tmp/sage-9.8-current/local/var/lib/sage/venv-python3.11.1/lib/python3.11/site-packages/sage/rings/polynomial/polynomial_element.pyx:5456\u001b[0m, in \u001b[0;36msage.rings.polynomial.polynomial_element.Polynomial._new_constant_poly (build/cythonized/sage/rings/polynomial/polynomial_element.c:45810)\u001b[0;34m()\u001b[0m\n\u001b[1;32m   5454\u001b[0m     return self.get_unsafe(0)\n\u001b[1;32m   5455\u001b[0m \n\u001b[0;32m-> 5456\u001b[0m cpdef Polynomial _new_constant_poly(self, a, Parent P):\n\u001b[1;32m   5457\u001b[0m     \"\"\"\n\u001b[1;32m   5458\u001b[0m     Create a new constant polynomial from a in P, which MUST be an\n",
      "File \u001b[0;32m/private/var/tmp/sage-9.8-current/local/var/lib/sage/venv-python3.11.1/lib/python3.11/site-packages/sage/rings/polynomial/polynomial_element.pyx:5470\u001b[0m, in \u001b[0;36msage.rings.polynomial.polynomial_element.Polynomial._new_constant_poly (build/cythonized/sage/rings/polynomial/polynomial_element.c:45698)\u001b[0;34m()\u001b[0m\n\u001b[1;32m   5468\u001b[0m     \"\"\"\n\u001b[1;32m   5469\u001b[0m     t = type(self)\n\u001b[0;32m-> 5470\u001b[0m     return t(P, [a] if a else [], check=False)\n\u001b[1;32m   5471\u001b[0m \n\u001b[1;32m   5472\u001b[0m def is_monic(self):\n",
      "File \u001b[0;32m/private/var/tmp/sage-9.8-current/local/var/lib/sage/venv-python3.11.1/lib/python3.11/site-packages/sage/rings/polynomial/polynomial_zz_pex.pyx:152\u001b[0m, in \u001b[0;36msage.rings.polynomial.polynomial_zz_pex.Polynomial_ZZ_pEX.__init__ (build/cythonized/sage/rings/polynomial/polynomial_zz_pex.cpp:15094)\u001b[0;34m()\u001b[0m\n\u001b[1;32m    150\u001b[0m     # not do K.coerce(e) but K(e).\n\u001b[1;32m    151\u001b[0m     e = K(e)\n\u001b[0;32m--> 152\u001b[0m     d = parent._modulus.ZZ_pE(list(e.polynomial()))\n\u001b[1;32m    153\u001b[0m     ZZ_pEX_SetCoeff(self.x, i, d.x)\n\u001b[1;32m    154\u001b[0m return\n",
      "File \u001b[0;32m/private/var/tmp/sage-9.8-current/local/var/lib/sage/venv-python3.11.1/lib/python3.11/site-packages/sage/rings/finite_rings/element_givaro.pyx:1512\u001b[0m, in \u001b[0;36msage.rings.finite_rings.element_givaro.FiniteField_givaroElement.polynomial (build/cythonized/sage/rings/finite_rings/element_givaro.cpp:14970)\u001b[0;34m()\u001b[0m\n\u001b[1;32m   1510\u001b[0m cdef Cache_givaro cache = self._cache\n\u001b[1;32m   1511\u001b[0m K = self.parent()\n\u001b[0;32m-> 1512\u001b[0m quo = cache.log_to_int(self.element)\n\u001b[1;32m   1513\u001b[0m b = int(cache.characteristic())\n\u001b[1;32m   1514\u001b[0m ret = []\n",
      "File \u001b[0;32m/private/var/tmp/sage-9.8-current/local/var/lib/sage/venv-python3.11.1/lib/python3.11/site-packages/sage/rings/finite_rings/element_givaro.pyx:533\u001b[0m, in \u001b[0;36msage.rings.finite_rings.element_givaro.Cache_givaro.log_to_int (build/cythonized/sage/rings/finite_rings/element_givaro.cpp:8189)\u001b[0;34m()\u001b[0m\n\u001b[1;32m    531\u001b[0m \n\u001b[1;32m    532\u001b[0m         cdef int r = 0\n\u001b[0;32m--> 533\u001b[0m         sig_on()\n\u001b[1;32m    534\u001b[0m         self.objectptr.convert(r, n)\n\u001b[1;32m    535\u001b[0m         sig_off()\n",
      "\u001b[0;31mKeyboardInterrupt\u001b[0m: "
     ]
    }
   ],
   "source": [
    "gg = (x - a)*(x-a^2)*(x-a^3)*(x-a^4)*(x-a^5)*(x-a^6)\n",
    "gg"
   ]
  },
  {
   "cell_type": "code",
   "execution_count": null,
   "id": "792c8411",
   "metadata": {},
   "outputs": [],
   "source": [
    "s = [r(a^i) for i in range(6)]"
   ]
  },
  {
   "cell_type": "code",
   "execution_count": null,
   "id": "c6f98f01",
   "metadata": {},
   "outputs": [],
   "source": [
    "for i, e in enumerate(s): \n",
    "    print(f\"{i}: {e}\")\n",
    "    print()"
   ]
  },
  {
   "cell_type": "markdown",
   "id": "3763e77f",
   "metadata": {},
   "source": [
    "Found conjugacy classes with respect to GF(2). \n",
    "{B1,B2,B4,B8},{B3,B6,B9,B12},{B5,B10},{B7,B11,B13,B14}"
   ]
  },
  {
   "cell_type": "code",
   "execution_count": null,
   "id": "7f149899",
   "metadata": {},
   "outputs": [],
   "source": []
  },
  {
   "cell_type": "code",
   "execution_count": null,
   "id": "4bdbc709",
   "metadata": {},
   "outputs": [],
   "source": []
  }
 ],
 "metadata": {
  "kernelspec": {
   "display_name": "SageMath 9.8",
   "language": "sage",
   "name": "sagemath-9.8"
  },
  "language_info": {
   "codemirror_mode": {
    "name": "ipython",
    "version": 3
   },
   "file_extension": ".py",
   "mimetype": "text/x-python",
   "name": "python",
   "nbconvert_exporter": "python",
   "pygments_lexer": "ipython3",
   "version": "3.11.1"
  }
 },
 "nbformat": 4,
 "nbformat_minor": 5
}
