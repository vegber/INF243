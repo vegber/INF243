{
 "cells": [
  {
   "cell_type": "code",
   "execution_count": 12,
   "id": "288d3390",
   "metadata": {},
   "outputs": [],
   "source": [
    "q = 2 \n",
    "m = 4 \n",
    "p = x^4 + x + 1\n",
    "F.<a> = GF(q^m, modulus=p) \n",
    "R.<x> = PolynomialRing(F) "
   ]
  },
  {
   "cell_type": "code",
   "execution_count": 18,
   "id": "7b163569",
   "metadata": {},
   "outputs": [
    {
     "data": {
      "text/plain": [
       "x^6 + (a^3 + a)*x^5 + (a^3 + a^2 + a + 1)*x^4 + a*x^3 + a^2*x^2 + (a + 1)*x + 1"
      ]
     },
     "execution_count": 18,
     "metadata": {},
     "output_type": "execute_result"
    }
   ],
   "source": [
    "g = [(x-(a^i)) for i in range(6)]\n",
    "\n",
    "g_x = prod(g)\n",
    "g_x"
   ]
  },
  {
   "cell_type": "code",
   "execution_count": 19,
   "id": "1146c960",
   "metadata": {},
   "outputs": [],
   "source": [
    "\n",
    "r = (a^4) * (x^12) + (a^7) * (x^9) + (a^2) * (x^7) + (x^6) + (a^10) * (x^5) + (a) * (x^4) + (a^12) * (x^3) + (a^4) * (x^2) + (a^13)"
   ]
  },
  {
   "cell_type": "code",
   "execution_count": 22,
   "id": "83d9cb50",
   "metadata": {},
   "outputs": [
    {
     "name": "stdout",
     "output_type": "stream",
     "text": [
      "1\n",
      "a^3 + a + 1\n",
      "a^2 + 1\n",
      "0\n",
      "a + 1\n",
      "a^3 + a + 1\n"
     ]
    }
   ],
   "source": [
    "for i in range(1, 7): \n",
    "    print(r(a^i)) "
   ]
  },
  {
   "cell_type": "code",
   "execution_count": 3,
   "id": "8955a5d7",
   "metadata": {},
   "outputs": [
    {
     "name": "stdout",
     "output_type": "stream",
     "text": [
      "x^4 + x + 1: beta_1, beta_2, beta_4, beta_8\n",
      "x^4 + x^3 + x^2 + x + 1: beta_3, beta_6, beta_9, beta_12\n",
      "x^2 + x + 1: beta_5, beta_10\n",
      "x^4 + x^3 + 1: beta_7, beta_11, beta_13, beta_14\n"
     ]
    }
   ],
   "source": [
    "classes = defaultdict(list) \n",
    "for j in range(1, q^m -1): \n",
    "    tmp = (a^j).minimal_polynomial() \n",
    "    classes[tmp].append(f\"beta_{j}\")\n",
    "\n",
    "\n",
    "for key in classes:\n",
    "    print(f\"{key}: {', '.join(classes[key])}\")"
   ]
  },
  {
   "cell_type": "code",
   "execution_count": 4,
   "id": "6b357708",
   "metadata": {},
   "outputs": [
    {
     "data": {
      "text/plain": [
       "x^14 + x^13 + x^12 + x^11 + x^10 + x^9 + x^8 + x^7 + x^6 + x^5 + x^4 + x^3 + x^2 + x + 1"
      ]
     },
     "execution_count": 4,
     "metadata": {},
     "output_type": "execute_result"
    }
   ],
   "source": [
    "m1 = (a^1).minimal_polynomial() \n",
    "m3 = (a^3).minimal_polynomial() \n",
    "m5 = (a^5).minimal_polynomial() \n",
    "m7 = (a^7).minimal_polynomial() \n",
    "    \n",
    "a = lcm(m1, m3) \n",
    "b = lcm(m5, m7)\n",
    "g_x = lcm(a,b) \n",
    "\n",
    "g_x"
   ]
  },
  {
   "cell_type": "code",
   "execution_count": 5,
   "id": "178cba76",
   "metadata": {},
   "outputs": [
    {
     "data": {
      "text/plain": [
       "x^14 + x^13 + x^12 + x^11 + x^10 + x^9 + x^8 + x^7 + x^6 + x^5 + x^4 + x^3 + x^2 + x + 1"
      ]
     },
     "execution_count": 5,
     "metadata": {},
     "output_type": "execute_result"
    }
   ],
   "source": [
    "gcd(g_x, x^2^m - x)"
   ]
  },
  {
   "cell_type": "code",
   "execution_count": null,
   "id": "f7e99202",
   "metadata": {},
   "outputs": [],
   "source": []
  },
  {
   "cell_type": "code",
   "execution_count": 6,
   "id": "3a2bce83",
   "metadata": {},
   "outputs": [],
   "source": [
    "gg = (x - a)*(x-(a^2))*(x-(a^3))*(x-(a^4))*(x-(a^5))*(x-(a^6))"
   ]
  },
  {
   "cell_type": "code",
   "execution_count": 9,
   "id": "792c8411",
   "metadata": {},
   "outputs": [],
   "source": [
    "s = [r(a^i) for i in range(6)]\n"
   ]
  },
  {
   "cell_type": "code",
   "execution_count": null,
   "id": "c6f98f01",
   "metadata": {},
   "outputs": [],
   "source": [
    "for i, e in enumerate(s): \n",
    "    print(f\"{i}: {e}\")\n",
    "    print()"
   ]
  },
  {
   "cell_type": "markdown",
   "id": "3763e77f",
   "metadata": {},
   "source": [
    "Found conjugacy classes with respect to GF(2). \n",
    "{B1,B2,B4,B8},{B3,B6,B9,B12},{B5,B10},{B7,B11,B13,B14}"
   ]
  },
  {
   "cell_type": "code",
   "execution_count": null,
   "id": "7f149899",
   "metadata": {},
   "outputs": [],
   "source": []
  },
  {
   "cell_type": "code",
   "execution_count": null,
   "id": "4bdbc709",
   "metadata": {},
   "outputs": [],
   "source": []
  }
 ],
 "metadata": {
  "kernelspec": {
   "display_name": "SageMath 9.8",
   "language": "sage",
   "name": "sagemath-9.8"
  },
  "language_info": {
   "codemirror_mode": {
    "name": "ipython",
    "version": 3
   },
   "file_extension": ".py",
   "mimetype": "text/x-python",
   "name": "python",
   "nbconvert_exporter": "python",
   "pygments_lexer": "ipython3",
   "version": "3.11.1"
  }
 },
 "nbformat": 4,
 "nbformat_minor": 5
}
