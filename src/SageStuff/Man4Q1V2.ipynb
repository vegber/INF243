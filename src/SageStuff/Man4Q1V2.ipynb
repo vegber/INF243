{
 "cells": [
  {
   "cell_type": "code",
   "execution_count": 15,
   "id": "f50d02df",
   "metadata": {},
   "outputs": [],
   "source": [
    "from collections import defaultdict\n",
    "q = 2 \n",
    "m = 4 \n",
    "p = x^4 + x + 1\n",
    "\n",
    "F.<a> = GF(q^m, modulus=p) \n",
    "R.<x> = PolynomialRing(F) "
   ]
  },
  {
   "cell_type": "code",
   "execution_count": 16,
   "id": "eecff686",
   "metadata": {},
   "outputs": [],
   "source": [
    "beta = F.gen()"
   ]
  },
  {
   "cell_type": "code",
   "execution_count": 17,
   "id": "8b15b525",
   "metadata": {},
   "outputs": [
    {
     "data": {
      "text/plain": [
       "x^6 + (a^2 + a + 1)*x^5 + (a^3 + 1)*x^4 + (a + 1)*x^3 + (a^3 + a^2)*x^2 + (a^3 + a)*x + a^3 + a^2"
      ]
     },
     "execution_count": 17,
     "metadata": {},
     "output_type": "execute_result"
    }
   ],
   "source": [
    "(x-a)*(x-a^2)*(x-a^3)*(x-a^4)*(x-a^5)*(x-a^6)"
   ]
  },
  {
   "cell_type": "code",
   "execution_count": 4,
   "id": "8b62388c",
   "metadata": {},
   "outputs": [],
   "source": [
    "r = (a^4) * (x^12) + (a^7) * (x^9) + (a^2) * (x^7) + (x^6) + (a^10) * (x^5) + (a) * (x^4) + (a^12) * (x^3) + (a^4) * (x^2) + (a^13)"
   ]
  },
  {
   "cell_type": "code",
   "execution_count": 5,
   "id": "e01e6293",
   "metadata": {},
   "outputs": [
    {
     "data": {
      "text/plain": [
       "a"
      ]
     },
     "execution_count": 5,
     "metadata": {},
     "output_type": "execute_result"
    }
   ],
   "source": [
    "beta"
   ]
  },
  {
   "cell_type": "code",
   "execution_count": 6,
   "id": "aa64294c",
   "metadata": {},
   "outputs": [
    {
     "name": "stdout",
     "output_type": "stream",
     "text": [
      "x^4 + x + 1: beta_1, beta_2, beta_4, beta_8\n",
      "x^4 + x^3 + x^2 + x + 1: beta_3, beta_6, beta_9, beta_12\n",
      "x^2 + x + 1: beta_5, beta_10\n",
      "x^4 + x^3 + 1: beta_7, beta_11, beta_13, beta_14\n"
     ]
    }
   ],
   "source": [
    "classes = defaultdict(list) \n",
    "for j in range(1, q^m -1): \n",
    "    tmp = (a^j).minimal_polynomial() \n",
    "    classes[tmp].append(f\"beta_{j}\")\n",
    "\n",
    "\n",
    "for key in classes:\n",
    "    print(f\"{key}: {', '.join(classes[key])}\")"
   ]
  },
  {
   "cell_type": "code",
   "execution_count": 7,
   "id": "a672222d",
   "metadata": {},
   "outputs": [
    {
     "data": {
      "text/plain": [
       "x^14 + x^13 + x^12 + x^11 + x^10 + x^9 + x^8 + x^7 + x^6 + x^5 + x^4 + x^3 + x^2 + x + 1"
      ]
     },
     "execution_count": 7,
     "metadata": {},
     "output_type": "execute_result"
    }
   ],
   "source": [
    "m1 = (a^1).minimal_polynomial() \n",
    "m3 = (a^3).minimal_polynomial() \n",
    "m5 = (a^5).minimal_polynomial() \n",
    "m7 = (a^7).minimal_polynomial() \n",
    "    \n",
    "a = lcm(m1, m3) \n",
    "b = lcm(m5, m7) \n",
    "g_x = lcm(a,b)  \n",
    "\n",
    "g_x"
   ]
  },
  {
   "cell_type": "code",
   "execution_count": null,
   "id": "5752a624",
   "metadata": {},
   "outputs": [],
   "source": []
  },
  {
   "cell_type": "code",
   "execution_count": null,
   "id": "bb3ae2b9",
   "metadata": {},
   "outputs": [],
   "source": []
  },
  {
   "cell_type": "code",
   "execution_count": 18,
   "id": "a23d66e8",
   "metadata": {},
   "outputs": [
    {
     "data": {
      "text/plain": [
       "[a^3 + 1, 1, a^3 + a + 1, a^2 + 1, 0, a + 1]"
      ]
     },
     "execution_count": 18,
     "metadata": {},
     "output_type": "execute_result"
    }
   ],
   "source": [
    "s = [r(a^i) for i in range(6)]\n",
    "s"
   ]
  },
  {
   "cell_type": "code",
   "execution_count": 6,
   "id": "2984ba43",
   "metadata": {},
   "outputs": [
    {
     "data": {
      "text/plain": [
       "x^14 + x^13 + x^12 + x^11 + x^10 + x^9 + x^8 + x^7 + x^6 + x^5 + x^4 + x^3 + x^2 + x + 1"
      ]
     },
     "execution_count": 6,
     "metadata": {},
     "output_type": "execute_result"
    }
   ],
   "source": [
    "gcd(g_x, x^2^m - x)"
   ]
  },
  {
   "cell_type": "code",
   "execution_count": 7,
   "id": "1661ef3b",
   "metadata": {},
   "outputs": [
    {
     "name": "stdout",
     "output_type": "stream",
     "text": [
      "1: a\n",
      "2: a^2\n",
      "3: a^3\n",
      "4: a + 1\n",
      "5: a^2 + a\n",
      "6: a^3 + a^2\n",
      "7: a^3 + a + 1\n",
      "8: a^2 + 1\n",
      "9: a^3 + a\n",
      "10: a^2 + a + 1\n",
      "11: a^3 + a^2 + a\n",
      "12: a^3 + a^2 + a + 1\n",
      "13: a^3 + a^2 + 1\n",
      "14: a^3 + 1\n"
     ]
    }
   ],
   "source": [
    "for i in range(1, q^m -1):\n",
    "    print(f\"{i}: {beta^i}\")"
   ]
  },
  {
   "cell_type": "code",
   "execution_count": 8,
   "id": "61b7c6b3",
   "metadata": {},
   "outputs": [
    {
     "data": {
      "text/plain": [
       "x^6 + (a^2 + a + 1)*x^5 + (a^3 + 1)*x^4 + (a + 1)*x^3 + (a^3 + a^2)*x^2 + (a^3 + a)*x + a^3 + a^2"
      ]
     },
     "execution_count": 8,
     "metadata": {},
     "output_type": "execute_result"
    }
   ],
   "source": [
    "g = (x - (beta))*(x - (beta^2))*(x - (beta^3))*(x - (beta^4))*(x - (beta^5))*(x - (beta^6))\n",
    "g"
   ]
  },
  {
   "cell_type": "code",
   "execution_count": null,
   "id": "7739c90b",
   "metadata": {},
   "outputs": [],
   "source": []
  },
  {
   "cell_type": "code",
   "execution_count": null,
   "id": "1eddbe25",
   "metadata": {},
   "outputs": [],
   "source": []
  }
 ],
 "metadata": {
  "kernelspec": {
   "display_name": "SageMath 9.8",
   "language": "sage",
   "name": "sagemath-9.8"
  },
  "language_info": {
   "codemirror_mode": {
    "name": "ipython",
    "version": 3
   },
   "file_extension": ".py",
   "mimetype": "text/x-python",
   "name": "python",
   "nbconvert_exporter": "python",
   "pygments_lexer": "ipython3",
   "version": "3.11.1"
  }
 },
 "nbformat": 4,
 "nbformat_minor": 5
}
