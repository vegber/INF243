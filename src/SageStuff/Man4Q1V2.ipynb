{
 "cells": [
  {
   "cell_type": "code",
   "execution_count": 12,
   "id": "f50d02df",
   "metadata": {},
   "outputs": [],
   "source": [
    "from collections import defaultdict\n",
    "q = 2 \n",
    "m = 4 \n",
    "p = x^4 + x + 1\n",
    "\n",
    "F.<a> = GF(q^m, modulus=p) \n",
    "R.<x> = PolynomialRing(F) "
   ]
  },
  {
   "cell_type": "code",
   "execution_count": 13,
   "id": "eecff686",
   "metadata": {},
   "outputs": [],
   "source": [
    "beta = F.gen()"
   ]
  },
  {
   "cell_type": "code",
   "execution_count": 14,
   "id": "8b62388c",
   "metadata": {},
   "outputs": [],
   "source": [
    "r = (a^4) * (x^12) + (a^7) * (x^9) + (a^2) * (x^7) + (x^6) + (a^10) * (x^5) + (a) * (x^4) + (a^12) * (x^3) + (a^4) * (x^2) + (a^13)"
   ]
  },
  {
   "cell_type": "code",
   "execution_count": 15,
   "id": "e01e6293",
   "metadata": {},
   "outputs": [
    {
     "data": {
      "text/plain": [
       "a"
      ]
     },
     "execution_count": 15,
     "metadata": {},
     "output_type": "execute_result"
    }
   ],
   "source": [
    "beta"
   ]
  },
  {
   "cell_type": "code",
   "execution_count": 16,
   "id": "aa64294c",
   "metadata": {},
   "outputs": [
    {
     "name": "stdout",
     "output_type": "stream",
     "text": [
      "x^4 + x + 1: beta_1, beta_2, beta_4, beta_8\n",
      "x^4 + x^3 + x^2 + x + 1: beta_3, beta_6, beta_9, beta_12\n",
      "x^2 + x + 1: beta_5, beta_10\n",
      "x^4 + x^3 + 1: beta_7, beta_11, beta_13, beta_14\n"
     ]
    }
   ],
   "source": [
    "classes = defaultdict(list) \n",
    "for j in range(1, q^m -1): \n",
    "    tmp = (a^j).minimal_polynomial() \n",
    "    classes[tmp].append(f\"beta_{j}\")\n",
    "\n",
    "\n",
    "for key in classes:\n",
    "    print(f\"{key}: {', '.join(classes[key])}\")"
   ]
  },
  {
   "cell_type": "code",
   "execution_count": 17,
   "id": "a672222d",
   "metadata": {},
   "outputs": [
    {
     "data": {
      "text/plain": [
       "x^14 + x^13 + x^12 + x^11 + x^10 + x^9 + x^8 + x^7 + x^6 + x^5 + x^4 + x^3 + x^2 + x + 1"
      ]
     },
     "execution_count": 17,
     "metadata": {},
     "output_type": "execute_result"
    }
   ],
   "source": [
    "m1 = (a^1).minimal_polynomial() \n",
    "m3 = (a^3).minimal_polynomial() \n",
    "m5 = (a^5).minimal_polynomial() \n",
    "m7 = (a^7).minimal_polynomial() \n",
    "    \n",
    "a = lcm(m1, m3) \n",
    "b = lcm(m5, m7)\n",
    "g_x = lcm(a,b) \n",
    "\n",
    "g_x"
   ]
  },
  {
   "cell_type": "code",
   "execution_count": 18,
   "id": "a23d66e8",
   "metadata": {},
   "outputs": [
    {
     "data": {
      "text/plain": [
       "[a^3 + 1,\n",
       " (a + 1)*x^96 + (a + 1)*x^92 + (a + 1)*x^84 + (a + 1)*x^80 + (a + 1)*x^76 + (a^3 + a + 1)*x^72 + (a^3 + a + 1)*x^71 + (a^3 + a + 1)*x^70 + (a^3 + a + 1)*x^68 + (a + 1)*x^64 + (a^3 + a + 1)*x^63 + (a^3 + a + 1)*x^62 + a^3*x^60 + a^2*x^56 + (a^3 + a^2 + a + 1)*x^55 + (a^3 + a + 1)*x^54 + a^2*x^53 + (a^3 + a + 1)*x^52 + a^2*x^49 + (a^3 + a^2 + a)*x^48 + a^2*x^47 + x^46 + a^2*x^45 + x^42 + (a^3 + a^2 + 1)*x^40 + a^3*x^39 + (a^3 + 1)*x^38 + a^2*x^37 + (a^3 + a + 1)*x^36 + (a^2 + a + 1)*x^35 + (a + 1)*x^34 + (a^3 + a + 1)*x^32 + (a^2 + a + 1)*x^31 + a*x^30 + x^28 + (a^3 + a^2 + a)*x^24 + a^3*x^23 + (a + 1)*x^22 + (a^3 + a + 1)*x^21 + a^3*x^20 + (a^3 + a + 1)*x^19 + (a^3 + a)*x^16 + (a^3 + a + 1)*x^15 + a*x^14 + a*x^12 + (a^3 + a^2 + a)*x^8 + (a^2 + a + 1)*x^7 + (a^2 + a + 1)*x^6 + (a^2 + a + 1)*x^4 + a^3 + 1,\n",
       " (a + 1)*x^192 + (a + 1)*x^184 + (a + 1)*x^168 + (a + 1)*x^160 + (a + 1)*x^152 + (a^3 + a + 1)*x^144 + (a^3 + a + 1)*x^142 + (a^3 + a + 1)*x^140 + (a^3 + a + 1)*x^136 + (a + 1)*x^128 + (a^3 + a + 1)*x^126 + (a^3 + a + 1)*x^124 + a^3*x^120 + a^2*x^112 + (a^3 + a^2 + a + 1)*x^110 + (a^3 + a + 1)*x^108 + a^2*x^106 + (a^3 + a + 1)*x^104 + a^2*x^98 + (a^3 + a^2 + a)*x^96 + a^2*x^94 + x^92 + a^2*x^90 + x^84 + (a^3 + a^2 + 1)*x^80 + a^3*x^78 + (a^3 + 1)*x^76 + a^2*x^74 + (a^3 + a + 1)*x^72 + (a^2 + a + 1)*x^70 + (a + 1)*x^68 + (a^3 + a + 1)*x^64 + (a^2 + a + 1)*x^62 + a*x^60 + x^56 + (a^3 + a^2 + a)*x^48 + a^3*x^46 + (a + 1)*x^44 + (a^3 + a + 1)*x^42 + a^3*x^40 + (a^3 + a + 1)*x^38 + (a^3 + a)*x^32 + (a^3 + a + 1)*x^30 + a*x^28 + a*x^24 + (a^3 + a^2 + a)*x^16 + (a^2 + a + 1)*x^14 + (a^2 + a + 1)*x^12 + (a^2 + a + 1)*x^8 + a^3 + 1,\n",
       " (a + 1)*x^288 + (a + 1)*x^284 + (a + 1)*x^280 + (a + 1)*x^272 + (a + 1)*x^252 + (a + 1)*x^248 + (a + 1)*x^240 + (a + 1)*x^220 + a^3*x^216 + (a^3 + a + 1)*x^215 + (a^3 + a + 1)*x^213 + (a^3 + a + 1)*x^212 + (a^3 + a + 1)*x^211 + (a + 1)*x^208 + (a^3 + a + 1)*x^205 + (a^3 + a + 1)*x^204 + (a^3 + a + 1)*x^203 + (a^3 + a + 1)*x^200 + (a^3 + a + 1)*x^198 + (a^3 + a + 1)*x^196 + (a + 1)*x^192 + (a^3 + a + 1)*x^190 + (a^3 + a + 1)*x^189 + (a^3 + a + 1)*x^187 + (a^3 + a + 1)*x^184 + (a^3 + a + 1)*x^181 + (a^3 + a + 1)*x^180 + (a^3 + a + 1)*x^179 + (a^3 + a + 1)*x^175 + (a^3 + a + 1)*x^174 + (a^3 + a + 1)*x^173 + (a^3 + a + 1)*x^171 + a^2*x^168 + a^2*x^167 + (a^3 + a^2 + a + 1)*x^166 + (a^3 + a + 1)*x^164 + a^2*x^163 + a^2*x^162 + (a^3 + a^2)*x^160 + (a^3 + a^2 + a + 1)*x^159 + (a^3 + a^2 + a + 1)*x^158 + a^3*x^156 + (a^2 + a + 1)*x^152 + (a^3 + a + 1)*x^151 + (a^3 + a + 1)*x^149 + (a^3 + a^2 + a + 1)*x^148 + (a^3 + a^2 + a + 1)*x^147 + a^2*x^146 + a*x^144 + a^2*x^143 + (a^2 + 1)*x^142 + (a^3 + a + 1)*x^141 + (a^3 + a)*x^140 + (a^3 + a + 1)*x^139 + (a^3 + a)*x^136 + a^2*x^135 + (a^3 + a^2 + a + 1)*x^134 + (a^3 + a + 1)*x^132 + a^2*x^131 + a^2*x^130 + (a^3 + a^2)*x^128 + (a^3 + a^2 + a + 1)*x^127 + (a^3 + a^2 + a)*x^126 + (a^3 + a)*x^124 + (a^3 + 1)*x^120 + (a^2 + a + 1)*x^119 + (a^2 + a + 1)*x^117 + (a^2 + a + 1)*x^113 + x^110 + x^108 + (a^2 + a + 1)*x^105 + x^104 + (a^2 + a + 1)*x^103 + (a^2 + a + 1)*x^102 + (a^2 + a + 1)*x^101 + a^2*x^100 + a^2*x^99 + (a + 1)*x^98 + (a^2 + a + 1)*x^97 + (a + 1)*x^96 + a^2*x^95 + a^2*x^94 + a*x^92 + (a^2 + a + 1)*x^90 + a^2*x^87 + (a + 1)*x^86 + (a^2 + a + 1)*x^85 + (a^2 + a)*x^84 + (a^2 + a + 1)*x^83 + (a^2 + a + 1)*x^82 + (a^2 + a + 1)*x^81 + (a^3 + a^2)*x^80 + (a^3 + a + 1)*x^79 + x^78 + (a^3 + a + 1)*x^77 + a^3*x^76 + (a^3 + a^2)*x^75 + (a^3 + a)*x^72 + (a^3 + a^2)*x^71 + (a^3 + a^2)*x^70 + (a^3 + a + 1)*x^69 + (a^2 + a + 1)*x^68 + (a^3 + a^2)*x^67 + (a^2 + a + 1)*x^66 + (a^3 + a^2)*x^64 + (a^3 + a^2 + a + 1)*x^63 + a^2*x^62 + x^60 + (a^3 + a^2 + a + 1)*x^55 + a^2*x^54 + (a^3 + a + 1)*x^53 + a^3*x^52 + (a^3 + a^2)*x^51 + (a^2 + a + 1)*x^49 + (a^3 + a^2)*x^48 + (a^3 + a + 1)*x^47 + (a + 1)*x^46 + (a^2 + a + 1)*x^45 + (a + 1)*x^42 + a^3*x^40 + (a + 1)*x^38 + (a^2 + a + 1)*x^37 + (a + 1)*x^36 + a^2*x^35 + (a + 1)*x^34 + a^2*x^31 + x^28 + (a^3 + a)*x^24 + (a^3 + a^2 + a + 1)*x^23 + (a + 1)*x^22 + (a^3 + a^2)*x^21 + (a^3 + a^2 + a + 1)*x^20 + (a^3 + a^2)*x^19 + (a^3 + a^2 + a + 1)*x^16 + (a^3 + a^2)*x^15 + a*x^14 + a*x^12 + (a^3 + 1)*x^8 + (a^2 + a + 1)*x^7 + (a^2 + a + 1)*x^6 + (a^2 + a + 1)*x^4 + a^3 + 1,\n",
       " (a + 1)*x^384 + (a + 1)*x^368 + (a + 1)*x^336 + (a + 1)*x^320 + (a + 1)*x^304 + (a^3 + a + 1)*x^288 + (a^3 + a + 1)*x^284 + (a^3 + a + 1)*x^280 + (a^3 + a + 1)*x^272 + (a + 1)*x^256 + (a^3 + a + 1)*x^252 + (a^3 + a + 1)*x^248 + a^3*x^240 + a^2*x^224 + (a^3 + a^2 + a + 1)*x^220 + (a^3 + a + 1)*x^216 + a^2*x^212 + (a^3 + a + 1)*x^208 + a^2*x^196 + (a^3 + a^2 + a)*x^192 + a^2*x^188 + x^184 + a^2*x^180 + x^168 + (a^3 + a^2 + 1)*x^160 + a^3*x^156 + (a^3 + 1)*x^152 + a^2*x^148 + (a^3 + a + 1)*x^144 + (a^2 + a + 1)*x^140 + (a + 1)*x^136 + (a^3 + a + 1)*x^128 + (a^2 + a + 1)*x^124 + a*x^120 + x^112 + (a^3 + a^2 + a)*x^96 + a^3*x^92 + (a + 1)*x^88 + (a^3 + a + 1)*x^84 + a^3*x^80 + (a^3 + a + 1)*x^76 + (a^3 + a)*x^64 + (a^3 + a + 1)*x^60 + a*x^56 + a*x^48 + (a^3 + a^2 + a)*x^32 + (a^2 + a + 1)*x^28 + (a^2 + a + 1)*x^24 + (a^2 + a + 1)*x^16 + a^3 + 1,\n",
       " (a + 1)*x^480 + (a + 1)*x^476 + (a + 1)*x^468 + (a + 1)*x^452 + (a + 1)*x^420 + (a + 1)*x^412 + (a + 1)*x^408 + (a + 1)*x^404 + (a + 1)*x^392 + (a + 1)*x^388 + a^3*x^360 + (a^3 + a + 1)*x^359 + (a^3 + a + 1)*x^358 + (a^3 + a + 1)*x^355 + (a^3 + a + 1)*x^354 + (a^3 + a + 1)*x^347 + (a^3 + a + 1)*x^346 + (a + 1)*x^344 + (a^3 + a + 1)*x^343 + (a^3 + a + 1)*x^342 + a^3*x^340 + (a^3 + a + 1)*x^339 + (a^3 + a + 1)*x^338 + a^3*x^332 + (a + 1)*x^328 + (a + 1)*x^324 + (a^3 + a + 1)*x^316 + (a^3 + a + 1)*x^315 + (a^3 + a + 1)*x^314 + (a^3 + a + 1)*x^311 + (a^3 + a + 1)*x^310 + (a^3 + a + 1)*x^308 + (a^3 + a + 1)*x^307 + (a^3 + a + 1)*x^306 + a^3*x^300 + (a^3 + a + 1)*x^292 + (a^3 + a + 1)*x^291 + (a^3 + a + 1)*x^290 + (a^3 + a + 1)*x^287 + (a^3 + a + 1)*x^286 + a^3*x^284 + (a^3 + a + 1)*x^283 + (a^3 + a + 1)*x^282 + (a^2 + a + 1)*x^280 + a^2*x^279 + a^2*x^277 + a^2*x^276 + (a^3 + a^2 + a + 1)*x^275 + (a^3 + a + 1)*x^274 + (a^3 + a^2)*x^272 + a^2*x^271 + a^3*x^268 + (a + 1)*x^264 + a^2*x^263 + a^2*x^262 + a^2*x^260 + (a^3 + a^2 + a + 1)*x^256 + (a^3 + a + 1)*x^255 + (a^3 + a + 1)*x^254 + (a^3 + a + 1)*x^252 + a^2*x^248 + (a^3 + a^2 + a + 1)*x^247 + (a^3 + a + 1)*x^246 + a^2*x^245 + (a^3 + a^2 + a + 1)*x^244 + a^2*x^243 + (a^3 + a^2 + 1)*x^240 + a^2*x^239 + x^238 + x^234 + a^2*x^231 + a^2*x^230 + a^2*x^228 + x^226 + (a^3 + a^2 + a + 1)*x^224 + (a^3 + a + 1)*x^223 + (a^3 + a + 1)*x^222 + (a^3 + a + 1)*x^219 + (a^3 + a + 1)*x^218 + a^2*x^216 + a^2*x^215 + a^2*x^213 + a^2*x^212 + (a^3 + a^2 + a + 1)*x^211 + (a^3 + a)*x^210 + (a^3 + a^2)*x^208 + a^2*x^207 + x^206 + (a^3 + 1)*x^204 + x^202 + (a^2 + a + 1)*x^200 + (a + 1)*x^199 + (a + 1)*x^198 + (a^3 + a)*x^196 + (a^3 + a + 1)*x^195 + (a^3 + a)*x^194 + (a^3 + a^2 + a + 1)*x^192 + (a^2 + a + 1)*x^191 + (a^2 + a + 1)*x^190 + (a^3 + a^2)*x^188 + (a^2 + a + 1)*x^184 + a*x^180 + (a^2 + a + 1)*x^176 + (a^2 + a + 1)*x^175 + (a^2 + a + 1)*x^174 + (a^2 + a)*x^172 + x^170 + (a^2 + a + 1)*x^167 + (a^2 + a)*x^166 + (a^3 + a^2 + 1)*x^164 + (a^3 + a + 1)*x^163 + (a^3 + a)*x^162 + a*x^160 + (a^3 + a^2)*x^159 + (a^3 + a^2)*x^158 + (a^2 + 1)*x^156 + x^152 + (a^3 + a^2 + a + 1)*x^151 + (a^3 + a)*x^150 + a^2*x^149 + (a^3 + a^2)*x^148 + a^2*x^147 + (a^3 + a^2)*x^144 + a^2*x^143 + x^142 + (a + 1)*x^140 + (a^3 + a^2)*x^136 + a^3*x^135 + (a^3 + 1)*x^134 + (a^3 + 1)*x^132 + (a^3 + a^2 + 1)*x^128 + (a^2 + a + 1)*x^127 + (a^2 + a + 1)*x^126 + (a^2 + 1)*x^124 + a^3*x^120 + (a^3 + a^2 + a + 1)*x^119 + (a^3 + a^2 + a + 1)*x^117 + (a^3 + a^2 + a + 1)*x^113 + (a^3 + a^2 + a + 1)*x^105 + (a^3 + a)*x^104 + a^2*x^103 + (a^2 + 1)*x^102 + (a^3 + a^2 + a + 1)*x^101 + (a^3 + a + 1)*x^99 + (a^2 + 1)*x^98 + (a^3 + a^2 + a + 1)*x^97 + a*x^92 + (a^3 + a + 1)*x^91 + (a^2 + 1)*x^90 + x^88 + (a^3 + a + 1)*x^87 + a^2*x^86 + (a^3 + a^2 + a + 1)*x^85 + a^3*x^84 + a^2*x^83 + a^2*x^82 + (a^3 + a^2 + a + 1)*x^81 + x^80 + (a + 1)*x^78 + (a^3 + a + 1)*x^76 + (a^3 + a^2 + a + 1)*x^75 + x^74 + (a^3 + a)*x^72 + a^2*x^71 + (a^2 + a + 1)*x^70 + (a^3 + a^2 + 1)*x^68 + a^2*x^67 + a^2*x^66 + (a^2 + a)*x^64 + (a^2 + a + 1)*x^63 + a^2*x^62 + a*x^60 + (a^2 + a + 1)*x^55 + (a^2 + a + 1)*x^54 + a^3*x^52 + (a^3 + a^2 + a + 1)*x^51 + (a^3 + a^2 + a + 1)*x^49 + (a^2 + a + 1)*x^48 + (a + 1)*x^46 + (a^3 + a^2 + a + 1)*x^45 + a*x^44 + x^42 + a^2*x^40 + (a^2 + a + 1)*x^39 + (a^2 + a)*x^38 + (a^3 + a^2 + a + 1)*x^37 + (a + 1)*x^36 + (a^3 + a + 1)*x^35 + a^2*x^34 + (a^2 + a)*x^32 + (a^3 + a + 1)*x^31 + (a^2 + 1)*x^30 + x^28 + (a^2 + 1)*x^24 + (a^3 + a^2 + a + 1)*x^23 + a^2*x^22 + (a^3 + a + 1)*x^21 + (a^3 + a^2 + a + 1)*x^20 + (a^3 + a + 1)*x^19 + (a^3 + a^2 + 1)*x^16 + (a^3 + a + 1)*x^15 + a*x^14 + a*x^12 + (a^3 + a^2 + a)*x^8 + (a^2 + a + 1)*x^7 + (a^2 + a + 1)*x^6 + (a^2 + a + 1)*x^4 + a^3 + 1]"
      ]
     },
     "execution_count": 18,
     "metadata": {},
     "output_type": "execute_result"
    }
   ],
   "source": [
    "s = [r(a^i) for i in range(6)]\n",
    "s"
   ]
  },
  {
   "cell_type": "code",
   "execution_count": 6,
   "id": "2984ba43",
   "metadata": {},
   "outputs": [
    {
     "data": {
      "text/plain": [
       "x^14 + x^13 + x^12 + x^11 + x^10 + x^9 + x^8 + x^7 + x^6 + x^5 + x^4 + x^3 + x^2 + x + 1"
      ]
     },
     "execution_count": 6,
     "metadata": {},
     "output_type": "execute_result"
    }
   ],
   "source": [
    "gcd(g_x, x^2^m - x)"
   ]
  },
  {
   "cell_type": "code",
   "execution_count": 7,
   "id": "1661ef3b",
   "metadata": {},
   "outputs": [
    {
     "name": "stdout",
     "output_type": "stream",
     "text": [
      "1: a\n",
      "2: a^2\n",
      "3: a^3\n",
      "4: a + 1\n",
      "5: a^2 + a\n",
      "6: a^3 + a^2\n",
      "7: a^3 + a + 1\n",
      "8: a^2 + 1\n",
      "9: a^3 + a\n",
      "10: a^2 + a + 1\n",
      "11: a^3 + a^2 + a\n",
      "12: a^3 + a^2 + a + 1\n",
      "13: a^3 + a^2 + 1\n",
      "14: a^3 + 1\n"
     ]
    }
   ],
   "source": [
    "for i in range(1, q^m -1):\n",
    "    print(f\"{i}: {beta^i}\")"
   ]
  },
  {
   "cell_type": "code",
   "execution_count": 8,
   "id": "61b7c6b3",
   "metadata": {},
   "outputs": [
    {
     "data": {
      "text/plain": [
       "x^6 + (a^2 + a + 1)*x^5 + (a^3 + 1)*x^4 + (a + 1)*x^3 + (a^3 + a^2)*x^2 + (a^3 + a)*x + a^3 + a^2"
      ]
     },
     "execution_count": 8,
     "metadata": {},
     "output_type": "execute_result"
    }
   ],
   "source": [
    "g = (x - (beta))*(x - (beta^2))*(x - (beta^3))*(x - (beta^4))*(x - (beta^5))*(x - (beta^6))\n",
    "g"
   ]
  },
  {
   "cell_type": "code",
   "execution_count": null,
   "id": "7739c90b",
   "metadata": {},
   "outputs": [],
   "source": []
  },
  {
   "cell_type": "code",
   "execution_count": null,
   "id": "1eddbe25",
   "metadata": {},
   "outputs": [],
   "source": []
  }
 ],
 "metadata": {
  "kernelspec": {
   "display_name": "SageMath 9.8",
   "language": "sage",
   "name": "sagemath-9.8"
  },
  "language_info": {
   "codemirror_mode": {
    "name": "ipython",
    "version": 3
   },
   "file_extension": ".py",
   "mimetype": "text/x-python",
   "name": "python",
   "nbconvert_exporter": "python",
   "pygments_lexer": "ipython3",
   "version": "3.11.1"
  }
 },
 "nbformat": 4,
 "nbformat_minor": 5
}
