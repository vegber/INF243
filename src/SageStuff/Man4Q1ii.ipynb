{
 "cells": [
  {
   "cell_type": "code",
   "execution_count": 29,
   "id": "41335296",
   "metadata": {},
   "outputs": [],
   "source": [
    "q = 2 \n",
    "m = 4 \n",
    "p = x^4 + x + 1\n",
    "n = q^m - 1\n",
    "t = 3 \n",
    "F.<a> = GF(q^m, modulus=p) \n",
    "R.<x> = PolynomialRing(F) "
   ]
  },
  {
   "cell_type": "code",
   "execution_count": 30,
   "id": "59db9a5a",
   "metadata": {},
   "outputs": [],
   "source": [
    "# received word \n",
    "# r = [0, 0, 0, a^4, 0, 0, a^7, 0, a^2, 1, a^10, a, a^12, a^4, a^13]\n",
    "r =[1, a^13, a^11, 0, a^7, 1, 1, a^13, a^14, 1, 1, a^14, 1, a^7, a^11]\n",
    "assert len(r) == n"
   ]
  },
  {
   "cell_type": "code",
   "execution_count": 31,
   "id": "c90b3b66",
   "metadata": {},
   "outputs": [
    {
     "name": "stdout",
     "output_type": "stream",
     "text": [
      "15\n",
      "[1, a, a^2, a^3, a + 1, a^2 + a, a^3 + a^2, a^3 + a + 1, a^2 + 1, a^3 + a, a^2 + a + 1, a^3 + a^2 + a, a^3 + a^2 + a + 1, a^3 + a^2 + 1, a^3 + 1]\n"
     ]
    }
   ],
   "source": [
    "print(q^m -1)\n",
    "B_i = [a^i for i in range(q^m - 1)]\n",
    "print(B_i)\n",
    "assert len(B_i) == n"
   ]
  },
  {
   "cell_type": "markdown",
   "id": "63be9b5c",
   "metadata": {},
   "source": [
    "E(x) = (x - e1)(x - e2)(x - e3) - this because t = 3 <br/>\n",
    "Q(x) = q0 + q1x + ... + q11^11 <br/>\n",
    "Q(B_i) = riE(B_i), i = 0, 1, ...14    "
   ]
  },
  {
   "cell_type": "code",
   "execution_count": 32,
   "id": "6e05cf92",
   "metadata": {},
   "outputs": [
    {
     "name": "stdout",
     "output_type": "stream",
     "text": [
      "n-t 12, n = 15, t = 3\n",
      "B_i :  15\n",
      "(15, 15)\n",
      "0\n"
     ]
    }
   ],
   "source": [
    "# create matrix to solve \n",
    "\n",
    "# two dim. list \n",
    "\n",
    "print(f\"n-t {n-t}, n = {n}, t = {t}\")\n",
    "print(\"B_i : \", len(B_i))\n",
    "\n",
    "rows = [ \n",
    "    # Q is monic, thus first elem. is 1 \n",
    "    \n",
    "    # add B_i^i for 1 -> 12\n",
    "    [B_i[bi]^i for i in range(n-t)] \n",
    "    \n",
    "    + # add error vec. \n",
    "      [r[bi]] \n",
    "    + [r[bi] * B_i[bi]]\n",
    "    + [r[bi] * B_i[bi]^2]\n",
    "    # [(r[bi]*B_i[bi])^i for i in range(t)]\n",
    "    \n",
    "    for bi in range(len(B_i))]\n",
    "\n",
    "matrix_ = Matrix(F, rows) \n",
    "print(matrix_.dimensions())\n",
    "print(matrix_.determinant())\n"
   ]
  },
  {
   "cell_type": "code",
   "execution_count": 33,
   "id": "321304e6",
   "metadata": {},
   "outputs": [
    {
     "name": "stdout",
     "output_type": "stream",
     "text": [
      "1\n",
      "a\n",
      "a^2\n",
      "a^3\n",
      "a + 1\n",
      "a^2 + a\n",
      "a^3 + a^2\n",
      "a^3 + a + 1\n",
      "a^2 + 1\n",
      "a^3 + a\n",
      "a^2 + a + 1\n",
      "a^3 + a^2 + a\n",
      "a^3 + a^2 + a + 1\n",
      "a^3 + a^2 + 1\n",
      "a^3 + 1\n"
     ]
    }
   ],
   "source": [
    "for _ in B_i: \n",
    "    print(_)"
   ]
  },
  {
   "cell_type": "code",
   "execution_count": 34,
   "id": "762b4fcd",
   "metadata": {},
   "outputs": [
    {
     "name": "stdout",
     "output_type": "stream",
     "text": [
      "1\n",
      "a^3 + a^2 + 1\n",
      "a^3 + a^2 + a\n",
      "0\n",
      "a^3 + a + 1\n",
      "1\n",
      "1\n",
      "a^3 + a^2 + 1\n",
      "a^3 + 1\n",
      "1\n",
      "1\n",
      "a^3 + 1\n",
      "1\n",
      "a^3 + a + 1\n",
      "a^3 + a^2 + a\n"
     ]
    }
   ],
   "source": [
    "for _ in r: \n",
    "    print(_)"
   ]
  },
  {
   "cell_type": "code",
   "execution_count": 35,
   "id": "295e2444",
   "metadata": {},
   "outputs": [
    {
     "name": "stdout",
     "output_type": "stream",
     "text": [
      "1\n",
      "a\n",
      "a^2\n",
      "0\n",
      "a + 1\n",
      "1\n",
      "a^3\n",
      "a + 1\n",
      "a^2 + 1\n",
      "a^3 + a^2 + a + 1\n",
      "1\n",
      "a^2\n",
      "a^3 + a^2\n",
      "a\n",
      "a^2 + 1\n"
     ]
    }
   ],
   "source": [
    "# add vector of known values \n",
    "v = vector(F, [r[i]*B_i[i]^3 for i in range(15)])\n",
    "\n",
    "for _ in v: \n",
    "    print(_)"
   ]
  },
  {
   "cell_type": "code",
   "execution_count": 36,
   "id": "8f703b26",
   "metadata": {},
   "outputs": [
    {
     "name": "stdout",
     "output_type": "stream",
     "text": [
      "<class 'sage.matrix.matrix_gf2e_dense.Matrix_gf2e_dense'>\n",
      "a^3 + a\n",
      "a^3 + a\n",
      "a^3 + a\n",
      "a^3 + a + 1\n",
      "1\n",
      "1\n",
      "a^3 + a + 1\n",
      "a^3 + a\n",
      "a^3 + a\n",
      "1\n",
      "1\n",
      "1\n",
      "a^3 + a\n",
      "0\n",
      "0\n"
     ]
    }
   ],
   "source": [
    "# M = matrix_.hstack(v) \n",
    "print(type(matrix_))\n",
    "\n",
    "M = matrix_.solve_right(v) #  matrix_.augment(v.column())\n",
    "# print(M.dimensions())\n",
    "solved_matrix = list(M) # list(matrix(solved)) \n",
    "\n",
    "for _ in solved_matrix: \n",
    "    print(_)"
   ]
  },
  {
   "cell_type": "code",
   "execution_count": null,
   "id": "3a10d6ff",
   "metadata": {},
   "outputs": [],
   "source": []
  },
  {
   "cell_type": "code",
   "execution_count": 37,
   "id": "8f65a631",
   "metadata": {},
   "outputs": [
    {
     "data": {
      "text/plain": [
       "{'q0': a^3 + a,\n",
       " 'q1': a^3 + a,\n",
       " 'q2': a^3 + a,\n",
       " 'q3': a^3 + a + 1,\n",
       " 'q4': 1,\n",
       " 'q5': 1,\n",
       " 'q6': a^3 + a + 1,\n",
       " 'q7': a^3 + a,\n",
       " 'q8': a^3 + a,\n",
       " 'q9': 1,\n",
       " 'q10': 1,\n",
       " 'q11': 1,\n",
       " 'e0': a^3 + a,\n",
       " 'e1': 0,\n",
       " 'e2': 0}"
      ]
     },
     "execution_count": 37,
     "metadata": {},
     "output_type": "execute_result"
    }
   ],
   "source": [
    "output = {}\n",
    "c = 0 \n",
    "\n",
    "Q_x = 0\n",
    "E_x = 0 \n",
    "\n",
    "for qi in range(n-t):\n",
    "    output[f\"q{c}\"] = solved_matrix[c]\n",
    "    Q_x += solved_matrix[c] * x^qi\n",
    "    c += 1\n",
    "\n",
    "for ei in range(3): \n",
    "    output[f\"e{c % 12}\"] = solved_matrix[c]\n",
    "    E_x += solved_matrix[c] * x^ei\n",
    "    c += 1\n",
    "# Remember to add x^3 to E_x \n",
    "E_x += x^3\n",
    "output"
   ]
  },
  {
   "cell_type": "code",
   "execution_count": 38,
   "id": "0bf13e41",
   "metadata": {},
   "outputs": [
    {
     "data": {
      "text/plain": [
       "x^11 + x^10 + x^9 + (a^3 + a)*x^8 + (a^3 + a)*x^7 + (a^3 + a + 1)*x^6 + x^5 + x^4 + (a^3 + a + 1)*x^3 + (a^3 + a)*x^2 + (a^3 + a)*x + a^3 + a"
      ]
     },
     "execution_count": 38,
     "metadata": {},
     "output_type": "execute_result"
    }
   ],
   "source": [
    "Q_x"
   ]
  },
  {
   "cell_type": "code",
   "execution_count": 39,
   "id": "c65be81f",
   "metadata": {},
   "outputs": [
    {
     "data": {
      "text/plain": [
       "x^3 + a^3 + a"
      ]
     },
     "execution_count": 39,
     "metadata": {},
     "output_type": "execute_result"
    }
   ],
   "source": [
    "E_x"
   ]
  },
  {
   "cell_type": "code",
   "execution_count": 40,
   "id": "17c3f180",
   "metadata": {},
   "outputs": [],
   "source": [
    "# compute the quotient F_x of Q_x divided by E_x\n",
    "F_q, rem = R(Q_x).quo_rem(R(E_x))"
   ]
  },
  {
   "cell_type": "code",
   "execution_count": 41,
   "id": "d7f48db5",
   "metadata": {},
   "outputs": [
    {
     "data": {
      "text/plain": [
       "x^8 + x^7 + x^6 + x^3 + x^2 + x + 1"
      ]
     },
     "execution_count": 41,
     "metadata": {},
     "output_type": "execute_result"
    }
   ],
   "source": [
    "f = Q_x/E_x\n",
    "f"
   ]
  },
  {
   "cell_type": "code",
   "execution_count": 42,
   "id": "98ed254a",
   "metadata": {},
   "outputs": [],
   "source": [
    "#out = [F_q(a^i) for i in range(n)]\n",
    "out = [f(a^i) for i in range(n)]\n",
    "# out"
   ]
  },
  {
   "cell_type": "code",
   "execution_count": 43,
   "id": "16f84767",
   "metadata": {},
   "outputs": [],
   "source": [
    "topower = {a^i: f'a^{i}' for i in range(15)}\n",
    "topower[0] = '0'\n",
    "topower[a^0] = 1"
   ]
  },
  {
   "cell_type": "code",
   "execution_count": 44,
   "id": "988db10f",
   "metadata": {},
   "outputs": [
    {
     "name": "stdout",
     "output_type": "stream",
     "text": [
      "org: \t 1, a^13, a^11, 0, a^7, 1, 1, a^13, a^14, 1, 1, a^14, 1, a^7, a^11\n",
      "cor_: \t 1, a^13, a^11, 1, a^7, 1, 1, a^13, a^14, 1, 1, a^14, 1, a^7, a^11\n"
     ]
    }
   ],
   "source": [
    "corrected = ', '.join(list(map(str, [topower.get (i) for i in out])))\n",
    "print(f\"org: \\t 1, a^13, a^11, 0, a^7, 1, 1, a^13, a^14, 1, 1, a^14, 1, a^7, a^11\")\n",
    "print(f\"cor_: \\t {corrected}\")"
   ]
  },
  {
   "cell_type": "code",
   "execution_count": 45,
   "id": "8e33681c",
   "metadata": {},
   "outputs": [],
   "source": [
    "# (1, a^13, a^11, 0, a^7, 1, 1, a^13, a^14, 1, 1, a^14, 1, a^7, a^11)"
   ]
  },
  {
   "cell_type": "code",
   "execution_count": null,
   "id": "65cae5fc",
   "metadata": {},
   "outputs": [],
   "source": []
  },
  {
   "cell_type": "code",
   "execution_count": null,
   "id": "cdb6df14",
   "metadata": {},
   "outputs": [],
   "source": []
  }
 ],
 "metadata": {
  "kernelspec": {
   "display_name": "SageMath 9.8",
   "language": "sage",
   "name": "sagemath-9.8"
  },
  "language_info": {
   "codemirror_mode": {
    "name": "ipython",
    "version": 3
   },
   "file_extension": ".py",
   "mimetype": "text/x-python",
   "name": "python",
   "nbconvert_exporter": "python",
   "pygments_lexer": "ipython3",
   "version": "3.11.1"
  }
 },
 "nbformat": 4,
 "nbformat_minor": 5
}
