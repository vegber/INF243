{
 "cells": [
  {
   "cell_type": "markdown",
   "id": "2d239f8c",
   "metadata": {},
   "source": [
    "To implement the encodeRS(m) function for a [255, 128] Reed Solomon code with generator polynomial g(x) = (x-1)(x-α)(x-α^2)*(x-α^3)...(x-α^127), we can use the following steps:\n",
    "\n",
    "    Convert the input message m into a polynomial m(x) of degree k-1, where k = 128, by setting m(x) = m_0 + m_1x + ... + m_k-1x^(k-1).\n",
    "\n",
    "    Pad the message polynomial m(x) with k = 128 zeros to form a new polynomial M(x) of degree n-1 = 254, where n = 255. That is, set M(x) = m(x)*x^k.\n",
    "\n",
    "    Calculate the remainder polynomial R(x) = M(x) mod g(x) using polynomial long division or the Euclidean algorithm in GF(2^8).\n",
    "\n",
    "    The codeword c can be formed by appending the coefficients of the remainder polynomial R(x) to the message polynomial m(x), i.e., set c(x) = m(x) + R(x), and then evaluate the resulting polynomial c(x) at each element of GF(2^8) to obtain the codeword c = (c_0, c_1, ..., c_n-1)."
   ]
  },
  {
   "cell_type": "code",
   "execution_count": 145,
   "id": "e7754e1d",
   "metadata": {},
   "outputs": [],
   "source": [
    "# d = floor(128-1 / 2) = 63 \n",
    "# i.e correct up to 63 errors \n"
   ]
  },
  {
   "cell_type": "code",
   "execution_count": 146,
   "id": "8b56b241",
   "metadata": {},
   "outputs": [],
   "source": [
    "import secrets\n",
    "q = 2 \n",
    "m = 8 \n",
    "p = x^8 + x^4 + x^3 + x^2 + 1\n",
    "F.<a> = GF(q^m, modulus=p) \n",
    "Fqm.<y> = GF(q^m) \n",
    "R.<x> = PolynomialRing(F) \n",
    "\n",
    "n = 255\n",
    "k = 128 \n",
    "\n",
    "message_length = 128 # bytes "
   ]
  },
  {
   "cell_type": "code",
   "execution_count": null,
   "id": "9b9f72eb",
   "metadata": {},
   "outputs": [],
   "source": []
  },
  {
   "cell_type": "code",
   "execution_count": 147,
   "id": "d9630dd8",
   "metadata": {
    "scrolled": true
   },
   "outputs": [],
   "source": [
    "def text2bin(msg):\n",
    "    return \"\".join([f\"{ord(m):08b}\" for m in msg])\n",
    "\n",
    "def bin2text(bin_s):\n",
    "    return \"\".join([chr(int(bin_s[i: i+8], 2)) for i in range(0, len(bin_s), 8)])\n",
    "\n",
    "def to_field_element(string):\n",
    "    \"\"\"Binary String to field Element\"\"\"\n",
    "    elem = 0\n",
    "    n = len(string)\n",
    "    for i in range(n):\n",
    "        coeff = int(string[n-i-1])\n",
    "        elem += coeff * a^i # coeff is 0 or 1\n",
    "    return elem\n",
    "\n",
    "\n",
    "def from_field_element(field_element):\n",
    "    \"\"\"Field Element to binary sring\"\"\"\n",
    "    return ''.join(map(str, vector(field_element)[::-1]))\n",
    "\n",
    "def convert_str_to_polynomial(msg): \n",
    "    msg = msg + \"x\"*(k - len(msg)) \n",
    "    # generate random message \n",
    "    # message = [random.randint(0, 255) for _ in range(message_length)]\n",
    "    message = text2bin(msg)\n",
    "    message = [message[i:i+8] for i in range(0, k, 8)]\n",
    "    \n",
    "    message = sum([to_field_element(e)*x^i for i,e in enumerate(message)])\n",
    "    \n",
    "    return message"
   ]
  },
  {
   "cell_type": "code",
   "execution_count": 148,
   "id": "fc79ed94",
   "metadata": {},
   "outputs": [
    {
     "data": {
      "text/plain": [
       "x + a^7 + a^5 + a^4"
      ]
     },
     "execution_count": 148,
     "metadata": {},
     "output_type": "execute_result"
    }
   ],
   "source": [
    "# define generator poly \n",
    "g_x = sum([(x - (a^i)) for i in range(q^m / 2 - 1)])\n",
    "# degree of generator poly. should be le #codewords\n",
    "g_x"
   ]
  },
  {
   "cell_type": "code",
   "execution_count": null,
   "id": "b63b9c11",
   "metadata": {},
   "outputs": [],
   "source": []
  },
  {
   "cell_type": "code",
   "execution_count": 168,
   "id": "c8d9a113",
   "metadata": {},
   "outputs": [],
   "source": [
    "\n",
    "def encodeRS(g, m): \n",
    "    \"\"\"\n",
    "    Takes a 128 - byte messagee, and encode it to a codeword \n",
    "        c, with a systematic encoding as \n",
    "        \n",
    "        m = (m_0,m_1,...,m_k-1) => c = (m_0, m_1,...,m_k-1, c_k,..._c_n-1)\n",
    "    \"\"\"\n",
    "    m_x = convert_str_to_polynomial(m)\n",
    "    # Now perform encoding \n",
    "    # c(x) => m(x) * x^(n-k) % g(x) \n",
    "\n",
    "    # formula book : \n",
    "    # m(x)*x^(n-k) - Remainder(m(x)*x^(n-k), g(x)) \n",
    "    \n",
    "    tmp = m_x * x^(n-k) \n",
    "    _, rem = tmp.quo_rem(g)\n",
    "    c_x = tmp - rem\n",
    "    print(c_x) \n",
    "    print() \n",
    "    c_x = c_x\n",
    "    return c_x\n",
    "\n"
   ]
  },
  {
   "cell_type": "code",
   "execution_count": 169,
   "id": "d1075884",
   "metadata": {},
   "outputs": [
    {
     "name": "stdout",
     "output_type": "stream",
     "text": [
      "(a^6 + a^5 + a^2 + 1)*x^142 + (a^6 + a^5 + a^3 + a^2)*x^141 + (a^6 + a^5 + a^4)*x^140 + (a^6 + a^5 + a^3 + a^2 + 1)*x^139 + (a^6 + a^5 + 1)*x^138 + (a^6 + a^5 + a^4 + a + 1)*x^137 + a^5*x^136 + (a^6 + a^5 + 1)*x^135 + a^5*x^134 + (a^6 + a^5 + a^4 + a + 1)*x^133 + (a^6 + a^5 + a^3 + 1)*x^132 + a^5*x^131 + (a^6 + a^5 + a^4 + a + 1)*x^130 + (a^6 + a^5 + a^3 + 1)*x^129 + (a^6 + a^5 + a^3)*x^128 + (a^6 + a^4 + a^2)*x^127 + a^7 + a^5 + a^4 + a^3 + a^2 + a\n",
      "\n"
     ]
    },
    {
     "data": {
      "text/plain": [
       "(a^6 + a^5 + a^2 + 1)*x^142 + (a^6 + a^5 + a^3 + a^2)*x^141 + (a^6 + a^5 + a^4)*x^140 + (a^6 + a^5 + a^3 + a^2 + 1)*x^139 + (a^6 + a^5 + 1)*x^138 + (a^6 + a^5 + a^4 + a + 1)*x^137 + a^5*x^136 + (a^6 + a^5 + 1)*x^135 + a^5*x^134 + (a^6 + a^5 + a^4 + a + 1)*x^133 + (a^6 + a^5 + a^3 + 1)*x^132 + a^5*x^131 + (a^6 + a^5 + a^4 + a + 1)*x^130 + (a^6 + a^5 + a^3 + 1)*x^129 + (a^6 + a^5 + a^3)*x^128 + (a^6 + a^4 + a^2)*x^127 + a^7 + a^5 + a^4 + a^3 + a^2 + a"
      ]
     },
     "execution_count": 169,
     "metadata": {},
     "output_type": "execute_result"
    }
   ],
   "source": [
    "text = \"This is a sample text, that is not too long\"  \n",
    "\n",
    "encodeRS(g_x, text) "
   ]
  },
  {
   "cell_type": "code",
   "execution_count": null,
   "id": "b5e6d26c",
   "metadata": {},
   "outputs": [],
   "source": []
  }
 ],
 "metadata": {
  "kernelspec": {
   "display_name": "SageMath 9.8",
   "language": "sage",
   "name": "sagemath-9.8"
  },
  "language_info": {
   "codemirror_mode": {
    "name": "ipython",
    "version": 3
   },
   "file_extension": ".py",
   "mimetype": "text/x-python",
   "name": "python",
   "nbconvert_exporter": "python",
   "pygments_lexer": "ipython3",
   "version": "3.11.1"
  }
 },
 "nbformat": 4,
 "nbformat_minor": 5
}
