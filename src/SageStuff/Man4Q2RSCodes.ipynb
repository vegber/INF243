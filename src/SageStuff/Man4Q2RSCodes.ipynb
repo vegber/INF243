{
 "cells": [
  {
   "cell_type": "markdown",
   "id": "2d239f8c",
   "metadata": {},
   "source": [
    "To implement the encodeRS(m) function for a [255, 128] Reed Solomon code with generator polynomial g(x) = (x-1)(x-α)(x-α^2)*(x-α^3)...(x-α^127), we can use the following steps:\n",
    "\n",
    "    Convert the input message m into a polynomial m(x) of degree k-1, where k = 128, by setting m(x) = m_0 + m_1x + ... + m_k-1x^(k-1).\n",
    "\n",
    "    Pad the message polynomial m(x) with k = 128 zeros to form a new polynomial M(x) of degree n-1 = 254, where n = 255. That is, set M(x) = m(x)*x^k.\n",
    "\n",
    "    Calculate the remainder polynomial R(x) = M(x) mod g(x) using polynomial long division or the Euclidean algorithm in GF(2^8).\n",
    "\n",
    "    The codeword c can be formed by appending the coefficients of the remainder polynomial R(x) to the message polynomial m(x), i.e., set c(x) = m(x) + R(x), and then evaluate the resulting polynomial c(x) at each element of GF(2^8) to obtain the codeword c = (c_0, c_1, ..., c_n-1)."
   ]
  },
  {
   "cell_type": "code",
   "execution_count": 31,
   "id": "e7754e1d",
   "metadata": {},
   "outputs": [],
   "source": [
    "# d = floor(128-1 / 2) = 63 \n",
    "# i.e correct up to 63 errors \n"
   ]
  },
  {
   "cell_type": "code",
   "execution_count": 32,
   "id": "8b56b241",
   "metadata": {},
   "outputs": [],
   "source": [
    "import secrets\n",
    "q = 2 \n",
    "m = 8 \n",
    "p = x^8 + x^4 + x^3 + x^2 + 1\n",
    "F.<a> = GF(q^m, modulus=p) \n",
    "Fqm.<y> = GF(q^m) \n",
    "R.<x> = PolynomialRing(F) \n",
    "\n",
    "n = 255\n",
    "k = 128 \n",
    "\n",
    "message_length = 128 # bytes "
   ]
  },
  {
   "cell_type": "code",
   "execution_count": null,
   "id": "9b9f72eb",
   "metadata": {},
   "outputs": [],
   "source": []
  },
  {
   "cell_type": "code",
   "execution_count": 33,
   "id": "d9630dd8",
   "metadata": {
    "scrolled": true
   },
   "outputs": [],
   "source": [
    "def text2bin(msg):\n",
    "    return \"\".join([f\"{ord(m):08b}\" for m in msg])\n",
    "\n",
    "def bin2text(bin_s):\n",
    "    return \"\".join([chr(int(bin_s[i: i+8], 2)) for i in range(0, len(bin_s), 8)])\n",
    "\n",
    "def to_field_element(string):\n",
    "    \"\"\"Binary String to field Element\"\"\"\n",
    "    elem = 0\n",
    "    n = len(string)\n",
    "    for i in range(n):\n",
    "        coeff = int(string[n-i-1])\n",
    "        elem += coeff * a^i # coeff is 0 or 1\n",
    "    return elem\n",
    "\n",
    "\n",
    "def from_field_element(field_element):\n",
    "    \"\"\"Field Element to binary sring\"\"\"\n",
    "    return ''.join(map(str, vector(field_element)[::-1]))\n",
    "\n",
    "def convert_str_to_polynomial(msg): \n",
    "    msg = msg + \"x\"*(k - len(msg)) \n",
    "    # generate random message \n",
    "    # message = [random.randint(0, 255) for _ in range(message_length)]\n",
    "    message = text2bin(msg)\n",
    "    message = [message[i:i+8] for i in range(0, k, 8)]\n",
    "    \n",
    "    message = sum([to_field_element(e)*x^i for i,e in enumerate(message)])\n",
    "    \n",
    "    return message"
   ]
  },
  {
   "cell_type": "code",
   "execution_count": 71,
   "id": "fc79ed94",
   "metadata": {},
   "outputs": [],
   "source": [
    "# define generator poly \n",
    "g_x = [(x - (a^i)) for i in range(q^m / 2 - 1)] \n",
    "# should I sum it ? \n",
    "# degree of generator poly. should be le #codewords\n",
    "g = prod(g_x)"
   ]
  },
  {
   "cell_type": "code",
   "execution_count": 75,
   "id": "b63b9c11",
   "metadata": {},
   "outputs": [],
   "source": [
    "# sanity check \n",
    "C = codes.ReedSolomonCode(GF(q^m, 'a'), n, k)"
   ]
  },
  {
   "cell_type": "code",
   "execution_count": 76,
   "id": "1c78032b",
   "metadata": {},
   "outputs": [],
   "source": [
    "Ccyc = codes.CyclicCode(code=C) "
   ]
  },
  {
   "cell_type": "code",
   "execution_count": 77,
   "id": "4bc9e516",
   "metadata": {},
   "outputs": [],
   "source": [
    "true_g = Ccyc.generator_polynomial()"
   ]
  },
  {
   "cell_type": "code",
   "execution_count": null,
   "id": "1b39f670",
   "metadata": {},
   "outputs": [],
   "source": []
  },
  {
   "cell_type": "code",
   "execution_count": 81,
   "id": "33c5b784",
   "metadata": {},
   "outputs": [
    {
     "data": {
      "text/plain": [
       "x^127 + (a^7 + a^5 + a^4)*x^126 + (a^6 + a^2 + a)*x^125 + (a^6 + a^5 + a^4 + a^2 + 1)*x^124 + (a^3 + a^2 + 1)*x^123 + (a^7 + a^4 + a)*x^122 + (a^6 + a^5 + a^3 + a + 1)*x^121 + (a^6 + a^5 + a^4 + a^2 + 1)*x^120 + (a^6 + a^4 + a^3 + a + 1)*x^119 + (a^6 + a^5 + a^3 + a^2 + 1)*x^118 + (a^6 + a^5)*x^117 + (a^6 + a^5 + a^4 + a^3 + a + 1)*x^116 + (a^5 + a^2 + a)*x^115 + (a^7 + a^5 + a^4 + a + 1)*x^114 + (a^6 + a^5 + a^2 + a)*x^113 + (a^7 + a^6 + a^2)*x^112 + (a^7 + a^5 + a^4 + a^3 + 1)*x^111 + (a^7 + a^3 + a^2 + a)*x^110 + (a^7 + a^6 + a^4 + a^2 + 1)*x^109 + (a^5 + a^4 + a^3 + 1)*x^108 + (a^6 + a^3 + a)*x^107 + (a^4 + a^3 + a)*x^106 + (a^5 + a^4 + a^2 + a + 1)*x^105 + a^4*x^104 + (a^7 + a^5)*x^103 + (a^6 + a^3 + 1)*x^102 + (a^4 + a^3 + a^2)*x^101 + (a^7 + a^6 + a^5 + a^2 + 1)*x^100 + a^7*x^99 + (a^7 + a^6 + a^5 + a^3 + a^2)*x^98 + (a^4 + a)*x^97 + (a^7 + a^5 + a^3)*x^96 + (a^6 + a^3 + a^2 + a + 1)*x^95 + (a^7 + a^3 + 1)*x^94 + (a^7 + a^6 + a^5 + a^4 + a^2 + a)*x^93 + (a^6 + a^5 + a^4 + a^3)*x^92 + (a^7 + a^5 + a^4 + a^3 + a^2 + a + 1)*x^91 + (a^5 + a^4 + a^3 + a^2 + 1)*x^90 + (a^6 + a^4 + a^2)*x^89 + (a^7 + a^6 + a^3 + 1)*x^88 + (a^7 + a^4 + a)*x^87 + (a^7 + a^6 + a^5)*x^86 + (a^7 + a^5 + a^4 + a)*x^85 + (a^5 + a + 1)*x^84 + (a^7 + a^6 + a^4 + a^2 + a + 1)*x^83 + (a^5 + a^3 + a^2)*x^82 + (a^7 + a^5 + a^2 + a)*x^81 + (a^7 + a^5 + a^4 + a^3 + a)*x^80 + (a^6 + a^4 + a^3 + a)*x^79 + (a^7 + a^6 + a^5 + a^3 + a^2 + a)*x^78 + (a^6 + a^2 + a)*x^77 + (a^7 + a^6 + a^5 + a^4 + a^3 + a^2 + a)*x^76 + (a^7 + a^6 + a^3 + a^2 + a)*x^75 + (a^7 + a^6 + a^5 + a^3 + a^2 + a + 1)*x^74 + (a^6 + a^5 + a + 1)*x^73 + (a^7 + a^5 + a^3 + 1)*x^72 + (a^7 + a^3 + a^2 + a)*x^71 + (a^7 + a^6 + a^5 + a^2 + a + 1)*x^70 + (a^7 + a^6 + a^5 + a)*x^69 + (a^5 + a^4 + a^3)*x^68 + (a^6 + a^3 + a^2 + 1)*x^67 + (a^7 + a^6 + a^5 + a^3 + a + 1)*x^66 + (a^7 + a^6 + a^3 + a + 1)*x^65 + (a^6 + a^4 + a^2 + 1)*x^64 + (a^7 + a^6 + a^5 + a^4 + a)*x^63 + (a^7 + a^6 + a^4 + a^2 + a + 1)*x^62 + (a^6 + a^5 + a^3 + a)*x^61 + (a^4 + a^3 + a^2 + a)*x^60 + a^3*x^59 + (a^7 + a^6 + a^3 + 1)*x^58 + (a^7 + a^5 + a^3 + 1)*x^57 + (a^6 + a^3 + a + 1)*x^56 + (a^6 + a^5 + a^3 + a^2 + a)*x^55 + (a^7 + a^6 + a^4 + a^2 + a)*x^54 + (a^4 + a^3 + a^2 + 1)*x^53 + (a^6 + a^5)*x^52 + (a^6 + a^5 + a^3 + a^2 + 1)*x^51 + (a^6 + a^4 + a^2 + a)*x^50 + (a^7 + a^5 + a^4 + 1)*x^49 + (a^7 + a^6 + a^4 + a^3 + a^2)*x^48 + (a^7 + a^6 + a^4 + a^3 + 1)*x^47 + (a^7 + a^6 + a^5 + a^3 + a^2 + 1)*x^46 + (a^6 + a^5 + a^4 + a^2 + 1)*x^45 + (a^5 + a^4 + a^3 + a^2)*x^44 + (a^7 + a^6 + a^5 + a^4 + a^3 + a^2 + 1)*x^43 + (a^6 + a^5 + a^4 + a^3 + a^2)*x^42 + (a^7 + a^6 + a^5 + a^4 + a + 1)*x^41 + (a^6 + a^4)*x^40 + (a^2 + 1)*x^39 + (a^7 + a^6 + a^4 + a^2)*x^38 + (a^7 + a^5 + a^3 + a^2 + 1)*x^37 + (a^7 + a^5 + a^4 + a^3 + a)*x^36 + (a^7 + a^2 + a)*x^35 + (a^7 + a^5 + a^4 + a^3 + a^2 + a)*x^34 + (a^6 + a^4 + a^3 + a + 1)*x^33 + (a + 1)*x^32 + (a^6 + a^5 + a^4 + a + 1)*x^31 + (a^6 + a^5 + a^2 + a + 1)*x^30 + (a^7 + a^6 + a^4 + a^3 + a)*x^29 + (a^6 + a^3 + a^2 + 1)*x^28 + (a^7 + a^5 + a^3 + a + 1)*x^27 + (a^7 + a^6 + a^5 + a^4 + a^3 + a^2 + 1)*x^26 + (a^7 + a^5 + a^4 + a^2 + a + 1)*x^25 + (a^7 + a^6 + a^4 + a^3 + a^2)*x^24 + a^7*x^23 + (a^7 + a^6 + a^4 + a)*x^22 + (a^4 + a^3 + a)*x^21 + (a^6 + a^5 + a + 1)*x^20 + (a^7 + a^5 + a^3 + a)*x^19 + (a + 1)*x^18 + (a^4 + a^3 + a + 1)*x^17 + (a^7 + a^4 + a^2 + a)*x^16 + (a^7 + a^6 + a^5 + a^4 + 1)*x^15 + (a^6 + a^5 + a^4 + a^3 + a^2 + 1)*x^14 + (a^6 + a^5 + a^4 + a + 1)*x^13 + (a^4 + a^2 + a + 1)*x^12 + (a^7 + a^6 + a^4 + a^2 + 1)*x^11 + (a^4 + a^2 + 1)*x^10 + (a^6 + a^5 + a^4 + a^3 + a^2)*x^9 + (a^4 + a^3 + a^2)*x^8 + x^7 + (a^6 + a^4 + a^2 + a + 1)*x^6 + (a^4 + a^2 + a + 1)*x^5 + (a^6 + a^4 + a + 1)*x^4 + (a^5 + a^4 + a^2 + a)*x^3 + (a^5 + a^3 + 1)*x^2 + (a^6 + a^5 + a^4 + a^3 + 1)*x + a^7 + a^6 + a^4 + a^3 + 1"
      ]
     },
     "execution_count": 81,
     "metadata": {},
     "output_type": "execute_result"
    }
   ],
   "source": [
    "g"
   ]
  },
  {
   "cell_type": "code",
   "execution_count": 52,
   "id": "c8d9a113",
   "metadata": {},
   "outputs": [],
   "source": [
    "\n",
    "def encodeRS(g, m): \n",
    "    \"\"\"\n",
    "    Takes a 128 - byte messagee, and encode it to a codeword \n",
    "        c, with a systematic encoding as \n",
    "        \n",
    "        m = (m_0,m_1,...,m_k-1) => c = (m_0, m_1,...,m_k-1, c_k,..._c_n-1)\n",
    "    \"\"\"\n",
    "    m_x = convert_str_to_polynomial(m)\n",
    "    print(m_x) \n",
    "    # Now perform encoding \n",
    "    # c(x) => m(x) * x^(n-k) % g(x) \n",
    "    # formula book : \n",
    "    # m(x)*x^(n-k) - Remainder(m(x)*x^(n-k), g(x)) \n",
    "    \n",
    "    tmp = m_x * x^(n-k) \n",
    "    c_x = tmp % g\n",
    "    # _, rem = tmp.quo_rem(g)\n",
    "    # c_x = tmp - rem\n",
    "    # c_x = c_x\n",
    "    return c_x\n",
    "\n"
   ]
  },
  {
   "cell_type": "code",
   "execution_count": 53,
   "id": "d1075884",
   "metadata": {},
   "outputs": [
    {
     "name": "stdout",
     "output_type": "stream",
     "text": [
      "(a^6 + a^5 + a^2 + 1)*x^15 + (a^6 + a^5 + a^3 + a^2)*x^14 + (a^6 + a^5 + a^4)*x^13 + (a^6 + a^5 + a^3 + a^2 + 1)*x^12 + (a^6 + a^5 + 1)*x^11 + (a^6 + a^5 + a^4 + a + 1)*x^10 + a^5*x^9 + (a^6 + a^5 + 1)*x^8 + a^5*x^7 + (a^6 + a^5 + a^4 + a + 1)*x^6 + (a^6 + a^5 + a^3 + 1)*x^5 + a^5*x^4 + (a^6 + a^5 + a^4 + a + 1)*x^3 + (a^6 + a^5 + a^3 + 1)*x^2 + (a^6 + a^5 + a^3)*x + a^6 + a^4 + a^2\n"
     ]
    },
    {
     "ename": "TypeError",
     "evalue": "no common canonical parent for objects with parents: 'Univariate Polynomial Ring in x over Finite Field in a of size 2^8' and '<class 'list'>'",
     "output_type": "error",
     "traceback": [
      "\u001b[0;31m---------------------------------------------------------------------------\u001b[0m",
      "\u001b[0;31mTypeError\u001b[0m                                 Traceback (most recent call last)",
      "Cell \u001b[0;32mIn [53], line 3\u001b[0m\n\u001b[1;32m      1\u001b[0m text \u001b[38;5;241m=\u001b[39m \u001b[38;5;124m\"\u001b[39m\u001b[38;5;124mThis is a sample text, that is not too long\u001b[39m\u001b[38;5;124m\"\u001b[39m  \n\u001b[0;32m----> 3\u001b[0m r \u001b[38;5;241m=\u001b[39m \u001b[43mencodeRS\u001b[49m\u001b[43m(\u001b[49m\u001b[43mg_x\u001b[49m\u001b[43m,\u001b[49m\u001b[43m \u001b[49m\u001b[43mtext\u001b[49m\u001b[43m)\u001b[49m\n\u001b[1;32m      4\u001b[0m \u001b[38;5;28mprint\u001b[39m() \n\u001b[1;32m      5\u001b[0m \u001b[38;5;28mprint\u001b[39m(r) \n",
      "Cell \u001b[0;32mIn [52], line 16\u001b[0m, in \u001b[0;36mencodeRS\u001b[0;34m(g, m)\u001b[0m\n\u001b[1;32m     10\u001b[0m \u001b[38;5;66;03m# Now perform encoding \u001b[39;00m\n\u001b[1;32m     11\u001b[0m \u001b[38;5;66;03m# c(x) => m(x) * x^(n-k) % g(x) \u001b[39;00m\n\u001b[1;32m     12\u001b[0m \u001b[38;5;66;03m# formula book : \u001b[39;00m\n\u001b[1;32m     13\u001b[0m \u001b[38;5;66;03m# m(x)*x^(n-k) - Remainder(m(x)*x^(n-k), g(x)) \u001b[39;00m\n\u001b[1;32m     15\u001b[0m tmp \u001b[38;5;241m=\u001b[39m m_x \u001b[38;5;241m*\u001b[39m x\u001b[38;5;241m*\u001b[39m\u001b[38;5;241m*\u001b[39m(n\u001b[38;5;241m-\u001b[39mk) \n\u001b[0;32m---> 16\u001b[0m c_x \u001b[38;5;241m=\u001b[39m \u001b[43mtmp\u001b[49m\u001b[43m \u001b[49m\u001b[38;5;241;43m%\u001b[39;49m\u001b[43m \u001b[49m\u001b[43mg\u001b[49m\n\u001b[1;32m     17\u001b[0m \u001b[38;5;66;03m# _, rem = tmp.quo_rem(g)\u001b[39;00m\n\u001b[1;32m     18\u001b[0m \u001b[38;5;66;03m# c_x = tmp - rem\u001b[39;00m\n\u001b[1;32m     19\u001b[0m \u001b[38;5;66;03m# c_x = c_x\u001b[39;00m\n\u001b[1;32m     20\u001b[0m \u001b[38;5;28;01mreturn\u001b[39;00m c_x\n",
      "File \u001b[0;32m/private/var/tmp/sage-9.8-current/local/var/lib/sage/venv-python3.11.1/lib/python3.11/site-packages/sage/rings/polynomial/polynomial_element.pyx:2888\u001b[0m, in \u001b[0;36msage.rings.polynomial.polynomial_element.Polynomial.__mod__ (build/cythonized/sage/rings/polynomial/polynomial_element.c:30578)\u001b[0;34m()\u001b[0m\n\u001b[1;32m   2886\u001b[0m     2*x - 1\n\u001b[1;32m   2887\u001b[0m \"\"\"\n\u001b[0;32m-> 2888\u001b[0m _, R = self.quo_rem(other)\n\u001b[1;32m   2889\u001b[0m return R\n\u001b[1;32m   2890\u001b[0m \n",
      "File \u001b[0;32m/private/var/tmp/sage-9.8-current/local/var/lib/sage/venv-python3.11.1/lib/python3.11/site-packages/sage/structure/element.pyx:4499\u001b[0m, in \u001b[0;36msage.structure.element.coerce_binop.new_method (build/cythonized/sage/structure/element.c:28232)\u001b[0;34m()\u001b[0m\n\u001b[1;32m   4497\u001b[0m     return method(self, other, *args, **kwargs)\n\u001b[1;32m   4498\u001b[0m else:\n\u001b[0;32m-> 4499\u001b[0m     a, b = coercion_model.canonical_coercion(self, other)\n\u001b[1;32m   4500\u001b[0m     if a is self:\n\u001b[1;32m   4501\u001b[0m         return method(a, b, *args, **kwargs)\n",
      "File \u001b[0;32m/private/var/tmp/sage-9.8-current/local/var/lib/sage/venv-python3.11.1/lib/python3.11/site-packages/sage/structure/coerce.pyx:1393\u001b[0m, in \u001b[0;36msage.structure.coerce.CoercionModel.canonical_coercion (build/cythonized/sage/structure/coerce.c:13959)\u001b[0;34m()\u001b[0m\n\u001b[1;32m   1391\u001b[0m         self._record_exception()\n\u001b[1;32m   1392\u001b[0m \n\u001b[0;32m-> 1393\u001b[0m raise TypeError(\"no common canonical parent for objects with parents: '%s' and '%s'\"%(xp, yp))\n\u001b[1;32m   1394\u001b[0m \n\u001b[1;32m   1395\u001b[0m \n",
      "\u001b[0;31mTypeError\u001b[0m: no common canonical parent for objects with parents: 'Univariate Polynomial Ring in x over Finite Field in a of size 2^8' and '<class 'list'>'"
     ]
    }
   ],
   "source": [
    "text = \"This is a sample text, that is not too long\"  \n",
    "\n",
    "r = encodeRS(g_x, text)\n",
    "print() \n",
    "print(r) \n"
   ]
  },
  {
   "cell_type": "code",
   "execution_count": 28,
   "id": "b5e6d26c",
   "metadata": {},
   "outputs": [
    {
     "name": "stdout",
     "output_type": "stream",
     "text": [
      "a^6 + a^5 + a^4 + a^3 + a^2 + 1\n",
      "a^6 + a^5 + a^4 + a^3 + a^2 + 1\n",
      "a^7 + a^5 + a^4 + a^2\n",
      "a^7 + a^6 + a^5 + a^3 + a^2\n",
      "a^5 + a^4 + a^3 + a^2 + a\n",
      "a^6 + a^5 + a\n",
      "a^6 + a^3 + a^2 + a\n",
      "a^4 + a + 1\n",
      "a^7 + a^3 + a\n",
      "a^5 + a^4 + a^3\n",
      "a^5 + a^4 + a^3\n",
      "a^7 + a^4 + 1\n",
      "a^7 + a^5\n",
      "a^6 + a^4 + a^3 + a^2 + 1\n",
      "a^4 + a^3 + a^2 + a + 1\n",
      "a^7 + a^6 + a^4 + a^3 + a^2 + 1\n",
      "0\n",
      "a^7 + a^6 + a^5 + a^4 + a^2 + a + 1\n",
      "a^4 + a^3 + a + 1\n",
      "a^7 + a^6 + a^5 + a^4 + a^3 + a^2\n",
      "a^5 + a + 1\n",
      "a^7 + a^6 + a\n",
      "a^7 + a^6 + a^5 + a^4 + a^3 + 1\n",
      "a^6 + a^5 + a^4 + a^3 + a^2\n",
      "a^4 + a^2\n",
      "a^7 + a^6 + a^5 + a^4 + a^3 + 1\n",
      "a^5 + a^3 + a^2 + a + 1\n",
      "a^7 + a^5 + a^4 + a^3 + a^2 + a\n",
      "a^5 + a^3 + a^2 + 1\n",
      "a^7 + a^6 + a^5 + a^4 + a^2 + a\n",
      "a^6 + a^5 + a^4 + a + 1\n",
      "a^6 + a^5 + a^4 + a^2 + a\n",
      "a^6 + a^4 + a^2 + 1\n",
      "a^7 + a^5 + a^3 + a^2 + a\n",
      "a^7 + a^2 + a\n",
      "a^7 + a^6 + a^3 + a\n",
      "a^4 + a^3 + a^2 + a + 1\n",
      "a^7 + a^6 + a^5 + a^4 + a^2 + 1\n",
      "a^5\n",
      "1\n",
      "a^4\n",
      "a^7 + a^6 + a^4 + a^3 + a^2\n",
      "a^2 + a + 1\n",
      "a^7 + a^5 + a^4 + a + 1\n",
      "a^4 + a + 1\n",
      "a^7 + a^4\n",
      "a^6 + a^4 + a^3 + a^2 + a\n",
      "a^5 + a^3 + 1\n",
      "a^7 + a^5 + a^3 + a^2 + a + 1\n",
      "a^4 + a^2 + 1\n",
      "a^7 + a^6\n",
      "a^7 + a^6 + a^4 + a^3 + a\n",
      "a^6 + a + 1\n",
      "a^4 + a^3 + a\n",
      "a^7 + a^5 + a^3 + 1\n",
      "a^7 + a^6 + a^3 + a^2\n",
      "a^6 + a^3 + a^2 + 1\n",
      "a^3 + a^2\n",
      "a^4 + a^3 + a^2 + a + 1\n",
      "a^5 + a^4 + a^3 + a + 1\n",
      "a^7 + a^6 + a^3 + a^2 + 1\n",
      "a^6 + a^5 + a^4 + a^3 + 1\n",
      "a^7 + a^5 + a^2 + 1\n"
     ]
    }
   ],
   "source": [
    "\n",
    "# Decoding part \n",
    "\n",
    "def decodeRS(r): \n",
    "    \n",
    "    # calulate syndroms \n",
    "    t = floor((k - 1) / 2)\n",
    "    syndroms = [r(a^i) for i in range(1, t + 1)]\n",
    "    for _ in syndroms: \n",
    "        print(_)\n",
    "    \n",
    "    \n",
    "decodeRS(r)"
   ]
  },
  {
   "cell_type": "code",
   "execution_count": null,
   "id": "b2d7068c",
   "metadata": {},
   "outputs": [],
   "source": []
  }
 ],
 "metadata": {
  "kernelspec": {
   "display_name": "SageMath 9.8",
   "language": "sage",
   "name": "sagemath-9.8"
  },
  "language_info": {
   "codemirror_mode": {
    "name": "ipython",
    "version": 3
   },
   "file_extension": ".py",
   "mimetype": "text/x-python",
   "name": "python",
   "nbconvert_exporter": "python",
   "pygments_lexer": "ipython3",
   "version": "3.11.1"
  }
 },
 "nbformat": 4,
 "nbformat_minor": 5
}
