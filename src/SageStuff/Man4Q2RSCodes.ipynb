{
 "cells": [
  {
   "cell_type": "markdown",
   "id": "2d239f8c",
   "metadata": {},
   "source": [
    "To implement the encodeRS(m) function for a [255, 128] Reed Solomon code with generator polynomial g(x) = (x-1)(x-α)(x-α^2)*(x-α^3)...(x-α^127), we can use the following steps:\n",
    "\n",
    "    Convert the input message m into a polynomial m(x) of degree k-1, where k = 128, by setting m(x) = m_0 + m_1x + ... + m_k-1x^(k-1).\n",
    "\n",
    "    Pad the message polynomial m(x) with k = 128 zeros to form a new polynomial M(x) of degree n-1 = 254, where n = 255. That is, set M(x) = m(x)*x^k.\n",
    "\n",
    "    Calculate the remainder polynomial R(x) = M(x) mod g(x) using polynomial long division or the Euclidean algorithm in GF(2^8).\n",
    "\n",
    "    The codeword c can be formed by appending the coefficients of the remainder polynomial R(x) to the message polynomial m(x), i.e., set c(x) = m(x) + R(x), and then evaluate the resulting polynomial c(x) at each element of GF(2^8) to obtain the codeword c = (c_0, c_1, ..., c_n-1)."
   ]
  },
  {
   "cell_type": "code",
   "execution_count": 464,
   "id": "e7754e1d",
   "metadata": {},
   "outputs": [],
   "source": [
    "# d = floor(128-1 / 2) = 63 \n",
    "# i.e correct up to 63 errors "
   ]
  },
  {
   "cell_type": "code",
   "execution_count": 465,
   "id": "8b56b241",
   "metadata": {},
   "outputs": [],
   "source": [
    "# Set the base field size to 2 (binary field)\n",
    "q = 2 \n",
    "# Set the extension field size to 8\n",
    "m = 8 \n",
    "# Define the modulus polynomial for the extension field\n",
    "p = x^8 + x^4 + x^3 + x^2 + 1\n",
    "# Create the extension field with the specified base field size and modulus polynomial\n",
    "# The field element is named 'a'\n",
    "F.<a> = GF(q^m, modulus=p) \n",
    "# Create a polynomial ring over the extension field 'F'\n",
    "# The polynomial is named 'x'\n",
    "R.<x> = PolynomialRing(F) \n",
    "# Set the length of the message in bytes\n",
    "message_length = 128 # bytes\n",
    "# Set the number of symbols in the codeword\n",
    "n = 255\n",
    "# Set the number of message symbols in the codeword\n",
    "k = 128"
   ]
  },
  {
   "cell_type": "code",
   "execution_count": 466,
   "id": "d9630dd8",
   "metadata": {
    "scrolled": true
   },
   "outputs": [],
   "source": [
    "def text2bin(msg):\n",
    "    \"\"\"Converts text to binary string\"\"\"\n",
    "    return \"\".join([f\"{ord(m):08b}\" for m in msg])\n",
    "\n",
    "def bin2text(bin_s):\n",
    "    \"\"\"Converts binary string to text\"\"\"\n",
    "    return \"\".join([chr(int(bin_s[i: i+8], 2)) for i in range(0, len(bin_s), 8)])\n",
    "\n",
    "def to_field_element(string):\n",
    "    \"\"\"Converts binary string to a field element\"\"\"\n",
    "    elem = 0\n",
    "    n = len(string)\n",
    "    for i in range(n):\n",
    "        coeff = int(string[n-i-1])\n",
    "        elem += coeff * a^i # coeff is 0 or 1\n",
    "    return elem\n",
    "\n",
    "def from_field_element(field_element):\n",
    "    \"\"\"Converts a field element to a binary string\"\"\"\n",
    "    return ''.join(map(str, vector(field_element)[::-1]))\n",
    "\n",
    "def convert_str_to_polynomial(msg):\n",
    "    \"\"\"Converts a string to a polynomial in the extension field\"\"\"\n",
    "    # Padding the message with zeros to make it of length k\n",
    "    msg = \"0\"*(k - len(msg)) + msg\n",
    "    # Converting the message to binary string\n",
    "    message = text2bin(msg)\n",
    "    # Splitting the binary string into 8-bit segments\n",
    "    message = [message[i:i+8] for i in range(0, k*8, 8)]\n",
    "    # Converting each 8-bit segment to a field element and multiplying it with x raised to a power\n",
    "    message = sum([to_field_element(e)*x^i for i,e in enumerate(message)])\n",
    "    return message\n"
   ]
  },
  {
   "cell_type": "code",
   "execution_count": 472,
   "id": "fc79ed94",
   "metadata": {},
   "outputs": [],
   "source": [
    "# define generator poly \n",
    "# g_x = prod([(x - (a^i)) for i in range((q^m / 2))])\n",
    "\n",
    "# Define generator polynomial as the product of (x - alpha^i) for i in [0, (q^m / 2))\n",
    "# where alpha is a primitive element of the finite field GF(q^m)\n",
    "# and q and m are constants defined earlier in the code\n",
    "g_x = prod([(x - (a^i)) for i in range((q^m / 2))])\n"
   ]
  },
  {
   "cell_type": "code",
   "execution_count": 473,
   "id": "c8d9a113",
   "metadata": {},
   "outputs": [],
   "source": [
    "def encodeRS(g, m): \n",
    "    \"\"\"\n",
    "    Takes a 128 - byte messagee, and encode it to a codeword \n",
    "        c, with a systematic encoding as \n",
    "        m = (m_0,m_1,...,m_k-1) => c = (m_0, m_1,...,m_k-1, c_k,..._c_n-1)\n",
    "    \"\"\"\n",
    "    m = convert_str_to_polynomial(m)\n",
    "    return m * x^(127) - (m* x^(127)) % g"
   ]
  },
  {
   "cell_type": "code",
   "execution_count": 479,
   "id": "d09f74d8",
   "metadata": {},
   "outputs": [],
   "source": [
    "def encode_RS(generator_poly, message):\n",
    "    \"\"\"\n",
    "    Encodes a 128-byte message into a codeword using a systematic encoding.\n",
    "    The message is first converted into a polynomial, then multiplied by x^(n-k),\n",
    "    where n is the length of the codeword and k is the length of the message.\n",
    "    The resulting polynomial is then divided by the generator polynomial to obtain the\n",
    "    error-correction code, which is appended to the message to form the codeword.\n",
    "\n",
    "    :param generator_poly: the generator polynomial for the Reed-Solomon code\n",
    "    :param message: the message to be encoded\n",
    "    :return: the encoded codeword\n",
    "    \"\"\"\n",
    "    message_poly = convert_str_to_polynomial(message)\n",
    "    codeword_poly = message_poly * x^(n-k) - (message_poly * x^(n-k)) % generator_poly\n",
    "    return codeword_poly"
   ]
  },
  {
   "cell_type": "code",
   "execution_count": 481,
   "id": "c7e3eb2d",
   "metadata": {},
   "outputs": [],
   "source": [
    "# Now, my custom text is the old joke: \n",
    "# This is to be encoded, \"simulated\" transmissioned over the air \n",
    "# Some error is added to the polynomial \n",
    "# and need to be corrected. \n",
    "text = \"Why don't scientists trust atoms? Because they make up everything! haha\"\n",
    "text_padding = (n - len(text)) # nice to have in this synthetic exercise \n",
    "\n",
    "encoded_text = encodeRS(g_x, text) # + x^4 + x + 1\n",
    "r = encoded_text + x^4 + (a^7)*x + 2*x +1 # add some error vector \n"
   ]
  },
  {
   "cell_type": "code",
   "execution_count": 485,
   "id": "b5e6d26c",
   "metadata": {},
   "outputs": [],
   "source": [
    "def EEA(a, s_x, p): #Extended Euclidean Algoritm\n",
    "        old_r = a;\n",
    "        r = s_x;\n",
    "        buffer_r = old_r;\n",
    "        old_s = 1;\n",
    "        s = 0;\n",
    "        buffer_s = old_s;\n",
    "        old_t = 0;\n",
    "        t = 1;\n",
    "        buffer_t = old_t;\n",
    "        while old_r.degree() >= p:\n",
    "            q = old_r // r;\n",
    "            old_r = r;\n",
    "            r = buffer_r - (q*r);\n",
    "            old_s = s;\n",
    "            s = buffer_s - (q*s);\n",
    "            old_t = t;\n",
    "            t = buffer_t - (q*t);\n",
    "            buffer_r = old_r;\n",
    "            buffer_s = old_s;\n",
    "            buffer_t = old_t;\n",
    "        return old_r, old_s, old_t\n",
    "\n",
    "\n",
    "def decode_to_ascii(poly):     \n",
    "    tmp = ''.join([from_field_element(_) for _ in poly])\n",
    "    return (bin2text(tmp))\n",
    "    \n",
    "# Decoding part\n",
    "def decodeRS(r): \n",
    "    # calulate syndroms \n",
    "    t = floor((n-k) / 2) \n",
    "    syndrom_list = [r(a^i) * x^(i-1) for i in range(1, 2*t+1)]\n",
    "    s_x = sum([r(a^i)*x^(i-1) for i in range(1, 2*t+1)])\n",
    "    if any(s_x): \n",
    "        # Not error free, doing decoding!\n",
    "        omega_x, theta, lambda_ = EEA(x^(2*t), s_x, t)\n",
    "        \n",
    "        if lambda_.degree() >= 63: \n",
    "            print(\"Failure of decoding! \")\n",
    "            return 0 \n",
    "        \n",
    "        XXX = lambda_.roots()\n",
    "        deriv_ = diff(lambda_)\n",
    "        \n",
    "        # err locations\n",
    "        e_i = [(n - y[0].log(a))%n for y in XXX]\n",
    "\n",
    "        # error values at locations \n",
    "        err_poly = sum([((omega_x(y))/deriv_(y))*x^y for y in e_i])\n",
    "        \n",
    "        # error polynomials \n",
    "        # err_poly = sum([err for err in err_values])\n",
    "        correct_poly = r - err_poly\n",
    "        \n",
    "        # decode to ascii: \n",
    "        ascii_ = decode_to_ascii(correct_poly)\n",
    "        return correct_poly, ascii_\n",
    "    else: # error free received vector \n",
    "        print(\"No errors in received R!\")\n",
    "        return r\n",
    "    \n",
    "decoded, decoded_text = decodeRS(r)"
   ]
  },
  {
   "cell_type": "code",
   "execution_count": 486,
   "id": "b2d7068c",
   "metadata": {},
   "outputs": [
    {
     "name": "stdout",
     "output_type": "stream",
     "text": [
      "Why don't scientists trust atoms? Because they make up everything! haha\n"
     ]
    }
   ],
   "source": [
    "print(decoded_text[text_padding:])"
   ]
  },
  {
   "cell_type": "code",
   "execution_count": null,
   "id": "2c24bf1f",
   "metadata": {},
   "outputs": [],
   "source": []
  },
  {
   "cell_type": "code",
   "execution_count": null,
   "id": "04fe97d9",
   "metadata": {},
   "outputs": [],
   "source": []
  },
  {
   "cell_type": "code",
   "execution_count": null,
   "id": "38c79e25",
   "metadata": {},
   "outputs": [],
   "source": []
  },
  {
   "cell_type": "code",
   "execution_count": null,
   "id": "ecc12f0c",
   "metadata": {},
   "outputs": [],
   "source": []
  }
 ],
 "metadata": {
  "kernelspec": {
   "display_name": "SageMath 9.8",
   "language": "sage",
   "name": "sagemath-9.8"
  },
  "language_info": {
   "codemirror_mode": {
    "name": "ipython",
    "version": 3
   },
   "file_extension": ".py",
   "mimetype": "text/x-python",
   "name": "python",
   "nbconvert_exporter": "python",
   "pygments_lexer": "ipython3",
   "version": "3.11.1"
  }
 },
 "nbformat": 4,
 "nbformat_minor": 5
}
