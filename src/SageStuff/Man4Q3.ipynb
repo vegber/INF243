{
 "cells": [
  {
   "cell_type": "code",
   "execution_count": 1,
   "id": "3dc96e35",
   "metadata": {},
   "outputs": [],
   "source": [
    "q = 2 \n",
    "m = 6 \n",
    "p = x^6 + x^4 + x^3 + x + 1\n",
    "F.<a> = GF(q^m, modulus=p)\n",
    "R.<x> = PolynomialRing(F) "
   ]
  },
  {
   "cell_type": "markdown",
   "id": "5a594f04",
   "metadata": {},
   "source": [
    "Suppose \n",
    "    m = 6 </br>\n",
    "    a is prim. elem  </br>\n",
    "    q = 2  </br>\n",
    "    p(a) = a^6 + a^4 + a^3 + a + 1 \n"
   ]
  },
  {
   "cell_type": "code",
   "execution_count": 2,
   "id": "60a50029",
   "metadata": {},
   "outputs": [
    {
     "data": {
      "text/plain": [
       "[1, 0, 0, 0, 0, 0, 1]"
      ]
     },
     "execution_count": 2,
     "metadata": {},
     "output_type": "execute_result"
    }
   ],
   "source": [
    "g = x^7 + x + 1\n",
    "g_t = [1, 0, 0, 0, 0, 0, 1] # hardcoded for now: \n",
    "g_t"
   ]
  },
  {
   "cell_type": "code",
   "execution_count": 3,
   "id": "3e803206",
   "metadata": {},
   "outputs": [
    {
     "data": {
      "text/plain": [
       "7"
      ]
     },
     "execution_count": 3,
     "metadata": {},
     "output_type": "execute_result"
    }
   ],
   "source": [
    "n = q^m \n",
    "T = g.degree() \n",
    "T"
   ]
  },
  {
   "cell_type": "code",
   "execution_count": 4,
   "id": "38b70f49",
   "metadata": {},
   "outputs": [
    {
     "data": {
      "text/plain": [
       "64"
      ]
     },
     "execution_count": 4,
     "metadata": {},
     "output_type": "execute_result"
    }
   ],
   "source": [
    "L =[a^i for i in range(1, n + 1) if g(a^i) != 0 ]\n",
    "len(L)"
   ]
  },
  {
   "cell_type": "code",
   "execution_count": 5,
   "id": "96d3ed61",
   "metadata": {},
   "outputs": [
    {
     "name": "stdout",
     "output_type": "stream",
     "text": [
      "64\n",
      "dimension Z (64, 64)\n",
      "dimension Y (7, 64)\n",
      "dimension X (7, 7)\n"
     ]
    }
   ],
   "source": [
    "# lookup_alpha\n",
    "# L =[a^i for i in range(1, n+1) if g(a^i) != 0 ]\n",
    "print(len(L))\n",
    "Z = matrix(F, [[(1 / g(el)) if i == j else 0 for i, el in enumerate(L)] for j in range(n)])\n",
    "Y = matrix(F, [[a_i^t for a_i in L] for t in range(T)])\n",
    "X = [[0] * len(g_t) for _ in range(len(g_t))]\n",
    "for i in range(len(g_t)): \n",
    "    for j in range(len(g_t)): \n",
    "        if j >= i: \n",
    "            X[j][i] = g_t[j-i]\n",
    "X = matrix(F, X) \n",
    "print(f\"dimension Z {Z.dimensions()}\")\n",
    "print(f\"dimension Y {Y.dimensions()}\")\n",
    "print(f\"dimension X {X.dimensions()}\")"
   ]
  },
  {
   "cell_type": "code",
   "execution_count": 6,
   "id": "2477688c",
   "metadata": {},
   "outputs": [
    {
     "data": {
      "text/plain": [
       "(42, 64)"
      ]
     },
     "execution_count": 6,
     "metadata": {},
     "output_type": "execute_result"
    }
   ],
   "source": [
    "H = X*Y*Z.T\n",
    "H.dimensions()\n",
    "H_ = [] \n",
    "for row in H.T: \n",
    "    vec = vector(F, list([vector(i) for i in row]))\n",
    "    sss = [] \n",
    "    for r in vec: \n",
    "        sss += r \n",
    "    H_.append(sss) \n",
    "H_ = matrix(H_).T\n",
    "H_.dimensions()"
   ]
  },
  {
   "cell_type": "code",
   "execution_count": 7,
   "id": "385dbe3e",
   "metadata": {},
   "outputs": [
    {
     "name": "stdout",
     "output_type": "stream",
     "text": [
      "worked!\n"
     ]
    },
    {
     "data": {
      "text/plain": [
       "(22, 64)"
      ]
     },
     "execution_count": 7,
     "metadata": {},
     "output_type": "execute_result"
    }
   ],
   "source": [
    "generator_matrix = H_.right_kernel_matrix()\n",
    "null_basis = generator_matrix*H.T \n",
    "if any(null_basis): \n",
    "    print(\"failed\") \n",
    "else:\n",
    "    print(\"worked!\") \n",
    "generator_matrix.dimensions()"
   ]
  },
  {
   "cell_type": "markdown",
   "id": "55383acb",
   "metadata": {},
   "source": [
    "Sanity check:"
   ]
  },
  {
   "cell_type": "code",
   "execution_count": 8,
   "id": "eccd333b",
   "metadata": {},
   "outputs": [
    {
     "name": "stdout",
     "output_type": "stream",
     "text": [
      "2\n",
      "8\n",
      "(22, 64)\n"
     ]
    },
    {
     "data": {
      "text/plain": [
       "True"
      ]
     },
     "execution_count": 8,
     "metadata": {},
     "output_type": "execute_result"
    }
   ],
   "source": [
    "C = codes.GoppaCode(g, L) \n",
    "print(f\"{C.minimum_distance()}\") \n",
    "print(f\"{C.distance_bound()}\")\n",
    "print(f\"{C.generator_matrix().dimensions()}\")\n",
    "HHH = C.parity_check_matrix()\n",
    "HHH.row_space() == H_.row_space()\n"
   ]
  },
  {
   "cell_type": "code",
   "execution_count": 9,
   "id": "385554e5",
   "metadata": {},
   "outputs": [],
   "source": [
    "text = \"TIMEFLIESQUICKLY\" \n",
    "\n",
    "def text2bin(msg):\n",
    "    return \"\".join(f\"{ord(i):08b}\" for i in msg) \n",
    "def bin2text(bin_s): \n",
    "    return \"\".join([chr(int(bin_s[i:i+8], 2)) for i in range(0, len(bin_s), 8)])\n",
    "def to_field_element(string):\n",
    "    \"\"\"Binary String to field Element\"\"\"\n",
    "    elem = 0\n",
    "    n = len(string)\n",
    "    for i in range(n):\n",
    "        coeff = int(string[n-i-1])\n",
    "        elem += coeff * a^i # coeff is 0 or 1\n",
    "    return elem\n",
    "\n",
    "def encodeGoppa(m):\n",
    "    bin_m = text2bin(m) \n",
    "    m = m + \"0\"*(128 - len(bin_m)) \n",
    "    bin_m_chunks = [bin_m[i:i+64] for i in range(0, len(bin_m), 64)]\n",
    "    half_blocks = []\n",
    "    for half in bin_m_chunks:\n",
    "        r_i = 0 \n",
    "        for i, value in enumerate(half): \n",
    "            r_i += int(value) / (x - (a^i)) \n",
    "        if r_i.mod(g) == 0: # \n",
    "            half_blocks.append(r_i)\n",
    "        else: \n",
    "            raise Exception(\"Was not zero!\")\n",
    "        r_i = 0 \n",
    "    return half_blocks\n",
    "\n",
    "\n",
    "code_word = encodeGoppa(text)"
   ]
  },
  {
   "cell_type": "code",
   "execution_count": 10,
   "id": "60f2610f",
   "metadata": {},
   "outputs": [
    {
     "data": {
      "text/plain": [
       "22 x 64 dense matrix over Finite Field of size 2 (use the '.str()' method to see the entries)"
      ]
     },
     "execution_count": 10,
     "metadata": {},
     "output_type": "execute_result"
    }
   ],
   "source": [
    "generator_matrix"
   ]
  },
  {
   "cell_type": "markdown",
   "id": "1d5bbde9",
   "metadata": {},
   "source": [
    "# Goppa decoding "
   ]
  },
  {
   "cell_type": "markdown",
   "id": "34540286",
   "metadata": {},
   "source": [
    "Pattersons algortihm for decoding. Corrects t design errors.  \n",
    "Patterson converts a syndrome to a vector of erros. The syndrome of a binary word c = (c_0, ..., c_n-1) is "
   ]
  },
  {
   "cell_type": "code",
   "execution_count": 11,
   "id": "a20a7490",
   "metadata": {},
   "outputs": [],
   "source": [
    "import random \n",
    "# r = vector(F, (0, 0, 0, 1, 0, 0, 0, 1, 0, 0, 1, 0, 1, 1, 1, 1, 1, 1, 1, 1, 1, 1, 1, 1, 0, 1, 0, 0, 1, 0, 0, 0, 1, 1, 0, 1, 1, 1, 0, 1, 0, 1, 0, 0, 0, 0, 0, 1, 1, 1, 0, 0, 0, 0, 1, 0, 0, 1, 1, 1, 1, 1, 0, 1))\n",
    "r = vector(GF(2), [random.choice([0, 1]) for _ in range(64)])\n",
    "# r =  vector(F, generator_matrix.T * r)\n",
    "# rr = vector(GF(2), valid_r * generator_matrix.T)\n",
    "#c = generator_matrix * r\n",
    "# r = vector(F, (1, 1, 0, 0, 1, 0, 0, 1, 1, 1, 1, 0, 1, 0, 1, 1, 1, 0, 0, 1, 1, 0, 0, 0, 0, 1, 0, 1, 0, 0, 1, 0, 1, 0, 1, 1, 0, 1, 0, 1, 1, 0, 0, 0, 0, 0, 1, 0, 0, 0, 1, 0, 1, 1, 1, 0, 0, 1, 1, 1, 0, 0, 0, 1))\n",
    "len(r)\n",
    "n = 7 "
   ]
  },
  {
   "cell_type": "code",
   "execution_count": 12,
   "id": "d0a9480c",
   "metadata": {},
   "outputs": [],
   "source": [
    "# r = vector(F, r * generator_matrix.T)"
   ]
  },
  {
   "cell_type": "code",
   "execution_count": 14,
   "id": "faed358e",
   "metadata": {},
   "outputs": [
    {
     "data": {
      "text/plain": [
       "x^64 + a*x^63 + x + a"
      ]
     },
     "execution_count": 14,
     "metadata": {},
     "output_type": "execute_result"
    }
   ],
   "source": [
    "h = prod((x-value) for value in L)\n",
    "h"
   ]
  },
  {
   "cell_type": "code",
   "execution_count": 15,
   "id": "ef3afad2",
   "metadata": {},
   "outputs": [],
   "source": [
    "# input to goppa decoding is a binary vector, of vector in base field \n",
    "def find_syndromes(received_vector):  \n",
    "    codelocators = [] \n",
    "    F_2m = g.base_ring()\n",
    "    PR_f_2m = g.parent() \n",
    "    X = PR_f_2m.gen() \n",
    "    codelocators = [a^(i+1) for i in range(n-1)]\n",
    "    codelocators.append(F_2m(0))\n",
    "    syndrome_vector = vector(PR_f_2m, [(x - codelocators[i]).inverse_mod(g) for i in range(n)])\n",
    "    return syndrome_vector * received_vector\n",
    "    \n",
    "def find_syndromesV2(received): \n",
    "    \"\"\"\n",
    "    Syndrome of r is the result of H x r where H is the \n",
    "    parity check matrix. r belongs to the code if its \n",
    "    syndrome equals to the zero vector.\n",
    "    \"\"\"\n",
    "    \n",
    "    return H_ * received \n",
    "    \n",
    "def GoppaDecoding(s_x, g_x):\n",
    "    \n",
    "    pass \n"
   ]
  },
  {
   "cell_type": "code",
   "execution_count": null,
   "id": "f5b7078b",
   "metadata": {},
   "outputs": [],
   "source": []
  },
  {
   "cell_type": "code",
   "execution_count": 16,
   "id": "2a8f0e5b",
   "metadata": {},
   "outputs": [],
   "source": [
    "def from_list_to_poly(generic_list): \n",
    "    return sum([x for x in generic_list])"
   ]
  },
  {
   "cell_type": "code",
   "execution_count": 74,
   "id": "f5cc2c14",
   "metadata": {},
   "outputs": [],
   "source": [
    "# assume f(x) = x^2 +1 = [1, 0, 1]\n",
    "f_x = x^5 + x^4+ x^3 + x^2 + x + 1\n",
    "def Berlekamp_decoding(f_x):  \n",
    "    \"\"\"\n",
    "    input: f(x): sum_{i=0}^{n} a_i*x^i = a_0 + a_1*x + ... + a_n-1 x^n-1\n",
    "    return: sigma^\n",
    "    \"\"\"\n",
    "    # f_x = vector(F, f_x)\n",
    "    f = (f_x).dict()\n",
    "    # assumen the first nonzero coefficient of f is one  \n",
    "    sigma, tau, omega, gamma, = dict(), dict(), dict(), dict()\n",
    "    \n",
    "    D, B = dict(), dict()\n",
    "    # quick fix \n",
    "    D[-1], B[-1] = 0, 0\n",
    "    \n",
    "    if f[0] == 1: \n",
    "        sigma[0], tau[0], omega[0], gamma[0] = 1, 1, 1, 0\n",
    "        D[0], B[0] = 0, 0, \n",
    "     \n",
    "    else: \n",
    "        sigma[0], tau[0], omega[0], gamma[0] = 1, 1, 0, -1\n",
    "        D[0], B[0] = 0, 1\n",
    "    \n",
    "    k = 0 \n",
    "    while k <= n - 2: \n",
    "        # take delta k as the coefficient of x^k in f*sigma_k\n",
    "        fdelta_k = (f_x * sigma[k])\n",
    "        \n",
    "        delta_k = fdelta_k.list()[k+1]\n",
    "        # now find coefficient of x^k from tmp \n",
    "        sigma[k+1] = sigma[k] - delta_k * x * tau[k]\n",
    "        omega[k+1] = omega[k] - delta_k * x * gamma[k]\n",
    "        \n",
    "        if delta_k == 0 or (D[k] > ((k + 1) / 2)) or (D[k] == ((k + 1) / 2) and B[k] == 0): \n",
    "            D[k + 1] = D[k]\n",
    "            B[k + 1] = B[k]\n",
    "            tau[k+1] = x * tau[k]\n",
    "            gamma[k+1] = x * gamma[k]\n",
    "        \n",
    "       # From org. paper, this is redundant \n",
    "       #  elif delta_k != 0 and (((B[k-1] == 0) and D[k-1] <= (k - floor(n/2) - 1)) or (B[k-1])==1 and D[k-1] <= k - floor((n-1)/2) - 1):\n",
    "       #      sigma_hat = x ^(n-k) * sigma[k]\n",
    "       #      omega_hat = x ^(n-k) * omega[k]\n",
    "       #      N_hat = n - k + D[k - 1] + 1 - B[k - 1]\n",
    "       #      # assert (f_x*sigma_hat) == (omega_hat % x^n)\n",
    "       #     return sigma_hat, omega_hat, N_hat\n",
    "        else:  \n",
    "            D[k+1] = (k+1) - D[k]\n",
    "            B[k+1] = 1 - B[k]\n",
    "            tau[k+1] = sigma[k] / delta_k\n",
    "            gamma[k+1] = omega[k] / delta_k \n",
    "        k = k + 1 \n",
    "    sigma_hat = sigma[n-1]\n",
    "    omega_hat = omega[n-1]\n",
    "    N_hat     = D[n-1] + 1 - B[n-1]\n",
    "    \n",
    "    assert int(sigma_hat.degree()) <= int(floor(n/2)), f\"sigma was: {sigma_hat.degree()}\"\n",
    "    assert int(omega_hat.degree()) <= int(floor((n-1)/2))\n",
    "    \n",
    "    print(f\"f_x * omega_hat congruent with omega % g: {(f_x * omega_hat) == omega_hat % g }\")\n",
    "    return sigma_hat, omega_hat, N_hat"
   ]
  },
  {
   "cell_type": "code",
   "execution_count": 78,
   "id": "991b5886",
   "metadata": {
    "scrolled": true
   },
   "outputs": [
    {
     "ename": "AssertionError",
     "evalue": "sigma was: 5",
     "output_type": "error",
     "traceback": [
      "\u001b[0;31m---------------------------------------------------------------------------\u001b[0m",
      "\u001b[0;31mAssertionError\u001b[0m                            Traceback (most recent call last)",
      "Cell \u001b[0;32mIn [78], line 15\u001b[0m\n\u001b[1;32m     12\u001b[0m     \u001b[38;5;28;01mreturn\u001b[39;00m sigma_x, omega \n\u001b[1;32m     14\u001b[0m s_x \u001b[38;5;241m=\u001b[39m find_syndromes(vector(F, [random\u001b[38;5;241m.\u001b[39mchoice([Integer(\u001b[38;5;241m0\u001b[39m), Integer(\u001b[38;5;241m1\u001b[39m)]) \u001b[38;5;28;01mfor\u001b[39;00m _ \u001b[38;5;129;01min\u001b[39;00m \u001b[38;5;28mrange\u001b[39m(n)]))\n\u001b[0;32m---> 15\u001b[0m \u001b[43mPattersonsDecoding\u001b[49m\u001b[43m(\u001b[49m\u001b[43ms_x\u001b[49m\u001b[43m,\u001b[49m\u001b[43m \u001b[49m\u001b[43mg\u001b[49m\u001b[43m)\u001b[49m\n",
      "Cell \u001b[0;32mIn [78], line 8\u001b[0m, in \u001b[0;36mPattersonsDecoding\u001b[0;34m(s_x, g_x)\u001b[0m\n\u001b[1;32m      6\u001b[0m     a_i\u001b[38;5;241m.\u001b[39mappend(tmp[\u001b[38;5;241m-\u001b[39mInteger(\u001b[38;5;241m1\u001b[39m)])\n\u001b[1;32m      7\u001b[0m f_x \u001b[38;5;241m=\u001b[39m from_list_to_poly([a_i[i] \u001b[38;5;241m*\u001b[39m x\u001b[38;5;241m*\u001b[39m\u001b[38;5;241m*\u001b[39mi \u001b[38;5;28;01mfor\u001b[39;00m i \u001b[38;5;129;01min\u001b[39;00m \u001b[38;5;28mrange\u001b[39m(n\u001b[38;5;241m-\u001b[39mInteger(\u001b[38;5;241m1\u001b[39m))])\n\u001b[0;32m----> 8\u001b[0m sigma_y, omega, N_hat \u001b[38;5;241m=\u001b[39m \u001b[43mBerlekamp_decoding\u001b[49m\u001b[43m(\u001b[49m\u001b[43mf_x\u001b[49m\u001b[43m)\u001b[49m\n\u001b[1;32m      9\u001b[0m sigma_x \u001b[38;5;241m=\u001b[39m \u001b[38;5;28msum\u001b[39m([sigma_y[i]\u001b[38;5;241m*\u001b[39mx\u001b[38;5;241m*\u001b[39m\u001b[38;5;241m*\u001b[39m(N_hat \u001b[38;5;241m-\u001b[39m i) \u001b[38;5;28;01mfor\u001b[39;00m i \u001b[38;5;129;01min\u001b[39;00m \u001b[38;5;28mrange\u001b[39m(sigma_y\u001b[38;5;241m.\u001b[39mdegree())])\n\u001b[1;32m     10\u001b[0m omega \u001b[38;5;241m=\u001b[39m (s_x \u001b[38;5;241m*\u001b[39m omega) \u001b[38;5;241m%\u001b[39m g_x \n",
      "Cell \u001b[0;32mIn [74], line 58\u001b[0m, in \u001b[0;36mBerlekamp_decoding\u001b[0;34m(f_x)\u001b[0m\n\u001b[1;32m     55\u001b[0m omega_hat \u001b[38;5;241m=\u001b[39m omega[n\u001b[38;5;241m-\u001b[39mInteger(\u001b[38;5;241m1\u001b[39m)]\n\u001b[1;32m     56\u001b[0m N_hat     \u001b[38;5;241m=\u001b[39m D[n\u001b[38;5;241m-\u001b[39mInteger(\u001b[38;5;241m1\u001b[39m)] \u001b[38;5;241m+\u001b[39m Integer(\u001b[38;5;241m1\u001b[39m) \u001b[38;5;241m-\u001b[39m B[n\u001b[38;5;241m-\u001b[39mInteger(\u001b[38;5;241m1\u001b[39m)]\n\u001b[0;32m---> 58\u001b[0m \u001b[38;5;28;01massert\u001b[39;00m \u001b[38;5;28mint\u001b[39m(sigma_hat\u001b[38;5;241m.\u001b[39mdegree()) \u001b[38;5;241m<\u001b[39m\u001b[38;5;241m=\u001b[39m \u001b[38;5;28mint\u001b[39m(floor(n\u001b[38;5;241m/\u001b[39mInteger(\u001b[38;5;241m2\u001b[39m))), \u001b[38;5;124mf\u001b[39m\u001b[38;5;124m\"\u001b[39m\u001b[38;5;124msigma was: \u001b[39m\u001b[38;5;132;01m{\u001b[39;00msigma_hat\u001b[38;5;241m.\u001b[39mdegree()\u001b[38;5;132;01m}\u001b[39;00m\u001b[38;5;124m\"\u001b[39m\n\u001b[1;32m     59\u001b[0m \u001b[38;5;28;01massert\u001b[39;00m \u001b[38;5;28mint\u001b[39m(omega_hat\u001b[38;5;241m.\u001b[39mdegree()) \u001b[38;5;241m<\u001b[39m\u001b[38;5;241m=\u001b[39m \u001b[38;5;28mint\u001b[39m(floor((n\u001b[38;5;241m-\u001b[39mInteger(\u001b[38;5;241m1\u001b[39m))\u001b[38;5;241m/\u001b[39mInteger(\u001b[38;5;241m2\u001b[39m)))\n\u001b[1;32m     61\u001b[0m \u001b[38;5;28mprint\u001b[39m(\u001b[38;5;124mf\u001b[39m\u001b[38;5;124m\"\u001b[39m\u001b[38;5;124mf_x * omega_hat congruent with omega % g: \u001b[39m\u001b[38;5;132;01m{\u001b[39;00m(f_x \u001b[38;5;241m*\u001b[39m omega_hat) \u001b[38;5;241m==\u001b[39m omega_hat \u001b[38;5;241m%\u001b[39m g \u001b[38;5;132;01m}\u001b[39;00m\u001b[38;5;124m\"\u001b[39m)\n",
      "\u001b[0;31mAssertionError\u001b[0m: sigma was: 5"
     ]
    }
   ],
   "source": [
    "def PattersonsDecoding(s_x, g_x): \n",
    "    a_i = []\n",
    "    for i in range(n-1): \n",
    "        tmp = ((x^i) * s_x) % g_x \n",
    "        tmp = tmp.list() \n",
    "        a_i.append(tmp[-1])\n",
    "    f_x = from_list_to_poly([a_i[i] * x^i for i in range(n-1)])\n",
    "    sigma_y, omega, N_hat = Berlekamp_decoding(f_x)\n",
    "    sigma_x = sum([sigma_y[i]*x^(N_hat - i) for i in range(sigma_y.degree())])\n",
    "    omega = (s_x * omega) % g_x \n",
    "    # assert sigma_x.degree() <= floor(n/2)\n",
    "    return sigma_x, omega \n",
    "    \n",
    "s_x = find_syndromes(vector(F, [random.choice([0, 1]) for _ in range(n)]))\n",
    "PattersonsDecoding(s_x, g)\n"
   ]
  },
  {
   "cell_type": "code",
   "execution_count": 44,
   "id": "b80f7a96",
   "metadata": {},
   "outputs": [
    {
     "name": "stdout",
     "output_type": "stream",
     "text": [
      "False\n",
      "True\n",
      "True\n",
      "x^4 + (a^5 + a^2 + a + 1)*x^3 + (a^4 + a^3 + a^2 + 1)*x^2\n",
      "False\n",
      "False\n"
     ]
    }
   ],
   "source": [
    "def _split(p):\n",
    "    # split polynomial p over F into even part po\n",
    "    # and odd part p1 such that p(z) = p2 (z) + z p2 (z)\n",
    "    Phi = p.parent()\n",
    "    p0 = Phi([sqrt(c) for c in p.list()[0::2]]);\n",
    "    p1 = Phi([sqrt(c) for c in p.list()[1::2]]);\n",
    "    return (p0,p1);\n",
    "\n",
    "def _g_inverse(p):\n",
    "    (d, u, v) = xgcd(p, g)\n",
    "    return u.mod(g)\n",
    "\n",
    "\n",
    "def PattersonsDecodingForBinaryGoppaCodes(s_x, g_x): \n",
    "    if not any(s_x.list()): return \"syndrome zero\" \n",
    "    h = s_x.inverse_mod(g_x) \n",
    "    if h == x: \n",
    "        sigma_x = x \n",
    "    else: \n",
    "        #  \n",
    "        (g0, g1) = _split(g_x)\n",
    "        sqrt_X = g0 * _g_inverse(g1) \n",
    "        (T0, T1) = _split(_g_inverse(s_x) - x) \n",
    "        d = (T0 + sqrt_X * T1).mod(g_x)\n",
    "        sigma, N1 = PattersonsDecoding(s_x, g_x) \n",
    "        \n",
    "        print((d*d)%g_x == (h + x).mod(g_x))\n",
    "        print((d*d)%g_x == (h+x) % g_x)\n",
    "        print(sigma)\n",
    "        print(sigma.degree() <= n/2)\n",
    "        print((d*sigma)%g_x == n % g_x)\n",
    "        \n",
    "PattersonsDecodingForBinaryGoppaCodes(s_x, g) \n",
    "\n",
    "    "
   ]
  },
  {
   "cell_type": "code",
   "execution_count": null,
   "id": "8fd6a1d1",
   "metadata": {},
   "outputs": [],
   "source": []
  },
  {
   "cell_type": "code",
   "execution_count": null,
   "id": "e0ce1b96",
   "metadata": {},
   "outputs": [],
   "source": []
  },
  {
   "cell_type": "code",
   "execution_count": null,
   "id": "08207de3",
   "metadata": {},
   "outputs": [],
   "source": []
  },
  {
   "cell_type": "code",
   "execution_count": null,
   "id": "27b021de",
   "metadata": {},
   "outputs": [],
   "source": []
  }
 ],
 "metadata": {
  "kernelspec": {
   "display_name": "SageMath 9.8",
   "language": "sage",
   "name": "sagemath-9.8"
  },
  "language_info": {
   "codemirror_mode": {
    "name": "ipython",
    "version": 3
   },
   "file_extension": ".py",
   "mimetype": "text/x-python",
   "name": "python",
   "nbconvert_exporter": "python",
   "pygments_lexer": "ipython3",
   "version": "3.11.1"
  }
 },
 "nbformat": 4,
 "nbformat_minor": 5
}
