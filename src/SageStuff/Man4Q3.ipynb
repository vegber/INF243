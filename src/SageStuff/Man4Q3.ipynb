{
 "cells": [
  {
   "cell_type": "code",
   "execution_count": 2,
   "id": "3dc96e35",
   "metadata": {},
   "outputs": [],
   "source": [
    "q = 2 \n",
    "m = 6 \n",
    "p = x^6 + x^4 + x^3 + x + 1\n",
    "F.<a> = GF(q^m, modulus=p)\n",
    "R.<x> = PolynomialRing(F) "
   ]
  },
  {
   "cell_type": "markdown",
   "id": "5a594f04",
   "metadata": {},
   "source": [
    "Suppose \n",
    "    m = 6 </br>\n",
    "    a is prim. elem  </br>\n",
    "    q = 2  </br>\n",
    "    p(a) = a^6 + a^4 + a^3 + a + 1 \n"
   ]
  },
  {
   "cell_type": "code",
   "execution_count": 3,
   "id": "60a50029",
   "metadata": {},
   "outputs": [
    {
     "data": {
      "text/plain": [
       "[1, 0, 0, 0, 0, 0, 1]"
      ]
     },
     "execution_count": 3,
     "metadata": {},
     "output_type": "execute_result"
    }
   ],
   "source": [
    "g = x^7 + x + 1\n",
    "g_t = [1, 0, 0, 0, 0, 0, 1] # hardcoded for now: \n",
    "g_t"
   ]
  },
  {
   "cell_type": "code",
   "execution_count": 4,
   "id": "3e803206",
   "metadata": {},
   "outputs": [
    {
     "data": {
      "text/plain": [
       "7"
      ]
     },
     "execution_count": 4,
     "metadata": {},
     "output_type": "execute_result"
    }
   ],
   "source": [
    "n = q^m \n",
    "T = g.degree() \n",
    "T"
   ]
  },
  {
   "cell_type": "code",
   "execution_count": 9,
   "id": "38b70f49",
   "metadata": {},
   "outputs": [],
   "source": [
    "L =[e for e in F.list() if g(e) != 0 ]\n",
    "L.append(L.pop(0))\n"
   ]
  },
  {
   "cell_type": "code",
   "execution_count": 10,
   "id": "96d3ed61",
   "metadata": {},
   "outputs": [
    {
     "name": "stdout",
     "output_type": "stream",
     "text": [
      "64\n",
      "dimension Z (64, 64)\n",
      "dimension Y (7, 64)\n",
      "dimension X (7, 7)\n"
     ]
    }
   ],
   "source": [
    "# lookup_alpha\n",
    "# L =[a^i for i in range(1, n+1) if g(a^i) != 0 ]\n",
    "print(len(L))\n",
    "Z = matrix(F, [[(1 / g(el)) if i == j else 0 for i, el in enumerate(L)] for j in range(n)])\n",
    "Y = matrix(F, [[a_i^t for a_i in L] for t in range(T)])\n",
    "X = [[0] * len(g_t) for _ in range(len(g_t))]\n",
    "for i in range(len(g_t)): \n",
    "    for j in range(len(g_t)): \n",
    "        if j >= i: \n",
    "            X[j][i] = g_t[j-i]\n",
    "X = matrix(F, X) \n",
    "print(f\"dimension Z {Z.dimensions()}\")\n",
    "print(f\"dimension Y {Y.dimensions()}\")\n",
    "print(f\"dimension X {X.dimensions()}\")"
   ]
  },
  {
   "cell_type": "code",
   "execution_count": 11,
   "id": "2477688c",
   "metadata": {},
   "outputs": [
    {
     "data": {
      "text/plain": [
       "(42, 64)"
      ]
     },
     "execution_count": 11,
     "metadata": {},
     "output_type": "execute_result"
    }
   ],
   "source": [
    "H = X*Y*Z.T\n",
    "H.dimensions()\n",
    "H_ = [] \n",
    "for row in H.T: \n",
    "    vec = vector(F, list([vector(i) for i in row]))\n",
    "    sss = [] \n",
    "    for r in vec: \n",
    "        sss += r \n",
    "    H_.append(sss) \n",
    "H_ = matrix(H_).T\n",
    "H_.dimensions()"
   ]
  },
  {
   "cell_type": "code",
   "execution_count": 12,
   "id": "385dbe3e",
   "metadata": {},
   "outputs": [
    {
     "name": "stdout",
     "output_type": "stream",
     "text": [
      "worked!\n"
     ]
    },
    {
     "data": {
      "text/plain": [
       "(22, 64)"
      ]
     },
     "execution_count": 12,
     "metadata": {},
     "output_type": "execute_result"
    }
   ],
   "source": [
    "generator_matrix = H_.right_kernel_matrix()\n",
    "null_basis = generator_matrix*H.T \n",
    "if any(null_basis): \n",
    "    print(\"failed\") \n",
    "else:\n",
    "    print(\"worked!\") \n",
    "generator_matrix.dimensions()"
   ]
  },
  {
   "cell_type": "markdown",
   "id": "55383acb",
   "metadata": {},
   "source": [
    "Sanity check:"
   ]
  },
  {
   "cell_type": "code",
   "execution_count": 13,
   "id": "eccd333b",
   "metadata": {},
   "outputs": [
    {
     "name": "stdout",
     "output_type": "stream",
     "text": [
      "15\n",
      "8\n",
      "(22, 64)\n"
     ]
    },
    {
     "data": {
      "text/plain": [
       "[64, 22] Goppa code over GF(2)"
      ]
     },
     "execution_count": 13,
     "metadata": {},
     "output_type": "execute_result"
    }
   ],
   "source": [
    "C = codes.GoppaCode(g, L) \n",
    "\n",
    "print(f\"{C.minimum_distance()}\") \n",
    "print(f\"{C.distance_bound()}\")\n",
    "print(f\"{C.generator_matrix().dimensions()}\")\n",
    "HHH = C.parity_check_matrix()\n",
    "HHH.row_space() == H_.row_space()\n",
    "C"
   ]
  },
  {
   "cell_type": "code",
   "execution_count": 14,
   "id": "385554e5",
   "metadata": {},
   "outputs": [],
   "source": [
    "def text2bin(msg):\n",
    "    return \"\".join(f\"{ord(i):08b}\" for i in msg) \n",
    "def bin2text(bin_s): \n",
    "    return \"\".join([chr(int(bin_s[i:i+8], 2)) for i in range(0, len(bin_s), 8)])\n",
    "def to_field_element(string):\n",
    "    \"\"\"Binary String to field Element\"\"\"\n",
    "    elem = 0\n",
    "    n = len(string)\n",
    "    for i in range(n):\n",
    "        coeff = int(string[n-i-1])\n",
    "        elem += coeff * a^i # coeff is 0 or 1\n",
    "    return elem\n",
    "\n",
    "def encodeGoppa(m):\n",
    "    bin_m = text2bin(m) \n",
    "    m = m + \"0\"*(128 - len(bin_m)) \n",
    "    bin_m_chunks = [bin_m[i:i+64] for i in range(0, len(bin_m), 64)]\n",
    "    half_blocks = []\n",
    "    \n",
    "    for half in bin_m_chunks:\n",
    "        r_i = 0 \n",
    "        for i, value in enumerate(half): \n",
    "            r_i += int(value) / (x - (a^i))\n",
    "        if r_i.mod(g) == 0: # \n",
    "            half_blocks.append(r_i)\n",
    "        else: \n",
    "            raise Exception(\"Was not zero!\")\n",
    "        r_i = 0 \n",
    "    return half_blocks\n"
   ]
  },
  {
   "cell_type": "code",
   "execution_count": 15,
   "id": "60f2610f",
   "metadata": {},
   "outputs": [
    {
     "data": {
      "text/plain": [
       "22 x 64 dense matrix over Finite Field of size 2 (use the '.str()' method to see the entries)"
      ]
     },
     "execution_count": 15,
     "metadata": {},
     "output_type": "execute_result"
    }
   ],
   "source": [
    "generator_matrix"
   ]
  },
  {
   "cell_type": "markdown",
   "id": "1d5bbde9",
   "metadata": {},
   "source": [
    "# Goppa decoding "
   ]
  },
  {
   "cell_type": "markdown",
   "id": "34540286",
   "metadata": {},
   "source": [
    "Pattersons algortihm for decoding. Corrects t design errors.  \n",
    "Patterson converts a syndrome to a vector of erros. The syndrome of a binary word c = (c_0, ..., c_n-1) is "
   ]
  },
  {
   "cell_type": "code",
   "execution_count": 16,
   "id": "ef3afad2",
   "metadata": {},
   "outputs": [],
   "source": [
    "# input to goppa decoding is a binary vector, of vector in base field \n",
    "def find_syndromes(received_vector):  \n",
    "    codelocators = [] \n",
    "    F_2m = g.base_ring()\n",
    "    PR_f_2m = g.parent() \n",
    "    syndrome_vector = vector(PR_f_2m, [(x - L[i]).inverse_mod(g) for i in range(len(L))]) \n",
    "    return syndrome_vector * received_vector"
   ]
  },
  {
   "cell_type": "code",
   "execution_count": 17,
   "id": "2a8f0e5b",
   "metadata": {},
   "outputs": [],
   "source": [
    "def from_list_to_poly(generic_list): \n",
    "    return sum([x for x in generic_list])"
   ]
  },
  {
   "cell_type": "code",
   "execution_count": 18,
   "id": "7cfdcd0b",
   "metadata": {},
   "outputs": [],
   "source": [
    "def _norm(a, b): \n",
    "    X = g.parent().gen()\n",
    "    return 2^((a^2+X*b^2).degree())\n",
    "\n",
    "def lattice_basis_reduction_for_pattersonAlg(AA, BB, t):\n",
    "    \n",
    "    old_vec = AA - (AA[0] // BB[0]) * BB\n",
    "    \n",
    "    if _norm(old_vec[0], old_vec[1]) > 2^t: \n",
    "        ALFA_BETA = vector((BB[1] % AA[0], (BB[0]//AA[0]) * old_vec[1]))\n",
    "    else: \n",
    "        return old_vec\n",
    "    \n",
    "    while _norm(ALFA_BETA[0], ALFA_BETA[1]) > 2^t: \n",
    "        tmpAA = old_vec[0] % ALFA_BETA[0]\n",
    "        tmpBB = old_vec[1] - (old_vec[0] // ALFA_BETA[0]) * ALFA_BETA[1]\n",
    "        \n",
    "        old_vec = ALFA_BETA\n",
    "        \n",
    "        ALFA_BETA = vector(tmpAA, tmpBB)\n",
    "        \n",
    "    return ALFA_BETA\n"
   ]
  },
  {
   "cell_type": "code",
   "execution_count": 19,
   "id": "b80f7a96",
   "metadata": {},
   "outputs": [],
   "source": [
    "def _split(p):\n",
    "    # split polynomial p over F into even part po\n",
    "    # and odd part p1 such that p(z) = p2 (z) + z p2 (z)\n",
    "    Phi = p.parent()\n",
    "    p0 = Phi([sqrt(c) for c in p.list()[0::2]]);\n",
    "    p1 = Phi([sqrt(c) for c in p.list()[1::2]]);\n",
    "    return (p0,p1);\n",
    "\n",
    "def _g_inverse(p):\n",
    "    (d, u, v) = xgcd(p, g)\n",
    "    return u.mod(g)\n",
    "\n",
    "\n",
    "def PattersonsDecodingForBinaryGoppaCodes(s_x, g_x): \n",
    "    if not any(s_x.list()): return vector([0])\n",
    "    h = s_x.inverse_mod(g_x) \n",
    "    if h == x: \n",
    "        sigma_x = x \n",
    "        return sigma_x\n",
    "    else: \n",
    "        #  \n",
    "        (g0, g1) = _split(g_x)\n",
    "        sqrt_X = g0 * _g_inverse(g1) \n",
    "        (T0, T1) = _split(_g_inverse(s_x) - x) \n",
    "        r_x = (T0 + sqrt_X * T1).mod(g_x)\n",
    "        \n",
    "        v1 = vector([r_x, 1])\n",
    "        v2 = vector([g_x, 0])\n",
    "        \n",
    "        alpha, beta = lattice_basis_reduction_for_pattersonAlg(v2, v1, g_x.degree())\n",
    "        \n",
    "        sigma_x = alpha^2 + x * beta^2 \n",
    "        return sigma_x"
   ]
  },
  {
   "cell_type": "code",
   "execution_count": 20,
   "id": "70d824cb",
   "metadata": {},
   "outputs": [],
   "source": [
    "import random\n",
    "\n",
    "def random_flip(lst, t):\n",
    "    # Make a copy of the original list\n",
    "    new_lst = list(lst)\n",
    "    \n",
    "    # Generate t random indices to flip\n",
    "    indices = random.sample(range(len(lst)), t)\n",
    "    \n",
    "    # Flip the binary values at the selected indices\n",
    "    for i in indices:\n",
    "        new_lst[i] = 1 - lst[i]\n",
    "    return new_lst\n"
   ]
  },
  {
   "cell_type": "code",
   "execution_count": 43,
   "id": "9b7e1d91",
   "metadata": {},
   "outputs": [
    {
     "name": "stdout",
     "output_type": "stream",
     "text": [
      "Original message: 1, 0, 0, 1, 1, 1, 0, 0, 1, 1, 0, 1, 1, 0, 1, 1, 0, 1, 0, 1, 0, 1, 0, 1, 1, 0, 1, 1, 1, 0, 1, 0, 1, 1, 1, 1, 0, 0, 1, 0, 0, 0, 1, 0, 1, 0, 1, 1, 1, 0, 0, 0, 1, 1, 1, 1, 0, 0, 0, 0, 0, 1, 0, 0\n",
      "\n",
      "Received vec: 1, 0, 0, 1, 1, 1, 0, 0, 1, 1, 0, 1, 1, 0, 1, 1, 0, 1, 0, 1, 0, 1, 0, 1, 1, 0, 0, 1, 1, 0, 1, 0, 1, 1, 1, 1, 0, 1, 1, 0, 0, 0, 1, 0, 1, 0, 1, 1, 1, 0, 0, 0, 1, 1, 0, 1, 0, 0, 0, 0, 0, 1, 0, 0\n",
      "\n",
      "added error at: 26 \n",
      "\n",
      "added error at: 37 \n",
      "\n",
      "added error at: 54 \n",
      "\n",
      "Decoding Sucess: False\n",
      "Correct word was: 1, 0, 0, 1, 1, 1, 0, 0, 1, 1, 0, 1, 1, 0, 1, 1, 0, 1, 0, 1, 0, 1, 0, 1, 1, 0, 0, 0, 1, 0, 1, 0, 1, 1, 1, 1, 0, 1, 0, 0, 0, 0, 1, 0, 1, 0, 1, 1, 1, 0, 0, 0, 1, 1, 0, 0, 0, 0, 0, 0, 0, 1, 0, 0\n"
     ]
    }
   ],
   "source": [
    "def decoding(r): \n",
    "    # assume r is on vector/binary form \n",
    "    s_x = find_syndromes(r) \n",
    "    if not any(s_x.list()): return r \n",
    "    sigma = PattersonsDecodingForBinaryGoppaCodes(s_x, g) \n",
    "    positions = sigma.roots() \n",
    "    # fix errors \n",
    "    error_values_pos = [] \n",
    "    for p, e in positions: \n",
    "        if p != 0:  \n",
    "            error_values_pos.append(p.log(a)) \n",
    "        else: \n",
    "            error_values_pos.append(0)\n",
    "    \n",
    "    r = list(r)\n",
    "    for corr in error_values_pos: \n",
    "        r[corr] += 1\n",
    "    \n",
    "    return vector(GF(2), r)#  * generator_matrix.T\n",
    "\n",
    "NUM_ERR = 1 # up to t errors\n",
    "\n",
    "message = vector(F, [random.choice([0, 1]) for _ in range(22)])\n",
    "cword = vector(F, message * generator_matrix)\n",
    "format_cword = ', '.join([str(x) for x in cword])\n",
    "print(f\"Original message: {format_cword}\")\n",
    "\n",
    "print()\n",
    "# apply noise \n",
    "rword = vector(F, random_flip(cword.list(), 3))\n",
    "format_rword = ', '.join([str(x) for x in rword])\n",
    "print(f\"Received vec: {format_rword}\")\n",
    "\n",
    "\n",
    "print() \n",
    "for i, e in enumerate(rword.list()): \n",
    "    cword_ = cword.list() \n",
    "    if e != cword_[i]: \n",
    "        print(f\"added error at: {i} \\n\")\n",
    "\n",
    "# corrected_word = decoding(rword) \n",
    "# print(f\"Decoding sucess: {corrected_word == cword}\")\n",
    "# str_format = ', '.join([str(x) for x in corrected_word.list()]) \n",
    "# print(f\"Correct word was: {str_format}\")\n",
    "\n",
    "\n",
    "correct_word = decoding(rword)\n",
    "print\n",
    "print(f\"Decoding Sucess: {(correct_word) == cword}\")\n",
    "str_format = ', '.join([str(x) for x in correct_word.list()])\n",
    "print(f\"Correct word was: {str_format}\")"
   ]
  },
  {
   "cell_type": "markdown",
   "id": "abb56ea7",
   "metadata": {},
   "source": [
    "## Key Generation"
   ]
  },
  {
   "cell_type": "code",
   "execution_count": 22,
   "id": "e0ce1b96",
   "metadata": {},
   "outputs": [],
   "source": [
    "\n",
    "\n",
    "# Create private key & public key \n",
    "k = 22 \n",
    "text = \"TIMEFLIESQUICKLY\" \n",
    "code_word = encodeGoppa(text)"
   ]
  },
  {
   "cell_type": "code",
   "execution_count": 23,
   "id": "08207de3",
   "metadata": {},
   "outputs": [],
   "source": [
    "# Scrambler matrix S \n",
    "# S = matrix(GF(2), k, [random.random() < 0.5 for _ in range(k^2)])\n",
    "# while (rank(S) < k): \n",
    "#    S[floor(k * random.random()), floor(k*random.random())] += 1\n",
    "# S"
   ]
  },
  {
   "cell_type": "code",
   "execution_count": 265,
   "id": "8b5f7359",
   "metadata": {},
   "outputs": [],
   "source": [
    "def find_S():\n",
    "    # Generate a random binary matrix of size k x k\n",
    "    S = matrix(GF(2), k, [random.random() < 0.5 for _ in range(k^2)])\n",
    "\n",
    "    # Ensure the matrix has full rank (k)\n",
    "    while rank(S) < k:\n",
    "        # Choose a random row and column\n",
    "        row = floor(k * random.random())\n",
    "        col = floor(k * random.random())\n",
    "        # Add 1 to the chosen element\n",
    "        S[row, col] += 1\n",
    "    return S"
   ]
  },
  {
   "cell_type": "code",
   "execution_count": 266,
   "id": "f6d617b7",
   "metadata": {},
   "outputs": [
    {
     "data": {
      "text/plain": [
       "22 x 22 dense matrix over Finite Field of size 2 (use the '.str()' method to see the entries)"
      ]
     },
     "execution_count": 266,
     "metadata": {},
     "output_type": "execute_result"
    }
   ],
   "source": [
    "S = find_S()\n",
    "S"
   ]
  },
  {
   "cell_type": "code",
   "execution_count": null,
   "id": "49a250cd",
   "metadata": {},
   "outputs": [],
   "source": []
  },
  {
   "cell_type": "code",
   "execution_count": 281,
   "id": "27b021de",
   "metadata": {},
   "outputs": [],
   "source": [
    "# Permutation matrix P \n",
    "def find_P():\n",
    "    n = q^m\n",
    "    P = identity_matrix(GF(2),n) \n",
    "    columns = list(range(n)) \n",
    "    for i in range(n): \n",
    "        col_idx = columns.pop(randrange(len(columns)))\n",
    "        row_idx = randrange(i, n) \n",
    "        P[row_idx, col_idx] = 1 \n",
    "    \n",
    "    if P.is_invertible(): \n",
    "        return matrix(P)\n",
    "    else: \n",
    "        return find_P()\n",
    "\n",
    "P = find_P()"
   ]
  },
  {
   "cell_type": "code",
   "execution_count": 282,
   "id": "526e2c6a",
   "metadata": {},
   "outputs": [
    {
     "data": {
      "text/plain": [
       "True"
      ]
     },
     "execution_count": 282,
     "metadata": {},
     "output_type": "execute_result"
    }
   ],
   "source": [
    "P.is_invertible()"
   ]
  },
  {
   "cell_type": "code",
   "execution_count": 283,
   "id": "05874b54",
   "metadata": {},
   "outputs": [],
   "source": [
    "# y = mG' + e \n",
    "# G' = SGP \n",
    "G_prime = S * generator_matrix * P"
   ]
  },
  {
   "cell_type": "code",
   "execution_count": null,
   "id": "0cb97a31",
   "metadata": {},
   "outputs": [],
   "source": []
  },
  {
   "cell_type": "code",
   "execution_count": 284,
   "id": "b54b5e4e",
   "metadata": {},
   "outputs": [],
   "source": [
    "# cipher_text = Encryption(message)# "
   ]
  },
  {
   "cell_type": "code",
   "execution_count": null,
   "id": "1d9b8a0a",
   "metadata": {},
   "outputs": [],
   "source": []
  },
  {
   "cell_type": "code",
   "execution_count": 297,
   "id": "30082377",
   "metadata": {},
   "outputs": [],
   "source": [
    "def rowVectorWeight(n): \n",
    "    weight = 0 \n",
    "    for i in range(n.ncols()):\n",
    "        if n[0, i] == 1: \n",
    "            weight = weight + 1\n",
    "    return weight\n",
    "\n",
    "def Encryption(message):\n",
    "    assert len(message) == G_prime.nrows()\n",
    "    # Get an error vec that is t errors \n",
    "    t = 7 \n",
    "    err_vec = matrix(1, generator_matrix.ncols())\n",
    "    while rowVectorWeight(err_vec) < 7:\n",
    "        err_vec[0, random.randint(1, generator_matrix.ncols()-1)] = 1   \n",
    "    cipher = message * G_prime\n",
    "    return cipher + vector(err_vec.list())\n",
    "\n",
    "# cipher_text = Encryption(message)\n",
    "# len(cipher_text) # 64 - nice ! "
   ]
  },
  {
   "cell_type": "code",
   "execution_count": 303,
   "id": "069a803d",
   "metadata": {},
   "outputs": [
    {
     "data": {
      "text/plain": [
       "(1, 1, 0, 1, 1, 0, 0, 1, 0, 1, 0, 0, 0, 0, 1, 0, 0, 0, 1, 0, 1, 1)"
      ]
     },
     "execution_count": 303,
     "metadata": {},
     "output_type": "execute_result"
    }
   ],
   "source": [
    "message = vector(random.choice([0, 1]) for _ in range(22))\n",
    "message"
   ]
  },
  {
   "cell_type": "code",
   "execution_count": 304,
   "id": "48737a8f",
   "metadata": {},
   "outputs": [],
   "source": [
    "ciphertext = Encryption(message) "
   ]
  },
  {
   "cell_type": "code",
   "execution_count": 305,
   "id": "68a20bde",
   "metadata": {},
   "outputs": [],
   "source": [
    "def decode(ciphertext):\n",
    "    ciphertext = ciphertext * P\n",
    "    plaintext = decoding(ciphertext)\n",
    "    return generator_matrix.solve_right(message)[:22]"
   ]
  },
  {
   "cell_type": "code",
   "execution_count": 306,
   "id": "3482dc0a",
   "metadata": {},
   "outputs": [
    {
     "name": "stdout",
     "output_type": "stream",
     "text": [
      "(1, 1, 0, 1, 1, 0, 0, 1, 0, 1, 0, 0, 0, 0, 1, 0, 0, 0, 0, 1, 0, 0)\n"
     ]
    }
   ],
   "source": [
    "print(decode(ciphertext))"
   ]
  },
  {
   "cell_type": "code",
   "execution_count": 359,
   "id": "936b7b31",
   "metadata": {},
   "outputs": [
    {
     "name": "stdout",
     "output_type": "stream",
     "text": [
      "(0, 1, 0, 1, 0, 1, 0, 0, 0, 1, 0, 0, 1, 0, 0, 1, 0, 1, 0, 0, 1, 1)\n"
     ]
    }
   ],
   "source": [
    "bin_m = text2bin(text)  # text to binary \n",
    "bin_m = bin_m + '0'* (22 - (len(bin_m) % 22)) # added 12 padding to the last block \n",
    "blocks = [vector(GF(2), bin_m[i:i+22]) for i in range(0, len(bin_m), 22)]\n",
    "\n",
    "# encryption\n",
    "encrypted_blocks = []\n",
    "for block in blocks: \n",
    "    encrypt_block = Encryption(block)\n",
    "    encrypted_blocks.append(block)\n",
    "    \n",
    "print(encrypted_blocks[0])"
   ]
  },
  {
   "cell_type": "code",
   "execution_count": 360,
   "id": "5f9479d9",
   "metadata": {},
   "outputs": [
    {
     "ename": "TypeError",
     "evalue": "unsupported operand parent(s) for *: 'Vector space of dimension 22 over Finite Field of size 2' and 'Full MatrixSpace of 64 by 64 dense matrices over Finite Field of size 2'",
     "output_type": "error",
     "traceback": [
      "\u001b[0;31m---------------------------------------------------------------------------\u001b[0m",
      "\u001b[0;31mTypeError\u001b[0m                                 Traceback (most recent call last)",
      "Cell \u001b[0;32mIn [360], line 4\u001b[0m\n\u001b[1;32m      2\u001b[0m plaintext_blocks \u001b[38;5;241m=\u001b[39m []\n\u001b[1;32m      3\u001b[0m \u001b[38;5;28;01mfor\u001b[39;00m block \u001b[38;5;129;01min\u001b[39;00m encrypted_blocks: \n\u001b[0;32m----> 4\u001b[0m     plaintext \u001b[38;5;241m=\u001b[39m \u001b[43mdecode\u001b[49m\u001b[43m(\u001b[49m\u001b[43mblock\u001b[49m\u001b[43m)\u001b[49m \n\u001b[1;32m      5\u001b[0m     plaintext_blocks\u001b[38;5;241m.\u001b[39mappend(plaintext)\n",
      "Cell \u001b[0;32mIn [305], line 2\u001b[0m, in \u001b[0;36mdecode\u001b[0;34m(ciphertext)\u001b[0m\n\u001b[1;32m      1\u001b[0m \u001b[38;5;28;01mdef\u001b[39;00m \u001b[38;5;21mdecode\u001b[39m(ciphertext):\n\u001b[0;32m----> 2\u001b[0m     ciphertext \u001b[38;5;241m=\u001b[39m \u001b[43mciphertext\u001b[49m\u001b[43m \u001b[49m\u001b[38;5;241;43m*\u001b[39;49m\u001b[43m \u001b[49m\u001b[43mP\u001b[49m\n\u001b[1;32m      3\u001b[0m     plaintext \u001b[38;5;241m=\u001b[39m decoding(ciphertext)\n\u001b[1;32m      4\u001b[0m     \u001b[38;5;28;01mreturn\u001b[39;00m generator_matrix\u001b[38;5;241m.\u001b[39msolve_right(message)[:Integer(\u001b[38;5;241m22\u001b[39m)]\n",
      "File \u001b[0;32m/private/var/tmp/sage-9.8-current/local/var/lib/sage/venv-python3.11.1/lib/python3.11/site-packages/sage/structure/element.pyx:3578\u001b[0m, in \u001b[0;36msage.structure.element.Vector.__mul__ (build/cythonized/sage/structure/element.c:22785)\u001b[0;34m()\u001b[0m\n\u001b[1;32m   3576\u001b[0m     if have_same_parent(left, right):\n\u001b[1;32m   3577\u001b[0m         return (<Vector>left)._dot_product_(<Vector>right)\n\u001b[0;32m-> 3578\u001b[0m     return coercion_model.bin_op(left, right, mul)\n\u001b[1;32m   3579\u001b[0m \n\u001b[1;32m   3580\u001b[0m cpdef _dot_product_(Vector left, Vector right):\n",
      "File \u001b[0;32m/private/var/tmp/sage-9.8-current/local/var/lib/sage/venv-python3.11.1/lib/python3.11/site-packages/sage/structure/coerce.pyx:1248\u001b[0m, in \u001b[0;36msage.structure.coerce.CoercionModel.bin_op (build/cythonized/sage/structure/coerce.c:11847)\u001b[0;34m()\u001b[0m\n\u001b[1;32m   1246\u001b[0m     # We should really include the underlying error.\n\u001b[1;32m   1247\u001b[0m     # This causes so much headache.\n\u001b[0;32m-> 1248\u001b[0m     raise bin_op_exception(op, x, y)\n\u001b[1;32m   1249\u001b[0m \n\u001b[1;32m   1250\u001b[0m cpdef canonical_coercion(self, x, y):\n",
      "\u001b[0;31mTypeError\u001b[0m: unsupported operand parent(s) for *: 'Vector space of dimension 22 over Finite Field of size 2' and 'Full MatrixSpace of 64 by 64 dense matrices over Finite Field of size 2'"
     ]
    }
   ],
   "source": [
    "# decryption\n",
    "plaintext_blocks = []\n",
    "for block in encrypted_blocks: \n",
    "    plaintext = decode(block) \n",
    "    plaintext_blocks.append(plaintext)"
   ]
  },
  {
   "cell_type": "code",
   "execution_count": 361,
   "id": "8a78abb3",
   "metadata": {},
   "outputs": [],
   "source": [
    "# convert to plaintext \n",
    "for msg_block in plaintext_blocks: \n",
    "    print(bin2text(''.join(list(map(str, msg_block.list())))))"
   ]
  },
  {
   "cell_type": "code",
   "execution_count": null,
   "id": "8112d848",
   "metadata": {},
   "outputs": [],
   "source": []
  }
 ],
 "metadata": {
  "kernelspec": {
   "display_name": "SageMath 9.8",
   "language": "sage",
   "name": "sagemath-9.8"
  },
  "language_info": {
   "codemirror_mode": {
    "name": "ipython",
    "version": 3
   },
   "file_extension": ".py",
   "mimetype": "text/x-python",
   "name": "python",
   "nbconvert_exporter": "python",
   "pygments_lexer": "ipython3",
   "version": "3.11.1"
  }
 },
 "nbformat": 4,
 "nbformat_minor": 5
}
