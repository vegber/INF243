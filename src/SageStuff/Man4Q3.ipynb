{
 "cells": [
  {
   "cell_type": "code",
   "execution_count": 189,
   "id": "3dc96e35",
   "metadata": {},
   "outputs": [],
   "source": [
    "q = 2 \n",
    "m = 6 \n",
    "p = x^6 + x^4 + x^3 + x + 1\n",
    "F.<a> = GF(q^m, modulus=p)\n",
    "R.<x> = PolynomialRing(F) "
   ]
  },
  {
   "cell_type": "markdown",
   "id": "5a594f04",
   "metadata": {},
   "source": [
    "Suppose \n",
    "    m = 6 </br>\n",
    "    a is prim. elem  </br>\n",
    "    q = 2  </br>\n",
    "    p(a) = a^6 + a^4 + a^3 + a + 1 \n"
   ]
  },
  {
   "cell_type": "code",
   "execution_count": 190,
   "id": "60a50029",
   "metadata": {},
   "outputs": [
    {
     "data": {
      "text/plain": [
       "[1, 0, 0, 0, 0, 0, 1]"
      ]
     },
     "execution_count": 190,
     "metadata": {},
     "output_type": "execute_result"
    }
   ],
   "source": [
    "g = x^7 + x + 1\n",
    "g_t = [1, 0, 0, 0, 0, 0, 1] # hardcoded for now: \n",
    "g_t"
   ]
  },
  {
   "cell_type": "code",
   "execution_count": 233,
   "id": "3e803206",
   "metadata": {},
   "outputs": [
    {
     "data": {
      "text/plain": [
       "7"
      ]
     },
     "execution_count": 233,
     "metadata": {},
     "output_type": "execute_result"
    }
   ],
   "source": [
    "n = q^m \n",
    "T = g.degree() \n",
    "T"
   ]
  },
  {
   "cell_type": "code",
   "execution_count": 276,
   "id": "38b70f49",
   "metadata": {},
   "outputs": [
    {
     "data": {
      "text/plain": [
       "64"
      ]
     },
     "execution_count": 276,
     "metadata": {},
     "output_type": "execute_result"
    }
   ],
   "source": [
    "L =[a^i for i in range(1, n + 1) if g(a^i) != 0 ]\n",
    "len(L)"
   ]
  },
  {
   "cell_type": "code",
   "execution_count": 277,
   "id": "96d3ed61",
   "metadata": {},
   "outputs": [
    {
     "name": "stdout",
     "output_type": "stream",
     "text": [
      "64\n",
      "dimension Z (64, 64)\n",
      "dimension Y (7, 64)\n",
      "dimension X (7, 7)\n"
     ]
    }
   ],
   "source": [
    "# lookup_alpha\n",
    "# L =[a^i for i in range(1, n+1) if g(a^i) != 0 ]\n",
    "print(len(L))\n",
    "Z = matrix(F, [[(1 / g(el)) if i == j else 0 for i, el in enumerate(L)] for j in range(n)])\n",
    "Y = matrix(F, [[a_i^t for a_i in L] for t in range(T)])\n",
    "X = [[0] * len(g_t) for _ in range(len(g_t))]\n",
    "for i in range(len(g_t)): \n",
    "    for j in range(len(g_t)): \n",
    "        if j >= i: \n",
    "            X[j][i] = g_t[j-i]\n",
    "X = matrix(F, X) \n",
    "print(f\"dimension Z {Z.dimensions()}\")\n",
    "print(f\"dimension Y {Y.dimensions()}\")\n",
    "print(f\"dimension X {X.dimensions()}\")"
   ]
  },
  {
   "cell_type": "code",
   "execution_count": 278,
   "id": "2477688c",
   "metadata": {},
   "outputs": [
    {
     "data": {
      "text/plain": [
       "(42, 64)"
      ]
     },
     "execution_count": 278,
     "metadata": {},
     "output_type": "execute_result"
    }
   ],
   "source": [
    "H = X*Y*Z.T\n",
    "H.dimensions()\n",
    "H_ = [] \n",
    "for row in H.T: \n",
    "    vec = vector(F, list([vector(i) for i in row]))\n",
    "    sss = [] \n",
    "    for r in vec: \n",
    "        sss += r \n",
    "    H_.append(sss) \n",
    "H_ = matrix(H_).T\n",
    "H_.dimensions()"
   ]
  },
  {
   "cell_type": "code",
   "execution_count": 279,
   "id": "385dbe3e",
   "metadata": {},
   "outputs": [
    {
     "name": "stdout",
     "output_type": "stream",
     "text": [
      "worked!\n"
     ]
    },
    {
     "data": {
      "text/plain": [
       "(22, 64)"
      ]
     },
     "execution_count": 279,
     "metadata": {},
     "output_type": "execute_result"
    }
   ],
   "source": [
    "generator_matrix = H_.right_kernel_matrix()\n",
    "null_basis = generator_matrix*H.T \n",
    "if any(null_basis): \n",
    "    print(\"failed\") \n",
    "else:\n",
    "    print(\"worked!\") \n",
    "generator_matrix.dimensions()"
   ]
  },
  {
   "cell_type": "markdown",
   "id": "55383acb",
   "metadata": {},
   "source": [
    "Sanity check:"
   ]
  },
  {
   "cell_type": "code",
   "execution_count": 280,
   "id": "eccd333b",
   "metadata": {},
   "outputs": [
    {
     "name": "stdout",
     "output_type": "stream",
     "text": [
      "2\n",
      "8\n",
      "(22, 64)\n"
     ]
    },
    {
     "data": {
      "text/plain": [
       "True"
      ]
     },
     "execution_count": 280,
     "metadata": {},
     "output_type": "execute_result"
    }
   ],
   "source": [
    "C = codes.GoppaCode(g, L) \n",
    "print(f\"{C.minimum_distance()}\") \n",
    "print(f\"{C.distance_bound()}\")\n",
    "print(f\"{C.generator_matrix().dimensions()}\")\n",
    "HHH = C.parity_check_matrix()\n",
    "HHH.row_space() == H_.row_space()\n"
   ]
  },
  {
   "cell_type": "code",
   "execution_count": 281,
   "id": "385554e5",
   "metadata": {},
   "outputs": [],
   "source": [
    "text = \"TIMEFLIESQUICKLY\" \n",
    "\n",
    "def text2bin(msg):\n",
    "    return \"\".join(f\"{ord(i):08b}\" for i in msg) \n",
    "def bin2text(bin_s): \n",
    "    return \"\".join([chr(int(bin_s[i:i+8], 2)) for i in range(0, len(bin_s), 8)])\n",
    "def to_field_element(string):\n",
    "    \"\"\"Binary String to field Element\"\"\"\n",
    "    elem = 0\n",
    "    n = len(string)\n",
    "    for i in range(n):\n",
    "        coeff = int(string[n-i-1])\n",
    "        elem += coeff * a^i # coeff is 0 or 1\n",
    "    return elem\n",
    "\n",
    "def encodeGoppa(m):\n",
    "    bin_m = text2bin(m) \n",
    "    m = m + \"0\"*(128 - len(bin_m)) \n",
    "    bin_m_chunks = [bin_m[i:i+64] for i in range(0, len(bin_m), 64)]\n",
    "    half_blocks = []\n",
    "    for half in bin_m_chunks:\n",
    "        r_i = 0 \n",
    "        for i, value in enumerate(half): \n",
    "            r_i += int(value) / (x - (a^i)) \n",
    "        if r_i.mod(g) == 0: # \n",
    "            half_blocks.append(r_i)\n",
    "        else: \n",
    "            raise Exception(\"Was not zero!\")\n",
    "        r_i = 0 \n",
    "    return half_blocks\n",
    "\n",
    "\n",
    "code_word = encodeGoppa(text)"
   ]
  },
  {
   "cell_type": "code",
   "execution_count": 283,
   "id": "60f2610f",
   "metadata": {},
   "outputs": [
    {
     "data": {
      "text/plain": [
       "22 x 64 dense matrix over Finite Field of size 2 (use the '.str()' method to see the entries)"
      ]
     },
     "execution_count": 283,
     "metadata": {},
     "output_type": "execute_result"
    }
   ],
   "source": [
    "generator_matrix"
   ]
  },
  {
   "cell_type": "markdown",
   "id": "1d5bbde9",
   "metadata": {},
   "source": [
    "# Goppa decoding "
   ]
  },
  {
   "cell_type": "markdown",
   "id": "34540286",
   "metadata": {},
   "source": [
    "Pattersons algortihm for decoding. Corrects t design errors.  \n",
    "Patterson converts a syndrome to a vector of erros. The syndrome of a binary word c = (c_0, ..., c_n-1) is "
   ]
  },
  {
   "cell_type": "code",
   "execution_count": 302,
   "id": "a20a7490",
   "metadata": {},
   "outputs": [
    {
     "data": {
      "text/plain": [
       "(1, 1, 1, 1, 1, 1, 1, 1, 1, 1, 1, 1, 1, 1, 1, 1, 1, 1, 1, 0, 1, 1, 1, 1, 1, 0, 1, 1, 0, 1, 0, 1, 0, 1, 0, 0, 0, 0, 1, 1, 1, 1, 1, 0, 0, 0, 1, 1, 1, 0, 0, 1, 1, 1, 1, 1, 0, 0, 0, 0, 0, 1, 0, 0)"
      ]
     },
     "execution_count": 302,
     "metadata": {},
     "output_type": "execute_result"
    }
   ],
   "source": [
    "## import random \n",
    "# r = vector(F, (0, 0, 0, 1, 0, 0, 0, 1, 0, 0, 1, 0, 1, 1, 1, 1, 1, 1, 1, 1, 1, 1, 1, 1, 0, 1, 0, 0, 1, 0, 0, 0, 1, 1, 0, 1, 1, 1, 0, 1, 0, 1, 0, 0, 0, 0, 0, 1, 1, 1, 0, 0, 0, 0, 1, 0, 0, 1, 1, 1, 1, 1, 0, 1))\n",
    "r = vector(GF(2), [1 for _ in range(22)])\n",
    "\n",
    "r = vector(F, generator_matrix.T * r)\n",
    "# rr = vector(GF(2), valid_r * generator_matrix.T)\n",
    "#c = generator_matrix * r\n",
    "r"
   ]
  },
  {
   "cell_type": "code",
   "execution_count": null,
   "id": "d0a9480c",
   "metadata": {},
   "outputs": [],
   "source": []
  },
  {
   "cell_type": "code",
   "execution_count": 320,
   "id": "faed358e",
   "metadata": {},
   "outputs": [
    {
     "data": {
      "text/plain": [
       "x^64 + a*x^63 + x + a"
      ]
     },
     "execution_count": 320,
     "metadata": {},
     "output_type": "execute_result"
    }
   ],
   "source": [
    "h = prod((x-value) for value in L)\n",
    "h"
   ]
  },
  {
   "cell_type": "code",
   "execution_count": null,
   "id": "ef3afad2",
   "metadata": {},
   "outputs": [],
   "source": [
    "# input to goppa decoding is a binary vector, of vector in base field \n",
    "def find_syndromes(received_vector):  \n",
    "    codelocators = [] \n",
    "    F_2m = g.base_ring()\n",
    "    Z = F_2m.gen()\n",
    "    for i in range(2^m - 1): \n",
    "        codelocators.append(Z^(i+1))\n",
    "    print(F_2m(0))\n",
    "    codelocators.append(F_2m(0)) \n",
    "    PR_f_2m = g.parent() \n",
    "    X = PR_f_2m.gen() \n",
    "    syndrome_calc = matrix(PR_f_2m, 1, len(codelocators)) \n",
    "    for i in range(len(codelocators)): \n",
    "        syndrome_calc[0, i] = (x -  codelocators[i]).inverse_mod(g) \n",
    "    return syndrome_calc * received_vector\n",
    "    \n",
    "    \n",
    "def find_syndromesV3(received_vector): \n",
    "    F_2m = received_vector.base_ring()\n",
    "    codelocators = [F_2m(x + 1) for x in range(F_2m.degree())]\n",
    "    codelocators.append(F_2m.zero)\n",
    "    syndrome_calc = matrix([[(F_2m(x) - c).inverse_mod(received_vector.parent().base_ring())\n",
    "                             for c in codelocators]\n",
    "                            for x in F_2m])\n",
    "    return syndrome_calc * received_vector\n",
    "\n",
    "def GoppaDecoding(s_x, g_x):\n",
    "    \n",
    "    pass \n",
    "\n",
    "find_syndromesV2(r) \n"
   ]
  },
  {
   "cell_type": "code",
   "execution_count": 305,
   "id": "f5cc2c14",
   "metadata": {},
   "outputs": [],
   "source": [
    "# r = vector(F, (1, 1, 0, 1, 1, 0, 1, 1, 0, 1, 1, 1, 0, 1, 1, 1, 1, 0, 0, 1, 1, 1, 1, 1, 1, 1, 1, 0, 0, 0, 0, 1, 1, 1, 1, 1, 0, 0, 0, 1, 1, 1, 1, 1, 1, 1, 1, 0, 0, 1, 0, 1, 0, 0, 1, 0, 0, 1, 1, 0, 1, 0, 1, 0))"
   ]
  },
  {
   "cell_type": "code",
   "execution_count": 306,
   "id": "8fd6a1d1",
   "metadata": {},
   "outputs": [
    {
     "name": "stdout",
     "output_type": "stream",
     "text": [
      "Finite Field in a of size 2^6\n"
     ]
    }
   ],
   "source": []
  },
  {
   "cell_type": "code",
   "execution_count": 307,
   "id": "e0ce1b96",
   "metadata": {},
   "outputs": [
    {
     "data": {
      "text/plain": [
       "(0)"
      ]
     },
     "execution_count": 307,
     "metadata": {},
     "output_type": "execute_result"
    }
   ],
   "source": [
    "syndrome_calc * r"
   ]
  },
  {
   "cell_type": "code",
   "execution_count": null,
   "id": "08207de3",
   "metadata": {},
   "outputs": [],
   "source": []
  }
 ],
 "metadata": {
  "kernelspec": {
   "display_name": "SageMath 9.8",
   "language": "sage",
   "name": "sagemath-9.8"
  },
  "language_info": {
   "codemirror_mode": {
    "name": "ipython",
    "version": 3
   },
   "file_extension": ".py",
   "mimetype": "text/x-python",
   "name": "python",
   "nbconvert_exporter": "python",
   "pygments_lexer": "ipython3",
   "version": "3.11.1"
  }
 },
 "nbformat": 4,
 "nbformat_minor": 5
}
