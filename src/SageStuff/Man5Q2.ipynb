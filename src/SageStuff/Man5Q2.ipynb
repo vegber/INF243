{
 "cells": [
  {
   "cell_type": "code",
   "execution_count": 2,
   "id": "c1ddb2ed",
   "metadata": {},
   "outputs": [],
   "source": [
    "import numpy as np\n",
    "import numpy.random as rng\n"
   ]
  },
  {
   "cell_type": "raw",
   "id": "a893706b",
   "metadata": {},
   "source": [
    "Construct a (Wc, Wr) == (3, 5) parity - check matrix H for a regular LRPC codew with length 20. Indicate the permutations used under construction "
   ]
  },
  {
   "cell_type": "code",
   "execution_count": null,
   "id": "94908393",
   "metadata": {},
   "outputs": [],
   "source": []
  },
  {
   "cell_type": "code",
   "execution_count": 14,
   "id": "1f1e4fb4",
   "metadata": {},
   "outputs": [],
   "source": [
    "def parity_check_matrix(n_code, d_v, d_c):\n",
    "\n",
    "    n_equations = (n_code * d_v) // d_c\n",
    "\n",
    "    block = np.zeros((n_equations // d_v, n_code), dtype=int)\n",
    "    H = np.empty((n_equations, n_code))\n",
    "    block_size = n_equations // d_v\n",
    "\n",
    "    # Filling the first block with consecutive ones in each row of the block\n",
    "    for i in range(block_size):\n",
    "        for j in range(i * d_c, (i + 1) * d_c):\n",
    "            block[i, j] = 1\n",
    "    H[:block_size] = block\n",
    "\n",
    "    # Create remaining blocks by shuffling the first block's columns\n",
    "    for i in range(1, d_v):\n",
    "        perm = np.arange(n_code)\n",
    "        np.random.shuffle(perm)\n",
    "        H[i * block_size: (i + 1) * block_size] = block[:, perm]\n",
    "    H = H.astype(int)\n",
    "    return matrix(H)"
   ]
  },
  {
   "cell_type": "code",
   "execution_count": 4,
   "id": "ad54ceac",
   "metadata": {},
   "outputs": [],
   "source": [
    "def check_distinct_columns(matrix):\n",
    "    num_columns = matrix.ncols()\n",
    "    for i in range(num_columns - 1):\n",
    "        for j in range(i + 1, num_columns):\n",
    "            if matrix.column(i) == matrix.column(j):\n",
    "                return False\n",
    "    return True"
   ]
  },
  {
   "cell_type": "code",
   "execution_count": 5,
   "id": "56cd48ae",
   "metadata": {},
   "outputs": [
    {
     "name": "stdout",
     "output_type": "stream",
     "text": [
      "[1 1 1 1 1 0 0 0 0 0 0 0 0 0 0 0 0 0 0 0]\n",
      "[0 0 0 0 0 1 1 1 1 1 0 0 0 0 0 0 0 0 0 0]\n",
      "[0 0 0 0 0 0 0 0 0 0 1 1 1 1 1 0 0 0 0 0]\n",
      "[0 0 0 0 0 0 0 0 0 0 0 0 0 0 0 1 1 1 1 1]\n",
      "[1 1 0 0 0 1 0 0 0 0 0 0 0 0 1 1 0 0 0 0]\n",
      "[0 0 0 1 0 0 0 0 0 0 0 0 0 1 0 0 1 1 0 1]\n",
      "[0 0 1 0 1 0 1 0 1 0 0 0 1 0 0 0 0 0 0 0]\n",
      "[0 0 0 0 0 0 0 1 0 1 1 1 0 0 0 0 0 0 1 0]\n",
      "[0 1 0 0 0 1 0 1 1 0 0 0 0 0 0 0 0 0 0 1]\n",
      "[1 0 0 0 0 0 1 0 0 0 0 0 0 1 0 0 0 1 1 0]\n",
      "[0 0 1 1 0 0 0 0 0 0 1 0 0 0 0 1 1 0 0 0]\n",
      "[0 0 0 0 1 0 0 0 0 1 0 1 1 0 1 0 0 0 0 0]\n"
     ]
    },
    {
     "data": {
      "text/plain": [
       "(12, 20)"
      ]
     },
     "execution_count": 5,
     "metadata": {},
     "output_type": "execute_result"
    }
   ],
   "source": [
    "# Set the desired parameters\n",
    "n_code = 20  # Number of code bits\n",
    "d_v = 3  # Variable node degree\n",
    "d_c = 5  # Check node degree\n",
    "\n",
    "# Generate the parity check matrix\n",
    "H = parity_check_matrix(n_code, d_v, d_c)\n",
    "while not check_distinct_columns(H):\n",
    "    H = parity_check_matrix(n_code, d_v, d_c) \n",
    "\n",
    "# Print the resulting parity check matrix\n",
    "print(H)\n",
    "\n",
    "H.dimensions()"
   ]
  },
  {
   "cell_type": "code",
   "execution_count": 6,
   "id": "a8674582",
   "metadata": {},
   "outputs": [],
   "source": [
    "def generate_H(n, d_v, d_c, seed=None): \n",
    "    rnd = np.random.RandomState(131) \n",
    "    # Compute the number of columns and m is equal to the number of check bit\n",
    "    m = (n * d_v) // d_c\n",
    "\n",
    "    # Compute the basic matrix H0\n",
    "    Set = np.zeros((m//d_v, n), dtype=int)\n",
    "    a = m // d_v\n",
    "\n",
    "    # Filling the first set with consecutive ones in each row of the set\n",
    "    for i in range(a):\n",
    "        for j in range(i * d_c, (i+1)* d_c):\n",
    "            Set[i, j] = 1\n",
    "    # Create list of Sets and append the first reference set\n",
    "    Sets = []\n",
    "    Sets.append(Set.tolist())\n",
    "    permutations = [] # List to store permutations \n",
    "    \n",
    "    # reate remaining sets by permutations of the first set's columns:\n",
    "    for i in range(1, d_v):\n",
    "        newSet = rnd.permutation(np.transpose(Set)).T.tolist()\n",
    "        Sets.append(newSet)\n",
    "        permutations.append(np.where(np.transpose(Set) != np.transpose(newSet))[1].tolist())\n",
    "    # Returns concatenated list of sest:\n",
    "    H = np.concatenate(Sets)\n",
    "    print(permutations)\n",
    "    return matrix(H)\n"
   ]
  },
  {
   "cell_type": "code",
   "execution_count": 10,
   "id": "878f181c",
   "metadata": {},
   "outputs": [
    {
     "name": "stdout",
     "output_type": "stream",
     "text": [
      "[[0, 2, 0, 1, 0, 1, 0, 3, 1, 3, 1, 3, 0, 1, 1, 3, 0, 1, 1, 2, 0, 2, 0, 2, 1, 2, 2, 3, 2, 3, 1, 3, 2, 3], [0, 3, 0, 1, 0, 2, 1, 2, 1, 3, 1, 2, 1, 2, 1, 2, 1, 2, 1, 2, 0, 2, 2, 3, 0, 3, 2, 3, 0, 3]]\n"
     ]
    },
    {
     "data": {
      "text/plain": [
       "[1 1 1 1 1 0 0 0 0 0 0 0 0 0 0 0 0 0 0 0]\n",
       "[0 0 0 0 0 1 1 1 1 1 0 0 0 0 0 0 0 0 0 0]\n",
       "[0 0 0 0 0 0 0 0 0 0 1 1 1 1 1 0 0 0 0 0]\n",
       "[0 0 0 0 0 0 0 0 0 0 0 0 0 0 0 1 1 1 1 1]\n",
       "[0 0 0 0 1 0 0 1 0 1 0 1 1 0 0 0 0 0 0 0]\n",
       "[0 1 1 0 0 0 0 0 0 0 1 0 0 0 1 0 0 1 0 0]\n",
       "[1 0 0 0 0 0 0 0 0 0 0 0 0 1 0 1 1 0 1 0]\n",
       "[0 0 0 1 0 1 1 0 1 0 0 0 0 0 0 0 0 0 0 1]\n",
       "[0 0 0 1 1 0 0 0 0 0 0 0 0 1 0 0 1 0 0 1]\n",
       "[0 1 0 0 0 1 0 0 0 0 1 1 1 0 0 0 0 0 0 0]\n",
       "[0 0 1 0 0 0 1 0 1 1 0 0 0 0 0 0 0 1 0 0]\n",
       "[1 0 0 0 0 0 0 1 0 0 0 0 0 0 1 1 0 0 1 0]"
      ]
     },
     "execution_count": 10,
     "metadata": {},
     "output_type": "execute_result"
    }
   ],
   "source": [
    "N = 20 \n",
    "Wc = 3 \n",
    "Wr = 5 \n",
    "H = generate_H(N, Wc, Wr) \n",
    "H"
   ]
  },
  {
   "cell_type": "code",
   "execution_count": 22,
   "id": "a51f8981",
   "metadata": {},
   "outputs": [
    {
     "data": {
      "text/plain": [
       "[0 0 0 0 1 0 0 1 0 1 0 1 1 0 0 0 0 0 0 0]\n",
       "[0 1 1 0 0 0 0 0 0 0 1 0 0 0 1 0 0 1 0 0]\n",
       "[1 0 0 0 0 0 0 0 0 0 0 0 0 1 0 1 1 0 1 0]\n",
       "[0 0 0 1 0 1 1 0 1 0 0 0 0 0 0 0 0 0 0 1]\n",
       "[0 0 0 1 1 0 0 0 0 0 0 0 0 1 0 0 1 0 0 1]\n",
       "[0 1 0 0 0 1 0 0 0 0 1 1 1 0 0 0 0 0 0 0]\n",
       "[0 0 1 0 0 0 1 0 1 1 0 0 0 0 0 0 0 1 0 0]\n",
       "[1 0 0 0 0 0 0 1 0 0 0 0 0 0 1 1 0 0 1 0]"
      ]
     },
     "execution_count": 22,
     "metadata": {},
     "output_type": "execute_result"
    }
   ],
   "source": [
    "H.dimensions() \n",
    "# Note H0 is of dim. (4, 20) \n",
    "H[4:]"
   ]
  },
  {
   "cell_type": "code",
   "execution_count": 13,
   "id": "838bbf9d",
   "metadata": {},
   "outputs": [],
   "source": [
    "# Construct the sets N(m) and M(n) for the previously found parity check matrix H, \n",
    "# and construct the Tannner graph for H. \n",
    "\n",
    "N_m = [[i for i, e in enumerate(row) if e == 1] for row in H]\n",
    "M_n = [[i for i, e in enumerate(column) if e == 1] for column in H.columns()]\n"
   ]
  },
  {
   "cell_type": "code",
   "execution_count": null,
   "id": "22ada293",
   "metadata": {},
   "outputs": [],
   "source": [
    "\n"
   ]
  },
  {
   "cell_type": "code",
   "execution_count": null,
   "id": "1cebb3bd",
   "metadata": {},
   "outputs": [],
   "source": [
    "\n"
   ]
  },
  {
   "cell_type": "code",
   "execution_count": null,
   "id": "a686dcb0",
   "metadata": {},
   "outputs": [],
   "source": []
  },
  {
   "cell_type": "code",
   "execution_count": null,
   "id": "2f2d4ca3",
   "metadata": {},
   "outputs": [],
   "source": []
  }
 ],
 "metadata": {
  "kernelspec": {
   "display_name": "SageMath 9.8",
   "language": "sage",
   "name": "sagemath-9.8"
  },
  "language_info": {
   "codemirror_mode": {
    "name": "ipython",
    "version": 3
   },
   "file_extension": ".py",
   "mimetype": "text/x-python",
   "name": "python",
   "nbconvert_exporter": "python",
   "pygments_lexer": "ipython3",
   "version": "3.11.1"
  }
 },
 "nbformat": 4,
 "nbformat_minor": 5
}
