{
 "cells": [
  {
   "cell_type": "raw",
   "id": "a19cdeb2",
   "metadata": {},
   "source": [
    "Decoding of LDPC codes \n",
    "\n",
    "    AWGN com. model \n",
    "        Message => Encoder => BPSK => (XOR) ~noise => de - BPSK => Decode => Message \n",
    "        \n",
    "        \n",
    "    Noise sample from N(0, 1) \n",
    "   \n",
    "\n",
    "LDPC from given H - matrix \n",
    "message m = (m1, m2, m3, m4, m5) with the LRPC code C defined by H, modulate each bit of c = (c1,c2,...,c10) with BPSK as x = (x1,x2,...,x10) with xi = (−1)^ci, and send the output x = (x1, x2, . . . , x10) through the AWGN channel."
   ]
  },
  {
   "cell_type": "code",
   "execution_count": 88,
   "id": "83bee984",
   "metadata": {},
   "outputs": [],
   "source": [
    "H = matrix([\n",
    "    [1, 1, 1, 0, 0, 1, 1, 0, 0, 1],\n",
    "    [1, 0, 1, 0, 1, 1, 0, 1, 1, 0],\n",
    "    [0, 0, 1, 1, 1, 0, 1, 0, 1, 1],\n",
    "    [0, 1, 0, 1, 1, 1, 0, 1, 0, 1],\n",
    "    [1, 1, 0, 1, 0, 0, 1, 1, 1, 0]\n",
    "])\n",
    "\n",
    "\n",
    "y = list(map(float, ['-0.35', '-0.43', '-0.73', '-0.05', '0.2', '0.98', '-0.73', '0.36', '-0.45', '0.58']))"
   ]
  },
  {
   "cell_type": "code",
   "execution_count": 89,
   "id": "a55b7eb0",
   "metadata": {},
   "outputs": [
    {
     "ename": "ModuleNotFoundError",
     "evalue": "No module named 'sage.coding.ldpc'",
     "output_type": "error",
     "traceback": [
      "\u001b[0;31m---------------------------------------------------------------------------\u001b[0m",
      "\u001b[0;31mModuleNotFoundError\u001b[0m                       Traceback (most recent call last)",
      "Cell \u001b[0;32mIn [89], line 1\u001b[0m\n\u001b[0;32m----> 1\u001b[0m \u001b[38;5;28;01mfrom\u001b[39;00m \u001b[38;5;21;01msage\u001b[39;00m\u001b[38;5;21;01m.\u001b[39;00m\u001b[38;5;21;01mcoding\u001b[39;00m\u001b[38;5;21;01m.\u001b[39;00m\u001b[38;5;21;01mldpc\u001b[39;00m \u001b[38;5;28;01mimport\u001b[39;00m LDPCCode, LDPCDecoder\n",
      "\u001b[0;31mModuleNotFoundError\u001b[0m: No module named 'sage.coding.ldpc'"
     ]
    }
   ],
   "source": [
    "from sage.coding.ldpc import LDPCCode, LDPCDecoder"
   ]
  },
  {
   "cell_type": "raw",
   "id": "d43fd559",
   "metadata": {},
   "source": [
    "(i) Initialization. Construct the sets N(m) and M(n) for each 1 <= m <= 5 and 1 <= n <= 10. Calculate the intrinsic \n",
    "    LLR of x from the channel \n",
    "        Ln := Lc(x) = [Lc(X1), Lc(X2), ..., Lc(Xn)]\n",
    "    where Lc(Xi) = log(P(yi | Xi =1) / P(yi | Xi=-1))\n",
    "    \n"
   ]
  },
  {
   "cell_type": "code",
   "execution_count": 51,
   "id": "2505f25f",
   "metadata": {},
   "outputs": [],
   "source": [
    "N_m = [[i for i, e in enumerate(row) if e == 1] for row in H]\n",
    "M_n = [[i for i, e in enumerate(column) if e == 1] for column in H.columns()]"
   ]
  },
  {
   "cell_type": "code",
   "execution_count": 52,
   "id": "940e722e",
   "metadata": {},
   "outputs": [
    {
     "data": {
      "text/plain": [
       "[[0, 1, 2, 5, 6, 9],\n",
       " [0, 2, 4, 5, 7, 8],\n",
       " [2, 3, 4, 6, 8, 9],\n",
       " [1, 3, 4, 5, 7, 9],\n",
       " [0, 1, 3, 6, 7, 8]]"
      ]
     },
     "execution_count": 52,
     "metadata": {},
     "output_type": "execute_result"
    }
   ],
   "source": [
    "N_m"
   ]
  },
  {
   "cell_type": "code",
   "execution_count": 53,
   "id": "0c2a49c3",
   "metadata": {},
   "outputs": [
    {
     "data": {
      "text/plain": [
       "[[0, 1, 4],\n",
       " [0, 3, 4],\n",
       " [0, 1, 2],\n",
       " [2, 3, 4],\n",
       " [1, 2, 3],\n",
       " [0, 1, 3],\n",
       " [0, 2, 4],\n",
       " [1, 3, 4],\n",
       " [1, 2, 4],\n",
       " [0, 2, 3]]"
      ]
     },
     "execution_count": 53,
     "metadata": {},
     "output_type": "execute_result"
    }
   ],
   "source": [
    "M_n"
   ]
  },
  {
   "cell_type": "code",
   "execution_count": 54,
   "id": "df68cd26",
   "metadata": {},
   "outputs": [],
   "source": [
    "n, m = H.dimensions()"
   ]
  },
  {
   "cell_type": "code",
   "execution_count": 55,
   "id": "8faa90a7",
   "metadata": {},
   "outputs": [],
   "source": [
    "L = [[0 for _ in range(m)] for _ in range(n)]"
   ]
  },
  {
   "cell_type": "code",
   "execution_count": 56,
   "id": "a8430193",
   "metadata": {},
   "outputs": [],
   "source": [
    "import copy \n",
    "def findL(L):\n",
    "    LL = copy.deepcopy(L) \n",
    "    for i in range(n): \n",
    "        # iterate each row \n",
    "        c = 0 \n",
    "        for j in range(m): \n",
    "            # each value in row       \n",
    "            tmp_place = int(H[i][j])\n",
    "            if tmp_place != 0: \n",
    "                LL[i][j] = y[N_m[i][c]] # replace with y val. \n",
    "                c += 1\n",
    "            else: \n",
    "                LL[i][j] = 0 \n",
    "    return LL \n",
    "\n",
    "L = findL(L)"
   ]
  },
  {
   "cell_type": "code",
   "execution_count": 58,
   "id": "90e82d85",
   "metadata": {},
   "outputs": [
    {
     "data": {
      "text/plain": [
       "[[-0.35, -0.43, -0.73, 0, 0, 0.98, -0.73, 0, 0, 0.58],\n",
       " [-0.35, 0, -0.73, 0, 0.2, 0.98, 0, 0.36, -0.45, 0],\n",
       " [0, 0, -0.73, -0.05, 0.2, 0, -0.73, 0, -0.45, 0.58],\n",
       " [0, -0.43, 0, -0.05, 0.2, 0.98, 0, 0.36, 0, 0.58],\n",
       " [-0.35, -0.43, 0, -0.05, 0, 0, -0.73, 0.36, -0.45, 0]]"
      ]
     },
     "execution_count": 58,
     "metadata": {},
     "output_type": "execute_result"
    }
   ],
   "source": [
    "L"
   ]
  },
  {
   "cell_type": "raw",
   "id": "26554e45",
   "metadata": {},
   "source": [
    "Update part "
   ]
  },
  {
   "cell_type": "code",
   "execution_count": 140,
   "id": "390b94d5",
   "metadata": {},
   "outputs": [],
   "source": [
    "def get_connected_bits(H, i):\n",
    "    \"\"\"\n",
    "    Computes list of elements of N(i)-j:\n",
    "    List of variables (bits) connected to Parity node i.\n",
    "\n",
    "    \"\"\"\n",
    "    m, n = H.shape\n",
    "    return [a for a in range(n) if H[i, a]]\n",
    "\n",
    "\n",
    "def get_connected_nodes(tH, j):\n",
    "    \"\"\"\n",
    "    Computes list of elements of M(j):\n",
    "    List of nodes (PC equations) connecting variable j.\n",
    "\n",
    "    \"\"\"\n",
    "    return get_connected_bits(tH, j)\n",
    "\n",
    "def get_Nm_M_n(H):\n",
    "    m, n = H.shape\n",
    "    tH = np.transpose(H)\n",
    "    Bits = [Bits2i(H, i) for i in range(m)]\n",
    "    Nodes = [Nodes2j(tH, j) for j in range(n)]\n",
    "    return Bits, Nodes"
   ]
  },
  {
   "cell_type": "code",
   "execution_count": 141,
   "id": "b48cbf46",
   "metadata": {},
   "outputs": [],
   "source": [
    "import numpy as np\n",
    "\n",
    "def ldpc_decode_belief_propagation(symbol, H, max_iter=2):\n",
    "    \"\"\"\n",
    "    A LDPC decoder based on the belief propagation method.\n",
    "\n",
    "    Parameters:\n",
    "        symbol: received symbols\n",
    "        H: check matrix\n",
    "        max_iter: maximum number of iterations (default: 2)\n",
    "\n",
    "    Returns:\n",
    "        decoded message bits\n",
    "    \"\"\"\n",
    "    # Extract matrix dimensions\n",
    "    num_check_bits, num_coding_bits = H.shape\n",
    "    num_message_bits = num_coding_bits - num_check_bits\n",
    "\n",
    "    # Initialize variables\n",
    "    beta = np.zeros((num_check_bits, num_coding_bits))\n",
    "    alpha = np.zeros((num_check_bits, num_coding_bits))\n",
    "    decide = np.zeros(num_coding_bits)\n",
    "\n",
    "    # Find the nonzero elements\n",
    "    N_m, H_m = get_Nm_M_n(H)\n",
    "    # Initialize beta matrix\n",
    "    for check_id in range(num_check_bits):\n",
    "        connected_bits = N_m[check_id]\n",
    "        beta[check_id, connected_bits] = symbol[connected_bits]\n",
    "\n",
    "    # Message update\n",
    "    for iteration in range(max_iter):\n",
    "        # Step 2: Horizontal message passing\n",
    "        for bit_id in range(num_coding_bits):\n",
    "            connected_checks = H_m[bit_id]\n",
    "            for check_id in connected_checks:\n",
    "                connected_bits = N_m[check_id]\n",
    "                # Calculate the product of the tanh functions for the connected bits\n",
    "                X = np.prod(np.tanh(0.5 * beta[check_id, connected_bits]))\n",
    "                # Compute the alpha values (check node to bit node messages)\n",
    "                alpha[check_id, bit_id] = 2 * np.arctanh(X)\n",
    "\n",
    "            # Step 2: Vertical message passing\n",
    "            Mij = [check_id for check_id in connected_checks if check_id != bit_id]\n",
    "            # Compute the beta values (bit node to check node messages)\n",
    "            beta[:, bit_id] = symbol[bit_id] + np.sum(alpha[Mij, bit_id])\n",
    "\n",
    "        # Step 3: Compute the updated messages and decisions\n",
    "        for bit_id in range(num_coding_bits):\n",
    "            connected_checks = H_m[bit_id]\n",
    "            # Compute the updated message for the bit node\n",
    "            m_bit = np.sum(alpha[connected_checks, bit_id]) + np.sum(beta[connected_checks, bit_id])\n",
    "            # Compute the decision for the bit node\n",
    "            decide[bit_id] = symbol[bit_id] + m_bit\n",
    "\n",
    "    # Soft decision: Decode the message bits based on the decisions\n",
    "    decoded_message_bits = np.zeros(num_message_bits)\n",
    "    for i in range(num_message_bits):\n",
    "        if decide[i + num_check_bits] < 0:\n",
    "            decoded_message_bits[i] = 1\n",
    "\n",
    "    return decoded_message_bits\n"
   ]
  },
  {
   "cell_type": "code",
   "execution_count": 142,
   "id": "36212bc5",
   "metadata": {},
   "outputs": [],
   "source": [
    "H = np.array([\n",
    "    [1, 1, 1, 0, 0, 1, 1, 0, 0, 1],\n",
    "    [1, 0, 1, 0, 1, 1, 0, 1, 1, 0],\n",
    "    [0, 0, 1, 1, 1, 0, 1, 0, 1, 1],\n",
    "    [0, 1, 0, 1, 1, 1, 0, 1, 0, 1],\n",
    "    [1, 1, 0, 1, 0, 0, 1, 1, 1, 0]\n",
    "])\n",
    "y = np.array(y)"
   ]
  },
  {
   "cell_type": "code",
   "execution_count": 143,
   "id": "d2e58b21",
   "metadata": {},
   "outputs": [],
   "source": [
    "m = list(map(int, ldpc_decode_belief_propagation(y, H, max_iter=1)))"
   ]
  },
  {
   "cell_type": "code",
   "execution_count": 144,
   "id": "495c0de8",
   "metadata": {},
   "outputs": [
    {
     "data": {
      "text/plain": [
       "[0, 1, 0, 1, 0]"
      ]
     },
     "execution_count": 144,
     "metadata": {},
     "output_type": "execute_result"
    }
   ],
   "source": [
    "m"
   ]
  },
  {
   "cell_type": "code",
   "execution_count": null,
   "id": "d62c3bcf",
   "metadata": {},
   "outputs": [],
   "source": []
  }
 ],
 "metadata": {
  "kernelspec": {
   "display_name": "SageMath 9.8",
   "language": "sage",
   "name": "sagemath-9.8"
  },
  "language_info": {
   "codemirror_mode": {
    "name": "ipython",
    "version": 3
   },
   "file_extension": ".py",
   "mimetype": "text/x-python",
   "name": "python",
   "nbconvert_exporter": "python",
   "pygments_lexer": "ipython3",
   "version": "3.11.1"
  }
 },
 "nbformat": 4,
 "nbformat_minor": 5
}
