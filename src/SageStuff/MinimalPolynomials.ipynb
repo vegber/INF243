{
 "cells": [
  {
   "cell_type": "code",
   "execution_count": 49,
   "id": "a53eb067",
   "metadata": {},
   "outputs": [],
   "source": [
    "K.<j> = NumberField(x^2 + x + 3) "
   ]
  },
  {
   "cell_type": "code",
   "execution_count": 50,
   "id": "7576066b",
   "metadata": {},
   "outputs": [
    {
     "data": {
      "text/plain": [
       "Coordinate function that writes elements in terms of the powers of j + 1"
      ]
     },
     "execution_count": 50,
     "metadata": {},
     "output_type": "execute_result"
    }
   ],
   "source": [
    "f = (j+1).coordinates_in_terms_of_powers(); f"
   ]
  },
  {
   "cell_type": "code",
   "execution_count": 51,
   "id": "b8ef73cd",
   "metadata": {},
   "outputs": [
    {
     "data": {
      "text/plain": [
       "<class 'sage.rings.number_field.number_field_element.CoordinateFunction'>"
      ]
     },
     "execution_count": 51,
     "metadata": {},
     "output_type": "execute_result"
    }
   ],
   "source": [
    "f.__class__"
   ]
  },
  {
   "cell_type": "code",
   "execution_count": 52,
   "id": "6cecda0b",
   "metadata": {},
   "outputs": [
    {
     "data": {
      "text/plain": [
       "[-1, 1]"
      ]
     },
     "execution_count": 52,
     "metadata": {},
     "output_type": "execute_result"
    }
   ],
   "source": [
    "f(j)"
   ]
  },
  {
   "cell_type": "code",
   "execution_count": 53,
   "id": "98d6ca13",
   "metadata": {},
   "outputs": [
    {
     "data": {
      "text/plain": [
       "True"
      ]
     },
     "execution_count": 53,
     "metadata": {},
     "output_type": "execute_result"
    }
   ],
   "source": [
    "f == loads(dumps(f))"
   ]
  },
  {
   "cell_type": "code",
   "execution_count": 54,
   "id": "6f53a04e",
   "metadata": {},
   "outputs": [],
   "source": [
    "# Minimal polynomails. over GF(p) "
   ]
  },
  {
   "cell_type": "code",
   "execution_count": 73,
   "id": "83649ae0",
   "metadata": {},
   "outputs": [
    {
     "name": "stdout",
     "output_type": "stream",
     "text": [
      "primitive poly of this GF: x^4 + x + 1\n"
     ]
    }
   ],
   "source": [
    "p = 2 \n",
    "m = 4\n",
    "FF.<a> = GF(p^m) \n",
    "print(f\"primitive poly of this GF: {a.minimal_polynomial()}\")\n",
    "\n",
    "R.<x> = PolynomialRing(GF(p))\n"
   ]
  },
  {
   "cell_type": "code",
   "execution_count": 74,
   "id": "4c96dcc4",
   "metadata": {},
   "outputs": [
    {
     "name": "stdout",
     "output_type": "stream",
     "text": [
      "C3: x^4 + x^3 + x^2 + x + 1\n",
      "C5: x^2 + x + 1\n"
     ]
    },
    {
     "data": {
      "text/plain": [
       "x^2 + x + 1"
      ]
     },
     "execution_count": 74,
     "metadata": {},
     "output_type": "execute_result"
    }
   ],
   "source": [
    "b = a^3\n",
    "\n",
    "# C3 = {3, 6, 12, 9} \n",
    "# C5 = {5, 10}\n",
    "\n",
    "print(f\"C3: {(x-a^3)*(x-a^6)*(x-a^12)*(x-a^9)}\")\n",
    "print(f\"C5: {(x-a^5)*(x-a^10)}\")\n",
    "\n",
    "(x-a^3)*(x-a^6)*(x-a^12)*(x-a^9)\n",
    "(x-a^5)*(x-a^10)"
   ]
  },
  {
   "cell_type": "code",
   "execution_count": 75,
   "id": "e767ffa1",
   "metadata": {},
   "outputs": [
    {
     "data": {
      "text/plain": [
       "x^4 + x^3 + x^2 + x + 1"
      ]
     },
     "execution_count": 75,
     "metadata": {},
     "output_type": "execute_result"
    }
   ],
   "source": [
    "b.minimal_polynomial()"
   ]
  },
  {
   "cell_type": "code",
   "execution_count": 76,
   "id": "0abbcfad",
   "metadata": {},
   "outputs": [
    {
     "data": {
      "text/plain": [
       "(x + 1) * (x^2 + x + 1) * (x^4 + x + 1) * (x^4 + x^3 + 1) * (x^4 + x^3 + x^2 + x + 1)"
      ]
     },
     "execution_count": 76,
     "metadata": {},
     "output_type": "execute_result"
    }
   ],
   "source": [
    "factor(x^15-1)"
   ]
  },
  {
   "cell_type": "code",
   "execution_count": 86,
   "id": "0295080f",
   "metadata": {},
   "outputs": [],
   "source": [
    "g1 = (x^2 + x + 1) * (x^4 + x + 1)\n",
    "g2 = (x+1) * (x^2 + x + 1) * (x^4 + x + 1)\n",
    "g3 = (x^4 + x + 1) * (x^4 + x^3 + x^2 + x + 1) * (x^2+x+1)\n",
    "# C1 = {1, 2, 4, 8} \n",
    "# C2 = {3, 6, 12, 9} \n",
    "# Z = C1 union C3 = {1, 2, 3, 4, 6, 8, 9, 12}\n",
    "\n",
    "C1 = codes.CyclicCode(generator_pol = g1, length = 15)\n",
    "C2 = codes.CyclicCode(generator_pol= g2, length = 15) \n",
    "C3 = codes.CyclicCode(generator_pol= g3, length = 15) \n",
    "# should be atleast 5 length \n",
    "\n",
    "\n",
    "\n"
   ]
  },
  {
   "cell_type": "code",
   "execution_count": 87,
   "id": "4a0b2569",
   "metadata": {},
   "outputs": [
    {
     "data": {
      "text/plain": [
       "7"
      ]
     },
     "execution_count": 87,
     "metadata": {},
     "output_type": "execute_result"
    }
   ],
   "source": [
    "C3.minimum_distance() "
   ]
  },
  {
   "cell_type": "code",
   "execution_count": null,
   "id": "c1207928",
   "metadata": {},
   "outputs": [],
   "source": []
  }
 ],
 "metadata": {
  "kernelspec": {
   "display_name": "SageMath 9.7",
   "language": "sage",
   "name": "sagemath-9.7"
  },
  "language_info": {
   "codemirror_mode": {
    "name": "ipython",
    "version": 3
   },
   "file_extension": ".py",
   "mimetype": "text/x-python",
   "name": "python",
   "nbconvert_exporter": "python",
   "pygments_lexer": "ipython3",
   "version": "3.10.5"
  }
 },
 "nbformat": 4,
 "nbformat_minor": 5
}
