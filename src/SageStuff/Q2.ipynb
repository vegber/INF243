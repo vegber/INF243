{
 "cells": [
  {
   "cell_type": "code",
   "execution_count": 17,
   "id": "9c2324df",
   "metadata": {},
   "outputs": [
    {
     "ename": "TypeError",
     "evalue": "FiniteField_givaro._element_constructor_() got an unexpected keyword argument 'modulus'",
     "output_type": "error",
     "traceback": [
      "\u001b[0;31m---------------------------------------------------------------------------\u001b[0m",
      "\u001b[0;31mTypeError\u001b[0m                                 Traceback (most recent call last)",
      "Cell \u001b[0;32mIn [17], line 5\u001b[0m\n\u001b[1;32m      3\u001b[0m p \u001b[38;5;241m=\u001b[39m Integer(\u001b[38;5;241m2\u001b[39m)\u001b[38;5;241m*\u001b[39m\u001b[38;5;241m*\u001b[39mm \u001b[38;5;241m-\u001b[39mInteger(\u001b[38;5;241m1\u001b[39m) \n\u001b[1;32m      4\u001b[0m \u001b[38;5;66;03m# Define the field GF(2^m) with primitive element alpha \u001b[39;00m\n\u001b[0;32m----> 5\u001b[0m GF \u001b[38;5;241m=\u001b[39m \u001b[43mGF\u001b[49m\u001b[43m(\u001b[49m\u001b[43mInteger\u001b[49m\u001b[43m(\u001b[49m\u001b[38;5;241;43m2\u001b[39;49m\u001b[43m)\u001b[49m\u001b[38;5;241;43m*\u001b[39;49m\u001b[38;5;241;43m*\u001b[39;49m\u001b[43mm\u001b[49m\u001b[43m,\u001b[49m\u001b[43m \u001b[49m\u001b[38;5;124;43m'\u001b[39;49m\u001b[38;5;124;43ma\u001b[39;49m\u001b[38;5;124;43m'\u001b[39;49m\u001b[43m,\u001b[49m\u001b[43m \u001b[49m\u001b[43mmodulus\u001b[49m\u001b[38;5;241;43m=\u001b[39;49m\u001b[43mx\u001b[49m\u001b[38;5;241;43m*\u001b[39;49m\u001b[38;5;241;43m*\u001b[39;49m\u001b[43mInteger\u001b[49m\u001b[43m(\u001b[49m\u001b[38;5;241;43m5\u001b[39;49m\u001b[43m)\u001b[49m\u001b[38;5;241;43m+\u001b[39;49m\u001b[43mx\u001b[49m\u001b[38;5;241;43m*\u001b[39;49m\u001b[38;5;241;43m*\u001b[39;49m\u001b[43mInteger\u001b[49m\u001b[43m(\u001b[49m\u001b[38;5;241;43m2\u001b[39;49m\u001b[43m)\u001b[49m\u001b[38;5;241;43m+\u001b[39;49m\u001b[43mInteger\u001b[49m\u001b[43m(\u001b[49m\u001b[38;5;241;43m1\u001b[39;49m\u001b[43m)\u001b[49m\u001b[43m)\u001b[49m \n\u001b[1;32m      6\u001b[0m \u001b[38;5;66;03m# compute a primitive element alpha in GF(2^m) \u001b[39;00m\n\u001b[1;32m      7\u001b[0m alpha \u001b[38;5;241m=\u001b[39m GF\u001b[38;5;241m.\u001b[39mmultiplicative_generator()\n",
      "File \u001b[0;32m/private/var/tmp/sage-9.8-current/local/var/lib/sage/venv-python3.11.1/lib/python3.11/site-packages/sage/structure/parent.pyx:898\u001b[0m, in \u001b[0;36msage.structure.parent.Parent.__call__ (build/cythonized/sage/structure/parent.c:9543)\u001b[0;34m()\u001b[0m\n\u001b[1;32m    896\u001b[0m         return mor._call_(x)\n\u001b[1;32m    897\u001b[0m     else:\n\u001b[0;32m--> 898\u001b[0m         return mor._call_with_args(x, args, kwds)\n\u001b[1;32m    899\u001b[0m \n\u001b[1;32m    900\u001b[0m raise TypeError(_LazyString(\"No conversion defined from %s to %s\", (R, self), {}))\n",
      "File \u001b[0;32m/private/var/tmp/sage-9.8-current/local/var/lib/sage/venv-python3.11.1/lib/python3.11/site-packages/sage/structure/coerce_maps.pyx:180\u001b[0m, in \u001b[0;36msage.structure.coerce_maps.DefaultConvertMap_unique._call_with_args (build/cythonized/sage/structure/coerce_maps.c:5347)\u001b[0;34m()\u001b[0m\n\u001b[1;32m    178\u001b[0m     print(type(C), C)\n\u001b[1;32m    179\u001b[0m     print(type(C._element_constructor), C._element_constructor)\n\u001b[0;32m--> 180\u001b[0m raise\n\u001b[1;32m    181\u001b[0m \n\u001b[1;32m    182\u001b[0m \n",
      "File \u001b[0;32m/private/var/tmp/sage-9.8-current/local/var/lib/sage/venv-python3.11.1/lib/python3.11/site-packages/sage/structure/coerce_maps.pyx:175\u001b[0m, in \u001b[0;36msage.structure.coerce_maps.DefaultConvertMap_unique._call_with_args (build/cythonized/sage/structure/coerce_maps.c:5235)\u001b[0;34m()\u001b[0m\n\u001b[1;32m    173\u001b[0m             return C._element_constructor(x, *args)\n\u001b[1;32m    174\u001b[0m         else:\n\u001b[0;32m--> 175\u001b[0m             return C._element_constructor(x, *args, **kwds)\n\u001b[1;32m    176\u001b[0m except Exception:\n\u001b[1;32m    177\u001b[0m     if print_warnings:\n",
      "\u001b[0;31mTypeError\u001b[0m: FiniteField_givaro._element_constructor_() got an unexpected keyword argument 'modulus'"
     ]
    }
   ],
   "source": [
    "m = 5 \n",
    "# compute modulus for the field GF(2^m)\n",
    "p = 2^m -1 \n",
    "# Define the field GF(2^m) with primitive element alpha \n",
    "GF = GF(2^m, 'a', modulus=x^5+x^2+1) \n",
    "# compute a primitive element alpha in GF(2^m) \n",
    "alpha = GF.multiplicative_generator()\n",
    "# compute the cyclotomic cosets modulo p \n",
    "cosets = [] \n",
    "for i in range(1, p): \n",
    "    # check if i is in a new coset iff. add to list \n",
    "    if all(pow(alpha, i, p) != pow(alpha, j, p) for j in range(i)): \n",
    "        cosets.append([j for j in range(p) if pow(alpha, j, p)== pow(alpha, i, p)])"
   ]
  },
  {
   "cell_type": "code",
   "execution_count": 15,
   "id": "468b1331",
   "metadata": {},
   "outputs": [
    {
     "data": {
      "text/plain": [
       "[[1],\n",
       " [2],\n",
       " [3],\n",
       " [4],\n",
       " [5],\n",
       " [6],\n",
       " [7],\n",
       " [8],\n",
       " [9],\n",
       " [10],\n",
       " [11],\n",
       " [12],\n",
       " [13],\n",
       " [14],\n",
       " [15],\n",
       " [16],\n",
       " [17],\n",
       " [18],\n",
       " [19],\n",
       " [20],\n",
       " [21],\n",
       " [22],\n",
       " [23],\n",
       " [24],\n",
       " [25],\n",
       " [26],\n",
       " [27],\n",
       " [28],\n",
       " [29],\n",
       " [30]]"
      ]
     },
     "execution_count": 15,
     "metadata": {},
     "output_type": "execute_result"
    }
   ],
   "source": [
    "cosets"
   ]
  },
  {
   "cell_type": "code",
   "execution_count": null,
   "id": "8d4535a3",
   "metadata": {},
   "outputs": [],
   "source": []
  }
 ],
 "metadata": {
  "kernelspec": {
   "display_name": "SageMath 9.8",
   "language": "sage",
   "name": "sagemath-9.8"
  },
  "language_info": {
   "codemirror_mode": {
    "name": "ipython",
    "version": 3
   },
   "file_extension": ".py",
   "mimetype": "text/x-python",
   "name": "python",
   "nbconvert_exporter": "python",
   "pygments_lexer": "ipython3",
   "version": "3.11.1"
  }
 },
 "nbformat": 4,
 "nbformat_minor": 5
}
