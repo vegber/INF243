{
 "cells": [
  {
   "cell_type": "markdown",
   "id": "37eeb172",
   "metadata": {},
   "source": [
    "Let alpha be a root of the polynomial f(x) = x^6 + x^4 + x^3 + x + 1 in F_2[x], which is used to generate the finite field 2^6 \n",
    "\n",
    "Suppose a binary BCH code C of length 63 is defined by the generator polynomial g(x) that has roots \n",
    "    a,a^3, a^5, a^6, a^7 \n",
    "    (i). What is the BCH bound on the minimum distance of the code C \n",
    "    \n",
    "    (ii). Suppose a message b has a binary representation as \n",
    "    m = m_0m_1...m38\n",
    "    = 000001111100000111110000011111000001010\n",
    " Encode this message in the systematic way \n",
    " "
   ]
  },
  {
   "cell_type": "code",
   "execution_count": 80,
   "id": "6c50cf55",
   "metadata": {},
   "outputs": [],
   "source": [
    "p = 2 \n",
    "m = 6 \n",
    "R.<x> = PolynomialRing(GF(p))\n",
    "Fm.<a> = FiniteField(p^m) "
   ]
  },
  {
   "cell_type": "code",
   "execution_count": 81,
   "id": "c352882f",
   "metadata": {},
   "outputs": [],
   "source": [
    "a_1 = a.minimal_polynomial()"
   ]
  },
  {
   "cell_type": "code",
   "execution_count": 82,
   "id": "881598ed",
   "metadata": {},
   "outputs": [
    {
     "name": "stdout",
     "output_type": "stream",
     "text": [
      "a_1: x^6 + x^4 + x^3 + x + 1\n",
      "a_3: x^6 + x^5 + x^4 + x^2 + 1\n",
      "a_5: x^6 + x + 1\n",
      "a_6: x^6 + x^5 + x^4 + x^2 + 1\n",
      "a_7: x^6 + x^3 + 1\n"
     ]
    }
   ],
   "source": [
    "# g(x) = lcm(m_1(x),...,m_d-1(x))\n",
    "# g(x) with coefficiants in GF(q) and divides x^n -1 \n",
    "\n",
    "a_1 = a.minimal_polynomial() \n",
    "a_3 = (a^3).minimal_polynomial()\n",
    "a_5 = (a^5).minimal_polynomial()\n",
    "a_6 = (a^6).minimal_polynomial()\n",
    "a_7 = (a^7).minimal_polynomial()\n",
    "\n",
    "print(f\"a_1: {a_1}\")\n",
    "print(f\"a_3: {a_3}\")\n",
    "print(f\"a_5: {a_5}\")\n",
    "print(f\"a_6: {a_6}\")\n",
    "print(f\"a_7: {a_7}\")\n",
    "\n",
    "# a_3 == a_6 \n",
    "\n",
    "a = lcm(a_1, a_3) \n",
    "b = lcm(a_5, a_7)\n",
    "g = lcm(a, b)"
   ]
  },
  {
   "cell_type": "code",
   "execution_count": 201,
   "id": "9e939e47",
   "metadata": {},
   "outputs": [
    {
     "data": {
      "text/plain": [
       "x^24 + x^23 + x^21 + x^19 + x^18 + x^16 + x^15 + x^14 + x^12 + x^11 + x^10 + x^8 + x^7 + x^5 + 1"
      ]
     },
     "execution_count": 201,
     "metadata": {},
     "output_type": "execute_result"
    }
   ],
   "source": [
    "g"
   ]
  },
  {
   "cell_type": "code",
   "execution_count": 202,
   "id": "f0dac597",
   "metadata": {},
   "outputs": [],
   "source": [
    "# highest_coef. of g(x) = x^24"
   ]
  },
  {
   "cell_type": "code",
   "execution_count": 203,
   "id": "852e7d5a",
   "metadata": {},
   "outputs": [],
   "source": [
    "# converted 000001111100000111110000011111000001010 to m(x)\n",
    "# m = x^5 + x^6 + x^7 + x^8 + x^9 + x^15 + x^16 + x^17 + x^18 + x^19 + x^25 + x^26 + x^27 + x^28 + x^29 + x^35 + x^37\n",
    "m = x^37 + x^35 + x^29 + x^28 + x^27 + x^26 + x^25 + x^19 + x^18 + x^17 + x^16 + x^15 + x^9 + x^8 +x^7 + x^6 + x^5\n"
   ]
  },
  {
   "cell_type": "code",
   "execution_count": 204,
   "id": "7103be19",
   "metadata": {},
   "outputs": [],
   "source": [
    "# want to compute r(x) = x^24(m(x)) mod(g(x))\n",
    "# then add r(x) to m \n",
    "\n"
   ]
  },
  {
   "cell_type": "code",
   "execution_count": 205,
   "id": "f87c3dc7",
   "metadata": {},
   "outputs": [],
   "source": [
    "R = (m*x^24).mod(g) "
   ]
  },
  {
   "cell_type": "code",
   "execution_count": 206,
   "id": "5ddf4168",
   "metadata": {},
   "outputs": [
    {
     "data": {
      "text/plain": [
       "x^23 + x^21 + x^20 + x^19 + x^16 + x^13 + x^12 + x^11 + x^10 + x^8 + x^7 + x^5 + x^4 + x^3 + x^2 + x + 1"
      ]
     },
     "execution_count": 206,
     "metadata": {},
     "output_type": "execute_result"
    }
   ],
   "source": [
    "R"
   ]
  },
  {
   "cell_type": "code",
   "execution_count": 207,
   "id": "6a190154",
   "metadata": {},
   "outputs": [
    {
     "data": {
      "text/plain": [
       "'101110010011110110111111'"
      ]
     },
     "execution_count": 207,
     "metadata": {},
     "output_type": "execute_result"
    }
   ],
   "source": [
    "r = ''.join(str(c) for c in R.coefficients(sparse=False)[::-1]) #to binary form \n",
    "r"
   ]
  },
  {
   "cell_type": "code",
   "execution_count": 208,
   "id": "a0180cb0",
   "metadata": {},
   "outputs": [],
   "source": [
    "m = ''.join(str(c) for c in m.coefficients(sparse=False)[::1])"
   ]
  },
  {
   "cell_type": "code",
   "execution_count": 209,
   "id": "67420bb7",
   "metadata": {},
   "outputs": [
    {
     "data": {
      "text/plain": [
       "'00000111110000011111000001111100000101'"
      ]
     },
     "execution_count": 209,
     "metadata": {},
     "output_type": "execute_result"
    }
   ],
   "source": [
    "m"
   ]
  },
  {
   "cell_type": "code",
   "execution_count": 210,
   "id": "1ee2535c",
   "metadata": {},
   "outputs": [],
   "source": [
    "# reversed for consistency \n",
    "c = m + r "
   ]
  },
  {
   "cell_type": "code",
   "execution_count": 211,
   "id": "41803bbd",
   "metadata": {},
   "outputs": [
    {
     "data": {
      "text/plain": [
       "'00000111110000011111000001111100000101101110010011110110111111'"
      ]
     },
     "execution_count": 211,
     "metadata": {},
     "output_type": "execute_result"
    }
   ],
   "source": [
    "c"
   ]
  },
  {
   "cell_type": "code",
   "execution_count": null,
   "id": "a29369d7",
   "metadata": {},
   "outputs": [],
   "source": []
  }
 ],
 "metadata": {
  "kernelspec": {
   "display_name": "SageMath 9.8",
   "language": "sage",
   "name": "sagemath-9.8"
  },
  "language_info": {
   "codemirror_mode": {
    "name": "ipython",
    "version": 3
   },
   "file_extension": ".py",
   "mimetype": "text/x-python",
   "name": "python",
   "nbconvert_exporter": "python",
   "pygments_lexer": "ipython3",
   "version": "3.11.1"
  }
 },
 "nbformat": 4,
 "nbformat_minor": 5
}
