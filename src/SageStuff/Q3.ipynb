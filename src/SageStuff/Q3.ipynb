{
 "cells": [
  {
   "cell_type": "markdown",
   "id": "e2140a60",
   "metadata": {},
   "source": [
    "Let alpha be a root of the polynomial f(x) = x^6 + x^4 + x^3 + x + 1 in F_2[x], which is used to generate the finite field 2^6 \n",
    "\n",
    "Suppose a binary BCH code C of length 63 is defined by the generator polynomial g(x) that has roots \n",
    "    a,a^3, a^5, a^6, a^7 \n",
    "    (i). What is the BCH bound on the minimum distance of the code C \n",
    "    \n",
    "    (ii). Suppose a message b has a binary representation as \n",
    "    m = m_0m_1...m38\n",
    "    = 000001111100000111110000011111000001010\n",
    " Encode this message in the systematic way \n",
    " "
   ]
  },
  {
   "cell_type": "code",
   "execution_count": 32,
   "id": "6d7ac67d",
   "metadata": {},
   "outputs": [],
   "source": [
    "p = 2 \n",
    "m = 6 \n",
    "R.<x> = PolynomialRing(GF(p))\n",
    "Fm.<a> = FiniteField(p^m) "
   ]
  },
  {
   "cell_type": "code",
   "execution_count": 44,
   "id": "3b28f023",
   "metadata": {},
   "outputs": [],
   "source": [
    "a_1 = a.minimal_polynomial()"
   ]
  },
  {
   "cell_type": "code",
   "execution_count": 58,
   "id": "bbdf9ebc",
   "metadata": {},
   "outputs": [
    {
     "name": "stdout",
     "output_type": "stream",
     "text": [
      "a_1: x^6 + x^4 + x^3 + x + 1\n",
      "a_3: x^6 + x^5 + x^4 + x^2 + 1\n",
      "a_5: x^6 + x + 1\n",
      "a_6: x^6 + x^5 + x^4 + x^2 + 1\n",
      "a_7: x^6 + x^3 + 1\n"
     ]
    }
   ],
   "source": [
    "# g(x) = lcm(m_1(x),...,m_d-1(x))\n",
    "# g(x) with coefficiants in GF(q) and divides x^n -1 \n",
    "\n",
    "a_1 = a.minimal_polynomial() \n",
    "a_3 = (a^3).minimal_polynomial()\n",
    "a_5 = (a^5).minimal_polynomial()\n",
    "a_6 = (a^6).minimal_polynomial()\n",
    "a_7 = (a^7).minimal_polynomial()\n",
    "\n",
    "print(f\"a_1: {a_1}\")\n",
    "print(f\"a_3: {a_3}\")\n",
    "print(f\"a_5: {a_5}\")\n",
    "print(f\"a_6: {a_6}\")\n",
    "print(f\"a_7: {a_7}\")\n",
    "\n",
    "# a_3 == a_6 \n",
    "\n",
    "a = lcm(a_1, a_3) \n",
    "b = lcm(a_5, a_7)\n",
    "g = lcm(a, b)"
   ]
  },
  {
   "cell_type": "code",
   "execution_count": 59,
   "id": "7eca6eba",
   "metadata": {},
   "outputs": [
    {
     "data": {
      "text/plain": [
       "x^24 + x^23 + x^21 + x^19 + x^18 + x^16 + x^15 + x^14 + x^12 + x^11 + x^10 + x^8 + x^7 + x^5 + 1"
      ]
     },
     "execution_count": 59,
     "metadata": {},
     "output_type": "execute_result"
    }
   ],
   "source": [
    "g"
   ]
  },
  {
   "cell_type": "code",
   "execution_count": 60,
   "id": "4e423946",
   "metadata": {},
   "outputs": [],
   "source": [
    "C = codes.CyclicCode(generator_pol=g, length=63) "
   ]
  },
  {
   "cell_type": "code",
   "execution_count": 61,
   "id": "b2b4e4de",
   "metadata": {},
   "outputs": [
    {
     "ename": "KeyboardInterrupt",
     "evalue": "",
     "output_type": "error",
     "traceback": [
      "\u001b[0;31m---------------------------------------------------------------------------\u001b[0m",
      "\u001b[0;31mKeyError\u001b[0m                                  Traceback (most recent call last)",
      "File \u001b[0;32m/private/var/tmp/sage-9.8-current/local/var/lib/sage/venv-python3.11.1/lib/python3.11/site-packages/sage/misc/cachefunc.pyx:1930\u001b[0m, in \u001b[0;36msage.misc.cachefunc.CachedMethodCaller.__call__ (build/cythonized/sage/misc/cachefunc.c:10142)\u001b[0;34m()\u001b[0m\n\u001b[1;32m   1929\u001b[0m try:\n\u001b[0;32m-> 1930\u001b[0m     return cache[k]\n\u001b[1;32m   1931\u001b[0m except TypeError:  # k is not hashable\n",
      "\u001b[0;31mKeyError\u001b[0m: ((None,), ())",
      "\nDuring handling of the above exception, another exception occurred:\n",
      "\u001b[0;31mKeyboardInterrupt\u001b[0m                         Traceback (most recent call last)",
      "Cell \u001b[0;32mIn [61], line 1\u001b[0m\n\u001b[0;32m----> 1\u001b[0m \u001b[43mC\u001b[49m\u001b[38;5;241;43m.\u001b[39;49m\u001b[43mminimum_distance\u001b[49m\u001b[43m(\u001b[49m\u001b[43m)\u001b[49m\n",
      "File \u001b[0;32m/private/var/tmp/sage-9.8-current/local/var/lib/sage/venv-python3.11.1/lib/python3.11/site-packages/sage/misc/cachefunc.pyx:1935\u001b[0m, in \u001b[0;36msage.misc.cachefunc.CachedMethodCaller.__call__ (build/cythonized/sage/misc/cachefunc.c:10278)\u001b[0;34m()\u001b[0m\n\u001b[1;32m   1933\u001b[0m         return cache[k]\n\u001b[1;32m   1934\u001b[0m except KeyError:\n\u001b[0;32m-> 1935\u001b[0m     w = self._instance_call(*args, **kwds)\n\u001b[1;32m   1936\u001b[0m     cache[k] = w\n\u001b[1;32m   1937\u001b[0m     return w\n",
      "File \u001b[0;32m/private/var/tmp/sage-9.8-current/local/var/lib/sage/venv-python3.11.1/lib/python3.11/site-packages/sage/misc/cachefunc.pyx:1811\u001b[0m, in \u001b[0;36msage.misc.cachefunc.CachedMethodCaller._instance_call (build/cythonized/sage/misc/cachefunc.c:9744)\u001b[0;34m()\u001b[0m\n\u001b[1;32m   1809\u001b[0m         True\n\u001b[1;32m   1810\u001b[0m     \"\"\"\n\u001b[0;32m-> 1811\u001b[0m     return self.f(self._instance, *args, **kwds)\n\u001b[1;32m   1812\u001b[0m \n\u001b[1;32m   1813\u001b[0m cdef fix_args_kwds(self, tuple args, dict kwds):\n",
      "File \u001b[0;32m/private/var/tmp/sage-9.8-current/local/var/lib/sage/venv-python3.11.1/lib/python3.11/site-packages/sage/coding/linear_code.py:1392\u001b[0m, in \u001b[0;36mAbstractLinearCode.minimum_distance\u001b[0;34m(self, algorithm)\u001b[0m\n\u001b[1;32m   1390\u001b[0m     d \u001b[38;5;241m=\u001b[39m C\u001b[38;5;241m.\u001b[39mMinimumWeight()\n\u001b[1;32m   1391\u001b[0m     \u001b[38;5;28;01mreturn\u001b[39;00m ZZ(d)\n\u001b[0;32m-> 1392\u001b[0m \u001b[38;5;28;01mreturn\u001b[39;00m \u001b[38;5;28;43mself\u001b[39;49m\u001b[38;5;241;43m.\u001b[39;49m\u001b[43m_minimum_weight_codeword\u001b[49m\u001b[43m(\u001b[49m\u001b[43malgorithm\u001b[49m\u001b[43m)\u001b[49m\u001b[38;5;241m.\u001b[39mhamming_weight()\n",
      "File \u001b[0;32m/private/var/tmp/sage-9.8-current/local/var/lib/sage/venv-python3.11.1/lib/python3.11/site-packages/sage/coding/linear_code.py:1453\u001b[0m, in \u001b[0;36mAbstractLinearCode._minimum_weight_codeword\u001b[0;34m(self, algorithm)\u001b[0m\n\u001b[1;32m   1451\u001b[0m v0 \u001b[38;5;241m=\u001b[39m (K\u001b[38;5;241m*\u001b[39m\u001b[38;5;241m*\u001b[39mn)\u001b[38;5;241m.\u001b[39mZero()\n\u001b[1;32m   1452\u001b[0m \u001b[38;5;28;01mfor\u001b[39;00m i \u001b[38;5;129;01min\u001b[39;00m \u001b[38;5;28mrange\u001b[39m(\u001b[38;5;241m1\u001b[39m,k\u001b[38;5;241m+\u001b[39m\u001b[38;5;241m1\u001b[39m):\n\u001b[0;32m-> 1453\u001b[0m     v \u001b[38;5;241m=\u001b[39m \u001b[43mGmat\u001b[49m\u001b[38;5;241;43m.\u001b[39;49m\u001b[43mAClosestVectorCombinationsMatFFEVecFFECoords\u001b[49m\u001b[43m(\u001b[49m\u001b[43mK\u001b[49m\u001b[43m,\u001b[49m\u001b[43mv0\u001b[49m\u001b[43m,\u001b[49m\u001b[43mi\u001b[49m\u001b[43m,\u001b[49m\u001b[38;5;241;43m1\u001b[39;49m\u001b[43m)\u001b[49m[\u001b[38;5;241m0\u001b[39m]\n\u001b[1;32m   1454\u001b[0m     dist \u001b[38;5;241m=\u001b[39m v\u001b[38;5;241m.\u001b[39mWeightVecFFE()\n\u001b[1;32m   1455\u001b[0m     \u001b[38;5;28;01mif\u001b[39;00m dist \u001b[38;5;129;01mand\u001b[39;00m dist \u001b[38;5;241m<\u001b[39m dist_min:\n",
      "File \u001b[0;32m/private/var/tmp/sage-9.8-current/local/var/lib/sage/venv-python3.11.1/lib/python3.11/site-packages/sage/libs/gap/element.pyx:2675\u001b[0m, in \u001b[0;36msage.libs.gap.element.GapElement_MethodProxy.__call__ (build/cythonized/sage/libs/gap/element.c:20951)\u001b[0;34m()\u001b[0m\n\u001b[1;32m   2673\u001b[0m \"\"\"\n\u001b[1;32m   2674\u001b[0m if len(args) > 0:\n\u001b[0;32m-> 2675\u001b[0m     return GapElement_Function.__call__(self, * ([self.first_argument] + list(args)))\n\u001b[1;32m   2676\u001b[0m else:\n\u001b[1;32m   2677\u001b[0m     return GapElement_Function.__call__(self, self.first_argument)\n",
      "File \u001b[0;32m/private/var/tmp/sage-9.8-current/local/var/lib/sage/venv-python3.11.1/lib/python3.11/site-packages/sage/libs/gap/element.pyx:2523\u001b[0m, in \u001b[0;36msage.libs.gap.element.GapElement_Function.__call__ (build/cythonized/sage/libs/gap/element.c:19955)\u001b[0;34m()\u001b[0m\n\u001b[1;32m   2521\u001b[0m try:\n\u001b[1;32m   2522\u001b[0m     sig_GAP_Enter()\n\u001b[0;32m-> 2523\u001b[0m     sig_on()\n\u001b[1;32m   2524\u001b[0m     if n == 0:\n\u001b[1;32m   2525\u001b[0m         result = CALL_0ARGS(self.value)\n",
      "\u001b[0;31mKeyboardInterrupt\u001b[0m: "
     ]
    }
   ],
   "source": []
  },
  {
   "cell_type": "code",
   "execution_count": null,
   "id": "129fe24b",
   "metadata": {},
   "outputs": [],
   "source": []
  }
 ],
 "metadata": {
  "kernelspec": {
   "display_name": "SageMath 9.8",
   "language": "sage",
   "name": "sagemath-9.8"
  },
  "language_info": {
   "codemirror_mode": {
    "name": "ipython",
    "version": 3
   },
   "file_extension": ".py",
   "mimetype": "text/x-python",
   "name": "python",
   "nbconvert_exporter": "python",
   "pygments_lexer": "ipython3",
   "version": "3.11.1"
  }
 },
 "nbformat": 4,
 "nbformat_minor": 5
}
