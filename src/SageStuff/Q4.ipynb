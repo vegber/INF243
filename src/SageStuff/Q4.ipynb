{
 "cells": [
  {
   "cell_type": "code",
   "execution_count": 68,
   "id": "706ed9c2",
   "metadata": {},
   "outputs": [],
   "source": [
    "R.<x> = PolynomialRing(GF(2))\n",
    "Fm.<a> = FiniteField(2^4) \n",
    "# define generator poly \n",
    "g = x^10 + x^8 + x^5 + x^4 + x^2 + x + 1\n",
    "\n",
    "# define receive word \n",
    "# r = x^8 + x^7 + x^3 + x^2 + x + 1"
   ]
  },
  {
   "cell_type": "code",
   "execution_count": 69,
   "id": "6d2e905c",
   "metadata": {},
   "outputs": [],
   "source": [
    "# Calculate the syndrome poly. S(x) "
   ]
  },
  {
   "cell_type": "code",
   "execution_count": 70,
   "id": "34712c1a",
   "metadata": {},
   "outputs": [
    {
     "data": {
      "text/plain": [
       "x^8 + x^7 + x^3 + x^2 + x + 1"
      ]
     },
     "execution_count": 70,
     "metadata": {},
     "output_type": "execute_result"
    }
   ],
   "source": [
    "S"
   ]
  },
  {
   "cell_type": "code",
   "execution_count": 71,
   "id": "53b12817",
   "metadata": {},
   "outputs": [
    {
     "data": {
      "text/plain": [
       "8"
      ]
     },
     "execution_count": 71,
     "metadata": {},
     "output_type": "execute_result"
    }
   ],
   "source": [
    "S.degree()"
   ]
  },
  {
   "cell_type": "code",
   "execution_count": null,
   "id": "20d62420",
   "metadata": {},
   "outputs": [],
   "source": []
  },
  {
   "cell_type": "code",
   "execution_count": null,
   "id": "f9024f59",
   "metadata": {},
   "outputs": [],
   "source": []
  },
  {
   "cell_type": "code",
   "execution_count": 72,
   "id": "dbc56c24",
   "metadata": {},
   "outputs": [],
   "source": [
    "received_word = x^8 + x^7 + x^3 + x^2 + x + 1 \n",
    "# sigma = berlekamp_massey(received_word, g) "
   ]
  },
  {
   "cell_type": "code",
   "execution_count": 79,
   "id": "3b751548",
   "metadata": {},
   "outputs": [],
   "source": [
    "def chien_search(g, alpha):\n",
    "    \"\"\"\n",
    "    Performs Chien search to find the roots of g(x) over the field F_alpha.\n",
    "    Returns a list of roots of g(x).\n",
    "    \"\"\"\n",
    "    roots = []\n",
    "    n = g.degree() - 1\n",
    "    for i in range(1, n):\n",
    "        eval_poly = 0\n",
    "        for j in range(n+1):\n",
    "            eval_poly += g[j] * (i ** j)\n",
    "        if eval_poly == 0:\n",
    "            roots.append(i)\n",
    "    return roots"
   ]
  },
  {
   "cell_type": "code",
   "execution_count": 80,
   "id": "c98e79a7",
   "metadata": {},
   "outputs": [
    {
     "ename": "TypeError",
     "evalue": "'sage.rings.finite_rings.element_givaro.FiniteField_givaroElement' object cannot be interpreted as an integer",
     "output_type": "error",
     "traceback": [
      "\u001b[0;31m---------------------------------------------------------------------------\u001b[0m",
      "\u001b[0;31mTypeError\u001b[0m                                 Traceback (most recent call last)",
      "Cell \u001b[0;32mIn [80], line 1\u001b[0m\n\u001b[0;32m----> 1\u001b[0m \u001b[43mchien_search\u001b[49m\u001b[43m(\u001b[49m\u001b[43mg\u001b[49m\u001b[43m,\u001b[49m\u001b[43m \u001b[49m\u001b[43ma\u001b[49m\u001b[43m)\u001b[49m \n",
      "Cell \u001b[0;32mIn [79], line 8\u001b[0m, in \u001b[0;36mchien_search\u001b[0;34m(g, alpha)\u001b[0m\n\u001b[1;32m      6\u001b[0m roots \u001b[38;5;241m=\u001b[39m []\n\u001b[1;32m      7\u001b[0m n \u001b[38;5;241m=\u001b[39m g\u001b[38;5;241m.\u001b[39mdegree() \u001b[38;5;241m-\u001b[39m Integer(\u001b[38;5;241m1\u001b[39m)\n\u001b[0;32m----> 8\u001b[0m \u001b[38;5;28;01mfor\u001b[39;00m i \u001b[38;5;129;01min\u001b[39;00m \u001b[38;5;28;43mrange\u001b[39;49m\u001b[43m(\u001b[49m\u001b[43mInteger\u001b[49m\u001b[43m(\u001b[49m\u001b[38;5;241;43m1\u001b[39;49m\u001b[43m)\u001b[49m\u001b[43m,\u001b[49m\u001b[43m \u001b[49m\u001b[43malpha\u001b[49m\u001b[38;5;241;43m*\u001b[39;49m\u001b[38;5;241;43m*\u001b[39;49m\u001b[43mn\u001b[49m\u001b[43m)\u001b[49m:\n\u001b[1;32m      9\u001b[0m     eval_poly \u001b[38;5;241m=\u001b[39m Integer(\u001b[38;5;241m0\u001b[39m)\n\u001b[1;32m     10\u001b[0m     \u001b[38;5;28;01mfor\u001b[39;00m j \u001b[38;5;129;01min\u001b[39;00m \u001b[38;5;28mrange\u001b[39m(n\u001b[38;5;241m+\u001b[39mInteger(\u001b[38;5;241m1\u001b[39m)):\n",
      "\u001b[0;31mTypeError\u001b[0m: 'sage.rings.finite_rings.element_givaro.FiniteField_givaroElement' object cannot be interpreted as an integer"
     ]
    }
   ],
   "source": [
    "chien_search(g, a) "
   ]
  },
  {
   "cell_type": "code",
   "execution_count": null,
   "id": "deeffc92",
   "metadata": {},
   "outputs": [],
   "source": []
  },
  {
   "cell_type": "code",
   "execution_count": null,
   "id": "6bf5a312",
   "metadata": {},
   "outputs": [],
   "source": []
  }
 ],
 "metadata": {
  "kernelspec": {
   "display_name": "SageMath 9.8",
   "language": "sage",
   "name": "sagemath-9.8"
  },
  "language_info": {
   "codemirror_mode": {
    "name": "ipython",
    "version": 3
   },
   "file_extension": ".py",
   "mimetype": "text/x-python",
   "name": "python",
   "nbconvert_exporter": "python",
   "pygments_lexer": "ipython3",
   "version": "3.11.1"
  }
 },
 "nbformat": 4,
 "nbformat_minor": 5
}
