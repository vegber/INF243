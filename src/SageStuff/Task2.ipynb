{
 "cells": [
  {
   "cell_type": "code",
   "execution_count": 1,
   "id": "0cedadf0",
   "metadata": {},
   "outputs": [],
   "source": [
    "# Task 2 "
   ]
  },
  {
   "cell_type": "code",
   "execution_count": 2,
   "id": "29897ed0",
   "metadata": {},
   "outputs": [],
   "source": [
    "m = 5 \n",
    "# compute modulus for the field GF(2^m)\n",
    "p = 2^m -1 \n",
    "# Define the field GF(2^m) with primitive element alpha \n",
    "GF = GF(2^m, 'a', modulus=x^5+x^2+1) \n",
    "# compute a primitive element alpha in GF(2^m) \n",
    "alpha = GF.multiplicative_generator() "
   ]
  },
  {
   "cell_type": "code",
   "execution_count": 3,
   "id": "be00dd3d",
   "metadata": {},
   "outputs": [],
   "source": [
    "# compute the cyclotomic cosets modulo p \n",
    "cosets = [] \n",
    "for i in range(1, p): \n",
    "    # check if i is in a new coset iff. add to list \n",
    "    if all(pow(alpha, i, p) != pow(alpha, j, p) for j in range(i)): \n",
    "        cosets.append([j for j in range(p) if pow(alpha, j, p)== pow(alpha, i, p)])\n",
    "        "
   ]
  },
  {
   "cell_type": "code",
   "execution_count": 6,
   "id": "c3449c2a",
   "metadata": {},
   "outputs": [],
   "source": [
    "# Factorize x^31 - 1 over F_2 in the cyclotomic cosets \n",
    "R.<x> = GF[] \n",
    "f = x^31 - 1 \n",
    "for coset in cosets:\n",
    "    # Check if the coset has more than one element \n",
    "    if len(coset) > 1: \n",
    "        # iff. construct the polynomial corresponding to the coset \n",
    "        g = R(1) \n",
    "        for i in coset:\n",
    "            g *= x - alpha^i \n",
    "        # Divide out the polynomial from x^31 -1 \n",
    "        f = f.quo_rem(g)[0] # tuple rem. (r, div) \n",
    "\n",
    "\n",
    "# factors \n",
    "faq = f.factor() "
   ]
  },
  {
   "cell_type": "code",
   "execution_count": 14,
   "id": "2fb8d99c",
   "metadata": {},
   "outputs": [
    {
     "name": "stdout",
     "output_type": "stream",
     "text": [
      "1.  (x + 1, 1)\n",
      "2.  (x + a, 1)\n",
      "3.  (x + a + 1, 1)\n",
      "4.  (x + a^2, 1)\n",
      "5.  (x + a^2 + 1, 1)\n",
      "6.  (x + a^2 + a, 1)\n",
      "7.  (x + a^2 + a + 1, 1)\n",
      "8.  (x + a^3, 1)\n",
      "9.  (x + a^3 + 1, 1)\n",
      "10.  (x + a^3 + a, 1)\n",
      "11.  (x + a^3 + a + 1, 1)\n",
      "12.  (x + a^3 + a^2, 1)\n",
      "13.  (x + a^3 + a^2 + 1, 1)\n",
      "14.  (x + a^3 + a^2 + a, 1)\n",
      "15.  (x + a^3 + a^2 + a + 1, 1)\n",
      "16.  (x + a^4, 1)\n",
      "17.  (x + a^4 + 1, 1)\n",
      "18.  (x + a^4 + a, 1)\n",
      "19.  (x + a^4 + a + 1, 1)\n",
      "20.  (x + a^4 + a^2, 1)\n",
      "21.  (x + a^4 + a^2 + 1, 1)\n",
      "22.  (x + a^4 + a^2 + a, 1)\n",
      "23.  (x + a^4 + a^2 + a + 1, 1)\n",
      "24.  (x + a^4 + a^3, 1)\n",
      "25.  (x + a^4 + a^3 + 1, 1)\n",
      "26.  (x + a^4 + a^3 + a, 1)\n",
      "27.  (x + a^4 + a^3 + a + 1, 1)\n",
      "28.  (x + a^4 + a^3 + a^2, 1)\n",
      "29.  (x + a^4 + a^3 + a^2 + 1, 1)\n",
      "30.  (x + a^4 + a^3 + a^2 + a, 1)\n",
      "31.  (x + a^4 + a^3 + a^2 + a + 1, 1)\n"
     ]
    }
   ],
   "source": [
    "for i, f in enumerate(faq): \n",
    "    print(\"%d.  %s\" % (i+1, f))"
   ]
  },
  {
   "cell_type": "code",
   "execution_count": null,
   "id": "2b14a2e2",
   "metadata": {},
   "outputs": [],
   "source": []
  },
  {
   "cell_type": "code",
   "execution_count": 17,
   "id": "641393f0",
   "metadata": {},
   "outputs": [
    {
     "ename": "TypeError",
     "evalue": "FiniteField_givaro._element_constructor_() got an unexpected keyword argument 'name'",
     "output_type": "error",
     "traceback": [
      "\u001b[0;31m---------------------------------------------------------------------------\u001b[0m",
      "\u001b[0;31mTypeError\u001b[0m                                 Traceback (most recent call last)",
      "Cell \u001b[0;32mIn [17], line 3\u001b[0m\n\u001b[1;32m      1\u001b[0m \u001b[38;5;66;03m# Task 1.2 - minimal polynomial \u001b[39;00m\n\u001b[1;32m      2\u001b[0m F \u001b[38;5;241m=\u001b[39m FiniteField(Integer(\u001b[38;5;241m2\u001b[39m))[\u001b[38;5;124m'\u001b[39m\u001b[38;5;124mx\u001b[39m\u001b[38;5;124m'\u001b[39m]; (x,) \u001b[38;5;241m=\u001b[39m F\u001b[38;5;241m.\u001b[39m_first_ngens(\u001b[38;5;241m1\u001b[39m)\n\u001b[0;32m----> 3\u001b[0m F \u001b[38;5;241m=\u001b[39m GF(Integer(\u001b[38;5;241m2\u001b[39m)\u001b[38;5;241m*\u001b[39m\u001b[38;5;241m*\u001b[39mInteger(\u001b[38;5;241m4\u001b[39m), name\u001b[38;5;241m=\u001b[39m\u001b[38;5;124m'\u001b[39m\u001b[38;5;124ma\u001b[39m\u001b[38;5;124m'\u001b[39m, modulus\u001b[38;5;241m=\u001b[39mx\u001b[38;5;241m*\u001b[39m\u001b[38;5;241m*\u001b[39mInteger(\u001b[38;5;241m4\u001b[39m) \u001b[38;5;241m+\u001b[39m x\u001b[38;5;241m*\u001b[39m\u001b[38;5;241m*\u001b[39mInteger(\u001b[38;5;241m3\u001b[39m) \u001b[38;5;241m+\u001b[39m x\u001b[38;5;241m*\u001b[39m\u001b[38;5;241m*\u001b[39mInteger(\u001b[38;5;241m2\u001b[39m) \u001b[38;5;241m+\u001b[39m x \u001b[38;5;241m+\u001b[39mInteger(\u001b[38;5;241m1\u001b[39m), names\u001b[38;5;241m=\u001b[39m(\u001b[38;5;124m'\u001b[39m\u001b[38;5;124ma\u001b[39m\u001b[38;5;124m'\u001b[39m,)); (a,) \u001b[38;5;241m=\u001b[39m F\u001b[38;5;241m.\u001b[39m_first_ngens(\u001b[38;5;241m1\u001b[39m)\n\u001b[1;32m      4\u001b[0m beta \u001b[38;5;241m=\u001b[39m a \u001b[38;5;241m+\u001b[39m Integer(\u001b[38;5;241m1\u001b[39m)\n\u001b[1;32m      5\u001b[0m q \u001b[38;5;241m=\u001b[39m beta\u001b[38;5;241m.\u001b[39mminimal_polynomial() \n",
      "File \u001b[0;32m/private/var/tmp/sage-9.8-current/local/var/lib/sage/venv-python3.11.1/lib/python3.11/site-packages/sage/structure/parent.pyx:898\u001b[0m, in \u001b[0;36msage.structure.parent.Parent.__call__ (build/cythonized/sage/structure/parent.c:9543)\u001b[0;34m()\u001b[0m\n\u001b[1;32m    896\u001b[0m         return mor._call_(x)\n\u001b[1;32m    897\u001b[0m     else:\n\u001b[0;32m--> 898\u001b[0m         return mor._call_with_args(x, args, kwds)\n\u001b[1;32m    899\u001b[0m \n\u001b[1;32m    900\u001b[0m raise TypeError(_LazyString(\"No conversion defined from %s to %s\", (R, self), {}))\n",
      "File \u001b[0;32m/private/var/tmp/sage-9.8-current/local/var/lib/sage/venv-python3.11.1/lib/python3.11/site-packages/sage/structure/coerce_maps.pyx:180\u001b[0m, in \u001b[0;36msage.structure.coerce_maps.DefaultConvertMap_unique._call_with_args (build/cythonized/sage/structure/coerce_maps.c:5347)\u001b[0;34m()\u001b[0m\n\u001b[1;32m    178\u001b[0m     print(type(C), C)\n\u001b[1;32m    179\u001b[0m     print(type(C._element_constructor), C._element_constructor)\n\u001b[0;32m--> 180\u001b[0m raise\n\u001b[1;32m    181\u001b[0m \n\u001b[1;32m    182\u001b[0m \n",
      "File \u001b[0;32m/private/var/tmp/sage-9.8-current/local/var/lib/sage/venv-python3.11.1/lib/python3.11/site-packages/sage/structure/coerce_maps.pyx:170\u001b[0m, in \u001b[0;36msage.structure.coerce_maps.DefaultConvertMap_unique._call_with_args (build/cythonized/sage/structure/coerce_maps.c:5137)\u001b[0;34m()\u001b[0m\n\u001b[1;32m    168\u001b[0m         return C._element_constructor(x)\n\u001b[1;32m    169\u001b[0m     else:\n\u001b[0;32m--> 170\u001b[0m         return C._element_constructor(x, **kwds)\n\u001b[1;32m    171\u001b[0m else:\n\u001b[1;32m    172\u001b[0m     if len(kwds) == 0:\n",
      "\u001b[0;31mTypeError\u001b[0m: FiniteField_givaro._element_constructor_() got an unexpected keyword argument 'name'"
     ]
    }
   ],
   "source": []
  },
  {
   "cell_type": "code",
   "execution_count": null,
   "id": "87b749de",
   "metadata": {},
   "outputs": [],
   "source": []
  }
 ],
 "metadata": {
  "kernelspec": {
   "display_name": "SageMath 9.8",
   "language": "sage",
   "name": "sagemath-9.8"
  },
  "language_info": {
   "codemirror_mode": {
    "name": "ipython",
    "version": 3
   },
   "file_extension": ".py",
   "mimetype": "text/x-python",
   "name": "python",
   "nbconvert_exporter": "python",
   "pygments_lexer": "ipython3",
   "version": "3.11.1"
  }
 },
 "nbformat": 4,
 "nbformat_minor": 5
}
