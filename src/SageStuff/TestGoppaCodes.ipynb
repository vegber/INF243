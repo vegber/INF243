{
 "cells": [
  {
   "cell_type": "code",
   "execution_count": 113,
   "id": "0c21d548",
   "metadata": {},
   "outputs": [],
   "source": [
    "F = GF(2^4)\n",
    "R.<x> = F[]\n",
    "g = x^7 + x + 1\n",
    "L = [a for a in F if g(a)]\n",
    "C = codes.GoppaCode(g, L)\n",
    "D = C.decoder()"
   ]
  },
  {
   "cell_type": "code",
   "execution_count": 114,
   "id": "d0335bd1",
   "metadata": {},
   "outputs": [
    {
     "data": {
      "text/plain": [
       "Syndrome decoder for [16, 0] Goppa code over GF(2) handling errors of weight up to 16"
      ]
     },
     "execution_count": 114,
     "metadata": {},
     "output_type": "execute_result"
    }
   ],
   "source": [
    "D"
   ]
  },
  {
   "cell_type": "code",
   "execution_count": null,
   "id": "febf4e4c",
   "metadata": {},
   "outputs": [],
   "source": []
  }
 ],
 "metadata": {
  "kernelspec": {
   "display_name": "SageMath 9.8",
   "language": "sage",
   "name": "sagemath-9.8"
  },
  "language_info": {
   "codemirror_mode": {
    "name": "ipython",
    "version": 3
   },
   "file_extension": ".py",
   "mimetype": "text/x-python",
   "name": "python",
   "nbconvert_exporter": "python",
   "pygments_lexer": "ipython3",
   "version": "3.11.1"
  }
 },
 "nbformat": 4,
 "nbformat_minor": 5
}
