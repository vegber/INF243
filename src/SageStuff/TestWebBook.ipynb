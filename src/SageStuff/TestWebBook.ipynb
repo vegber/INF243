{
 "cells": [
  {
   "cell_type": "code",
   "execution_count": 139,
   "id": "268a37df",
   "metadata": {},
   "outputs": [],
   "source": [
    "from pprint import pprint\n",
    "\n",
    "q = 2 \n",
    "m = 4 \n",
    "p = x^4 + x + 1\n",
    "\n",
    "F.<a> = GF(q^m, modulus=p)\n",
    "R.<x> = PolynomialRing(F) \n"
   ]
  },
  {
   "cell_type": "code",
   "execution_count": 230,
   "id": "744611be",
   "metadata": {},
   "outputs": [],
   "source": [
    "g = x^2 + x + a^3\n",
    "\n",
    "g_t = [1, 2] # hardcoded for now: "
   ]
  },
  {
   "cell_type": "code",
   "execution_count": null,
   "id": "c9a5a0cf",
   "metadata": {},
   "outputs": [],
   "source": []
  },
  {
   "cell_type": "code",
   "execution_count": 231,
   "id": "1e710063",
   "metadata": {},
   "outputs": [
    {
     "name": "stdout",
     "output_type": "stream",
     "text": [
      "1/g(1) : a + 1\n",
      "1/g(2) : a^3\n",
      "1/g(3) : a^3 + a\n",
      "1/g(4) : a + 1\n",
      "1/g(5) : a\n",
      "1/g(6) : a^2 + 1\n",
      "1/g(7) : a^3 + a^2\n",
      "1/g(8) : a^3\n",
      "1/g(9) : a^3 + a^2\n",
      "1/g(10) : a\n",
      "1/g(11) : a^2\n"
     ]
    }
   ],
   "source": [
    "for el in range(1, 12): \n",
    "    print(f\"1/g({el}) : {1/ g(a^el)}\")"
   ]
  },
  {
   "cell_type": "code",
   "execution_count": 232,
   "id": "ffaf9d2d",
   "metadata": {},
   "outputs": [
    {
     "data": {
      "text/plain": [
       "2"
      ]
     },
     "execution_count": 232,
     "metadata": {},
     "output_type": "execute_result"
    }
   ],
   "source": [
    "p = 2 \n",
    "m = 4 \n",
    "n = 12 \n",
    "T = g.degree() \n",
    "T"
   ]
  },
  {
   "cell_type": "code",
   "execution_count": 233,
   "id": "fd890e51",
   "metadata": {},
   "outputs": [
    {
     "name": "stdout",
     "output_type": "stream",
     "text": [
      "0: a^0\t\t(0, 0, 0, 0)\t\t0\n",
      "1: a^1\t\t(0, 1, 0, 0)\t\ta\n",
      "2: a^2\t\t(0, 0, 1, 0)\t\ta^2\n",
      "3: a^3\t\t(0, 0, 0, 1)\t\ta^3\n",
      "4: a^4\t\t(1, 1, 0, 0)\t\ta + 1\n",
      "5: a^5\t\t(0, 1, 1, 0)\t\ta^2 + a\n",
      "6: a^6\t\t(0, 0, 1, 1)\t\ta^3 + a^2\n",
      "7: a^7\t\t(1, 1, 0, 1)\t\ta^3 + a + 1\n",
      "8: a^8\t\t(1, 0, 1, 0)\t\ta^2 + 1\n",
      "9: a^9\t\t(0, 1, 0, 1)\t\ta^3 + a\n",
      "10: a^10\t\t(1, 1, 1, 0)\t\ta^2 + a + 1\n",
      "11: a^11\t\t(0, 1, 1, 1)\t\ta^3 + a^2 + a\n",
      "12: a^12\t\t(1, 1, 1, 1)\t\ta^3 + a^2 + a + 1\n",
      "13: a^13\t\t(1, 0, 1, 1)\t\ta^3 + a^2 + 1\n",
      "14: a^14\t\t(1, 0, 0, 1)\t\ta^3 + 1\n",
      "15: a^15\t\t(1, 0, 0, 0)\t\t1\n"
     ]
    }
   ],
   "source": [
    "v_alpha_i = []\n",
    "lookup_alpha = dict() \n",
    "for i, e in enumerate(F.list()): \n",
    "    print(f\"{i}: a^{i}\\t\\t{vector(e)}\\t\\t{e}\")\n",
    "    v_alpha_i.append(e)\n",
    "    lookup_alpha[str(e)] = (f\"a^{i}\", vector(e))  \n",
    "v_alpha_i = v_alpha_i[1:] \n"
   ]
  },
  {
   "cell_type": "code",
   "execution_count": 264,
   "id": "98e0f6f6",
   "metadata": {},
   "outputs": [
    {
     "name": "stdout",
     "output_type": "stream",
     "text": [
      "1: a^2 \t which is a^2\n",
      "2: a^3 \t which is a^3\n",
      "3: a + 1 \t which is a^4\n",
      "4: a^2 + a \t which is a^5\n",
      "5: a^3 + a^2 \t which is a^6\n",
      "6: a^3 + a + 1 \t which is a^7\n",
      "7: a^2 + 1 \t which is a^8\n",
      "8: a^3 + a \t which is a^9\n",
      "9: a^2 + a + 1 \t which is a^10\n",
      "10: a^3 + a^2 + a \t which is a^11\n",
      "11: a^3 + a^2 + a + 1 \t which is a^12\n",
      "12: a^3 + a^2 + 1 \t which is a^13\n"
     ]
    }
   ],
   "source": [
    "# lookup_alpha\n",
    "L =[a^i for i in range(2, q^m -2)] # \n",
    "for i, l in enumerate(L): \n",
    "    print(f\"{i+1}: {l} \\t which is {lookup_alpha[str(l)][0]}\")"
   ]
  },
  {
   "cell_type": "code",
   "execution_count": 276,
   "id": "f0bb1a40",
   "metadata": {},
   "outputs": [],
   "source": [
    "# shift all alpha one position \n",
    "# g(v_alpha_i[2 + 1])^-1 \n",
    "# remove first index \n",
    "first = v_alpha_i[0]\n",
    "v_alpha_i = v_alpha_i[1:] \n",
    "v_alpha_i.append(first)\n",
    "v_alpha_i = v_alpha_i[:n]"
   ]
  },
  {
   "cell_type": "code",
   "execution_count": 278,
   "id": "ff65b9c1",
   "metadata": {},
   "outputs": [
    {
     "name": "stdout",
     "output_type": "stream",
     "text": [
      "1 / g(a_0) => a^4\n",
      "1 / g(a_1) => a^1\n",
      "1 / g(a_2) => a^8\n",
      "1 / g(a_3) => a^6\n",
      "1 / g(a_4) => a^3\n",
      "1 / g(a_5) => a^6\n",
      "1 / g(a_6) => a^1\n",
      "1 / g(a_7) => a^2\n",
      "1 / g(a_8) => a^2\n",
      "1 / g(a_9) => a^8\n",
      "1 / g(a_10) => a^3\n",
      "1 / g(a_11) => a^9\n"
     ]
    },
    {
     "data": {
      "text/plain": [
       "(12, 12)"
      ]
     },
     "execution_count": 278,
     "metadata": {},
     "output_type": "execute_result"
    }
   ],
   "source": [
    "g_vectors = [1/g(a_i) for a_i in v_alpha_i]\n",
    "# fetch actuall vectors \n",
    "g_inv_list = []\n",
    "for i, g_inv in enumerate(g_vectors): \n",
    "    value, vec = lookup_alpha[str(g_inv)]\n",
    "    print(f\"1 / g(a_{i}) => {value}\")\n",
    "    g_inv_list.append(value)\n",
    "\n",
    "g_inv_list = [g_inv_list[-1]] + g_inv_list[1:]\n",
    "\n",
    "g_inv_list = g_inv_list[:n]\n",
    "\n",
    "# Z = matrix(F, )\n",
    "Z = matrix(F, [[F(el) if i == j else 0 for i, el in enumerate(L)] for j in range(n)])\n",
    "Z.dimensions()"
   ]
  },
  {
   "cell_type": "code",
   "execution_count": null,
   "id": "773a34db",
   "metadata": {},
   "outputs": [],
   "source": []
  },
  {
   "cell_type": "code",
   "execution_count": 279,
   "id": "9cc89968",
   "metadata": {},
   "outputs": [
    {
     "data": {
      "text/plain": [
       "(2, 12)"
      ]
     },
     "execution_count": 279,
     "metadata": {},
     "output_type": "execute_result"
    }
   ],
   "source": [
    "Y = matrix(F, [[a_i^t for a_i in L] for t in range(T)] )\n",
    "Y.dimensions()\n"
   ]
  },
  {
   "cell_type": "code",
   "execution_count": 285,
   "id": "3899a9c7",
   "metadata": {},
   "outputs": [],
   "source": [
    "# X \n",
    "\n",
    "# g_t\n",
    "g_t = [1, a^3 + a + 1]\n",
    "g_t = g_t[::-1]\n",
    "\n",
    "\n",
    "X = [[0] * len(g_t) for _ in range(len(g_t))]\n",
    "for i in range(len(g_t)): \n",
    "    for j in range(len(g_t)): \n",
    "        if j >= i: \n",
    "            X[j][i] = g_t[j-i]\n",
    "\n",
    "X = matrix(F, X) "
   ]
  },
  {
   "cell_type": "code",
   "execution_count": 286,
   "id": "d9062edd",
   "metadata": {},
   "outputs": [
    {
     "data": {
      "text/plain": [
       "(2, 2)"
      ]
     },
     "execution_count": 286,
     "metadata": {},
     "output_type": "execute_result"
    }
   ],
   "source": [
    "X.dimensions()"
   ]
  },
  {
   "cell_type": "code",
   "execution_count": 287,
   "id": "df8359dc",
   "metadata": {},
   "outputs": [
    {
     "data": {
      "text/plain": [
       "[          a^3 + a       a^2 + a + 1     a^3 + a^2 + a a^3 + a^2 + a + 1     a^3 + a^2 + 1           a^3 + 1                 1                 a               a^2               a^3             a + 1           a^2 + a]\n",
       "[          a^3 + a           a^2 + 1                 a                 a a^3 + a^2 + a + 1       a^2 + a + 1                 0     a^3 + a^2 + 1               a^3       a^2 + a + 1     a^3 + a^2 + 1           a^2 + 1]"
      ]
     },
     "execution_count": 287,
     "metadata": {},
     "output_type": "execute_result"
    }
   ],
   "source": [
    "H = matrix(F, X * Y * Z) \n",
    "H"
   ]
  },
  {
   "cell_type": "code",
   "execution_count": 283,
   "id": "d459bdda",
   "metadata": {},
   "outputs": [],
   "source": [
    "G = H.right_kernel_matrix() "
   ]
  },
  {
   "cell_type": "code",
   "execution_count": 284,
   "id": "8ed57aec",
   "metadata": {},
   "outputs": [
    {
     "data": {
      "text/plain": [
       "[0 0]\n",
       "[0 0]\n",
       "[0 0]\n",
       "[0 0]\n",
       "[0 0]\n",
       "[0 0]\n",
       "[0 0]\n",
       "[0 0]\n",
       "[0 0]\n",
       "[0 0]"
      ]
     },
     "execution_count": 284,
     "metadata": {},
     "output_type": "execute_result"
    }
   ],
   "source": [
    "G * H.transpose()"
   ]
  },
  {
   "cell_type": "code",
   "execution_count": null,
   "id": "af5c8ffd",
   "metadata": {},
   "outputs": [],
   "source": []
  }
 ],
 "metadata": {
  "kernelspec": {
   "display_name": "SageMath 9.8",
   "language": "sage",
   "name": "sagemath-9.8"
  },
  "language_info": {
   "codemirror_mode": {
    "name": "ipython",
    "version": 3
   },
   "file_extension": ".py",
   "mimetype": "text/x-python",
   "name": "python",
   "nbconvert_exporter": "python",
   "pygments_lexer": "ipython3",
   "version": "3.11.1"
  }
 },
 "nbformat": 4,
 "nbformat_minor": 5
}
