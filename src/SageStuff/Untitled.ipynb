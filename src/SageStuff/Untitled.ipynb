{
 "cells": [
  {
   "cell_type": "code",
   "execution_count": 21,
   "id": "49dc3338",
   "metadata": {},
   "outputs": [],
   "source": [
    "M = MatrixSpace(GF(2), 3, 6) \n",
    "C = M([[1, 1, 1, 0, 1, 0], [1, 0, 0, 1, 1, 1], [0, 0, 1, 0, 1, 1]])"
   ]
  },
  {
   "cell_type": "code",
   "execution_count": null,
   "id": "58a6ff39",
   "metadata": {},
   "outputs": [],
   "source": []
  },
  {
   "cell_type": "code",
   "execution_count": 22,
   "id": "6b9f1ac4",
   "metadata": {},
   "outputs": [
    {
     "data": {
      "text/plain": [
       "[1 1 1 0 1 0]\n",
       "[1 0 0 1 1 1]\n",
       "[0 0 1 0 1 1]"
      ]
     },
     "execution_count": 22,
     "metadata": {},
     "output_type": "execute_result"
    }
   ],
   "source": [
    "C"
   ]
  },
  {
   "cell_type": "code",
   "execution_count": 23,
   "id": "35e0926c",
   "metadata": {},
   "outputs": [],
   "source": [
    "rows = C.rows()"
   ]
  },
  {
   "cell_type": "code",
   "execution_count": 24,
   "id": "4ab692a4",
   "metadata": {},
   "outputs": [
    {
     "data": {
      "text/plain": [
       "[(1, 1, 0), (1, 0, 0), (1, 0, 1), (0, 1, 0), (1, 1, 1), (0, 1, 1)]"
      ]
     },
     "execution_count": 24,
     "metadata": {},
     "output_type": "execute_result"
    }
   ],
   "source": [
    "C.columns()"
   ]
  },
  {
   "cell_type": "code",
   "execution_count": 26,
   "id": "93d77209",
   "metadata": {},
   "outputs": [
    {
     "data": {
      "text/plain": [
       "[(1, 1, 1, 0, 1, 0), (1, 0, 0, 1, 1, 1), (0, 0, 1, 0, 1, 1)]"
      ]
     },
     "execution_count": 26,
     "metadata": {},
     "output_type": "execute_result"
    }
   ],
   "source": [
    "rows"
   ]
  },
  {
   "cell_type": "code",
   "execution_count": 28,
   "id": "ac24270b",
   "metadata": {},
   "outputs": [
    {
     "data": {
      "text/plain": [
       "[1 0 0 1 1 1]\n",
       "[0 1 0 1 1 0]\n",
       "[0 0 1 0 1 1]"
      ]
     },
     "execution_count": 28,
     "metadata": {},
     "output_type": "execute_result"
    }
   ],
   "source": [
    "C.echelon_form()"
   ]
  },
  {
   "cell_type": "code",
   "execution_count": 29,
   "id": "f55277aa",
   "metadata": {},
   "outputs": [
    {
     "data": {
      "text/plain": [
       "[1, 1, 1, 0, 1, 0, 1, 0, 0, 1, 1, 1, 0, 0, 1, 0, 1, 1]"
      ]
     },
     "execution_count": 29,
     "metadata": {},
     "output_type": "execute_result"
    }
   ],
   "source": [
    "C.list()"
   ]
  },
  {
   "cell_type": "code",
   "execution_count": 30,
   "id": "1d07dacd",
   "metadata": {},
   "outputs": [
    {
     "data": {
      "text/plain": [
       "[1 0 0 1 1 1]\n",
       "[0 1 0 1 1 0]\n",
       "[0 0 1 0 1 1]"
      ]
     },
     "execution_count": 30,
     "metadata": {},
     "output_type": "execute_result"
    }
   ],
   "source": [
    "C.rref()"
   ]
  },
  {
   "cell_type": "code",
   "execution_count": 40,
   "id": "be4df398",
   "metadata": {},
   "outputs": [],
   "source": [
    "G1 = matrix(GF(2),3, 4, [[1, 0, 1, 1], [0, 1, 1, 0], [0, 0, 0, 1]])"
   ]
  },
  {
   "cell_type": "code",
   "execution_count": 41,
   "id": "0affaa65",
   "metadata": {},
   "outputs": [
    {
     "data": {
      "text/plain": [
       "[1 0 1 1]\n",
       "[0 1 1 0]\n",
       "[0 0 0 1]"
      ]
     },
     "execution_count": 41,
     "metadata": {},
     "output_type": "execute_result"
    }
   ],
   "source": [
    "G1"
   ]
  },
  {
   "cell_type": "code",
   "execution_count": 42,
   "id": "2510b873",
   "metadata": {},
   "outputs": [],
   "source": [
    "H = matrix(GF(2), 3, 4, [[1, 1, 1, 1], [1, 1, 0, 1], [1, 0, 1, 0]])"
   ]
  },
  {
   "cell_type": "code",
   "execution_count": 43,
   "id": "e8a165e7",
   "metadata": {},
   "outputs": [
    {
     "data": {
      "text/plain": [
       "[1 1 1 1]\n",
       "[1 1 0 1]\n",
       "[1 0 1 0]"
      ]
     },
     "execution_count": 43,
     "metadata": {},
     "output_type": "execute_result"
    }
   ],
   "source": [
    "H"
   ]
  },
  {
   "cell_type": "code",
   "execution_count": 44,
   "id": "43e92008",
   "metadata": {},
   "outputs": [],
   "source": [
    "D = G1 * H.transpose()"
   ]
  },
  {
   "cell_type": "code",
   "execution_count": 45,
   "id": "f32b550d",
   "metadata": {},
   "outputs": [
    {
     "data": {
      "text/plain": [
       "[1 0 0]\n",
       "[0 1 1]\n",
       "[1 1 0]"
      ]
     },
     "execution_count": 45,
     "metadata": {},
     "output_type": "execute_result"
    }
   ],
   "source": [
    "D"
   ]
  },
  {
   "cell_type": "code",
   "execution_count": 46,
   "id": "17a207f1",
   "metadata": {},
   "outputs": [],
   "source": [
    "G2 = matrix(GF(2), 3, 7, [[1, 0, 0, 1, 0, 1, 1], [0, 1, 0, 0, 1, 1, 0], [0, 0, 1, 0, 0, 0, 1]])"
   ]
  },
  {
   "cell_type": "code",
   "execution_count": 47,
   "id": "2a964e98",
   "metadata": {},
   "outputs": [
    {
     "data": {
      "text/plain": [
       "[1 0 0 1 0 1 1]\n",
       "[0 1 0 0 1 1 0]\n",
       "[0 0 1 0 0 0 1]"
      ]
     },
     "execution_count": 47,
     "metadata": {},
     "output_type": "execute_result"
    }
   ],
   "source": [
    "G2"
   ]
  },
  {
   "cell_type": "code",
   "execution_count": 49,
   "id": "d6b785cf",
   "metadata": {},
   "outputs": [],
   "source": [
    "G2 = LinearCode(G2)"
   ]
  },
  {
   "cell_type": "code",
   "execution_count": 52,
   "id": "de3e66ed",
   "metadata": {},
   "outputs": [
    {
     "data": {
      "text/plain": [
       "<bound method AbstractLinearCodeNoMetric.syndrome of [7, 3] linear code over GF(2)>"
      ]
     },
     "execution_count": 52,
     "metadata": {},
     "output_type": "execute_result"
    }
   ],
   "source": [
    "G2.syndrome"
   ]
  },
  {
   "cell_type": "code",
   "execution_count": 54,
   "id": "8cb1c798",
   "metadata": {},
   "outputs": [
    {
     "ename": "ValueError",
     "evalue": "sequence too short (expected length 7, got 6)",
     "output_type": "error",
     "traceback": [
      "\u001B[0;31m---------------------------------------------------------------------------\u001B[0m",
      "\u001B[0;31mStopIteration\u001B[0m                             Traceback (most recent call last)",
      "File \u001B[0;32m/private/var/tmp/sage-9.7-current/local/var/lib/sage/venv-python3.10.5/lib/python3.10/site-packages/sage/misc/misc_c.pyx:725\u001B[0m, in \u001B[0;36msage.misc.misc_c.sized_iter.__next__ (build/cythonized/sage/misc/misc_c.c:6130)\u001B[0;34m()\u001B[0m\n\u001B[1;32m    724\u001B[0m try:\n\u001B[0;32m--> 725\u001B[0m     x = next(self.iterator)\n\u001B[1;32m    726\u001B[0m except StopIteration:\n",
      "\u001B[0;31mStopIteration\u001B[0m: ",
      "\nDuring handling of the above exception, another exception occurred:\n",
      "\u001B[0;31mValueError\u001B[0m                                Traceback (most recent call last)",
      "Input \u001B[0;32mIn [54]\u001B[0m, in \u001B[0;36m<cell line: 1>\u001B[0;34m()\u001B[0m\n\u001B[0;32m----> 1\u001B[0m CC \u001B[38;5;241m=\u001B[39m \u001B[43mmatrix\u001B[49m\u001B[43m(\u001B[49m\u001B[43mGF\u001B[49m\u001B[43m(\u001B[49m\u001B[43mInteger\u001B[49m\u001B[43m(\u001B[49m\u001B[38;5;241;43m2\u001B[39;49m\u001B[43m)\u001B[49m\u001B[43m)\u001B[49m\u001B[43m,\u001B[49m\u001B[43m \u001B[49m\u001B[43mInteger\u001B[49m\u001B[43m(\u001B[49m\u001B[38;5;241;43m3\u001B[39;49m\u001B[43m)\u001B[49m\u001B[43m,\u001B[49m\u001B[43m \u001B[49m\u001B[43mInteger\u001B[49m\u001B[43m(\u001B[49m\u001B[38;5;241;43m7\u001B[39;49m\u001B[43m)\u001B[49m\u001B[43m,\u001B[49m\u001B[43m \u001B[49m\u001B[43m[\u001B[49m\u001B[43m[\u001B[49m\u001B[43mInteger\u001B[49m\u001B[43m(\u001B[49m\u001B[38;5;241;43m1\u001B[39;49m\u001B[43m)\u001B[49m\u001B[43m,\u001B[49m\u001B[43m \u001B[49m\u001B[43mInteger\u001B[49m\u001B[43m(\u001B[49m\u001B[38;5;241;43m0\u001B[39;49m\u001B[43m)\u001B[49m\u001B[43m,\u001B[49m\u001B[43m \u001B[49m\u001B[43mInteger\u001B[49m\u001B[43m(\u001B[49m\u001B[38;5;241;43m1\u001B[39;49m\u001B[43m)\u001B[49m\u001B[43m,\u001B[49m\u001B[43m \u001B[49m\u001B[43mInteger\u001B[49m\u001B[43m(\u001B[49m\u001B[38;5;241;43m0\u001B[39;49m\u001B[43m)\u001B[49m\u001B[43m,\u001B[49m\u001B[43m \u001B[49m\u001B[43mInteger\u001B[49m\u001B[43m(\u001B[49m\u001B[38;5;241;43m1\u001B[39;49m\u001B[43m)\u001B[49m\u001B[43m,\u001B[49m\u001B[43m \u001B[49m\u001B[43mInteger\u001B[49m\u001B[43m(\u001B[49m\u001B[38;5;241;43m1\u001B[39;49m\u001B[43m)\u001B[49m\u001B[43m,\u001B[49m\u001B[43m \u001B[49m\u001B[43mInteger\u001B[49m\u001B[43m(\u001B[49m\u001B[38;5;241;43m1\u001B[39;49m\u001B[43m)\u001B[49m\u001B[43m]\u001B[49m\u001B[43m,\u001B[49m\u001B[43m \u001B[49m\u001B[43m[\u001B[49m\u001B[43mInteger\u001B[49m\u001B[43m(\u001B[49m\u001B[38;5;241;43m0\u001B[39;49m\u001B[43m)\u001B[49m\u001B[43m,\u001B[49m\u001B[43m \u001B[49m\u001B[43mInteger\u001B[49m\u001B[43m(\u001B[49m\u001B[38;5;241;43m1\u001B[39;49m\u001B[43m)\u001B[49m\u001B[43m,\u001B[49m\u001B[43m \u001B[49m\u001B[43mInteger\u001B[49m\u001B[43m(\u001B[49m\u001B[38;5;241;43m1\u001B[39;49m\u001B[43m)\u001B[49m\u001B[43m,\u001B[49m\u001B[43m \u001B[49m\u001B[43mInteger\u001B[49m\u001B[43m(\u001B[49m\u001B[38;5;241;43m1\u001B[39;49m\u001B[43m)\u001B[49m\u001B[43m,\u001B[49m\u001B[43m \u001B[49m\u001B[43mInteger\u001B[49m\u001B[43m(\u001B[49m\u001B[38;5;241;43m0\u001B[39;49m\u001B[43m)\u001B[49m\u001B[43m,\u001B[49m\u001B[43m \u001B[49m\u001B[43mInteger\u001B[49m\u001B[43m(\u001B[49m\u001B[38;5;241;43m1\u001B[39;49m\u001B[43m)\u001B[49m\u001B[43m]\u001B[49m\u001B[43m,\u001B[49m\u001B[43m \u001B[49m\u001B[43m[\u001B[49m\u001B[43mInteger\u001B[49m\u001B[43m(\u001B[49m\u001B[38;5;241;43m0\u001B[39;49m\u001B[43m)\u001B[49m\u001B[43m,\u001B[49m\u001B[43m \u001B[49m\u001B[43mInteger\u001B[49m\u001B[43m(\u001B[49m\u001B[38;5;241;43m1\u001B[39;49m\u001B[43m)\u001B[49m\u001B[43m,\u001B[49m\u001B[43m \u001B[49m\u001B[43mInteger\u001B[49m\u001B[43m(\u001B[49m\u001B[38;5;241;43m1\u001B[39;49m\u001B[43m)\u001B[49m\u001B[43m,\u001B[49m\u001B[43m \u001B[49m\u001B[43mInteger\u001B[49m\u001B[43m(\u001B[49m\u001B[38;5;241;43m0\u001B[39;49m\u001B[43m)\u001B[49m\u001B[43m,\u001B[49m\u001B[43m \u001B[49m\u001B[43mInteger\u001B[49m\u001B[43m(\u001B[49m\u001B[38;5;241;43m1\u001B[39;49m\u001B[43m)\u001B[49m\u001B[43m,\u001B[49m\u001B[43m \u001B[49m\u001B[43mInteger\u001B[49m\u001B[43m(\u001B[49m\u001B[38;5;241;43m0\u001B[39;49m\u001B[43m)\u001B[49m\u001B[43m]\u001B[49m\u001B[43m]\u001B[49m\u001B[43m)\u001B[49m\n",
      "File \u001B[0;32m/private/var/tmp/sage-9.7-current/local/var/lib/sage/venv-python3.10.5/lib/python3.10/site-packages/sage/matrix/constructor.pyx:643\u001B[0m, in \u001B[0;36msage.matrix.constructor.matrix (build/cythonized/sage/matrix/constructor.c:2797)\u001B[0;34m()\u001B[0m\n\u001B[1;32m    641\u001B[0m \"\"\"\n\u001B[1;32m    642\u001B[0m immutable = kwds.pop('immutable', False)\n\u001B[0;32m--> 643\u001B[0m M = MatrixArgs(*args, **kwds).matrix()\n\u001B[1;32m    644\u001B[0m if immutable:\n\u001B[1;32m    645\u001B[0m     M.set_immutable()\n",
      "File \u001B[0;32m/private/var/tmp/sage-9.7-current/local/var/lib/sage/venv-python3.10.5/lib/python3.10/site-packages/sage/matrix/args.pyx:667\u001B[0m, in \u001B[0;36msage.matrix.args.MatrixArgs.matrix (build/cythonized/sage/matrix/args.c:8075)\u001B[0;34m()\u001B[0m\n\u001B[1;32m    665\u001B[0m             break\n\u001B[1;32m    666\u001B[0m else:\n\u001B[0;32m--> 667\u001B[0m     M = self.space(self, coerce=convert)\n\u001B[1;32m    668\u001B[0m \n\u001B[1;32m    669\u001B[0m # Also store the matrix to support multiple calls of matrix()\n",
      "File \u001B[0;32m/private/var/tmp/sage-9.7-current/local/var/lib/sage/venv-python3.10.5/lib/python3.10/site-packages/sage/structure/parent.pyx:899\u001B[0m, in \u001B[0;36msage.structure.parent.Parent.__call__ (build/cythonized/sage/structure/parent.c:9561)\u001B[0;34m()\u001B[0m\n\u001B[1;32m    897\u001B[0m         return mor._call_(x)\n\u001B[1;32m    898\u001B[0m     else:\n\u001B[0;32m--> 899\u001B[0m         return mor._call_with_args(x, args, kwds)\n\u001B[1;32m    900\u001B[0m \n\u001B[1;32m    901\u001B[0m raise TypeError(_LazyString(\"No conversion defined from %s to %s\", (R, self), {}))\n",
      "File \u001B[0;32m/private/var/tmp/sage-9.7-current/local/var/lib/sage/venv-python3.10.5/lib/python3.10/site-packages/sage/structure/coerce_maps.pyx:180\u001B[0m, in \u001B[0;36msage.structure.coerce_maps.DefaultConvertMap_unique._call_with_args (build/cythonized/sage/structure/coerce_maps.c:5347)\u001B[0;34m()\u001B[0m\n\u001B[1;32m    178\u001B[0m     print(type(C), C)\n\u001B[1;32m    179\u001B[0m     print(type(C._element_constructor), C._element_constructor)\n\u001B[0;32m--> 180\u001B[0m raise\n\u001B[1;32m    181\u001B[0m \n\u001B[1;32m    182\u001B[0m \n",
      "File \u001B[0;32m/private/var/tmp/sage-9.7-current/local/var/lib/sage/venv-python3.10.5/lib/python3.10/site-packages/sage/structure/coerce_maps.pyx:170\u001B[0m, in \u001B[0;36msage.structure.coerce_maps.DefaultConvertMap_unique._call_with_args (build/cythonized/sage/structure/coerce_maps.c:5137)\u001B[0;34m()\u001B[0m\n\u001B[1;32m    168\u001B[0m         return C._element_constructor(x)\n\u001B[1;32m    169\u001B[0m     else:\n\u001B[0;32m--> 170\u001B[0m         return C._element_constructor(x, **kwds)\n\u001B[1;32m    171\u001B[0m else:\n\u001B[1;32m    172\u001B[0m     if len(kwds) == 0:\n",
      "File \u001B[0;32m/private/var/tmp/sage-9.7-current/local/var/lib/sage/venv-python3.10.5/lib/python3.10/site-packages/sage/matrix/matrix_space.py:930\u001B[0m, in \u001B[0;36mMatrixSpace._element_constructor_\u001B[0;34m(self, entries, **kwds)\u001B[0m\n\u001B[1;32m    820\u001B[0m \u001B[38;5;28;01mdef\u001B[39;00m \u001B[38;5;21m_element_constructor_\u001B[39m(\u001B[38;5;28mself\u001B[39m, entries, \u001B[38;5;241m*\u001B[39m\u001B[38;5;241m*\u001B[39mkwds):\n\u001B[1;32m    821\u001B[0m     \u001B[38;5;124;03m\"\"\"\u001B[39;00m\n\u001B[1;32m    822\u001B[0m \u001B[38;5;124;03m    Construct an element of ``self`` from ``entries``.\u001B[39;00m\n\u001B[1;32m    823\u001B[0m \n\u001B[0;32m   (...)\u001B[0m\n\u001B[1;32m    928\u001B[0m \u001B[38;5;124;03m        False\u001B[39;00m\n\u001B[1;32m    929\u001B[0m \u001B[38;5;124;03m    \"\"\"\u001B[39;00m\n\u001B[0;32m--> 930\u001B[0m     \u001B[38;5;28;01mreturn\u001B[39;00m \u001B[38;5;28;43mself\u001B[39;49m\u001B[38;5;241;43m.\u001B[39;49m\u001B[43melement_class\u001B[49m\u001B[43m(\u001B[49m\u001B[38;5;28;43mself\u001B[39;49m\u001B[43m,\u001B[49m\u001B[43m \u001B[49m\u001B[43mentries\u001B[49m\u001B[43m,\u001B[49m\u001B[43m \u001B[49m\u001B[38;5;241;43m*\u001B[39;49m\u001B[38;5;241;43m*\u001B[39;49m\u001B[43mkwds\u001B[49m\u001B[43m)\u001B[49m\n",
      "File \u001B[0;32m/private/var/tmp/sage-9.7-current/local/var/lib/sage/venv-python3.10.5/lib/python3.10/site-packages/sage/matrix/matrix_mod2_dense.pyx:265\u001B[0m, in \u001B[0;36msage.matrix.matrix_mod2_dense.Matrix_mod2_dense.__init__ (build/cythonized/sage/matrix/matrix_mod2_dense.cpp:4503)\u001B[0;34m()\u001B[0m\n\u001B[1;32m    263\u001B[0m \"\"\"\n\u001B[1;32m    264\u001B[0m ma = MatrixArgs_init(parent, entries)\n\u001B[0;32m--> 265\u001B[0m for t in ma.iter(coerce, True):\n\u001B[1;32m    266\u001B[0m     se = <SparseEntry>t\n\u001B[1;32m    267\u001B[0m     mzd_write_bit(self._entries, se.i, se.j, se.entry)\n",
      "File \u001B[0;32m/private/var/tmp/sage-9.7-current/local/var/lib/sage/venv-python3.10.5/lib/python3.10/site-packages/sage/matrix/args.pyx:519\u001B[0m, in \u001B[0;36miter (build/cythonized/sage/matrix/args.c:6550)\u001B[0;34m()\u001B[0m\n\u001B[1;32m    517\u001B[0m for j in range(self.ncols):\n\u001B[1;32m    518\u001B[0m     sig_check()\n\u001B[0;32m--> 519\u001B[0m     x = next(row)\n\u001B[1;32m    520\u001B[0m     if convert and self.need_to_convert(x):\n\u001B[1;32m    521\u001B[0m         x = self.base(x)\n",
      "File \u001B[0;32m/private/var/tmp/sage-9.7-current/local/var/lib/sage/venv-python3.10.5/lib/python3.10/site-packages/sage/misc/misc_c.pyx:727\u001B[0m, in \u001B[0;36msage.misc.misc_c.sized_iter.__next__ (build/cythonized/sage/misc/misc_c.c:6210)\u001B[0;34m()\u001B[0m\n\u001B[1;32m    725\u001B[0m     x = next(self.iterator)\n\u001B[1;32m    726\u001B[0m except StopIteration:\n\u001B[0;32m--> 727\u001B[0m     raise ValueError(f\"sequence too short (expected length {self.size}, got {self.index})\")\n\u001B[1;32m    728\u001B[0m self.index += 1\n\u001B[1;32m    729\u001B[0m self.check()\n",
      "\u001B[0;31mValueError\u001B[0m: sequence too short (expected length 7, got 6)"
     ]
    }
   ],
   "source": [
    "CC = matrix(GF(2), 3, 7, [[1, 0, 1, 0, 1, 1, 1], [0, 1, 1, 1, 0, 1], [0, 1, 1, 0, 1, 0]])"
   ]
  },
  {
   "cell_type": "code",
   "execution_count": null,
   "id": "cd661961",
   "metadata": {},
   "outputs": [],
   "source": []
  },
  {
   "cell_type": "code",
   "execution_count": null,
   "id": "eefde5b7",
   "metadata": {},
   "outputs": [],
   "source": []
  },
  {
   "cell_type": "code",
   "execution_count": null,
   "id": "cca418be",
   "metadata": {},
   "outputs": [],
   "source": []
  }
 ],
 "metadata": {
  "kernelspec": {
   "display_name": "SageMath 9.7",
   "language": "sage",
   "name": "sagemath-9.7"
  },
  "language_info": {
   "codemirror_mode": {
    "name": "ipython",
    "version": 3
   },
   "file_extension": ".py",
   "mimetype": "text/x-python",
   "name": "python",
   "nbconvert_exporter": "python",
   "pygments_lexer": "ipython3",
   "version": "3.10.5"
  }
 },
 "nbformat": 4,
 "nbformat_minor": 5
}
