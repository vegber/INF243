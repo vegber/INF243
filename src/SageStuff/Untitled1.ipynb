{
 "cells": [
  {
   "cell_type": "code",
   "execution_count": 1,
   "id": "eae4f6c7",
   "metadata": {},
   "outputs": [],
   "source": [
    "G = matrix(GF(2), 3, 6, [[1, 0, 1, 0, 1, 1], [0, 1, 1, 1, 0, 1], [0, 1, 1, 0, 1, 0]])"
   ]
  },
  {
   "cell_type": "code",
   "execution_count": 2,
   "id": "8bf63a29",
   "metadata": {},
   "outputs": [
    {
     "data": {
      "text/plain": [
       "[1 0 1 0 1 1]\n",
       "[0 1 1 1 0 1]\n",
       "[0 1 1 0 1 0]"
      ]
     },
     "execution_count": 2,
     "metadata": {},
     "output_type": "execute_result"
    }
   ],
   "source": [
    "G"
   ]
  },
  {
   "cell_type": "code",
   "execution_count": 3,
   "id": "c11841bd",
   "metadata": {},
   "outputs": [],
   "source": [
    "H = matrix(GF(2), 3, 6, [[1, 1, 0, 1, 1, 0], [1, 0, 1, 0, 1, 1], [0, 1, 0, 0, 1, 1]])"
   ]
  },
  {
   "cell_type": "code",
   "execution_count": 4,
   "id": "40e9354c",
   "metadata": {},
   "outputs": [
    {
     "data": {
      "text/plain": [
       "[1 1 0 1 1 0]\n",
       "[1 0 1 0 1 1]\n",
       "[0 1 0 0 1 1]"
      ]
     },
     "execution_count": 4,
     "metadata": {},
     "output_type": "execute_result"
    }
   ],
   "source": [
    "H"
   ]
  },
  {
   "cell_type": "code",
   "execution_count": 9,
   "id": "a44256d5",
   "metadata": {},
   "outputs": [
    {
     "data": {
      "text/plain": [
       "3"
      ]
     },
     "execution_count": 9,
     "metadata": {},
     "output_type": "execute_result"
    }
   ],
   "source": [
    "H_T = H.transpose()\n",
    "H.rank()"
   ]
  },
  {
   "cell_type": "code",
   "execution_count": 8,
   "id": "86a4edd0",
   "metadata": {},
   "outputs": [
    {
     "data": {
      "text/plain": [
       "[1 1 0]\n",
       "[1 0 1]\n",
       "[0 1 0]\n",
       "[1 0 0]\n",
       "[1 1 1]\n",
       "[0 1 1]"
      ]
     },
     "execution_count": 8,
     "metadata": {},
     "output_type": "execute_result"
    }
   ],
   "source": [
    "H_T"
   ]
  },
  {
   "cell_type": "code",
   "execution_count": 31,
   "id": "f8a3282a",
   "metadata": {},
   "outputs": [],
   "source": [
    "HH = LinearCode(H_T)"
   ]
  },
  {
   "cell_type": "code",
   "execution_count": 32,
   "id": "5e5ba040",
   "metadata": {},
   "outputs": [],
   "source": [
    "HH_h = HH.dual_code()"
   ]
  },
  {
   "cell_type": "code",
   "execution_count": 41,
   "id": "d7a42e5d",
   "metadata": {},
   "outputs": [
    {
     "data": {
      "text/plain": [
       "[3, 0] linear code over GF(2)"
      ]
     },
     "execution_count": 41,
     "metadata": {},
     "output_type": "execute_result"
    }
   ],
   "source": [
    "HH_h"
   ]
  },
  {
   "cell_type": "code",
   "execution_count": 6,
   "id": "b088ca55",
   "metadata": {},
   "outputs": [],
   "source": [
    "O = G*H_T"
   ]
  },
  {
   "cell_type": "code",
   "execution_count": 7,
   "id": "3a80d39d",
   "metadata": {},
   "outputs": [
    {
     "data": {
      "text/plain": [
       "[0 0 0]\n",
       "[0 0 0]\n",
       "[0 0 0]"
      ]
     },
     "execution_count": 7,
     "metadata": {},
     "output_type": "execute_result"
    }
   ],
   "source": [
    "O"
   ]
  },
  {
   "cell_type": "code",
   "execution_count": 10,
   "id": "65fcf093",
   "metadata": {},
   "outputs": [],
   "source": [
    "C = LinearCode(G)"
   ]
  },
  {
   "cell_type": "code",
   "execution_count": 13,
   "id": "828fd088",
   "metadata": {},
   "outputs": [
    {
     "data": {
      "text/plain": [
       "[(0, 0, 0, 0, 0, 0),\n",
       " (1, 0, 1, 0, 1, 1),\n",
       " (0, 1, 1, 1, 0, 1),\n",
       " (1, 1, 0, 1, 1, 0),\n",
       " (0, 1, 1, 0, 1, 0),\n",
       " (1, 1, 0, 0, 0, 1),\n",
       " (0, 0, 0, 1, 1, 1),\n",
       " (1, 0, 1, 1, 0, 0)]"
      ]
     },
     "execution_count": 13,
     "metadata": {},
     "output_type": "execute_result"
    }
   ],
   "source": [
    "C.list()"
   ]
  },
  {
   "cell_type": "code",
   "execution_count": 11,
   "id": "4ac19e62",
   "metadata": {},
   "outputs": [
    {
     "data": {
      "text/plain": [
       "3"
      ]
     },
     "execution_count": 11,
     "metadata": {},
     "output_type": "execute_result"
    }
   ],
   "source": [
    "C.minimum_distance()"
   ]
  },
  {
   "cell_type": "code",
   "execution_count": 22,
   "id": "057a7732",
   "metadata": {},
   "outputs": [
    {
     "ename": "TypeError",
     "evalue": "AbstractLinearCodeNoMetric.syndrome() missing 1 required positional argument: 'r'",
     "output_type": "error",
     "traceback": [
      "\u001b[0;31m---------------------------------------------------------------------------\u001b[0m",
      "\u001b[0;31mTypeError\u001b[0m                                 Traceback (most recent call last)",
      "Input \u001b[0;32mIn [22]\u001b[0m, in \u001b[0;36m<cell line: 1>\u001b[0;34m()\u001b[0m\n\u001b[0;32m----> 1\u001b[0m \u001b[43mC\u001b[49m\u001b[38;5;241;43m.\u001b[39;49m\u001b[43msyndrome\u001b[49m\u001b[43m(\u001b[49m\u001b[43m)\u001b[49m\n",
      "\u001b[0;31mTypeError\u001b[0m: AbstractLinearCodeNoMetric.syndrome() missing 1 required positional argument: 'r'"
     ]
    }
   ],
   "source": [
    "C.sy"
   ]
  },
  {
   "cell_type": "code",
   "execution_count": 17,
   "id": "3df0cc3f",
   "metadata": {},
   "outputs": [],
   "source": [
    "Dualcodeparitymatrix = G.transpose() \n",
    "G_t = LinearCode(Dualcodeparitymatrix)"
   ]
  },
  {
   "cell_type": "code",
   "execution_count": 20,
   "id": "9b6a1157",
   "metadata": {},
   "outputs": [
    {
     "data": {
      "text/plain": [
       "[(0, 0, 0),\n",
       " (1, 0, 0),\n",
       " (0, 1, 0),\n",
       " (1, 1, 0),\n",
       " (0, 0, 1),\n",
       " (1, 0, 1),\n",
       " (0, 1, 1),\n",
       " (1, 1, 1)]"
      ]
     },
     "execution_count": 20,
     "metadata": {},
     "output_type": "execute_result"
    }
   ],
   "source": [
    "G_t.list()\n"
   ]
  },
  {
   "cell_type": "code",
   "execution_count": 23,
   "id": "7fb39981",
   "metadata": {},
   "outputs": [
    {
     "data": {
      "text/plain": [
       "1"
      ]
     },
     "execution_count": 23,
     "metadata": {},
     "output_type": "execute_result"
    }
   ],
   "source": [
    "G_t.minimum_distance()"
   ]
  },
  {
   "cell_type": "code",
   "execution_count": null,
   "id": "9a80a1bf",
   "metadata": {},
   "outputs": [],
   "source": []
  },
  {
   "cell_type": "code",
   "execution_count": 25,
   "id": "46af9ee4",
   "metadata": {},
   "outputs": [],
   "source": [
    "F = matrix(GF(2), 3, 6, [[1, 0, 1, 0, 1, 1], [0, 1, 1, 1, 0, 1], [0, 1, 1, 0, 1, 0]])"
   ]
  },
  {
   "cell_type": "code",
   "execution_count": 26,
   "id": "d6c5a449",
   "metadata": {},
   "outputs": [
    {
     "data": {
      "text/plain": [
       "[1 0 1 0 1 1]\n",
       "[0 1 1 1 0 1]\n",
       "[0 1 1 0 1 0]"
      ]
     },
     "execution_count": 26,
     "metadata": {},
     "output_type": "execute_result"
    }
   ],
   "source": [
    "F"
   ]
  },
  {
   "cell_type": "code",
   "execution_count": 29,
   "id": "d523aec7",
   "metadata": {},
   "outputs": [],
   "source": [
    "FF = LinearCode(F)"
   ]
  },
  {
   "cell_type": "code",
   "execution_count": 30,
   "id": "c6ddc373",
   "metadata": {},
   "outputs": [
    {
     "ename": "ModuleNotFoundError",
     "evalue": "No module named 'sage.coding.syndrome'",
     "output_type": "error",
     "traceback": [
      "\u001b[0;31m---------------------------------------------------------------------------\u001b[0m",
      "\u001b[0;31mModuleNotFoundError\u001b[0m                       Traceback (most recent call last)",
      "Input \u001b[0;32mIn [30]\u001b[0m, in \u001b[0;36m<cell line: 1>\u001b[0;34m()\u001b[0m\n\u001b[0;32m----> 1\u001b[0m \u001b[38;5;28;01mfrom\u001b[39;00m \u001b[38;5;21;01msage\u001b[39;00m\u001b[38;5;21;01m.\u001b[39;00m\u001b[38;5;21;01mcoding\u001b[39;00m\u001b[38;5;21;01m.\u001b[39;00m\u001b[38;5;21;01msyndrome\u001b[39;00m \u001b[38;5;28;01mimport\u001b[39;00m syndrome_table\n",
      "\u001b[0;31mModuleNotFoundError\u001b[0m: No module named 'sage.coding.syndrome'"
     ]
    }
   ],
   "source": [
    "from sage.coding.syndrome import syndrome_table"
   ]
  },
  {
   "cell_type": "code",
   "execution_count": null,
   "id": "2fbb58af",
   "metadata": {},
   "outputs": [],
   "source": []
  }
 ],
 "metadata": {
  "kernelspec": {
   "display_name": "SageMath 9.7",
   "language": "sage",
   "name": "sagemath-9.7"
  },
  "language_info": {
   "codemirror_mode": {
    "name": "ipython",
    "version": 3
   },
   "file_extension": ".py",
   "mimetype": "text/x-python",
   "name": "python",
   "nbconvert_exporter": "python",
   "pygments_lexer": "ipython3",
   "version": "3.10.5"
  }
 },
 "nbformat": 4,
 "nbformat_minor": 5
}
