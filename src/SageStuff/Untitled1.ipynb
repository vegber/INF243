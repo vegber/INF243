{
 "cells": [
  {
   "cell_type": "code",
   "execution_count": 1,
   "id": "22116ed1",
   "metadata": {},
   "outputs": [],
   "source": [
    "\n",
    "\n",
    "F.<a> = GF(2)\n",
    "R.<x> = PolynomialRing(F) \n"
   ]
  },
  {
   "cell_type": "code",
   "execution_count": 2,
   "id": "c7c7ddd0",
   "metadata": {},
   "outputs": [
    {
     "data": {
      "text/plain": [
       "(x + 1) * (x^11 + x^9 + x^7 + x^6 + x^5 + x + 1) * (x^11 + x^10 + x^6 + x^5 + x^4 + x^2 + 1)"
      ]
     },
     "execution_count": 2,
     "metadata": {},
     "output_type": "execute_result"
    }
   ],
   "source": [
    "\n",
    "factor(x^23 - 1)"
   ]
  },
  {
   "cell_type": "code",
   "execution_count": 3,
   "id": "f19bf5f3",
   "metadata": {},
   "outputs": [
    {
     "data": {
      "text/plain": [
       "x^11 + x^9 + x^7 + x^6 + x^5 + x + 1"
      ]
     },
     "execution_count": 3,
     "metadata": {},
     "output_type": "execute_result"
    }
   ],
   "source": [
    "factor((x^11 + x^9 + x^7 + x^6 + x^5 + x + 1))"
   ]
  },
  {
   "cell_type": "code",
   "execution_count": 21,
   "id": "98083a40",
   "metadata": {},
   "outputs": [],
   "source": [
    "\n",
    "g_x = [(x - (a^i)) for i in range(23)]"
   ]
  },
  {
   "cell_type": "code",
   "execution_count": 22,
   "id": "e7da7b28",
   "metadata": {},
   "outputs": [
    {
     "data": {
      "text/plain": [
       "[x + 1,\n",
       " x + 1,\n",
       " x + 1,\n",
       " x + 1,\n",
       " x + 1,\n",
       " x + 1,\n",
       " x + 1,\n",
       " x + 1,\n",
       " x + 1,\n",
       " x + 1,\n",
       " x + 1,\n",
       " x + 1,\n",
       " x + 1,\n",
       " x + 1,\n",
       " x + 1,\n",
       " x + 1,\n",
       " x + 1,\n",
       " x + 1,\n",
       " x + 1,\n",
       " x + 1,\n",
       " x + 1,\n",
       " x + 1,\n",
       " x + 1]"
      ]
     },
     "execution_count": 22,
     "metadata": {},
     "output_type": "execute_result"
    }
   ],
   "source": [
    "g_x"
   ]
  },
  {
   "cell_type": "code",
   "execution_count": null,
   "id": "ec004e5e",
   "metadata": {},
   "outputs": [],
   "source": []
  }
 ],
 "metadata": {
  "kernelspec": {
   "display_name": "SageMath 9.8",
   "language": "sage",
   "name": "sagemath-9.8"
  },
  "language_info": {
   "codemirror_mode": {
    "name": "ipython",
    "version": 3
   },
   "file_extension": ".py",
   "mimetype": "text/x-python",
   "name": "python",
   "nbconvert_exporter": "python",
   "pygments_lexer": "ipython3",
   "version": "3.11.1"
  }
 },
 "nbformat": 4,
 "nbformat_minor": 5
}
