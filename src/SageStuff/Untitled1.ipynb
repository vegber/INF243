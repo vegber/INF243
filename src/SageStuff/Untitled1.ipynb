{
 "cells": [
  {
   "cell_type": "code",
   "execution_count": 49,
   "id": "f50d02df",
   "metadata": {},
   "outputs": [],
   "source": [
    "R.<x> = PolynomialRing(GF(2))\n",
    "p = x^4 + x^3 + x^2 + x + 1 \n",
    "F.<a> = GF(2^4).extension(p) # FiniteField(2^4)\n",
    "# a.minimal_polynomial()\n",
    "beta = F(\"a+1\")"
   ]
  },
  {
   "cell_type": "code",
   "execution_count": 50,
   "id": "06bae6bd",
   "metadata": {},
   "outputs": [
    {
     "data": {
      "text/plain": [
       "a^4 + a^3 + 1"
      ]
     },
     "execution_count": 50,
     "metadata": {},
     "output_type": "execute_result"
    }
   ],
   "source": [
    "beta.minpoly()"
   ]
  },
  {
   "cell_type": "code",
   "execution_count": 51,
   "id": "bc5cc7b4",
   "metadata": {},
   "outputs": [
    {
     "ename": "TypeError",
     "evalue": "unsupported operand parent(s) for +: 'Univariate Polynomial Ring in x over Finite Field of size 2 (using GF2X)' and 'Univariate Quotient Polynomial Ring in a over Finite Field in z4 of size 2^4 with modulus a^4 + a^3 + a^2 + a + 1'",
     "output_type": "error",
     "traceback": [
      "\u001b[0;31m---------------------------------------------------------------------------\u001b[0m",
      "\u001b[0;31mTypeError\u001b[0m                                 Traceback (most recent call last)",
      "Cell \u001b[0;32mIn [51], line 1\u001b[0m\n\u001b[0;32m----> 1\u001b[0m (\u001b[43mx\u001b[49m\u001b[38;5;241;43m+\u001b[39;49m\u001b[43mbeta\u001b[49m)\u001b[38;5;241m*\u001b[39m(x\u001b[38;5;241m+\u001b[39mbeta\u001b[38;5;241m*\u001b[39m\u001b[38;5;241m*\u001b[39mInteger(\u001b[38;5;241m2\u001b[39m))\u001b[38;5;241m*\u001b[39m(x\u001b[38;5;241m+\u001b[39mbeta\u001b[38;5;241m*\u001b[39m\u001b[38;5;241m*\u001b[39mInteger(\u001b[38;5;241m4\u001b[39m))\u001b[38;5;241m*\u001b[39m(x\u001b[38;5;241m+\u001b[39mbeta\u001b[38;5;241m*\u001b[39m\u001b[38;5;241m*\u001b[39mInteger(\u001b[38;5;241m8\u001b[39m))\n",
      "File \u001b[0;32m/private/var/tmp/sage-9.8-current/local/var/lib/sage/venv-python3.11.1/lib/python3.11/site-packages/sage/structure/element.pyx:1232\u001b[0m, in \u001b[0;36msage.structure.element.Element.__add__ (build/cythonized/sage/structure/element.c:11167)\u001b[0;34m()\u001b[0m\n\u001b[1;32m   1230\u001b[0m # Left and right are Sage elements => use coercion model\n\u001b[1;32m   1231\u001b[0m if BOTH_ARE_ELEMENT(cl):\n\u001b[0;32m-> 1232\u001b[0m     return coercion_model.bin_op(left, right, add)\n\u001b[1;32m   1233\u001b[0m \n\u001b[1;32m   1234\u001b[0m cdef long value\n",
      "File \u001b[0;32m/private/var/tmp/sage-9.8-current/local/var/lib/sage/venv-python3.11.1/lib/python3.11/site-packages/sage/structure/coerce.pyx:1248\u001b[0m, in \u001b[0;36msage.structure.coerce.CoercionModel.bin_op (build/cythonized/sage/structure/coerce.c:11847)\u001b[0;34m()\u001b[0m\n\u001b[1;32m   1246\u001b[0m     # We should really include the underlying error.\n\u001b[1;32m   1247\u001b[0m     # This causes so much headache.\n\u001b[0;32m-> 1248\u001b[0m     raise bin_op_exception(op, x, y)\n\u001b[1;32m   1249\u001b[0m \n\u001b[1;32m   1250\u001b[0m cpdef canonical_coercion(self, x, y):\n",
      "\u001b[0;31mTypeError\u001b[0m: unsupported operand parent(s) for +: 'Univariate Polynomial Ring in x over Finite Field of size 2 (using GF2X)' and 'Univariate Quotient Polynomial Ring in a over Finite Field in z4 of size 2^4 with modulus a^4 + a^3 + a^2 + a + 1'"
     ]
    }
   ],
   "source": [
    "(x+beta)*(x+beta^2)*(x+beta^4)*(x+beta^8)"
   ]
  },
  {
   "cell_type": "code",
   "execution_count": null,
   "id": "1a6e1cff",
   "metadata": {},
   "outputs": [],
   "source": []
  }
 ],
 "metadata": {
  "kernelspec": {
   "display_name": "SageMath 9.8",
   "language": "sage",
   "name": "sagemath-9.8"
  },
  "language_info": {
   "codemirror_mode": {
    "name": "ipython",
    "version": 3
   },
   "file_extension": ".py",
   "mimetype": "text/x-python",
   "name": "python",
   "nbconvert_exporter": "python",
   "pygments_lexer": "ipython3",
   "version": "3.11.1"
  }
 },
 "nbformat": 4,
 "nbformat_minor": 5
}
