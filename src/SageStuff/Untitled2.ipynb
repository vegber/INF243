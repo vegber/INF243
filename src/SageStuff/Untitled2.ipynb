{
 "cells": [
  {
   "cell_type": "code",
   "execution_count": 13,
   "id": "31658c6b",
   "metadata": {},
   "outputs": [],
   "source": [
    "q = 2 \n",
    "m = 4 \n",
    "n = 15\n",
    "R.<x> = PolynomialRing(GF(q))\n",
    "\n",
    "\n",
    "p = x^4 + x + 1\n",
    "Fm.<a> = GF(q).extension(p) \n",
    "\n"
   ]
  },
  {
   "cell_type": "code",
   "execution_count": 14,
   "id": "d5793ce2",
   "metadata": {},
   "outputs": [],
   "source": [
    "b = (a^1).minimal_polynomial()\n",
    "c = (a^3).minimal_polynomial()\n",
    "d = (a^5).minimal_polynomial()\n"
   ]
  },
  {
   "cell_type": "code",
   "execution_count": 15,
   "id": "168282d8",
   "metadata": {},
   "outputs": [
    {
     "data": {
      "text/plain": [
       "x^10 + x^8 + x^5 + x^4 + x^2 + x + 1"
      ]
     },
     "execution_count": 15,
     "metadata": {},
     "output_type": "execute_result"
    }
   ],
   "source": [
    "theta = lcm(b, c)  \n",
    "\n",
    "out = lcm(theta, d) \n",
    "\n",
    "out "
   ]
  },
  {
   "cell_type": "code",
   "execution_count": 17,
   "id": "d6c76c28",
   "metadata": {},
   "outputs": [
    {
     "name": "stdout",
     "output_type": "stream",
     "text": [
      "a^0: x + 1\n",
      "a^1: x^4 + x + 1\n",
      "a^2: x^4 + x + 1\n",
      "a^3: x^4 + x^3 + x^2 + x + 1\n",
      "a^4: x^4 + x + 1\n",
      "a^5: x^2 + x + 1\n",
      "a^6: x^4 + x^3 + x^2 + x + 1\n",
      "a^7: x^4 + x^3 + 1\n",
      "a^8: x^4 + x + 1\n",
      "a^9: x^4 + x^3 + x^2 + x + 1\n",
      "a^10: x^2 + x + 1\n",
      "a^11: x^4 + x^3 + 1\n",
      "a^12: x^4 + x^3 + x^2 + x + 1\n",
      "a^13: x^4 + x^3 + 1\n",
      "a^14: x^4 + x^3 + 1\n"
     ]
    }
   ],
   "source": [
    "for i in range(n): \n",
    "    print(f\"a^{i}: {(a^i).minimal_polynomial()}\")\n",
    "    "
   ]
  },
  {
   "cell_type": "code",
   "execution_count": 21,
   "id": "963c5e34",
   "metadata": {},
   "outputs": [],
   "source": [
    "groups = set([(a^i).minimal_polynomial() for i in range(1, 15)])"
   ]
  },
  {
   "cell_type": "code",
   "execution_count": 24,
   "id": "fbca13fc",
   "metadata": {},
   "outputs": [
    {
     "name": "stdout",
     "output_type": "stream",
     "text": [
      "beta: x^4 + x^3 + 1\n",
      "beta: x^4 + x + 1\n",
      "beta: x^4 + x^3 + x^2 + x + 1\n",
      "beta: x^2 + x + 1\n"
     ]
    }
   ],
   "source": [
    "for x in groups: \n",
    "    print(f\"beta: {x}\") "
   ]
  },
  {
   "cell_type": "code",
   "execution_count": null,
   "id": "203b4307",
   "metadata": {},
   "outputs": [],
   "source": []
  }
 ],
 "metadata": {
  "kernelspec": {
   "display_name": "SageMath 9.8",
   "language": "sage",
   "name": "sagemath-9.8"
  },
  "language_info": {
   "codemirror_mode": {
    "name": "ipython",
    "version": 3
   },
   "file_extension": ".py",
   "mimetype": "text/x-python",
   "name": "python",
   "nbconvert_exporter": "python",
   "pygments_lexer": "ipython3",
   "version": "3.11.1"
  }
 },
 "nbformat": 4,
 "nbformat_minor": 5
}
