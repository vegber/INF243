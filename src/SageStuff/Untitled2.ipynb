{
 "cells": [
  {
   "cell_type": "code",
   "execution_count": 10,
   "id": "ed77e2de",
   "metadata": {},
   "outputs": [],
   "source": [
    "G = matrix(GF(2), [[1, 0, 1, 0, 1, 1], [0, 1, 1, 1, 0, 1], [0, 1, 1, 0, 1, 0]])"
   ]
  },
  {
   "cell_type": "code",
   "execution_count": 11,
   "id": "95ec2b39",
   "metadata": {},
   "outputs": [
    {
     "data": {
      "text/plain": [
       "[1 0 1 0 1 1 1 0 0]\n",
       "[0 1 1 0 1 0 0 0 1]\n",
       "[0 0 0 1 1 1 0 1 1]"
      ]
     },
     "execution_count": 11,
     "metadata": {},
     "output_type": "execute_result"
    }
   ],
   "source": [
    "# compute the systematic form of the generator matrix \n",
    "systematic_form = G.augment(matrix.identity(3))\n",
    "systematic_form.echelon_form()"
   ]
  },
  {
   "cell_type": "code",
   "execution_count": 12,
   "id": "6b5d44cf",
   "metadata": {},
   "outputs": [],
   "source": [
    "# extract the systematic part of the matrix \n",
    "systematic_part = systematic_form[:, 0:7]"
   ]
  },
  {
   "cell_type": "code",
   "execution_count": 13,
   "id": "66c7569e",
   "metadata": {},
   "outputs": [],
   "source": [
    "# compute parity - check matrix \n",
    "H = systematic_part.right_kernel_matrix()"
   ]
  },
  {
   "cell_type": "code",
   "execution_count": 14,
   "id": "c62596d4",
   "metadata": {},
   "outputs": [],
   "source": [
    "# transpose the parity check matrix \n",
    "H_transpose = H.transpose()"
   ]
  },
  {
   "cell_type": "code",
   "execution_count": 26,
   "id": "e81d6789",
   "metadata": {},
   "outputs": [
    {
     "ename": "TypeError",
     "evalue": "column() takes at least 1 positional argument (0 given)",
     "output_type": "error",
     "traceback": [
      "\u001B[0;31m---------------------------------------------------------------------------\u001B[0m",
      "\u001B[0;31mTypeError\u001B[0m                                 Traceback (most recent call last)",
      "Input \u001B[0;32mIn [26]\u001B[0m, in \u001B[0;36m<cell line: 3>\u001B[0;34m()\u001B[0m\n\u001B[1;32m      4\u001B[0m error \u001B[38;5;241m=\u001B[39m [\u001B[38;5;28mint\u001B[39m(digit) \u001B[38;5;28;01mfor\u001B[39;00m digit \u001B[38;5;129;01min\u001B[39;00m \u001B[38;5;124m'\u001B[39m\u001B[38;5;132;01m{0:b}\u001B[39;00m\u001B[38;5;124m'\u001B[39m\u001B[38;5;241m.\u001B[39mformat(i)\u001B[38;5;241m.\u001B[39mzfill(Integer(\u001B[38;5;241m7\u001B[39m))]\n\u001B[1;32m      5\u001B[0m error_matrix \u001B[38;5;241m=\u001B[39m matrix(GF(Integer(\u001B[38;5;241m2\u001B[39m)), [error])\u001B[38;5;241m.\u001B[39mtranspose()  \u001B[38;5;66;03m# Transpose the error pattern matrix\u001B[39;00m\n\u001B[0;32m----> 6\u001B[0m syndrome \u001B[38;5;241m=\u001B[39m \u001B[38;5;28mlist\u001B[39m(\u001B[43m(\u001B[49m\u001B[43mH_transpose\u001B[49m\u001B[38;5;241;43m.\u001B[39;49m\u001B[43mtranspose\u001B[49m\u001B[43m(\u001B[49m\u001B[43m)\u001B[49m\u001B[43m \u001B[49m\u001B[38;5;241;43m*\u001B[39;49m\u001B[43m \u001B[49m\u001B[43merror_matrix\u001B[49m\u001B[43m)\u001B[49m\u001B[38;5;241;43m.\u001B[39;49m\u001B[43mcolumn\u001B[49m\u001B[43m(\u001B[49m\u001B[43m)\u001B[49m)\n\u001B[1;32m      7\u001B[0m syndromes[\u001B[38;5;28mtuple\u001B[39m(syndrome)] \u001B[38;5;241m=\u001B[39m error\n",
      "File \u001B[0;32m/private/var/tmp/sage-9.7-current/local/var/lib/sage/venv-python3.10.5/lib/python3.10/site-packages/sage/matrix/matrix1.pyx:1346\u001B[0m, in \u001B[0;36msage.matrix.matrix1.Matrix.column (build/cythonized/sage/matrix/matrix1.c:15679)\u001B[0;34m()\u001B[0m\n\u001B[1;32m   1344\u001B[0m         return R\n\u001B[1;32m   1345\u001B[0m \n\u001B[0;32m-> 1346\u001B[0m def column(self, Py_ssize_t i, from_list=False):\n\u001B[1;32m   1347\u001B[0m     \"\"\"\n\u001B[1;32m   1348\u001B[0m     Return the ``i``'th column of this matrix as a vector.\n",
      "\u001B[0;31mTypeError\u001B[0m: column() takes at least 1 positional argument (0 given)"
     ]
    }
   ],
   "source": [
    "# Compute the syndrome for each possible error pattern\n",
    "syndromes = {}\n",
    "for i in range(2**7):\n",
    "    error = [int(digit) for digit in '{0:b}'.format(i).zfill(7)]\n",
    "    error_matrix = matrix(GF(2), [error]).transpose()  # Transpose the error pattern matrix\n",
    "    syndrome = list((H_transpose.transpose() * error_matrix).column())\n",
    "    syndromes[tuple(syndrome)] = error\n"
   ]
  },
  {
   "cell_type": "code",
   "execution_count": null,
   "id": "de002fe6",
   "metadata": {},
   "outputs": [],
   "source": []
  },
  {
   "cell_type": "code",
   "execution_count": null,
   "id": "6454dd61",
   "metadata": {},
   "outputs": [],
   "source": []
  }
 ],
 "metadata": {
  "kernelspec": {
   "display_name": "SageMath 9.7",
   "language": "sage",
   "name": "sagemath-9.7"
  },
  "language_info": {
   "codemirror_mode": {
    "name": "ipython",
    "version": 3
   },
   "file_extension": ".py",
   "mimetype": "text/x-python",
   "name": "python",
   "nbconvert_exporter": "python",
   "pygments_lexer": "ipython3",
   "version": "3.10.5"
  }
 },
 "nbformat": 4,
 "nbformat_minor": 5
}
