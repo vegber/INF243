{
 "cells": [
  {
   "cell_type": "code",
   "execution_count": 8,
   "id": "bff17e1f",
   "metadata": {},
   "outputs": [],
   "source": [
    "G = matrix(GF(2), 3, 7, [[0, 1, 1, 1, 1, 0, 0], [1, 0, 1, 1, 0, 1, 0], [1, 1, 0, 1, 0, 0, 1]])"
   ]
  },
  {
   "cell_type": "code",
   "execution_count": 17,
   "id": "34e9c64a",
   "metadata": {},
   "outputs": [
    {
     "data": {
      "text/plain": [
       "[0 1 1 1 1 0 0]\n",
       "[1 0 1 1 0 1 0]\n",
       "[1 1 0 1 0 0 1]"
      ]
     },
     "execution_count": 17,
     "metadata": {},
     "output_type": "execute_result"
    }
   ],
   "source": [
    "G"
   ]
  },
  {
   "cell_type": "code",
   "execution_count": null,
   "id": "51f1601e",
   "metadata": {},
   "outputs": [],
   "source": []
  },
  {
   "cell_type": "code",
   "execution_count": 18,
   "id": "f55cdfb5",
   "metadata": {},
   "outputs": [
    {
     "data": {
      "text/plain": [
       "[0 0 1]"
      ]
     },
     "execution_count": 18,
     "metadata": {},
     "output_type": "execute_result"
    }
   ],
   "source": [
    "v = matrix(GF(2), 1, 3, [0,0,1])\n",
    "v"
   ]
  },
  {
   "cell_type": "code",
   "execution_count": 19,
   "id": "b534ade4",
   "metadata": {},
   "outputs": [
    {
     "ename": "TypeError",
     "evalue": "unsupported operand parent(s) for *: 'Full MatrixSpace of 1 by 3 dense matrices over Finite Field of size 2' and 'Full MatrixSpace of 7 by 3 dense matrices over Finite Field of size 2'",
     "output_type": "error",
     "traceback": [
      "\u001B[0;31m---------------------------------------------------------------------------\u001B[0m",
      "\u001B[0;31mTypeError\u001B[0m                                 Traceback (most recent call last)",
      "Input \u001B[0;32mIn [19]\u001B[0m, in \u001B[0;36m<cell line: 1>\u001B[0;34m()\u001B[0m\n\u001B[0;32m----> 1\u001B[0m \u001B[43mv\u001B[49m\u001B[38;5;241;43m*\u001B[39;49m\u001B[43mG\u001B[49m\u001B[38;5;241;43m.\u001B[39;49m\u001B[43mtranspose\u001B[49m\u001B[43m(\u001B[49m\u001B[43m)\u001B[49m\n",
      "File \u001B[0;32m/private/var/tmp/sage-9.7-current/local/var/lib/sage/venv-python3.10.5/lib/python3.10/site-packages/sage/structure/element.pyx:3917\u001B[0m, in \u001B[0;36msage.structure.element.Matrix.__mul__ (build/cythonized/sage/structure/element.c:24339)\u001B[0;34m()\u001B[0m\n\u001B[1;32m   3915\u001B[0m \n\u001B[1;32m   3916\u001B[0m         if BOTH_ARE_ELEMENT(cl):\n\u001B[0;32m-> 3917\u001B[0m             return coercion_model.bin_op(left, right, mul)\n\u001B[1;32m   3918\u001B[0m \n\u001B[1;32m   3919\u001B[0m         cdef long value\n",
      "File \u001B[0;32m/private/var/tmp/sage-9.7-current/local/var/lib/sage/venv-python3.10.5/lib/python3.10/site-packages/sage/structure/coerce.pyx:1248\u001B[0m, in \u001B[0;36msage.structure.coerce.CoercionModel.bin_op (build/cythonized/sage/structure/coerce.c:11894)\u001B[0;34m()\u001B[0m\n\u001B[1;32m   1246\u001B[0m     # We should really include the underlying error.\n\u001B[1;32m   1247\u001B[0m     # This causes so much headache.\n\u001B[0;32m-> 1248\u001B[0m     raise bin_op_exception(op, x, y)\n\u001B[1;32m   1249\u001B[0m \n\u001B[1;32m   1250\u001B[0m cpdef canonical_coercion(self, x, y):\n",
      "\u001B[0;31mTypeError\u001B[0m: unsupported operand parent(s) for *: 'Full MatrixSpace of 1 by 3 dense matrices over Finite Field of size 2' and 'Full MatrixSpace of 7 by 3 dense matrices over Finite Field of size 2'"
     ]
    }
   ],
   "source": [
    "v*G.transpose()"
   ]
  },
  {
   "cell_type": "code",
   "execution_count": null,
   "id": "95aa9877",
   "metadata": {},
   "outputs": [],
   "source": []
  }
 ],
 "metadata": {
  "kernelspec": {
   "display_name": "SageMath 9.7",
   "language": "sage",
   "name": "sagemath-9.7"
  },
  "language_info": {
   "codemirror_mode": {
    "name": "ipython",
    "version": 3
   },
   "file_extension": ".py",
   "mimetype": "text/x-python",
   "name": "python",
   "nbconvert_exporter": "python",
   "pygments_lexer": "ipython3",
   "version": "3.10.5"
  }
 },
 "nbformat": 4,
 "nbformat_minor": 5
}
