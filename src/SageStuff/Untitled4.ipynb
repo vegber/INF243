{
 "cells": [
  {
   "cell_type": "code",
   "execution_count": 7,
   "id": "681f46a6",
   "metadata": {},
   "outputs": [
    {
     "ename": "AttributeError",
     "evalue": "'FiniteField_givaro_with_category' object has no attribute 'conjugacy_classes'",
     "output_type": "error",
     "traceback": [
      "\u001b[0;31m---------------------------------------------------------------------------\u001b[0m",
      "\u001b[0;31mKeyError\u001b[0m                                  Traceback (most recent call last)",
      "File \u001b[0;32m/private/var/tmp/sage-9.8-current/local/var/lib/sage/venv-python3.11.1/lib/python3.11/site-packages/sage/structure/category_object.pyx:839\u001b[0m, in \u001b[0;36msage.structure.category_object.CategoryObject.getattr_from_category (build/cythonized/sage/structure/category_object.c:7204)\u001b[0;34m()\u001b[0m\n\u001b[1;32m    838\u001b[0m try:\n\u001b[0;32m--> 839\u001b[0m     return self.__cached_methods[name]\n\u001b[1;32m    840\u001b[0m except KeyError:\n",
      "\u001b[0;31mKeyError\u001b[0m: 'conjugacy_classes'",
      "\nDuring handling of the above exception, another exception occurred:\n",
      "\u001b[0;31mAttributeError\u001b[0m                            Traceback (most recent call last)",
      "Cell \u001b[0;32mIn [7], line 2\u001b[0m\n\u001b[1;32m      1\u001b[0m F \u001b[38;5;241m=\u001b[39m GF(Integer(\u001b[38;5;241m2\u001b[39m)\u001b[38;5;241m*\u001b[39m\u001b[38;5;241m*\u001b[39mInteger(\u001b[38;5;241m4\u001b[39m), \u001b[38;5;124m'\u001b[39m\u001b[38;5;124ma\u001b[39m\u001b[38;5;124m'\u001b[39m) \n\u001b[0;32m----> 2\u001b[0m \u001b[43mF\u001b[49m\u001b[38;5;241;43m.\u001b[39;49m\u001b[43mconjugacy_classes\u001b[49m()\n\u001b[1;32m      3\u001b[0m \u001b[38;5;66;03m#conjugacy_classes = G.conjugacy_classes() \u001b[39;00m\n",
      "File \u001b[0;32m/private/var/tmp/sage-9.8-current/local/var/lib/sage/venv-python3.11.1/lib/python3.11/site-packages/sage/structure/category_object.pyx:833\u001b[0m, in \u001b[0;36msage.structure.category_object.CategoryObject.__getattr__ (build/cythonized/sage/structure/category_object.c:7123)\u001b[0;34m()\u001b[0m\n\u001b[1;32m    831\u001b[0m         AttributeError: 'PrimeNumbers_with_category' object has no attribute 'sadfasdf'\n\u001b[1;32m    832\u001b[0m     \"\"\"\n\u001b[0;32m--> 833\u001b[0m     return self.getattr_from_category(name)\n\u001b[1;32m    834\u001b[0m \n\u001b[1;32m    835\u001b[0m cdef getattr_from_category(self, name):\n",
      "File \u001b[0;32m/private/var/tmp/sage-9.8-current/local/var/lib/sage/venv-python3.11.1/lib/python3.11/site-packages/sage/structure/category_object.pyx:848\u001b[0m, in \u001b[0;36msage.structure.category_object.CategoryObject.getattr_from_category (build/cythonized/sage/structure/category_object.c:7289)\u001b[0;34m()\u001b[0m\n\u001b[1;32m    846\u001b[0m     cls = self._category.parent_class\n\u001b[1;32m    847\u001b[0m \n\u001b[0;32m--> 848\u001b[0m attr = getattr_from_other_class(self, cls, name)\n\u001b[1;32m    849\u001b[0m self.__cached_methods[name] = attr\n\u001b[1;32m    850\u001b[0m return attr\n",
      "File \u001b[0;32m/private/var/tmp/sage-9.8-current/local/var/lib/sage/venv-python3.11.1/lib/python3.11/site-packages/sage/cpython/getattr.pyx:356\u001b[0m, in \u001b[0;36msage.cpython.getattr.getattr_from_other_class (build/cythonized/sage/cpython/getattr.c:2706)\u001b[0;34m()\u001b[0m\n\u001b[1;32m    354\u001b[0m     dummy_error_message.cls = type(self)\n\u001b[1;32m    355\u001b[0m     dummy_error_message.name = name\n\u001b[0;32m--> 356\u001b[0m     raise AttributeError(dummy_error_message)\n\u001b[1;32m    357\u001b[0m cdef PyObject* attr = instance_getattr(cls, name)\n\u001b[1;32m    358\u001b[0m if attr is NULL:\n",
      "\u001b[0;31mAttributeError\u001b[0m: 'FiniteField_givaro_with_category' object has no attribute 'conjugacy_classes'"
     ]
    }
   ],
   "source": [
    "F = GF(2^4, 'a') \n",
    "F.conjugacy_classes()\n",
    "#conjugacy_classes = G.conjugacy_classes() \n"
   ]
  },
  {
   "cell_type": "code",
   "execution_count": null,
   "id": "04953e9f",
   "metadata": {},
   "outputs": [],
   "source": []
  }
 ],
 "metadata": {
  "kernelspec": {
   "display_name": "SageMath 9.8",
   "language": "sage",
   "name": "sagemath-9.8"
  },
  "language_info": {
   "codemirror_mode": {
    "name": "ipython",
    "version": 3
   },
   "file_extension": ".py",
   "mimetype": "text/x-python",
   "name": "python",
   "nbconvert_exporter": "python",
   "pygments_lexer": "ipython3",
   "version": "3.11.1"
  }
 },
 "nbformat": 4,
 "nbformat_minor": 5
}
