{
 "cells": [
  {
   "cell_type": "code",
   "execution_count": 21,
   "id": "a48a153a",
   "metadata": {},
   "outputs": [
    {
     "data": {
      "text/plain": [
       "x^4 + x^3 + 1"
      ]
     },
     "execution_count": 21,
     "metadata": {},
     "output_type": "execute_result"
    }
   ],
   "source": [
    "# Task 1.2 - minimal polynomial \n",
    "F.<x> = FiniteField(2^4)[]\n",
    "F.<a> = GF(2^4, name='a', modulus=x^4 + x^3 + x^2 + x +1) \n",
    "beta = a + 1\n",
    "q = beta.minimal_polynomial() \n",
    "q"
   ]
  },
  {
   "cell_type": "code",
   "execution_count": 22,
   "id": "74231c68",
   "metadata": {},
   "outputs": [
    {
     "data": {
      "text/plain": [
       "a^3 + a^2 + a"
      ]
     },
     "execution_count": 22,
     "metadata": {},
     "output_type": "execute_result"
    }
   ],
   "source": [
    "factor((a+1)^4)"
   ]
  },
  {
   "cell_type": "code",
   "execution_count": 23,
   "id": "51f045aa",
   "metadata": {},
   "outputs": [
    {
     "data": {
      "text/plain": [
       "a^3 + a^2 + a + 1"
      ]
     },
     "execution_count": 23,
     "metadata": {},
     "output_type": "execute_result"
    }
   ],
   "source": [
    "factor((a+1)^3)"
   ]
  },
  {
   "cell_type": "code",
   "execution_count": 24,
   "id": "5daee47f",
   "metadata": {},
   "outputs": [
    {
     "data": {
      "text/plain": [
       "a^2 + 1"
      ]
     },
     "execution_count": 24,
     "metadata": {},
     "output_type": "execute_result"
    }
   ],
   "source": [
    "factor((a+1)^2)"
   ]
  },
  {
   "cell_type": "code",
   "execution_count": 25,
   "id": "9072de4c",
   "metadata": {},
   "outputs": [
    {
     "data": {
      "text/plain": [
       "a + 1"
      ]
     },
     "execution_count": 25,
     "metadata": {},
     "output_type": "execute_result"
    }
   ],
   "source": [
    "factor((a+1))"
   ]
  },
  {
   "cell_type": "code",
   "execution_count": 29,
   "id": "e9f3c49c",
   "metadata": {},
   "outputs": [
    {
     "data": {
      "text/plain": [
       "x + 1"
      ]
     },
     "execution_count": 29,
     "metadata": {},
     "output_type": "execute_result"
    }
   ],
   "source": [
    "factor((x-(beta))(x-(beta)^2)(x-(beta)^4)(x-(beta)^8))"
   ]
  },
  {
   "cell_type": "code",
   "execution_count": 28,
   "id": "ce0ebc0d",
   "metadata": {},
   "outputs": [
    {
     "data": {
      "text/plain": [
       "x"
      ]
     },
     "execution_count": 28,
     "metadata": {},
     "output_type": "execute_result"
    }
   ],
   "source": [
    "factor((x+a+1)(x+a^2+1)(x+a^3+a^2+a+1)(x+a^3+1))"
   ]
  },
  {
   "cell_type": "code",
   "execution_count": null,
   "id": "3f2808da",
   "metadata": {},
   "outputs": [],
   "source": []
  }
 ],
 "metadata": {
  "kernelspec": {
   "display_name": "SageMath 9.8",
   "language": "sage",
   "name": "sagemath-9.8"
  },
  "language_info": {
   "codemirror_mode": {
    "name": "ipython",
    "version": 3
   },
   "file_extension": ".py",
   "mimetype": "text/x-python",
   "name": "python",
   "nbconvert_exporter": "python",
   "pygments_lexer": "ipython3",
   "version": "3.11.1"
  }
 },
 "nbformat": 4,
 "nbformat_minor": 5
}
