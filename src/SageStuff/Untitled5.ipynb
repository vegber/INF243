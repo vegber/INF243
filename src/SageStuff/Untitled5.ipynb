{
 "cells": [
  {
   "cell_type": "code",
   "execution_count": 35,
   "id": "0fb03552",
   "metadata": {},
   "outputs": [],
   "source": [
    "F.<a> = GF(2^4, modulus='primitive') \n",
    "n = 15 \n",
    "k = 9 \n",
    "t = 3 \n",
    "\n",
    "B.<x> = PolynomialRing(F) "
   ]
  },
  {
   "cell_type": "code",
   "execution_count": 36,
   "id": "a96fc7a9",
   "metadata": {},
   "outputs": [
    {
     "name": "stdout",
     "output_type": "stream",
     "text": [
      "a^i: 1\n",
      "a^i: a\n",
      "a^i: a^2\n",
      "a^i: a^3\n",
      "a^i: a + 1\n",
      "a^i: a^2 + a\n",
      "a^i: a^3 + a^2\n",
      "a^i: a^3 + a + 1\n",
      "a^i: a^2 + 1\n",
      "a^i: a^3 + a\n",
      "a^i: a^2 + a + 1\n",
      "a^i: a^3 + a^2 + a\n",
      "a^i: a^3 + a^2 + a + 1\n",
      "a^i: a^3 + a^2 + 1\n",
      "a^i: a^3 + 1\n"
     ]
    }
   ],
   "source": [
    "for i in range(n): \n",
    "    print(f\"a^i: {a^i}\")"
   ]
  },
  {
   "cell_type": "code",
   "execution_count": 37,
   "id": "be5e30e3",
   "metadata": {},
   "outputs": [],
   "source": [
    "r = (a^4) * (x^12) + (a^7) * (x^9) + (a^2) * (x^7) + (x^6) + (a^10) * (x^5) + (a) * (x^4) + (a^12) * (x^3) + (a^4) * (x^2) + (a^13)"
   ]
  },
  {
   "cell_type": "code",
   "execution_count": 38,
   "id": "3c832a19",
   "metadata": {},
   "outputs": [],
   "source": [
    "s = [(i, r(a^i)) for i in range(1, 7)]"
   ]
  },
  {
   "cell_type": "code",
   "execution_count": 39,
   "id": "a222ba2f",
   "metadata": {
    "scrolled": true
   },
   "outputs": [
    {
     "name": "stdout",
     "output_type": "stream",
     "text": [
      "1: 1\n",
      "2: a^3 + a + 1\n",
      "3: a^2 + 1\n",
      "4: 0\n",
      "5: a + 1\n",
      "6: a^3 + a + 1\n"
     ]
    }
   ],
   "source": [
    "for e in s: \n",
    "    print(f\"{e[0]}: {e[1]}\")"
   ]
  },
  {
   "cell_type": "code",
   "execution_count": 40,
   "id": "3b984dc2",
   "metadata": {},
   "outputs": [],
   "source": [
    "g = (x-(a^0))*(x-(a))*(x-(a^2))*(x-(a^3))(x-(a^4))*(x-(a^5))*(x-(a^6))*(x-(a^7))\n"
   ]
  },
  {
   "cell_type": "code",
   "execution_count": 41,
   "id": "69b1fdf4",
   "metadata": {},
   "outputs": [
    {
     "data": {
      "text/plain": [
       "x^7 + (a^3 + a^2 + 1)*x^6 + (a^3 + a)*x^5 + (a^3 + a^2 + 1)*x^4 + (a^3 + a^2)*x^3 + a^3*x^2 + a*x + a^3 + a^2 + 1"
      ]
     },
     "execution_count": 41,
     "metadata": {},
     "output_type": "execute_result"
    }
   ],
   "source": [
    "g"
   ]
  },
  {
   "cell_type": "code",
   "execution_count": null,
   "id": "3f4f4e80",
   "metadata": {},
   "outputs": [],
   "source": []
  }
 ],
 "metadata": {
  "kernelspec": {
   "display_name": "SageMath 9.8",
   "language": "sage",
   "name": "sagemath-9.8"
  },
  "language_info": {
   "codemirror_mode": {
    "name": "ipython",
    "version": 3
   },
   "file_extension": ".py",
   "mimetype": "text/x-python",
   "name": "python",
   "nbconvert_exporter": "python",
   "pygments_lexer": "ipython3",
   "version": "3.11.1"
  }
 },
 "nbformat": 4,
 "nbformat_minor": 5
}
