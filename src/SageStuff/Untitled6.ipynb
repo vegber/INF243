{
 "cells": [
  {
   "cell_type": "code",
   "execution_count": 1,
   "id": "783f49a0",
   "metadata": {},
   "outputs": [
    {
     "ename": "NameError",
     "evalue": "name 'RSCode' is not defined",
     "output_type": "error",
     "traceback": [
      "\u001b[0;31m---------------------------------------------------------------------------\u001b[0m",
      "\u001b[0;31mNameError\u001b[0m                                 Traceback (most recent call last)",
      "Cell \u001b[0;32mIn [1], line 18\u001b[0m\n\u001b[1;32m     15\u001b[0m F \u001b[38;5;241m=\u001b[39m GF(Integer(\u001b[38;5;241m2\u001b[39m)\u001b[38;5;241m*\u001b[39m\u001b[38;5;241m*\u001b[39mInteger(\u001b[38;5;241m8\u001b[39m))\n\u001b[1;32m     17\u001b[0m \u001b[38;5;66;03m# Generate the generator polynomial of the Reed-Solomon code\u001b[39;00m\n\u001b[0;32m---> 18\u001b[0m g \u001b[38;5;241m=\u001b[39m \u001b[43mRSCode\u001b[49m(n, k)\u001b[38;5;241m.\u001b[39mpolynomial()\n\u001b[1;32m     20\u001b[0m \u001b[38;5;66;03m# Generate the syndromes of the received word\u001b[39;00m\n\u001b[1;32m     21\u001b[0m syndromes \u001b[38;5;241m=\u001b[39m [received_word(F(a)) \u001b[38;5;28;01mfor\u001b[39;00m a \u001b[38;5;129;01min\u001b[39;00m \u001b[38;5;28mrange\u001b[39m(Integer(\u001b[38;5;241m1\u001b[39m), Integer(\u001b[38;5;241m2\u001b[39m)\u001b[38;5;241m*\u001b[39mt\u001b[38;5;241m+\u001b[39mInteger(\u001b[38;5;241m1\u001b[39m))]\n",
      "\u001b[0;31mNameError\u001b[0m: name 'RSCode' is not defined"
     ]
    }
   ],
   "source": [
    "# Define the received word as a polynomial over a finite field GF(2^8)\n",
    "R.<x> = PolynomialRing(GF(2^4), 'x')\n",
    "received_word = R(x^6 + x^4 + x^3 + x^2 + 1)\n",
    "\n",
    "# Define the maximum number of errors to correct\n",
    "t = 2\n",
    "\n",
    "# Define the size of the original message (the degree of the generator polynomial)\n",
    "k = 5\n",
    "\n",
    "# Define the length of the codeword (the degree of the polynomial)\n",
    "n = k + 2 * t\n",
    "\n",
    "# Define the finite field\n",
    "F = GF(2^8)\n",
    "\n",
    "# Generate the generator polynomial of the Reed-Solomon code\n",
    "g = RSCode(n, k).polynomial()\n",
    "\n",
    "# Generate the syndromes of the received word\n",
    "syndromes = [received_word(F(a)) for a in range(1, 2*t+1)]\n",
    "\n",
    "# Use the Berlekamp-Welch algorithm to find the error locator polynomial\n",
    "sigma = berlekamp_welch(syndromes, t, F)\n",
    "\n",
    "# Use the error locator polynomial to find the error locations\n",
    "error_locations = sigma.roots()\n",
    "\n",
    "# Find the error values by evaluating the received word at the error locations\n",
    "error_values = [received_word(F(a)).lift() / sigma.derivative()(F(a)).lift() for a, _ in error_locations]\n",
    "\n",
    "# Create the error polynomial by setting the coefficients at the error locations to the error values\n",
    "error_polynomial = R.zero()\n",
    "for a, e in zip(error_locations, error_values):\n",
    "    error_polynomial -= e * (x - a[0]).inverse_mod(g)(x)\n",
    "\n",
    "# Correct the received word by subtracting the error polynomial\n",
    "decoded_word = received_word - error_polynomial\n",
    "\n",
    "# Extract the original message by dividing the decoded word by the generator polynomial\n",
    "original_message = decoded_word.quo_rem(g)[0]\n",
    "\n",
    "print(f\"Received word: {received_word}\")\n",
    "print(f\"Decoded word: {decoded_word}\")\n",
    "print(f\"Original message: {original_message}\")\n"
   ]
  },
  {
   "cell_type": "code",
   "execution_count": null,
   "id": "ca88ad44",
   "metadata": {},
   "outputs": [],
   "source": []
  }
 ],
 "metadata": {
  "kernelspec": {
   "display_name": "SageMath 9.8",
   "language": "sage",
   "name": "sagemath-9.8"
  },
  "language_info": {
   "codemirror_mode": {
    "name": "ipython",
    "version": 3
   },
   "file_extension": ".py",
   "mimetype": "text/x-python",
   "name": "python",
   "nbconvert_exporter": "python",
   "pygments_lexer": "ipython3",
   "version": "3.11.1"
  }
 },
 "nbformat": 4,
 "nbformat_minor": 5
}
