{
 "cells": [
  {
   "cell_type": "code",
   "execution_count": null,
   "id": "fc268923",
   "metadata": {},
   "outputs": [],
   "source": [
    "C = codes.BinaryReedMullerCode(2, 4) "
   ]
  },
  {
   "cell_type": "code",
   "execution_count": null,
   "id": "e0913b40",
   "metadata": {},
   "outputs": [],
   "source": []
  }
 ],
 "metadata": {
  "kernelspec": {
   "display_name": "SageMath 9.8",
   "language": "sage",
   "name": "sagemath-9.8"
  }
 },
 "nbformat": 4,
 "nbformat_minor": 5
}
