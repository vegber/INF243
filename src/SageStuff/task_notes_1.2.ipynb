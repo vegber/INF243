{
 "cells": [
  {
   "cell_type": "code",
   "execution_count": 3,
   "id": "8421fb13",
   "metadata": {},
   "outputs": [],
   "source": [
    "R.<a> = GF(2)[]\n",
    "F.<alpha> = GF(2).extension(a^4 + a^3 +1)"
   ]
  },
  {
   "cell_type": "code",
   "execution_count": 8,
   "id": "1822c318",
   "metadata": {},
   "outputs": [
    {
     "name": "stdout",
     "output_type": "stream",
     "text": [
      "beta^1 = alpha\n",
      "beta^2 = alpha^2\n",
      "beta^3 = alpha^3\n",
      "beta^4 = alpha^3 + 1\n",
      "beta^5 = alpha^3 + alpha + 1\n",
      "beta^6 = alpha^3 + alpha^2 + alpha + 1\n",
      "beta^7 = alpha^2 + alpha + 1\n",
      "beta^8 = alpha^3 + alpha^2 + alpha\n",
      "beta^9 = alpha^2 + 1\n",
      "beta^10 = alpha^3 + alpha\n",
      "beta^11 = alpha^3 + alpha^2 + 1\n",
      "beta^12 = alpha + 1\n",
      "beta^13 = alpha^2 + alpha\n",
      "beta^14 = alpha^3 + alpha^2\n"
     ]
    }
   ],
   "source": [
    "for i in range(1, 15):\n",
    "    beta_i = alpha^i\n",
    "    if beta_i == 0:\n",
    "        print(\"beta^{} = 0\".format(i))\n",
    "        break\n",
    "    elif beta_i == 1:\n",
    "        print(\"beta^{} = 1\".format(i))\n",
    "    else:\n",
    "        print(\"beta^{} = {}\".format(i, beta_i))"
   ]
  },
  {
   "cell_type": "code",
   "execution_count": 9,
   "id": "d1dd5f2e",
   "metadata": {},
   "outputs": [
    {
     "name": "stdout",
     "output_type": "stream",
     "text": [
      "beta^1 = alpha + 1\n",
      "beta^2 = alpha^2 + 1\n",
      "beta^3 = alpha^3 + alpha^2 + alpha + 1\n",
      "beta^4 = alpha^3\n",
      "beta^5 = 1\n",
      "beta^6 = alpha + 1\n",
      "beta^7 = alpha^2 + 1\n",
      "beta^8 = alpha^3 + alpha^2 + alpha + 1\n",
      "beta^9 = alpha^3\n",
      "beta^10 = 1\n",
      "beta^11 = alpha + 1\n",
      "beta^12 = alpha^2 + 1\n",
      "beta^13 = alpha^3 + alpha^2 + alpha + 1\n",
      "beta^14 = alpha^3\n"
     ]
    }
   ],
   "source": [
    "for i in range(1, 15):\n",
    "    beta_i = (alpha+1)^i\n",
    "    if beta_i == 0:\n",
    "        print(\"beta^{} = 0\".format(i))\n",
    "        break\n",
    "    elif beta_i == 1:\n",
    "        print(\"beta^{} = 1\".format(i))\n",
    "    else:\n",
    "        print(\"beta^{} = {}\".format(i, beta_i))"
   ]
  },
  {
   "cell_type": "code",
   "execution_count": null,
   "id": "2d97a9f4",
   "metadata": {},
   "outputs": [],
   "source": []
  }
 ],
 "metadata": {
  "kernelspec": {
   "display_name": "SageMath 9.8",
   "language": "sage",
   "name": "sagemath-9.8"
  },
  "language_info": {
   "codemirror_mode": {
    "name": "ipython",
    "version": 3
   },
   "file_extension": ".py",
   "mimetype": "text/x-python",
   "name": "python",
   "nbconvert_exporter": "python",
   "pygments_lexer": "ipython3",
   "version": "3.11.1"
  }
 },
 "nbformat": 4,
 "nbformat_minor": 5
}
